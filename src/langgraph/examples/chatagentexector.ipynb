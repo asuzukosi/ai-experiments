{
 "cells": [
  {
   "cell_type": "markdown",
   "metadata": {},
   "source": [
    "### Implementing a ChatAgentExector with Langgraph\n",
    "\n",
    "The agent executor takes a list of messages as input and outputs a list of messages. All agent state is represented as a list of messages. This specifically uses OpenAI function calling. This is the recommended agent executor for newer chat based models that support function calling\n"
   ]
  },
  {
   "cell_type": "code",
   "execution_count": 1,
   "metadata": {},
   "outputs": [],
   "source": [
    "import os \n",
    "import getpass\n",
    "from dotenv import load_dotenv"
   ]
  },
  {
   "cell_type": "code",
   "execution_count": 2,
   "metadata": {},
   "outputs": [
    {
     "data": {
      "text/plain": [
       "True"
      ]
     },
     "execution_count": 2,
     "metadata": {},
     "output_type": "execute_result"
    }
   ],
   "source": [
    "load_dotenv()"
   ]
  },
  {
   "cell_type": "markdown",
   "metadata": {},
   "source": [
    "### Setting up the tools \n",
    "\n",
    "When building an agent based application the first step is to determine what tools would be used by the agents, and either make use of prebuilt langchain tools or define our own tools."
   ]
  },
  {
   "cell_type": "code",
   "execution_count": 3,
   "metadata": {},
   "outputs": [],
   "source": [
    "from langchain_community.tools.tavily_search import TavilySearchResults"
   ]
  },
  {
   "cell_type": "code",
   "execution_count": 4,
   "metadata": {},
   "outputs": [],
   "source": [
    "# our agent would only be making use of the tavily searct tool\n",
    "tools = [TavilySearchResults(max_results=2)]"
   ]
  },
  {
   "cell_type": "markdown",
   "metadata": {},
   "source": [
    "We can now wrap these tools in a simple tool executor. This is a real simple class that takes ina  tool invocation (action) and calls that tool, returning the output. The Tool invocation is any class with tool and tool_input attribute. This describes the function we were looking for earlier which takes in the object dict produced by the language model and calls the right tool and passes in the relavant paremeters while handling any other failures or exceptions, this makes the operation of openai functions much easier. "
   ]
  },
  {
   "cell_type": "code",
   "execution_count": 5,
   "metadata": {},
   "outputs": [],
   "source": [
    "from langgraph.prebuilt import ToolExecutor\n",
    "\n",
    "# next we define a tool executor which would be used for executing those actions\n",
    "tool_executor = ToolExecutor(tools=tools)"
   ]
  },
  {
   "cell_type": "markdown",
   "metadata": {},
   "source": [
    "#### Setting up the model \n",
    "We would be using the mixtral 8x7B instruct v0.1 model for our experiments, we would be making use of it though the ChatOpenAI class provided by langchain, we would be enabling streaming on the model. The model should also have function calling ability as the nature of langgraph depends on the function calling capability of the model(most language based agetnt applications do)"
   ]
  },
  {
   "cell_type": "code",
   "execution_count": 6,
   "metadata": {},
   "outputs": [],
   "source": [
    "from langchain_openai.chat_models import ChatOpenAI\n",
    "model = ChatOpenAI(model=\"mistralai/Mixtral-8x7B-Instruct-v0.1\") # streaming doesn't work well with function calling for mistral models or other opensource models."
   ]
  },
  {
   "cell_type": "markdown",
   "metadata": {},
   "source": [
    "Next, we convert our defined tools into openai function tools so that they can be binded to our model"
   ]
  },
  {
   "cell_type": "code",
   "execution_count": 7,
   "metadata": {},
   "outputs": [],
   "source": [
    "from langchain.tools.render import format_tool_to_openai_function, format_tool_to_openai_tool"
   ]
  },
  {
   "cell_type": "code",
   "execution_count": 8,
   "metadata": {},
   "outputs": [],
   "source": [
    "functions = [format_tool_to_openai_function(tool) for tool in tools]"
   ]
  },
  {
   "cell_type": "code",
   "execution_count": 9,
   "metadata": {},
   "outputs": [],
   "source": [
    "from pprint import pprint"
   ]
  },
  {
   "cell_type": "code",
   "execution_count": 10,
   "metadata": {},
   "outputs": [
    {
     "name": "stdout",
     "output_type": "stream",
     "text": [
      "[{'description': 'A search engine optimized for comprehensive, accurate, and '\n",
      "                 'trusted results. Useful for when you need to answer '\n",
      "                 'questions about current events. Input should be a search '\n",
      "                 'query.',\n",
      "  'name': 'tavily_search_results_json',\n",
      "  'parameters': {'properties': {'query': {'description': 'search query to look '\n",
      "                                                         'up',\n",
      "                                          'type': 'string'}},\n",
      "                 'required': ['query'],\n",
      "                 'type': 'object'}}]\n"
     ]
    }
   ],
   "source": [
    "pprint(functions)"
   ]
  },
  {
   "cell_type": "code",
   "execution_count": 11,
   "metadata": {},
   "outputs": [],
   "source": [
    "model = model.bind_functions(functions=functions)"
   ]
  },
  {
   "cell_type": "markdown",
   "metadata": {},
   "source": [
    "Now we have created the tools and bound them to our model. Our model can bind to both functions and tools, which is weird since we are not sure which is the right behaviour, but this is somthing definitely worth investigating."
   ]
  },
  {
   "cell_type": "markdown",
   "metadata": {},
   "source": [
    "### Defining the agent state\n",
    "There are various types of langgraphs, the main type of langgraph is the StatefulGraph. The graph is parameterized by a state object that is passed around each node and conditional edge. Each nod thne returns operations to update the state. The operations can either SET specific attributes on the state or ADD to the existing attribute. whether to set or ad is denoted by annoting the state object you construct the graph with. \n",
    "\n",
    "For this example we would be using a simple TypeDict to describe our state, it would contain a field for messages which would store the previous message stream. "
   ]
  },
  {
   "cell_type": "code",
   "execution_count": 12,
   "metadata": {},
   "outputs": [],
   "source": [
    "from typing import TypedDict, Annotated, Sequence\n",
    "import operator\n",
    "from langchain_core.messages import BaseMessage"
   ]
  },
  {
   "cell_type": "code",
   "execution_count": 13,
   "metadata": {},
   "outputs": [],
   "source": [
    "class AgentState(TypedDict):\n",
    "    '''\n",
    "    Annotation allows us to define annotated types. This can allow us provide more relevant context to the type of our variable. \n",
    "    Here are some examples of how annotated can be used. \n",
    "        from typing import Annotated\n",
    "\n",
    "        # Define a variable with additional metadata\n",
    "        x: Annotated[int, \"This is an integer\"] = 5\n",
    "\n",
    "        # Define a function signature with annotated parameters\n",
    "        def greet(name: Annotated[str, \"Name of the person\"]):\n",
    "            print(f\"Hello, {name}!\")\n",
    "\n",
    "        # Using the function with annotated parameters\n",
    "        greet(\"Alice\")\n",
    "\n",
    "    '''\n",
    "    messages: Annotated[Sequence[BaseMessage], operator.add] "
   ]
  },
  {
   "cell_type": "markdown",
   "metadata": {},
   "source": [
    "### Define the nodes within the graph\n",
    "The operating work horses of our graph are the nodes, they execute some type of computation or runnable, a function, agent, chain or something else depending on the context of the application. "
   ]
  },
  {
   "cell_type": "code",
   "execution_count": 14,
   "metadata": {},
   "outputs": [],
   "source": [
    "from langgraph.prebuilt import ToolInvocation\n",
    "import json\n",
    "from langchain_core.messages import FunctionMessage\n",
    "\n",
    "\n",
    "def should_continue(state: AgentState):\n",
    "    \"\"\"\n",
    "    Determines what should be the next operation after model call on the chain entry point\n",
    "    \"\"\"\n",
    "    messages = state[\"messages\"]\n",
    "    last_message: BaseMessage = messages[-1]\n",
    "    \n",
    "    if \"tool_calls\" not in last_message.additional_kwargs:\n",
    "        return \"end\"\n",
    "    else:\n",
    "        return \"continue\"\n",
    "    \n",
    "    \n",
    "def call_model(state: AgentState):\n",
    "    messages = state[\"messages\"]\n",
    "    response = model.invoke(messages)\n",
    "    return {\"messages\": [response]}\n",
    "\n",
    "\n",
    "\n",
    "def call_tool(state: AgentState):\n",
    "    messages = state[\"messages\"]\n",
    "    last_message: BaseMessage = messages[-1]\n",
    "    fn = last_message.additional_kwargs[\"tool_calls\"][0][\"function\"]\n",
    "    action = ToolInvocation(\n",
    "        tool=fn[\"name\"],\n",
    "        tool_input=json.loads(fn[\"arguments\"])\n",
    "    )\n",
    "    \n",
    "    response = tool_executor.invoke(action)\n",
    "    function_message = FunctionMessage(content=str(response), name=action.tool)\n",
    "    return {\"messages\": [function_message]}"
   ]
  },
  {
   "cell_type": "markdown",
   "metadata": {},
   "source": [
    "### Defining the graph\n",
    "Here we difne the high level architecture of the overall langraph graph, we would be adding all the nodes to the workflow and defining the conditional edges for the operation of our graph. Finally, we would be compiling our graph into an app"
   ]
  },
  {
   "cell_type": "code",
   "execution_count": 15,
   "metadata": {},
   "outputs": [],
   "source": [
    "from langgraph.graph import StateGraph,  END \n",
    "\n",
    "\n",
    "workflow = StateGraph(AgentState)\n",
    "\n",
    "workflow.add_node(\"agent\", call_model)\n",
    "workflow.add_node(\"action\", call_tool)\n",
    "\n",
    "workflow.add_conditional_edges(\"agent\", should_continue, {\"continue\": \"action\", \"end\": END})\n",
    "workflow.set_entry_point(\"agent\")\n",
    "workflow.add_edge(\"action\", \"agent\")\n",
    "\n",
    "app = workflow.compile()"
   ]
  },
  {
   "cell_type": "code",
   "execution_count": 16,
   "metadata": {},
   "outputs": [
    {
     "name": "stdout",
     "output_type": "stream",
     "text": [
      "{'id': ['langgraph', 'pregel', 'Pregel'],\n",
      " 'lc': 1,\n",
      " 'repr': \"Pregel(nodes={'agent': ChannelInvoke(bound=RunnableLambda(...)\\n\"\n",
      "         '| RunnableLambda(call_model)\\n'\n",
      "         \"| ChannelWrite(channels=[('agent', None, False), ('messages', \"\n",
      "         \"RunnableLambda(...), False)]), config={'tags': []}, channels={None: \"\n",
      "         \"'agent:inbox'}, triggers=['agent:inbox']), 'action': \"\n",
      "         'ChannelInvoke(bound=RunnableLambda(...)\\n'\n",
      "         '| RunnableLambda(call_tool)\\n'\n",
      "         \"| ChannelWrite(channels=[('action', None, False), ('messages', \"\n",
      "         \"RunnableLambda(...), False)]), config={'tags': []}, channels={None: \"\n",
      "         \"'action:inbox'}, triggers=['action:inbox']), 'agent:edges': \"\n",
      "         'ChannelInvoke(bound=RunnableLambda(_read)\\n'\n",
      "         \"| RunnableLambda(runnable), config={'tags': ['langsmith:hidden']}, \"\n",
      "         \"channels={None: 'agent'}, triggers=['agent']), 'action:edges': \"\n",
      "         'ChannelInvoke(bound=RunnableLambda(_read)\\n'\n",
      "         \"| ChannelWrite(channels=[('agent:inbox', None, False)]), \"\n",
      "         \"config={'tags': ['langsmith:hidden']}, channels={None: 'action'}, \"\n",
      "         \"triggers=['action']), '__start__': \"\n",
      "         \"ChannelInvoke(bound=ChannelWrite(channels=[('__start__', None, \"\n",
      "         \"False), ('messages', RunnableLambda(...), False)]), config={'tags': \"\n",
      "         \"['langsmith:hidden']}, channels={None: '__start__:inbox'}, \"\n",
      "         \"triggers=['__start__:inbox']), '__start__:edges': \"\n",
      "         'ChannelInvoke(bound=RunnableLambda(_read)\\n'\n",
      "         \"| ChannelWrite(channels=[('agent:inbox', None, False)]), \"\n",
      "         \"config={'tags': ['langsmith:hidden']}, channels={None: '__start__'}, \"\n",
      "         \"triggers=['__start__'])}, channels={'messages': \"\n",
      "         '<langgraph.channels.binop.BinaryOperatorAggregate object at '\n",
      "         \"0x10f085dd0>, 'agent': <langgraph.channels.last_value.LastValue \"\n",
      "         \"object at 0x10e046b10>, 'action:inbox': \"\n",
      "         '<langgraph.channels.last_value.LastValue object at 0x10e27b5d0>, '\n",
      "         \"'agent:inbox': <langgraph.channels.last_value.LastValue object at \"\n",
      "         \"0x10e278b50>, '__start__:inbox': \"\n",
      "         '<langgraph.channels.last_value.LastValue object at 0x10e875010>, '\n",
      "         \"'action': <langgraph.channels.last_value.LastValue object at \"\n",
      "         \"0x10e8e6450>, '__start__': <langgraph.channels.last_value.LastValue \"\n",
      "         \"object at 0x10f084350>, '__end__': \"\n",
      "         '<langgraph.channels.last_value.LastValue object at 0x10e89ae10>, '\n",
      "         \"<ReservedChannels.is_last_step: 'is_last_step'>: \"\n",
      "         '<langgraph.channels.last_value.LastValue object at 0x10e8e7910>}, '\n",
      "         \"output='__end__', hidden=['agent:inbox', 'action:inbox', \"\n",
      "         \"'__start__', 'messages'], input='__start__:inbox')\",\n",
      " 'type': 'not_implemented'}\n"
     ]
    }
   ],
   "source": [
    "pprint(app.to_json())"
   ]
  },
  {
   "cell_type": "markdown",
   "metadata": {},
   "source": [
    "### Using the graph\n",
    "Now that we have built and compiled the graph we can now make use of it."
   ]
  },
  {
   "cell_type": "code",
   "execution_count": 17,
   "metadata": {},
   "outputs": [],
   "source": [
    "from langchain_core.messages import HumanMessage"
   ]
  },
  {
   "cell_type": "code",
   "execution_count": 18,
   "metadata": {},
   "outputs": [
    {
     "data": {
      "text/plain": [
       "{'messages': [HumanMessage(content='what is the weather in SF?'),\n",
       "  AIMessage(content='', additional_kwargs={'tool_calls': [{'id': 'call_9ofd0so5kkjw31bwxfo1yen9', 'function': {'arguments': '{\"query\":\"weather in SF\"}', 'name': 'tavily_search_results_json'}, 'type': 'function'}]}),\n",
       "  FunctionMessage(content=\"[{'url': 'https://www.wunderground.com/forecast/us/ca/san-francisco', 'content': 'Get the latest weather forecast for San Francisco, CA from Weather Underground, including current conditions, hourly and 10-day forecasts, maps and radar. See the chance of rain, snow, cloud cover, humidity, pressure and more for your location.'}, {'url': 'https://www.accuweather.com/en/us/san-francisco/94103/weather-forecast/347629', 'content': 'San Francisco, CA Weather Forecast | AccuWeather Daily Radar Monthly Coastal Flood Advisory Current Weather 3:28 AM 48° F RealFeel® 50° Air Quality Poor Wind NNE 2 mph Wind Gusts 3 mph...'}]\", name='tavily_search_results_json'),\n",
       "  AIMessage(content='', additional_kwargs={'tool_calls': [{'id': 'call_24zuwntvtelebbarfc2wbzka', 'function': {'arguments': '{\"query\":\"weather in SF\"}', 'name': 'tavily_search_results_json'}, 'type': 'function'}]}),\n",
       "  FunctionMessage(content=\"[{'url': 'https://www.wunderground.com/forecast/us/ca/san-francisco', 'content': 'Get the latest weather forecast for San Francisco, CA from Weather Underground, including current conditions, hourly and 10-day forecasts, maps and radar. See the chance of rain, snow, cloud cover, humidity, pressure and more for your location.'}, {'url': 'https://www.accuweather.com/en/us/san-francisco/94103/weather-forecast/347629', 'content': 'San Francisco, CA Weather Forecast | AccuWeather Daily Radar Monthly Coastal Flood Advisory Current Weather 3:28 AM 48° F RealFeel® 50° Air Quality Poor Wind NNE 2 mph Wind Gusts 3 mph...'}]\", name='tavily_search_results_json'),\n",
       "  AIMessage(content='', additional_kwargs={'tool_calls': [{'id': 'call_njz1ddsmx8y58598ytocrmv5', 'function': {'arguments': '{\"query\":\"weather forecast for New York City\"}', 'name': 'tavily_search_results_json'}, 'type': 'function'}]}),\n",
       "  FunctionMessage(content='[{\\'url\\': \\'https://www.weatherapi.com/\\', \\'content\\': \"Weather in New York City is {\\'location\\': {\\'name\\': \\'New York\\', \\'region\\': \\'New York\\', \\'country\\': \\'United States of America\\', \\'lat\\': 40.71, \\'lon\\': -74.01, \\'tz_id\\': \\'America/New_York\\', \\'localtime_epoch\\': 1707962492, \\'localtime\\': \\'2024-02-14 21:01\\'}, \\'current\\': {\\'last_updated_epoch\\': 1707962400, \\'last_updated\\': \\'2024-02-14 21:00\\', \\'temp_c\\': 0.0, \\'temp_f\\': 32.0, \\'is_day\\': 0, \\'condition\\': {\\'text\\': \\'Clear\\', \\'icon\\': \\'//cdn.weatherapi.com/weather/64x64/night/113.png\\', \\'code\\': 1000}, \\'wind_mph\\': 8.1, \\'wind_kph\\': 13.0, \\'wind_degree\\': 280, \\'wind_dir\\': \\'W\\', \\'pressure_mb\\': 1020.0, \\'pressure_in\\': 30.13, \\'precip_mm\\': 0.0, \\'precip_in\\': 0.0, \\'humidity\\': 37, \\'cloud\\': 0, \\'feelslike_c\\': -5.8, \\'feelslike_f\\': 21.6, \\'vis_km\\': 16.0, \\'vis_miles\\': 9.0, \\'uv\\': 1.0, \\'gust_mph\\': 21.6, \\'gust_kph\\': 34.8}}\"}, {\\'url\\': \\'https://world-weather.info/forecast/usa/new_york/february-2024/\\', \\'content\\': \"New York City Weather Forecast for February 2024 is based on long term prognosis and previous years\\' statistical data. 2015 2016 2017 2018 2019 2020 2021 2022 2023 2024 2025 Jan Feb Mar Apr May Jun Jul Aug Sep Oct Nov Dec February Start Week On Sunday Monday Sun Mon Tue Wed Thu Fri Sat 1 +45° +36° 2 +41° +45° 3 +41° +36° 4 +43° +34° 5 +43° +36° 6\"}]', name='tavily_search_results_json'),\n",
       "  AIMessage(content='')]}"
      ]
     },
     "execution_count": 18,
     "metadata": {},
     "output_type": "execute_result"
    }
   ],
   "source": [
    "inputs = {\n",
    "    \"messages\": [HumanMessage(content=\"what is the weather in SF?\")]\n",
    "}\n",
    "app.invoke(inputs)"
   ]
  },
  {
   "cell_type": "markdown",
   "metadata": {},
   "source": [
    "##### Streaming the outputs\n",
    "We can stream the outputs coming from the large language model"
   ]
  },
  {
   "cell_type": "code",
   "execution_count": 19,
   "metadata": {},
   "outputs": [
    {
     "name": "stdout",
     "output_type": "stream",
     "text": [
      "Output from node 'agent':\n",
      "---\n",
      "{'messages': [AIMessage(content='', additional_kwargs={'tool_calls': [{'id': 'call_zndfq5la4459kqmha8jnf7ng', 'function': {'arguments': '{\"query\":\"sf weather\"}', 'name': 'tavily_search_results_json'}, 'type': 'function'}]})]}\n",
      "\n",
      "---\n",
      "\n",
      "Output from node 'action':\n",
      "---\n",
      "{'messages': [FunctionMessage(content='[{\\'url\\': \\'https://forecast.weather.gov/zipcity.php?inputstring=San+Francisco,CA\\', \\'content\\': \\'NOAA National Weather Service National Weather Service. Toggle navigation. HOME; FORECAST . Local; Graphical; Aviation; Marine; Rivers and Lakes; Hurricanes; Severe Weather; Fire Weather; ... San Francisco CA 37.77°N 122.41°W (Elev. 131 ft) Last Update: 12:26 am PST Feb 14, 2024. Forecast Valid: 2am PST Feb 14, 2024-6pm PST Feb 20, 2024 .\\'}, {\\'url\\': \\'https://weather.com/weather/hourbyhour/l/USCA0987:1:US\\', \\'content\\': \"recents\\\\nSpecialty Forecasts\\\\nHourly Weather-San Francisco, CA\\\\nBeach Hazard Statement\\\\nSaturday, November 25\\\\n5 pm\\\\nClear\\\\n6 pm\\\\nClear\\\\n7 pm\\\\nClear\\\\n8 pm\\\\nMostly Clear\\\\n9 pm\\\\nPartly Cloudy\\\\n10 pm\\\\nPartly Cloudy\\\\n11 pm\\\\nPartly Cloudy\\\\nSunday, November 26\\\\n12 am\\\\nPartly Cloudy\\\\n1 am\\\\nMostly Cloudy\\\\n2 am\\\\nMostly Cloudy\\\\n3 am\\\\nMostly Cloudy\\\\n4 am\\\\nCloudy\\\\n5 am\\\\nCloudy\\\\n6 am\\\\nMostly Cloudy\\\\n7 am\\\\nMostly Cloudy\\\\n8 am\\\\nMostly Cloudy\\\\n9 am\\\\nMostly Cloudy\\\\n10 am\\\\nPartly Cloudy\\\\n11 am\\\\nPartly Cloudy\\\\n12 pm\\\\nPartly Cloudy\\\\n1 pm\\\\nPartly Cloudy\\\\n2 pm\\\\nPartly Cloudy\\\\n3 pm\\\\nPartly Cloudy\\\\n4 pm\\\\nPartly Cloudy\\\\n5 pm\\\\nPartly Cloudy\\\\n6 pm\\\\nPartly Cloudy\\\\n7 pm\\\\nPartly Cloudy\\\\n8 pm\\\\nPartly Cloudy\\\\n9 pm\\\\nMostly Clear\\\\n10 pm\\\\nMostly Clear\\\\n11 pm\\\\nMostly Clear\\\\nMonday, November 27\\\\n12 am\\\\nClear\\\\n1 am\\\\nMostly Clear\\\\n2 am\\\\nMostly Clear\\\\n3 am\\\\nPartly Cloudy\\\\n4 am\\\\nMostly Clear\\\\n5 am\\\\nMostly Clear\\\\n6 am\\\\nClear\\\\n7 am\\\\nClear\\\\n8 am\\\\nSunny\\\\n9 am\\\\nSunny\\\\n10 am\\\\nSunny\\\\n11 am\\\\nSunny\\\\n12 pm\\\\nMostly Sunny\\\\n1 pm\\\\nPartly Cloudy\\\\n2 pm\\\\nMostly Sunny\\\\n3 pm\\\\nMostly Sunny\\\\n4 pm\\\\nPartly Cloudy\\\\nRadar\\\\nSafety First!\\\\n Don\\'t Miss\\\\nIrresistible\\\\nWeather Wonders\\\\nOur Amazing World\\\\nCelestial Symphony\\\\nFried Turkey Fail\\\\nLook At That!\\\\n Health & Activities\\\\nSeasonal Allergies and Pollen Count Forecast\\\\nNo pollen detected in your area\\\\nCold & Flu Forecast\\\\nFlu risk is low in your area\\\\nWe recognize our responsibility to use data and technology for good. Changes For Critters\\\\nHurricane Tracker\\\\nStay Safe\\\\nAir Quality Index\\\\nAir quality is considered satisfactory, and air pollution poses little or no risk.\\\\n Take control of your data.\\\\n\"}]', name='tavily_search_results_json')]}\n",
      "\n",
      "---\n",
      "\n",
      "Output from node 'agent':\n",
      "---\n",
      "{'messages': [AIMessage(content='')]}\n",
      "\n",
      "---\n",
      "\n",
      "Output from node '__end__':\n",
      "---\n",
      "{'messages': [HumanMessage(content='what is the weather in sf'), AIMessage(content='', additional_kwargs={'tool_calls': [{'id': 'call_zndfq5la4459kqmha8jnf7ng', 'function': {'arguments': '{\"query\":\"sf weather\"}', 'name': 'tavily_search_results_json'}, 'type': 'function'}]}), FunctionMessage(content='[{\\'url\\': \\'https://forecast.weather.gov/zipcity.php?inputstring=San+Francisco,CA\\', \\'content\\': \\'NOAA National Weather Service National Weather Service. Toggle navigation. HOME; FORECAST . Local; Graphical; Aviation; Marine; Rivers and Lakes; Hurricanes; Severe Weather; Fire Weather; ... San Francisco CA 37.77°N 122.41°W (Elev. 131 ft) Last Update: 12:26 am PST Feb 14, 2024. Forecast Valid: 2am PST Feb 14, 2024-6pm PST Feb 20, 2024 .\\'}, {\\'url\\': \\'https://weather.com/weather/hourbyhour/l/USCA0987:1:US\\', \\'content\\': \"recents\\\\nSpecialty Forecasts\\\\nHourly Weather-San Francisco, CA\\\\nBeach Hazard Statement\\\\nSaturday, November 25\\\\n5 pm\\\\nClear\\\\n6 pm\\\\nClear\\\\n7 pm\\\\nClear\\\\n8 pm\\\\nMostly Clear\\\\n9 pm\\\\nPartly Cloudy\\\\n10 pm\\\\nPartly Cloudy\\\\n11 pm\\\\nPartly Cloudy\\\\nSunday, November 26\\\\n12 am\\\\nPartly Cloudy\\\\n1 am\\\\nMostly Cloudy\\\\n2 am\\\\nMostly Cloudy\\\\n3 am\\\\nMostly Cloudy\\\\n4 am\\\\nCloudy\\\\n5 am\\\\nCloudy\\\\n6 am\\\\nMostly Cloudy\\\\n7 am\\\\nMostly Cloudy\\\\n8 am\\\\nMostly Cloudy\\\\n9 am\\\\nMostly Cloudy\\\\n10 am\\\\nPartly Cloudy\\\\n11 am\\\\nPartly Cloudy\\\\n12 pm\\\\nPartly Cloudy\\\\n1 pm\\\\nPartly Cloudy\\\\n2 pm\\\\nPartly Cloudy\\\\n3 pm\\\\nPartly Cloudy\\\\n4 pm\\\\nPartly Cloudy\\\\n5 pm\\\\nPartly Cloudy\\\\n6 pm\\\\nPartly Cloudy\\\\n7 pm\\\\nPartly Cloudy\\\\n8 pm\\\\nPartly Cloudy\\\\n9 pm\\\\nMostly Clear\\\\n10 pm\\\\nMostly Clear\\\\n11 pm\\\\nMostly Clear\\\\nMonday, November 27\\\\n12 am\\\\nClear\\\\n1 am\\\\nMostly Clear\\\\n2 am\\\\nMostly Clear\\\\n3 am\\\\nPartly Cloudy\\\\n4 am\\\\nMostly Clear\\\\n5 am\\\\nMostly Clear\\\\n6 am\\\\nClear\\\\n7 am\\\\nClear\\\\n8 am\\\\nSunny\\\\n9 am\\\\nSunny\\\\n10 am\\\\nSunny\\\\n11 am\\\\nSunny\\\\n12 pm\\\\nMostly Sunny\\\\n1 pm\\\\nPartly Cloudy\\\\n2 pm\\\\nMostly Sunny\\\\n3 pm\\\\nMostly Sunny\\\\n4 pm\\\\nPartly Cloudy\\\\nRadar\\\\nSafety First!\\\\n Don\\'t Miss\\\\nIrresistible\\\\nWeather Wonders\\\\nOur Amazing World\\\\nCelestial Symphony\\\\nFried Turkey Fail\\\\nLook At That!\\\\n Health & Activities\\\\nSeasonal Allergies and Pollen Count Forecast\\\\nNo pollen detected in your area\\\\nCold & Flu Forecast\\\\nFlu risk is low in your area\\\\nWe recognize our responsibility to use data and technology for good. Changes For Critters\\\\nHurricane Tracker\\\\nStay Safe\\\\nAir Quality Index\\\\nAir quality is considered satisfactory, and air pollution poses little or no risk.\\\\n Take control of your data.\\\\n\"}]', name='tavily_search_results_json'), AIMessage(content='')]}\n",
      "\n",
      "---\n",
      "\n"
     ]
    }
   ],
   "source": [
    "inputs = {\"messages\": [HumanMessage(content=\"what is the weather in sf\")]}\n",
    "for output in app.stream(inputs):\n",
    "    # stream() yields dictionaries with output keyed by node name\n",
    "    for key, value in output.items():\n",
    "        print(f\"Output from node '{key}':\")\n",
    "        print(\"---\")\n",
    "        print(value)\n",
    "    print(\"\\n---\\n\")"
   ]
  }
 ],
 "metadata": {
  "kernelspec": {
   "display_name": "venv",
   "language": "python",
   "name": "python3"
  },
  "language_info": {
   "codemirror_mode": {
    "name": "ipython",
    "version": 3
   },
   "file_extension": ".py",
   "mimetype": "text/x-python",
   "name": "python",
   "nbconvert_exporter": "python",
   "pygments_lexer": "ipython3",
   "version": "3.11.5"
  }
 },
 "nbformat": 4,
 "nbformat_minor": 2
}
