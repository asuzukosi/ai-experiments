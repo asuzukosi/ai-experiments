{
 "cells": [
  {
   "cell_type": "markdown",
   "metadata": {},
   "source": [
    "##### Self Discover\n",
    "This notebook focuses on implementing the LLM self discover architecture."
   ]
  },
  {
   "cell_type": "code",
   "execution_count": 1,
   "metadata": {},
   "outputs": [],
   "source": [
    "from langchain_openai import ChatOpenAI"
   ]
  },
  {
   "cell_type": "code",
   "execution_count": 2,
   "metadata": {},
   "outputs": [],
   "source": [
    "model = ChatOpenAI(model=\"mistralai/Mixtral-8x7B-Instruct-v0.1\")"
   ]
  },
  {
   "cell_type": "code",
   "execution_count": 3,
   "metadata": {},
   "outputs": [],
   "source": [
    "from langchain import hub\n",
    "from langchain_core.prompts import PromptTemplate"
   ]
  },
  {
   "cell_type": "code",
   "execution_count": 4,
   "metadata": {},
   "outputs": [
    {
     "name": "stdout",
     "output_type": "stream",
     "text": [
      "Select several reasoning modules that are crucial to utilize in order to solve the given task:\n",
      "\n",
      "All reasoning module descriptions:\n",
      "\u001b[33;1m\u001b[1;3m{reasoning_modules}\u001b[0m\n",
      "\n",
      "Task: \u001b[33;1m\u001b[1;3m{task_description}\u001b[0m\n",
      "\n",
      "Select several modules are crucial for solving the task above:\n",
      "\n"
     ]
    }
   ],
   "source": [
    "select_prompt = hub.pull(\"hwchase17/self-discovery-select\")\n",
    "select_prompt.pretty_print()"
   ]
  },
  {
   "cell_type": "code",
   "execution_count": 5,
   "metadata": {},
   "outputs": [
    {
     "name": "stdout",
     "output_type": "stream",
     "text": [
      "Rephrase and specify each reasoning module so that it better helps solving the task:\n",
      "\n",
      "SELECTED module descriptions:\n",
      "\u001b[33;1m\u001b[1;3m{selected_modules}\u001b[0m\n",
      "\n",
      "Task: \u001b[33;1m\u001b[1;3m{task_description}\u001b[0m\n",
      "\n",
      "Adapt each reasoning module description to better solve the task:\n",
      "\n"
     ]
    }
   ],
   "source": [
    "adapt_prompt = hub.pull(\"hwchase17/self-discovery-adapt\")\n",
    "adapt_prompt.pretty_print()"
   ]
  },
  {
   "cell_type": "code",
   "execution_count": 6,
   "metadata": {},
   "outputs": [
    {
     "name": "stdout",
     "output_type": "stream",
     "text": [
      "Operationalize the reasoning modules into a step-by-step reasoning plan in JSON format:\n",
      "\n",
      "Here's an example:\n",
      "\n",
      "Example task:\n",
      "\n",
      "If you follow these instructions, do you return to the starting point? Always face forward. Take 1 step backward. Take 9 steps left. Take 2 steps backward. Take 6 steps forward. Take 4 steps forward. Take 4 steps backward. Take 3 steps right.\n",
      "\n",
      "Example reasoning structure:\n",
      "\n",
      "{\n",
      "    \"Position after instruction 1\":\n",
      "    \"Position after instruction 2\":\n",
      "    \"Position after instruction n\":\n",
      "    \"Is final position the same as starting position\":\n",
      "}\n",
      "\n",
      "Adapted module description:\n",
      "\u001b[33;1m\u001b[1;3m{adapted_modules}\u001b[0m\n",
      "\n",
      "Task: \u001b[33;1m\u001b[1;3m{task_description}\u001b[0m\n",
      "\n",
      "Implement a reasoning structure for solvers to follow step-by-step and arrive at correct answer.\n",
      "\n",
      "Note: do NOT actually arrive at a conclusion in this pass. Your job is to generate a PLAN so that in the future you can fill it out and arrive at the correct conclusion for tasks like this\n"
     ]
    }
   ],
   "source": [
    "structured_prompt = hub.pull(\"hwchase17/self-discovery-structure\")\n",
    "structured_prompt.pretty_print()"
   ]
  },
  {
   "cell_type": "code",
   "execution_count": 7,
   "metadata": {},
   "outputs": [
    {
     "name": "stdout",
     "output_type": "stream",
     "text": [
      "Follow the step-by-step reasoning plan in JSON to correctly solve the task. Fill in the values following the keys by reasoning specifically about the task given. Do not simply rephrase the keys.\n",
      "    \n",
      "Reasoning Structure:\n",
      "\u001b[33;1m\u001b[1;3m{reasoning_structure}\u001b[0m\n",
      "\n",
      "Task: \u001b[33;1m\u001b[1;3m{task_description}\u001b[0m\n"
     ]
    }
   ],
   "source": [
    "reasoning_prompt = hub.pull(\"hwchase17/self-discovery-reasoning\")\n",
    "reasoning_prompt.pretty_print()"
   ]
  },
  {
   "cell_type": "code",
   "execution_count": 8,
   "metadata": {},
   "outputs": [],
   "source": [
    "_prompt = \"\"\"\n",
    "Follow the step-by-step reasoning plan in JSON to correctly solve the task. Fill in the values following the keys by reasoning specifically about the task given. Do not simply rephrase the keys.\\n    \\nReasoning Structure:\\n{reasoning_structure}\\n\\nTask: {task_description}\n",
    "\"\"\"\n",
    "_prompt = PromptTemplate.from_template(_prompt)"
   ]
  },
  {
   "cell_type": "code",
   "execution_count": null,
   "metadata": {},
   "outputs": [],
   "source": [
    "hub.push(\"kosi123/self-discovery-reasoning\", _prompt)"
   ]
  },
  {
   "cell_type": "code",
   "execution_count": 10,
   "metadata": {},
   "outputs": [],
   "source": [
    "from typing import TypedDict, Optional"
   ]
  },
  {
   "cell_type": "code",
   "execution_count": 37,
   "metadata": {},
   "outputs": [],
   "source": [
    "class SelfDiscoverState(TypedDict):\n",
    "    reasoning_modules: str\n",
    "    task_description: str\n",
    "    selected_modules: Optional[str]\n",
    "    adapted_modules: Optional[str]\n",
    "    reasoning_structure: Optional[str]\n",
    "    answer: Optional[str]\n"
   ]
  },
  {
   "cell_type": "code",
   "execution_count": 38,
   "metadata": {},
   "outputs": [],
   "source": [
    "from langchain_core.output_parsers import StrOutputParser"
   ]
  },
  {
   "cell_type": "code",
   "execution_count": 40,
   "metadata": {},
   "outputs": [],
   "source": [
    "def select(inputs: SelfDiscoverState):\n",
    "    select_chain = select_prompt | model | StrOutputParser()\n",
    "    return {\"selected_modules\": select_chain.invoke(inputs)}\n",
    "\n",
    "\n",
    "def adapt(inputs: SelfDiscoverState):\n",
    "    adapt_chain = adapt_prompt | model | StrOutputParser()\n",
    "    return {\"adapted_modules\": adapt_chain.invoke(inputs)}\n",
    "\n",
    "def structure(inputs):\n",
    "    structure_chain = structured_prompt | model | StrOutputParser()\n",
    "    return {\"reasoning_structure\": structure_chain.invoke(inputs)}\n",
    "\n",
    "def reason(inputs):\n",
    "    reasoning_chain = reasoning_prompt | model | StrOutputParser()\n",
    "    return {\"answer\":reasoning_chain.invoke(inputs)}\n",
    "\n"
   ]
  },
  {
   "cell_type": "code",
   "execution_count": 41,
   "metadata": {},
   "outputs": [],
   "source": [
    "from langgraph.graph import StateGraph, END \n",
    "from typing import TypedDict, Optional\n",
    "\n",
    "\n",
    "graph = StateGraph(SelfDiscoverState)\n",
    "graph.add_node(\"select\", select)\n",
    "graph.add_node(\"adapt\", adapt)\n",
    "graph.add_node(\"structure\", structure)\n",
    "graph.add_node(\"reason\", reason)\n",
    "graph.add_edge(\"select\", \"adapt\")\n",
    "graph.add_edge(\"adapt\", \"structure\")\n",
    "graph.add_edge(\"structure\", \"reason\")\n",
    "graph.add_edge(\"reason\", END)\n",
    "graph.set_entry_point(\"select\")\n",
    "\n",
    "app = graph.compile()"
   ]
  },
  {
   "cell_type": "code",
   "execution_count": 42,
   "metadata": {},
   "outputs": [],
   "source": [
    "reasoning_modules = [\n",
    "    \"1. How could I devise an experiment to help solve that problem?\",\n",
    "    \"2. Make a list of ideas for solving this problem, and apply them one by one to the problem to see if any progress can be made.\",\n",
    "    # \"3. How could I measure progress on this problem?\",\n",
    "    \"4. How can I simplify the problem so that it is easier to solve?\",\n",
    "    \"5. What are the key assumptions underlying this problem?\",\n",
    "    \"6. What are the potential risks and drawbacks of each solution?\",\n",
    "    \"7. What are the alternative perspectives or viewpoints on this problem?\",\n",
    "    \"8. What are the long-term implications of this problem and its solutions?\",\n",
    "    \"9. How can I break down this problem into smaller, more manageable parts?\",\n",
    "    \"10. Critical Thinking: This style involves analyzing the problem from different perspectives, questioning assumptions, and evaluating the evidence or information available. It focuses on logical reasoning, evidence-based decision-making, and identifying potential biases or flaws in thinking.\",\n",
    "    \"11. Try creative thinking, generate innovative and out-of-the-box ideas to solve the problem. Explore unconventional solutions, thinking beyond traditional boundaries, and encouraging imagination and originality.\",\n",
    "    # \"12. Seek input and collaboration from others to solve the problem. Emphasize teamwork, open communication, and leveraging the diverse perspectives and expertise of a group to come up with effective solutions.\",\n",
    "    \"13. Use systems thinking: Consider the problem as part of a larger system and understanding the interconnectedness of various elements. Focuses on identifying the underlying causes, feedback loops, and interdependencies that influence the problem, and developing holistic solutions that address the system as a whole.\",\n",
    "    \"14. Use Risk Analysis: Evaluate potential risks, uncertainties, and tradeoffs associated with different solutions or approaches to a problem. Emphasize assessing the potential consequences and likelihood of success or failure, and making informed decisions based on a balanced analysis of risks and benefits.\",\n",
    "    # \"15. Use Reflective Thinking: Step back from the problem, take the time for introspection and self-reflection. Examine personal biases, assumptions, and mental models that may influence problem-solving, and being open to learning from past experiences to improve future approaches.\",\n",
    "    \"16. What is the core issue or problem that needs to be addressed?\",\n",
    "    \"17. What are the underlying causes or factors contributing to the problem?\",\n",
    "    \"18. Are there any potential solutions or strategies that have been tried before? If yes, what were the outcomes and lessons learned?\",\n",
    "    \"19. What are the potential obstacles or challenges that might arise in solving this problem?\",\n",
    "    \"20. Are there any relevant data or information that can provide insights into the problem? If yes, what data sources are available, and how can they be analyzed?\",\n",
    "    \"21. Are there any stakeholders or individuals who are directly affected by the problem? What are their perspectives and needs?\",\n",
    "    \"22. What resources (financial, human, technological, etc.) are needed to tackle the problem effectively?\",\n",
    "    \"23. How can progress or success in solving the problem be measured or evaluated?\",\n",
    "    \"24. What indicators or metrics can be used?\",\n",
    "    \"25. Is the problem a technical or practical one that requires a specific expertise or skill set? Or is it more of a conceptual or theoretical problem?\",\n",
    "    \"26. Does the problem involve a physical constraint, such as limited resources, infrastructure, or space?\",\n",
    "    \"27. Is the problem related to human behavior, such as a social, cultural, or psychological issue?\",\n",
    "    \"28. Does the problem involve decision-making or planning, where choices need to be made under uncertainty or with competing objectives?\",\n",
    "    \"29. Is the problem an analytical one that requires data analysis, modeling, or optimization techniques?\",\n",
    "    \"30. Is the problem a design challenge that requires creative solutions and innovation?\",\n",
    "    \"31. Does the problem require addressing systemic or structural issues rather than just individual instances?\",\n",
    "    \"32. Is the problem time-sensitive or urgent, requiring immediate attention and action?\",\n",
    "    \"33. What kinds of solution typically are produced for this kind of problem specification?\",\n",
    "    \"34. Given the problem specification and the current best solution, have a guess about other possible solutions.\"\n",
    "    \"35. Let's imagine the current best solution is totally wrong, what other ways are there to think about the problem specification?\"\n",
    "    \"36. What is the best way to modify this current best solution, given what you know about these kinds of problem specification?\"\n",
    "    \"37. Ignoring the current best solution, create an entirely new solution to the problem.\"\n",
    "    # \"38. Let’s think step by step.\"\n",
    "    \"39. Let's make a step by step plan and implement it with good notation and explanation.\",\n",
    "]\n",
    "\n",
    "\n",
    "task_example = \"Lisa has 10 apples. She gives 3 apples to her friend and then buys 5 more apples from the store. How many apples does Lisa have now?\"\n",
    "\n",
    "# task_example = \"\"\"This SVG path element <path d=\"M 55.57,80.69 L 57.38,65.80 M 57.38,65.80 L 48.90,57.46 M 48.90,57.46 L\n",
    "# 45.58,47.78 M 45.58,47.78 L 53.25,36.07 L 66.29,48.90 L 78.69,61.09 L 55.57,80.69\"/> draws a:\n",
    "# (A) circle (B) heptagon (C) hexagon (D) kite (E) line (F) octagon (G) pentagon(H) rectangle (I) sector (J) triangle\"\"\"\n"
   ]
  },
  {
   "cell_type": "code",
   "execution_count": 43,
   "metadata": {},
   "outputs": [],
   "source": [
    "reasoning_modules_str = \"\\n\".join(reasoning_modules)"
   ]
  },
  {
   "cell_type": "code",
   "execution_count": 44,
   "metadata": {},
   "outputs": [
    {
     "name": "stdout",
     "output_type": "stream",
     "text": [
      "{'select': {'selected_modules': \" Sure, I'd be happy to help! Based on the problem you've provided, here are some reasoning modules that could be useful in solving it:\\n\\n4. How can I simplify the problem so that it is easier to solve?\\nThis module could be helpful in breaking down the problem into simpler steps. For example, we could start by calculating how many apples Lisa has after giving some away, and then add the number of apples she bought to that total.\\n\\n9. How can I break down this problem into smaller, more manageable parts?\\nSimilar to the previous module, breaking down the problem into smaller parts can make it easier to solve. We could break this problem down into two smaller problems: first, calculating how many apples Lisa has after giving some away, and second, calculating how many apples she has after buying more.\\n\\n16. What is the core issue or problem that needs to be addressed?\\nIn this case, the core issue is simply calculating how many apples Lisa has now, based on the number she started with, the number she gave away, and the number she bought.\\n\\n22. What resources (financial, human, technological, etc.) are needed to tackle the problem effectively?\\nWhile this module may not be strictly necessary for this problem, it is worth noting that in order to solve this problem, we need some basic arithmetic skills and the ability to add and subtract whole numbers.\\n\\n28. Is the problem an analytical one that requires data analysis, modeling, or optimization techniques?\\nAgain, this module may not be necessary for this particular problem, but it is worth noting that this problem does require some analytical thinking and the ability to manipulate numerical data.\\n\\nBased on these modules, we can solve the problem as follows:\\n\\n1. Lisa starts with 10 apples.\\n2. She gives away 3 apples, leaving her with 10 - 3 = 7 apples.\\n3. She then buys 5 more apples, bringing her total to 7 + 5 = 12 apples.\\n\\nTherefore, Lisa has 12 apples now.\"}}\n",
      "{'adapt': {'adapted_modules': ' 1. Problem Decomposition: Break down the problem into simpler steps. First, calculate the number of apples Lisa has after giving some away (10 - 3 = 7 apples). Then, calculate the number of apples she has after buying more (7 + 5 = 12 apples).\\n2. Simplification: Simplify the problem by focusing on the arithmetic operations needed. Lisa has to subtract the number of apples she gave away and add the number of apples she bought.\\n3. Core Issue Identification: The core issue is to find the total number of apples Lisa has now, after giving some away and buying more.\\n4. Resource Allocation: No specific resources are required to solve this problem, just basic arithmetic skills.\\n5. Analytical Thinking: Apply analytical thinking to the problem by examining the given information and determining the sequence of arithmetic operations needed.\\n6. Data Manipulation: Manipulate the numerical data by performing the required arithmetic operations: subtraction and addition.\\n7. Problem Categorization: This problem is a simple arithmetic problem that requires adding and subtracting whole numbers.\\n\\nUsing these adapted reasoning modules, the solution to the problem can be summarized as follows:\\n\\n1. Lisa starts with 10 apples.\\n2. She gives away 3 apples, leaving her with 7 apples.\\n3. She then buys 5 more apples, bringing her total to 12 apples.\\n\\nTherefore, Lisa has 12 apples now.'}}\n",
      "{'structure': {'reasoning_structure': ' {\\n    \"Reasoning Plan\": [\\n        {\\n            \"ModuleName\": \"Problem Decomposition\",\\n            \"InputFields\": [\"initialApples\", \"applesGivenAway\", \"applesBought\"],\\n            \"OutputField\": \"decomposedProblem\",\\n            \"StepDescription\": \"Break down the problem into simpler steps. First, calculate the number of apples Lisa has after giving some away (initialApples - applesGivenAway). Then, calculate the number of apples she has after buying more (previousResult + applesBought).\"\\n        },\\n        {\\n            \"ModuleName\": \"Simplification\",\\n            \"InputFields\": [\"decomposedProblem\"],\\n            \"OutputField\": \"simplifiedProblem\",\\n            \"StepDescription\": \"Simplify the problem by focusing on the arithmetic operations needed. Lisa has to subtract the number of apples she gave away and add the number of apples she bought.\"\\n        },\\n        {\\n            \"ModuleName\": \"Core Issue Identification\",\\n            \"InputFields\": [],\\n            \"OutputField\": \"coreIssue\",\\n            \"StepDescription\": \"Identify the core issue of the problem. The core issue is to find the total number of apples Lisa has now, after giving some away and buying more.\"\\n        },\\n        {\\n            \"ModuleName\": \"Resource Allocation\",\\n            \"InputFields\": [],\\n            \"OutputField\": \"allocatedResources\",\\n            \"StepDescription\": \"Identify and allocate resources required to solve this problem. In this case, allocate basic arithmetic skills for calculating the new number of apples.\"\\n        },\\n        {\\n            \"ModuleName\": \"Analytical Thinking\",\\n            \"InputFields\": [\"initialApples\", \"applesGivenAway\", \"applesBought\"],\\n            \"OutputField\": \"analyticalThinkingResult\",\\n            \"StepDescription\": \"Examine the given information and determine the sequence of arithmetic operations needed. Start with the initial number of apples, subtract the number given away, and then add the number bought.\"\\n        },\\n        {\\n            \"ModuleName\": \"Data Manipulation\",\\n            \"InputFields\": [\"analyticalThinkingResult\"],\\n            \"OutputField\": \"manipulatedData\",\\n            \"StepDescription\": \"Manipulate the numerical data by performing the required arithmetic operations: subtraction and addition, in the correct sequence.\"\\n        },\\n        {\\n            \"ModuleName\": \"Problem Categorization\",\\n            \"InputFields\": [],\\n            \"OutputField\": \"problemCategory\",\\n            \"StepDescription\": \"Categorize the problem. This problem is a simple arithmetic problem that requires adding and subtracting whole numbers.\"\\n        }\\n    ]\\n}\\n\\nThis JSON format plan can be filled out later with the actual input values, and each module can calculate the correct output for the specific problem.'}}\n",
      "{'reason': {'answer': ' Filled out JSON format with the actual input values:\\n\\n{\\n    \"InitialData\": {\\n        \"initialApples\": 10,\\n        \"applesGivenAway\": 3,\\n        \"applesBought\": 5\\n    },\\n    \"Reasoning Plan\": [\\n        {\\n            \"ModuleName\": \"Problem Decomposition\",\\n            \"InputFields\": [\"InitialData.initialApples\", \"InitialData.applesGivenAway\", \"InitialData.applesBought\"],\\n            \"OutputField\": \"decomposedProblem\",\\n            \"StepDescription\": \"Break down the problem into simpler steps. First, calculate the number of apples Lisa has after giving some away (InitialData.initialApples - InitialData.applesGivenAway). Then, calculate the number of apples she has after buying more (previousResult + InitialData.applesBought).\",\\n            \"PreviousResult\": null,\\n            \"DecomposedSteps\": [\\n                {\\n                    \"Step\": 1,\\n                    \"Operation\": \"-\",\\n                    \"InputFields\": [\"InitialData.initialApples\", \"InitialData.applesGivenAway\"]\\n                },\\n                {\\n                    \"Step\": 2,\\n                    \"Operation\": \"+\",\\n                '}}\n",
      "{'__end__': {'reasoning_modules': \"1. How could I devise an experiment to help solve that problem?\\n2. Make a list of ideas for solving this problem, and apply them one by one to the problem to see if any progress can be made.\\n4. How can I simplify the problem so that it is easier to solve?\\n5. What are the key assumptions underlying this problem?\\n6. What are the potential risks and drawbacks of each solution?\\n7. What are the alternative perspectives or viewpoints on this problem?\\n8. What are the long-term implications of this problem and its solutions?\\n9. How can I break down this problem into smaller, more manageable parts?\\n10. Critical Thinking: This style involves analyzing the problem from different perspectives, questioning assumptions, and evaluating the evidence or information available. It focuses on logical reasoning, evidence-based decision-making, and identifying potential biases or flaws in thinking.\\n11. Try creative thinking, generate innovative and out-of-the-box ideas to solve the problem. Explore unconventional solutions, thinking beyond traditional boundaries, and encouraging imagination and originality.\\n13. Use systems thinking: Consider the problem as part of a larger system and understanding the interconnectedness of various elements. Focuses on identifying the underlying causes, feedback loops, and interdependencies that influence the problem, and developing holistic solutions that address the system as a whole.\\n14. Use Risk Analysis: Evaluate potential risks, uncertainties, and tradeoffs associated with different solutions or approaches to a problem. Emphasize assessing the potential consequences and likelihood of success or failure, and making informed decisions based on a balanced analysis of risks and benefits.\\n16. What is the core issue or problem that needs to be addressed?\\n17. What are the underlying causes or factors contributing to the problem?\\n18. Are there any potential solutions or strategies that have been tried before? If yes, what were the outcomes and lessons learned?\\n19. What are the potential obstacles or challenges that might arise in solving this problem?\\n20. Are there any relevant data or information that can provide insights into the problem? If yes, what data sources are available, and how can they be analyzed?\\n21. Are there any stakeholders or individuals who are directly affected by the problem? What are their perspectives and needs?\\n22. What resources (financial, human, technological, etc.) are needed to tackle the problem effectively?\\n23. How can progress or success in solving the problem be measured or evaluated?\\n24. What indicators or metrics can be used?\\n25. Is the problem a technical or practical one that requires a specific expertise or skill set? Or is it more of a conceptual or theoretical problem?\\n26. Does the problem involve a physical constraint, such as limited resources, infrastructure, or space?\\n27. Is the problem related to human behavior, such as a social, cultural, or psychological issue?\\n28. Does the problem involve decision-making or planning, where choices need to be made under uncertainty or with competing objectives?\\n29. Is the problem an analytical one that requires data analysis, modeling, or optimization techniques?\\n30. Is the problem a design challenge that requires creative solutions and innovation?\\n31. Does the problem require addressing systemic or structural issues rather than just individual instances?\\n32. Is the problem time-sensitive or urgent, requiring immediate attention and action?\\n33. What kinds of solution typically are produced for this kind of problem specification?\\n34. Given the problem specification and the current best solution, have a guess about other possible solutions.35. Let's imagine the current best solution is totally wrong, what other ways are there to think about the problem specification?36. What is the best way to modify this current best solution, given what you know about these kinds of problem specification?37. Ignoring the current best solution, create an entirely new solution to the problem.39. Let's make a step by step plan and implement it with good notation and explanation.\", 'task_description': 'Lisa has 10 apples. She gives 3 apples to her friend and then buys 5 more apples from the store. How many apples does Lisa have now?', 'selected_modules': \" Sure, I'd be happy to help! Based on the problem you've provided, here are some reasoning modules that could be useful in solving it:\\n\\n4. How can I simplify the problem so that it is easier to solve?\\nThis module could be helpful in breaking down the problem into simpler steps. For example, we could start by calculating how many apples Lisa has after giving some away, and then add the number of apples she bought to that total.\\n\\n9. How can I break down this problem into smaller, more manageable parts?\\nSimilar to the previous module, breaking down the problem into smaller parts can make it easier to solve. We could break this problem down into two smaller problems: first, calculating how many apples Lisa has after giving some away, and second, calculating how many apples she has after buying more.\\n\\n16. What is the core issue or problem that needs to be addressed?\\nIn this case, the core issue is simply calculating how many apples Lisa has now, based on the number she started with, the number she gave away, and the number she bought.\\n\\n22. What resources (financial, human, technological, etc.) are needed to tackle the problem effectively?\\nWhile this module may not be strictly necessary for this problem, it is worth noting that in order to solve this problem, we need some basic arithmetic skills and the ability to add and subtract whole numbers.\\n\\n28. Is the problem an analytical one that requires data analysis, modeling, or optimization techniques?\\nAgain, this module may not be necessary for this particular problem, but it is worth noting that this problem does require some analytical thinking and the ability to manipulate numerical data.\\n\\nBased on these modules, we can solve the problem as follows:\\n\\n1. Lisa starts with 10 apples.\\n2. She gives away 3 apples, leaving her with 10 - 3 = 7 apples.\\n3. She then buys 5 more apples, bringing her total to 7 + 5 = 12 apples.\\n\\nTherefore, Lisa has 12 apples now.\", 'adapted_modules': ' 1. Problem Decomposition: Break down the problem into simpler steps. First, calculate the number of apples Lisa has after giving some away (10 - 3 = 7 apples). Then, calculate the number of apples she has after buying more (7 + 5 = 12 apples).\\n2. Simplification: Simplify the problem by focusing on the arithmetic operations needed. Lisa has to subtract the number of apples she gave away and add the number of apples she bought.\\n3. Core Issue Identification: The core issue is to find the total number of apples Lisa has now, after giving some away and buying more.\\n4. Resource Allocation: No specific resources are required to solve this problem, just basic arithmetic skills.\\n5. Analytical Thinking: Apply analytical thinking to the problem by examining the given information and determining the sequence of arithmetic operations needed.\\n6. Data Manipulation: Manipulate the numerical data by performing the required arithmetic operations: subtraction and addition.\\n7. Problem Categorization: This problem is a simple arithmetic problem that requires adding and subtracting whole numbers.\\n\\nUsing these adapted reasoning modules, the solution to the problem can be summarized as follows:\\n\\n1. Lisa starts with 10 apples.\\n2. She gives away 3 apples, leaving her with 7 apples.\\n3. She then buys 5 more apples, bringing her total to 12 apples.\\n\\nTherefore, Lisa has 12 apples now.', 'reasoning_structure': ' {\\n    \"Reasoning Plan\": [\\n        {\\n            \"ModuleName\": \"Problem Decomposition\",\\n            \"InputFields\": [\"initialApples\", \"applesGivenAway\", \"applesBought\"],\\n            \"OutputField\": \"decomposedProblem\",\\n            \"StepDescription\": \"Break down the problem into simpler steps. First, calculate the number of apples Lisa has after giving some away (initialApples - applesGivenAway). Then, calculate the number of apples she has after buying more (previousResult + applesBought).\"\\n        },\\n        {\\n            \"ModuleName\": \"Simplification\",\\n            \"InputFields\": [\"decomposedProblem\"],\\n            \"OutputField\": \"simplifiedProblem\",\\n            \"StepDescription\": \"Simplify the problem by focusing on the arithmetic operations needed. Lisa has to subtract the number of apples she gave away and add the number of apples she bought.\"\\n        },\\n        {\\n            \"ModuleName\": \"Core Issue Identification\",\\n            \"InputFields\": [],\\n            \"OutputField\": \"coreIssue\",\\n            \"StepDescription\": \"Identify the core issue of the problem. The core issue is to find the total number of apples Lisa has now, after giving some away and buying more.\"\\n        },\\n        {\\n            \"ModuleName\": \"Resource Allocation\",\\n            \"InputFields\": [],\\n            \"OutputField\": \"allocatedResources\",\\n            \"StepDescription\": \"Identify and allocate resources required to solve this problem. In this case, allocate basic arithmetic skills for calculating the new number of apples.\"\\n        },\\n        {\\n            \"ModuleName\": \"Analytical Thinking\",\\n            \"InputFields\": [\"initialApples\", \"applesGivenAway\", \"applesBought\"],\\n            \"OutputField\": \"analyticalThinkingResult\",\\n            \"StepDescription\": \"Examine the given information and determine the sequence of arithmetic operations needed. Start with the initial number of apples, subtract the number given away, and then add the number bought.\"\\n        },\\n        {\\n            \"ModuleName\": \"Data Manipulation\",\\n            \"InputFields\": [\"analyticalThinkingResult\"],\\n            \"OutputField\": \"manipulatedData\",\\n            \"StepDescription\": \"Manipulate the numerical data by performing the required arithmetic operations: subtraction and addition, in the correct sequence.\"\\n        },\\n        {\\n            \"ModuleName\": \"Problem Categorization\",\\n            \"InputFields\": [],\\n            \"OutputField\": \"problemCategory\",\\n            \"StepDescription\": \"Categorize the problem. This problem is a simple arithmetic problem that requires adding and subtracting whole numbers.\"\\n        }\\n    ]\\n}\\n\\nThis JSON format plan can be filled out later with the actual input values, and each module can calculate the correct output for the specific problem.', 'answer': ' Filled out JSON format with the actual input values:\\n\\n{\\n    \"InitialData\": {\\n        \"initialApples\": 10,\\n        \"applesGivenAway\": 3,\\n        \"applesBought\": 5\\n    },\\n    \"Reasoning Plan\": [\\n        {\\n            \"ModuleName\": \"Problem Decomposition\",\\n            \"InputFields\": [\"InitialData.initialApples\", \"InitialData.applesGivenAway\", \"InitialData.applesBought\"],\\n            \"OutputField\": \"decomposedProblem\",\\n            \"StepDescription\": \"Break down the problem into simpler steps. First, calculate the number of apples Lisa has after giving some away (InitialData.initialApples - InitialData.applesGivenAway). Then, calculate the number of apples she has after buying more (previousResult + InitialData.applesBought).\",\\n            \"PreviousResult\": null,\\n            \"DecomposedSteps\": [\\n                {\\n                    \"Step\": 1,\\n                    \"Operation\": \"-\",\\n                    \"InputFields\": [\"InitialData.initialApples\", \"InitialData.applesGivenAway\"]\\n                },\\n                {\\n                    \"Step\": 2,\\n                    \"Operation\": \"+\",\\n                '}}\n"
     ]
    }
   ],
   "source": [
    "for s in app.stream(\n",
    "    {\"task_description\": task_example, \"reasoning_modules\": reasoning_modules_str}\n",
    "):\n",
    "    print(s)"
   ]
  }
 ],
 "metadata": {
  "kernelspec": {
   "display_name": "venv",
   "language": "python",
   "name": "python3"
  },
  "language_info": {
   "codemirror_mode": {
    "name": "ipython",
    "version": 3
   },
   "file_extension": ".py",
   "mimetype": "text/x-python",
   "name": "python",
   "nbconvert_exporter": "python",
   "pygments_lexer": "ipython3",
   "version": "3.11.5"
  }
 },
 "nbformat": 4,
 "nbformat_minor": 2
}
