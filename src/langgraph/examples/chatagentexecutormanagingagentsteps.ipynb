{
 "cells": [
  {
   "cell_type": "markdown",
   "metadata": {},
   "source": [
    "#### Managing agent steps\n",
    "In this example, we will build a chat executor that better manages intermediate steps. The base chat executor just puts all the messages into the model, but if the intermediate steps taken by the agent are getting too long, we would need to modify that. In this example, we would only be providing the 10 most recent messages to the model"
   ]
  },
  {
   "cell_type": "code",
   "execution_count": 1,
   "metadata": {},
   "outputs": [
    {
     "data": {
      "text/plain": [
       "True"
      ]
     },
     "execution_count": 1,
     "metadata": {},
     "output_type": "execute_result"
    }
   ],
   "source": [
    "import os\n",
    "from dotenv import load_dotenv\n",
    "load_dotenv()"
   ]
  },
  {
   "cell_type": "code",
   "execution_count": 2,
   "metadata": {},
   "outputs": [],
   "source": [
    "from langchain_community.tools.tavily_search import TavilySearchResults\n",
    "\n",
    "tools = [TavilySearchResults(max_results=3)]"
   ]
  },
  {
   "cell_type": "code",
   "execution_count": 3,
   "metadata": {},
   "outputs": [],
   "source": [
    "from langgraph.prebuilt import ToolExecutor\n",
    "tool_executor = ToolExecutor(tools)"
   ]
  },
  {
   "cell_type": "code",
   "execution_count": 4,
   "metadata": {},
   "outputs": [],
   "source": [
    "from langchain_openai import ChatOpenAI\n",
    "\n",
    "model = ChatOpenAI(model=\"mistralai/Mixtral-8x7B-Instruct-v0.1\")"
   ]
  },
  {
   "cell_type": "code",
   "execution_count": 5,
   "metadata": {},
   "outputs": [],
   "source": [
    "from langchain.tools.render import format_tool_to_openai_function\n",
    "\n",
    "functions = [format_tool_to_openai_function(tool) for tool in tools]\n",
    "model = model.bind_functions(functions)"
   ]
  },
  {
   "cell_type": "code",
   "execution_count": 6,
   "metadata": {},
   "outputs": [],
   "source": [
    "from typing import TypedDict, Annotated, Sequence\n",
    "import operator\n",
    "from langchain_core.messages import BaseMessage\n",
    "\n",
    "\n",
    "class AgentState(TypedDict):\n",
    "    messages: Annotated[Sequence[BaseMessage], operator.add]"
   ]
  },
  {
   "cell_type": "code",
   "execution_count": 7,
   "metadata": {},
   "outputs": [],
   "source": [
    "from langgraph.prebuilt import ToolInvocation\n",
    "import json\n",
    "from langchain_core.messages import FunctionMessage\n",
    "\n",
    "\n",
    "def should_continue(state: AgentState):\n",
    "    messages = state[\"messages\"]\n",
    "    last_message: BaseMessage = messages[-1]\n",
    "    \n",
    "    if \"tool_calls\" in last_message.additional_kwargs:\n",
    "        return \"continue\"\n",
    "    else:\n",
    "        return \"end\""
   ]
  },
  {
   "cell_type": "code",
   "execution_count": 8,
   "metadata": {},
   "outputs": [],
   "source": [
    "def call_model(state: AgentState):\n",
    "    messages = state[\"messages\"][-5:]\n",
    "    response = model.invoke(messages)\n",
    "    return {\"messages\": [response]}\n",
    "\n",
    "def call_tool(state: AgentState):\n",
    "    messages = state[\"messages\"]\n",
    "    last_message = messages[-1]\n",
    "    fn = last_message.additional_kwargs[\"tool_calls\"][0][\"function\"]\n",
    "    action = ToolInvocation(\n",
    "        tool=fn[\"name\"], \n",
    "        tool_input=json.loads(fn[\"arguments\"])\n",
    "    )\n",
    "    response = tool_executor.invoke(action)\n",
    "    function_message = FunctionMessage(content=str(response), name=action.tool)\n",
    "    return {\"messages\": [function_message]}"
   ]
  },
  {
   "cell_type": "code",
   "execution_count": 11,
   "metadata": {},
   "outputs": [],
   "source": [
    "from langgraph.graph import StateGraph, END \n",
    "\n",
    "workflow = StateGraph(AgentState)\n",
    "\n",
    "workflow.add_node(\"agent\", call_model)\n",
    "workflow.add_node(\"action\", call_tool)\n",
    "\n",
    "\n",
    "\n",
    "workflow.set_entry_point(\"agent\")\n",
    "\n",
    "workflow.add_conditional_edges(\n",
    "    \"agent\",\n",
    "    should_continue, \n",
    "    {\n",
    "        \"continue\": \"action\",\n",
    "        \"end\": END\n",
    "    }\n",
    ")\n",
    "\n",
    "workflow.add_edge(\"action\", \"agent\")\n",
    "\n",
    "\n",
    "app = workflow.compile()"
   ]
  },
  {
   "cell_type": "code",
   "execution_count": 13,
   "metadata": {},
   "outputs": [
    {
     "name": "stdout",
     "output_type": "stream",
     "text": [
      "output from node agent\n",
      "----\n",
      "{'messages': [AIMessage(content='', additional_kwargs={'tool_calls': [{'id': 'call_0o53ewxjjaqo11jz73esatpm', 'function': {'arguments': '{\"query\":\"current president of Nigeria\"}', 'name': 'tavily_search_results_json'}, 'type': 'function'}]})]}\n",
      "----\n",
      "output from node action\n",
      "----\n",
      "{'messages': [FunctionMessage(content=\"[{'url': 'https://www.aljazeera.com/news/2023/3/1/who-is-nigerias-new-president-elect-bola-tinubu', 'content': 'Tinubu never hid his ambition to be president of Nigeria as the 70-year-old fulfilled his “lifelong” goal by winning the presidency of Africa’s most populous nation with 8.8 million votes, according to final election results.\\\\n However, some critics say the pro-Tinubu narrative erases the welfarist politics of Lateef Jakande, governor between 1979 and 1983, who laid the foundations of today’s Lagos, which has swelled from four million people three decades ago to 21 million today.\\\\n Often referred to by the chieftain’s title of “Jagaban”, Tinubu has spent years building his Lagos power base into a nationwide network of contacts from Lagos market cooperatives and transport unions to political operatives.\\\\n On the campaign trail, PDP critics labelled him as “wobbly, wonky and narcotic-devastated”, a reference to health concerns and a 1993 US court filing that cited a “drug-related seizure of property” from his US bank account.\\\\n Nigeria’s Obi wins key Lagos state in presidential election\\\\nDespite lingering questions about his health and past corruption allegations, the two-time Lagos governor will succeed Buhari, a former army general he brags of helping put into power.\\\\n'}, {'url': 'https://www.cnn.com/2023/03/01/africa/bola-tinubu-nigeria-profile-intl/index.html', 'content': 'But who is the man who will lead Africa’s largest economy – as well as inherit its plethora of economic and security crises?\\\\nTinubu, who turns 71 later this month, was governor in Lagos between 1999 and 2007, where he is credited with pioneering reforms that led to transformation of the state, now Nigeria’s economic hub.\\\\n After decades as a political puppet master, Tinubu declared it was now his turn to emerge from the shadows into the presidency; his campaign slogan was “Emi Lokan,” which translates to “it is my turn,” in his native Yoruba language.\\\\n Now he has to get on with the serious task of uniting a country fractured along religious, ethnic and generational lines as well as a host of problems including insecurity, an economy on the brink of collapse, as well as fuel, cash and power shortages.\\\\n He used his clout and enormous resources to build leaders and establish political influence, first in the southwest … and then extended to the north of Nigeria,” says Nigerian political analyst Sam Amadi.\\\\n ‘My turn to be president’\\\\nHis supporters call Tinubu a master strategist and ‘king of the long game’ who has been planning his ascent to the throne for years.\\\\n'}, {'url': 'https://www.cnn.com/2023/05/29/africa/bola-tinubu-inauguration-nigeria-intl/index.html', 'content': 'Yet, we have shouldered the heavy burden to arrive at this sublime moment where the prospect of a better future merges with our improved capacity to create that future,” said Tinubu, who becomes the sixteenth president of Nigeria.\\\\n “The key to solving most of the major issues in Nigeria today… rest on him being able to kickstart Nigeria’s economy and improve the finances of the Nigerian state. The hopes and aspirations of millions rest on his shoulders, and the path to progress will be arduous as Nigerians await the transformative leadership that Tinubu and other successive leaders have promised.\\\\n He won the elections with just 37 percent of the votes –\\\\nthe lowest of any elected Nigerian president since the handover from military to democratic rule in 1999.\\\\n Nigeria has debts of around $103 billion and faces unprecedented levels of inflation, high unemployment and a heavy reliance on dwindling oil revenues, which has led to an exodus of mostly young Nigerians in a brain drain crisis known locally as “japa,” or escape.\\\\n'}]\", name='tavily_search_results_json')]}\n",
      "----\n",
      "output from node agent\n",
      "----\n",
      "{'messages': [AIMessage(content='', additional_kwargs={'tool_calls': [{'id': 'call_3zbbw5dia9oj9da9ofhq21xj', 'function': {'arguments': '{\"query\":\"current president of Nigeria\"}', 'name': 'tavily_search_results_json'}, 'type': 'function'}]})]}\n",
      "----\n",
      "output from node action\n",
      "----\n",
      "{'messages': [FunctionMessage(content='[{\\'url\\': \\'https://www.aljazeera.com/news/2023/3/1/who-is-nigerias-new-president-elect-bola-tinubu\\', \\'content\\': \\'Tinubu never hid his ambition to be president of Nigeria as the 70-year-old fulfilled his “lifelong” goal by winning the presidency of Africa’s most populous nation with 8.8 million votes, according to final election results.\\\\n However, some critics say the pro-Tinubu narrative erases the welfarist politics of Lateef Jakande, governor between 1979 and 1983, who laid the foundations of today’s Lagos, which has swelled from four million people three decades ago to 21 million today.\\\\n Often referred to by the chieftain’s title of “Jagaban”, Tinubu has spent years building his Lagos power base into a nationwide network of contacts from Lagos market cooperatives and transport unions to political operatives.\\\\n On the campaign trail, PDP critics labelled him as “wobbly, wonky and narcotic-devastated”, a reference to health concerns and a 1993 US court filing that cited a “drug-related seizure of property” from his US bank account.\\\\n Nigeria’s Obi wins key Lagos state in presidential election\\\\nDespite lingering questions about his health and past corruption allegations, the two-time Lagos governor will succeed Buhari, a former army general he brags of helping put into power.\\\\n\\'}, {\\'url\\': \\'https://en.wikipedia.org/wiki/President_of_Nigeria\\', \\'content\\': \"The oath is administered by the chief justice of the Supreme Court of Nigeria or the person for the time being appointed to exercise the functions of that office:[42]\\\\nI do solemnly swear/affirm that I will be faithful and bear true allegiance to the Federal Republic of Nigeria; that as President of the Federal Republic of Nigeria, I will discharge my duties to the best of my ability, faithfully and in accordance with the Constitution of the Federal Republic of Nigeria and the law, and always in the interest of the sovereignty, integrity, solidarity, well-being and prosperity of the Federal Republic of Nigeria; that I will strive to preserve the Fundamental Objectives and Directive Principles of State Policy contained in the Constitution of the Federal Republic of Nigeria; that I will not allow my personal interest to influence my official conduct or my official decisions; that I will to the best of my ability preserve, protect and defend the Constitution of the Federal Republic of Nigeria; that I will abide by the Code of Conduct contained in the Fifth Schedule to the Constitution of the Federal Republic of Nigeria; that in all circumstances, I will do right to all manner of people, according to law, without fear or favour, affection or ill-will; that I will not directly or indirectly communicate or reveal to any person any matter which shall be brought under my consideration or shall become known to me as President of the Federal Republic of Nigeria, except as may be required for the due discharge of my duties as President; and that I will devote myself to the service and well-being of the people of Nigeria. Yar\\'Adua died on 5 May 2010 at the presidential villa, in Abuja, Nigeria, becoming the second head of state to die there after General Sani Abacha.[18][19][20][21][22][23][24]\\\\nOn 6 May 2010, Vice President Goodluck Jonathan was sworn in as president of the Federal Republic of Nigeria and the 14th head of state.[25][26][27][28][29][30]\\\\nOn 29 May 2015, Muhammadu Buhari, a former military head of state was sworn in as president of the Federal Republic of Nigeria and the 15th head of state after winning the general election.[31][32][33][34][35][36] Eligibility[edit]\\\\nChapter VI, Part I, Section 131 of the constitution states that a person may be qualified for election of the office of the president if:[39]\\\\nA person who meets the above qualifications is still disqualified from holding the office of the president if:\\\\nTerm limits[edit]\\\\nThere is a four year tenure with a two-term limit for the president in the Constitution of Nigeria. Contents\\\\nPresident of Nigeria\\\\nThe president of the Federal Republic of Nigeria is the head of state and head of government of the Federal Republic of Nigeria. The offices, powers, and titles of the head of state and the head of government were officially merged into the office of the presidency under the 1979 Constitution of Nigeria.\\\\n\"}, {\\'url\\': \\'https://www.cnn.com/2023/05/29/africa/bola-tinubu-inauguration-nigeria-intl/index.html\\', \\'content\\': \\'Yet, we have shouldered the heavy burden to arrive at this sublime moment where the prospect of a better future merges with our improved capacity to create that future,” said Tinubu, who becomes the sixteenth president of Nigeria.\\\\n “The key to solving most of the major issues in Nigeria today… rest on him being able to kickstart Nigeria’s economy and improve the finances of the Nigerian state. The hopes and aspirations of millions rest on his shoulders, and the path to progress will be arduous as Nigerians await the transformative leadership that Tinubu and other successive leaders have promised.\\\\n He won the elections with just 37 percent of the votes –\\\\nthe lowest of any elected Nigerian president since the handover from military to democratic rule in 1999.\\\\n Nigeria has debts of around $103 billion and faces unprecedented levels of inflation, high unemployment and a heavy reliance on dwindling oil revenues, which has led to an exodus of mostly young Nigerians in a brain drain crisis known locally as “japa,” or escape.\\\\n\\'}]', name='tavily_search_results_json')]}\n",
      "----\n",
      "output from node agent\n",
      "----\n",
      "{'messages': [AIMessage(content='', additional_kwargs={'tool_calls': [{'id': 'call_vkbpgrl9yarbwjchxjop3m97', 'function': {'arguments': '{\"query\":\"current president of Nigeria\"}', 'name': 'tavily_search_results_json'}, 'type': 'function'}]})]}\n",
      "----\n",
      "output from node action\n",
      "----\n",
      "{'messages': [FunctionMessage(content='[{\\'url\\': \\'https://en.wikipedia.org/wiki/President_of_Nigeria\\', \\'content\\': \"The oath is administered by the chief justice of the Supreme Court of Nigeria or the person for the time being appointed to exercise the functions of that office:[42]\\\\nI do solemnly swear/affirm that I will be faithful and bear true allegiance to the Federal Republic of Nigeria; that as President of the Federal Republic of Nigeria, I will discharge my duties to the best of my ability, faithfully and in accordance with the Constitution of the Federal Republic of Nigeria and the law, and always in the interest of the sovereignty, integrity, solidarity, well-being and prosperity of the Federal Republic of Nigeria; that I will strive to preserve the Fundamental Objectives and Directive Principles of State Policy contained in the Constitution of the Federal Republic of Nigeria; that I will not allow my personal interest to influence my official conduct or my official decisions; that I will to the best of my ability preserve, protect and defend the Constitution of the Federal Republic of Nigeria; that I will abide by the Code of Conduct contained in the Fifth Schedule to the Constitution of the Federal Republic of Nigeria; that in all circumstances, I will do right to all manner of people, according to law, without fear or favour, affection or ill-will; that I will not directly or indirectly communicate or reveal to any person any matter which shall be brought under my consideration or shall become known to me as President of the Federal Republic of Nigeria, except as may be required for the due discharge of my duties as President; and that I will devote myself to the service and well-being of the people of Nigeria. Yar\\'Adua died on 5 May 2010 at the presidential villa, in Abuja, Nigeria, becoming the second head of state to die there after General Sani Abacha.[18][19][20][21][22][23][24]\\\\nOn 6 May 2010, Vice President Goodluck Jonathan was sworn in as president of the Federal Republic of Nigeria and the 14th head of state.[25][26][27][28][29][30]\\\\nOn 29 May 2015, Muhammadu Buhari, a former military head of state was sworn in as president of the Federal Republic of Nigeria and the 15th head of state after winning the general election.[31][32][33][34][35][36] Eligibility[edit]\\\\nChapter VI, Part I, Section 131 of the constitution states that a person may be qualified for election of the office of the president if:[39]\\\\nA person who meets the above qualifications is still disqualified from holding the office of the president if:\\\\nTerm limits[edit]\\\\nThere is a four year tenure with a two-term limit for the president in the Constitution of Nigeria. Contents\\\\nPresident of Nigeria\\\\nThe president of the Federal Republic of Nigeria is the head of state and head of government of the Federal Republic of Nigeria. The offices, powers, and titles of the head of state and the head of government were officially merged into the office of the presidency under the 1979 Constitution of Nigeria.\\\\n\"}, {\\'url\\': \\'https://www.cnn.com/2023/05/29/africa/bola-tinubu-inauguration-nigeria-intl/index.html\\', \\'content\\': \\'Yet, we have shouldered the heavy burden to arrive at this sublime moment where the prospect of a better future merges with our improved capacity to create that future,” said Tinubu, who becomes the sixteenth president of Nigeria.\\\\n “The key to solving most of the major issues in Nigeria today… rest on him being able to kickstart Nigeria’s economy and improve the finances of the Nigerian state. The hopes and aspirations of millions rest on his shoulders, and the path to progress will be arduous as Nigerians await the transformative leadership that Tinubu and other successive leaders have promised.\\\\n He won the elections with just 37 percent of the votes –\\\\nthe lowest of any elected Nigerian president since the handover from military to democratic rule in 1999.\\\\n Nigeria has debts of around $103 billion and faces unprecedented levels of inflation, high unemployment and a heavy reliance on dwindling oil revenues, which has led to an exodus of mostly young Nigerians in a brain drain crisis known locally as “japa,” or escape.\\\\n\\'}, {\\'url\\': \\'https://www.nytimes.com/2023/03/01/world/africa/nigeria-president-election-tinubu.html\\', \\'content\\': \\'But more recently, many Nigerians have taken to calling Mr. Tinubu “Balablu” — a reference to a speech in which he tried and failed to say the word “hullabaloo” — and a shorthand to imply that he is too old and sometimes not coherent enough to take on the leadership of Africa’s largest economy and one of its most complex, diverse nations. While opposition parties dismissed the election as a “sham,” alleging widespread fraud and violence and vowing to challenge the outcome in court, many Nigerians were trying to come to terms with the prospect of four years under one of the country’s most contentious figures.\\\\n He will have to work hard to gain the trust of the southeast, and the mostly Christian members of the Igbo ethnic group who live there, said Mucahid Durmaz, a senior West Africa analyst at the risk intelligence company Verisk Maplecroft.\\\\n Widely perceived as corrupt, in poor health, and a stalwart of the old guard, Mr. Tinubu may struggle to unite a country with a huge population of young people — particularly those plugged into social media — who are increasingly trying to make themselves heard, and fighting against old ways of governing.\\\\n Bola Tinubu, a former state governor and one of the most powerful political kingmakers in Nigeria, was declared the West African nation’s next president by election officials in the capital at around 4 a.m., after the most closely fought contest in years.\\\\n\\'}]', name='tavily_search_results_json')]}\n",
      "----\n",
      "output from node agent\n",
      "----\n",
      "{'messages': [AIMessage(content='')]}\n",
      "----\n",
      "output from node __end__\n",
      "----\n",
      "{'messages': [HumanMessage(content='who is the current president of Nigeria?'), AIMessage(content='', additional_kwargs={'tool_calls': [{'id': 'call_0o53ewxjjaqo11jz73esatpm', 'function': {'arguments': '{\"query\":\"current president of Nigeria\"}', 'name': 'tavily_search_results_json'}, 'type': 'function'}]}), FunctionMessage(content=\"[{'url': 'https://www.aljazeera.com/news/2023/3/1/who-is-nigerias-new-president-elect-bola-tinubu', 'content': 'Tinubu never hid his ambition to be president of Nigeria as the 70-year-old fulfilled his “lifelong” goal by winning the presidency of Africa’s most populous nation with 8.8 million votes, according to final election results.\\\\n However, some critics say the pro-Tinubu narrative erases the welfarist politics of Lateef Jakande, governor between 1979 and 1983, who laid the foundations of today’s Lagos, which has swelled from four million people three decades ago to 21 million today.\\\\n Often referred to by the chieftain’s title of “Jagaban”, Tinubu has spent years building his Lagos power base into a nationwide network of contacts from Lagos market cooperatives and transport unions to political operatives.\\\\n On the campaign trail, PDP critics labelled him as “wobbly, wonky and narcotic-devastated”, a reference to health concerns and a 1993 US court filing that cited a “drug-related seizure of property” from his US bank account.\\\\n Nigeria’s Obi wins key Lagos state in presidential election\\\\nDespite lingering questions about his health and past corruption allegations, the two-time Lagos governor will succeed Buhari, a former army general he brags of helping put into power.\\\\n'}, {'url': 'https://www.cnn.com/2023/03/01/africa/bola-tinubu-nigeria-profile-intl/index.html', 'content': 'But who is the man who will lead Africa’s largest economy – as well as inherit its plethora of economic and security crises?\\\\nTinubu, who turns 71 later this month, was governor in Lagos between 1999 and 2007, where he is credited with pioneering reforms that led to transformation of the state, now Nigeria’s economic hub.\\\\n After decades as a political puppet master, Tinubu declared it was now his turn to emerge from the shadows into the presidency; his campaign slogan was “Emi Lokan,” which translates to “it is my turn,” in his native Yoruba language.\\\\n Now he has to get on with the serious task of uniting a country fractured along religious, ethnic and generational lines as well as a host of problems including insecurity, an economy on the brink of collapse, as well as fuel, cash and power shortages.\\\\n He used his clout and enormous resources to build leaders and establish political influence, first in the southwest … and then extended to the north of Nigeria,” says Nigerian political analyst Sam Amadi.\\\\n ‘My turn to be president’\\\\nHis supporters call Tinubu a master strategist and ‘king of the long game’ who has been planning his ascent to the throne for years.\\\\n'}, {'url': 'https://www.cnn.com/2023/05/29/africa/bola-tinubu-inauguration-nigeria-intl/index.html', 'content': 'Yet, we have shouldered the heavy burden to arrive at this sublime moment where the prospect of a better future merges with our improved capacity to create that future,” said Tinubu, who becomes the sixteenth president of Nigeria.\\\\n “The key to solving most of the major issues in Nigeria today… rest on him being able to kickstart Nigeria’s economy and improve the finances of the Nigerian state. The hopes and aspirations of millions rest on his shoulders, and the path to progress will be arduous as Nigerians await the transformative leadership that Tinubu and other successive leaders have promised.\\\\n He won the elections with just 37 percent of the votes –\\\\nthe lowest of any elected Nigerian president since the handover from military to democratic rule in 1999.\\\\n Nigeria has debts of around $103 billion and faces unprecedented levels of inflation, high unemployment and a heavy reliance on dwindling oil revenues, which has led to an exodus of mostly young Nigerians in a brain drain crisis known locally as “japa,” or escape.\\\\n'}]\", name='tavily_search_results_json'), AIMessage(content='', additional_kwargs={'tool_calls': [{'id': 'call_3zbbw5dia9oj9da9ofhq21xj', 'function': {'arguments': '{\"query\":\"current president of Nigeria\"}', 'name': 'tavily_search_results_json'}, 'type': 'function'}]}), FunctionMessage(content='[{\\'url\\': \\'https://www.aljazeera.com/news/2023/3/1/who-is-nigerias-new-president-elect-bola-tinubu\\', \\'content\\': \\'Tinubu never hid his ambition to be president of Nigeria as the 70-year-old fulfilled his “lifelong” goal by winning the presidency of Africa’s most populous nation with 8.8 million votes, according to final election results.\\\\n However, some critics say the pro-Tinubu narrative erases the welfarist politics of Lateef Jakande, governor between 1979 and 1983, who laid the foundations of today’s Lagos, which has swelled from four million people three decades ago to 21 million today.\\\\n Often referred to by the chieftain’s title of “Jagaban”, Tinubu has spent years building his Lagos power base into a nationwide network of contacts from Lagos market cooperatives and transport unions to political operatives.\\\\n On the campaign trail, PDP critics labelled him as “wobbly, wonky and narcotic-devastated”, a reference to health concerns and a 1993 US court filing that cited a “drug-related seizure of property” from his US bank account.\\\\n Nigeria’s Obi wins key Lagos state in presidential election\\\\nDespite lingering questions about his health and past corruption allegations, the two-time Lagos governor will succeed Buhari, a former army general he brags of helping put into power.\\\\n\\'}, {\\'url\\': \\'https://en.wikipedia.org/wiki/President_of_Nigeria\\', \\'content\\': \"The oath is administered by the chief justice of the Supreme Court of Nigeria or the person for the time being appointed to exercise the functions of that office:[42]\\\\nI do solemnly swear/affirm that I will be faithful and bear true allegiance to the Federal Republic of Nigeria; that as President of the Federal Republic of Nigeria, I will discharge my duties to the best of my ability, faithfully and in accordance with the Constitution of the Federal Republic of Nigeria and the law, and always in the interest of the sovereignty, integrity, solidarity, well-being and prosperity of the Federal Republic of Nigeria; that I will strive to preserve the Fundamental Objectives and Directive Principles of State Policy contained in the Constitution of the Federal Republic of Nigeria; that I will not allow my personal interest to influence my official conduct or my official decisions; that I will to the best of my ability preserve, protect and defend the Constitution of the Federal Republic of Nigeria; that I will abide by the Code of Conduct contained in the Fifth Schedule to the Constitution of the Federal Republic of Nigeria; that in all circumstances, I will do right to all manner of people, according to law, without fear or favour, affection or ill-will; that I will not directly or indirectly communicate or reveal to any person any matter which shall be brought under my consideration or shall become known to me as President of the Federal Republic of Nigeria, except as may be required for the due discharge of my duties as President; and that I will devote myself to the service and well-being of the people of Nigeria. Yar\\'Adua died on 5 May 2010 at the presidential villa, in Abuja, Nigeria, becoming the second head of state to die there after General Sani Abacha.[18][19][20][21][22][23][24]\\\\nOn 6 May 2010, Vice President Goodluck Jonathan was sworn in as president of the Federal Republic of Nigeria and the 14th head of state.[25][26][27][28][29][30]\\\\nOn 29 May 2015, Muhammadu Buhari, a former military head of state was sworn in as president of the Federal Republic of Nigeria and the 15th head of state after winning the general election.[31][32][33][34][35][36] Eligibility[edit]\\\\nChapter VI, Part I, Section 131 of the constitution states that a person may be qualified for election of the office of the president if:[39]\\\\nA person who meets the above qualifications is still disqualified from holding the office of the president if:\\\\nTerm limits[edit]\\\\nThere is a four year tenure with a two-term limit for the president in the Constitution of Nigeria. Contents\\\\nPresident of Nigeria\\\\nThe president of the Federal Republic of Nigeria is the head of state and head of government of the Federal Republic of Nigeria. The offices, powers, and titles of the head of state and the head of government were officially merged into the office of the presidency under the 1979 Constitution of Nigeria.\\\\n\"}, {\\'url\\': \\'https://www.cnn.com/2023/05/29/africa/bola-tinubu-inauguration-nigeria-intl/index.html\\', \\'content\\': \\'Yet, we have shouldered the heavy burden to arrive at this sublime moment where the prospect of a better future merges with our improved capacity to create that future,” said Tinubu, who becomes the sixteenth president of Nigeria.\\\\n “The key to solving most of the major issues in Nigeria today… rest on him being able to kickstart Nigeria’s economy and improve the finances of the Nigerian state. The hopes and aspirations of millions rest on his shoulders, and the path to progress will be arduous as Nigerians await the transformative leadership that Tinubu and other successive leaders have promised.\\\\n He won the elections with just 37 percent of the votes –\\\\nthe lowest of any elected Nigerian president since the handover from military to democratic rule in 1999.\\\\n Nigeria has debts of around $103 billion and faces unprecedented levels of inflation, high unemployment and a heavy reliance on dwindling oil revenues, which has led to an exodus of mostly young Nigerians in a brain drain crisis known locally as “japa,” or escape.\\\\n\\'}]', name='tavily_search_results_json'), AIMessage(content='', additional_kwargs={'tool_calls': [{'id': 'call_vkbpgrl9yarbwjchxjop3m97', 'function': {'arguments': '{\"query\":\"current president of Nigeria\"}', 'name': 'tavily_search_results_json'}, 'type': 'function'}]}), FunctionMessage(content='[{\\'url\\': \\'https://en.wikipedia.org/wiki/President_of_Nigeria\\', \\'content\\': \"The oath is administered by the chief justice of the Supreme Court of Nigeria or the person for the time being appointed to exercise the functions of that office:[42]\\\\nI do solemnly swear/affirm that I will be faithful and bear true allegiance to the Federal Republic of Nigeria; that as President of the Federal Republic of Nigeria, I will discharge my duties to the best of my ability, faithfully and in accordance with the Constitution of the Federal Republic of Nigeria and the law, and always in the interest of the sovereignty, integrity, solidarity, well-being and prosperity of the Federal Republic of Nigeria; that I will strive to preserve the Fundamental Objectives and Directive Principles of State Policy contained in the Constitution of the Federal Republic of Nigeria; that I will not allow my personal interest to influence my official conduct or my official decisions; that I will to the best of my ability preserve, protect and defend the Constitution of the Federal Republic of Nigeria; that I will abide by the Code of Conduct contained in the Fifth Schedule to the Constitution of the Federal Republic of Nigeria; that in all circumstances, I will do right to all manner of people, according to law, without fear or favour, affection or ill-will; that I will not directly or indirectly communicate or reveal to any person any matter which shall be brought under my consideration or shall become known to me as President of the Federal Republic of Nigeria, except as may be required for the due discharge of my duties as President; and that I will devote myself to the service and well-being of the people of Nigeria. Yar\\'Adua died on 5 May 2010 at the presidential villa, in Abuja, Nigeria, becoming the second head of state to die there after General Sani Abacha.[18][19][20][21][22][23][24]\\\\nOn 6 May 2010, Vice President Goodluck Jonathan was sworn in as president of the Federal Republic of Nigeria and the 14th head of state.[25][26][27][28][29][30]\\\\nOn 29 May 2015, Muhammadu Buhari, a former military head of state was sworn in as president of the Federal Republic of Nigeria and the 15th head of state after winning the general election.[31][32][33][34][35][36] Eligibility[edit]\\\\nChapter VI, Part I, Section 131 of the constitution states that a person may be qualified for election of the office of the president if:[39]\\\\nA person who meets the above qualifications is still disqualified from holding the office of the president if:\\\\nTerm limits[edit]\\\\nThere is a four year tenure with a two-term limit for the president in the Constitution of Nigeria. Contents\\\\nPresident of Nigeria\\\\nThe president of the Federal Republic of Nigeria is the head of state and head of government of the Federal Republic of Nigeria. The offices, powers, and titles of the head of state and the head of government were officially merged into the office of the presidency under the 1979 Constitution of Nigeria.\\\\n\"}, {\\'url\\': \\'https://www.cnn.com/2023/05/29/africa/bola-tinubu-inauguration-nigeria-intl/index.html\\', \\'content\\': \\'Yet, we have shouldered the heavy burden to arrive at this sublime moment where the prospect of a better future merges with our improved capacity to create that future,” said Tinubu, who becomes the sixteenth president of Nigeria.\\\\n “The key to solving most of the major issues in Nigeria today… rest on him being able to kickstart Nigeria’s economy and improve the finances of the Nigerian state. The hopes and aspirations of millions rest on his shoulders, and the path to progress will be arduous as Nigerians await the transformative leadership that Tinubu and other successive leaders have promised.\\\\n He won the elections with just 37 percent of the votes –\\\\nthe lowest of any elected Nigerian president since the handover from military to democratic rule in 1999.\\\\n Nigeria has debts of around $103 billion and faces unprecedented levels of inflation, high unemployment and a heavy reliance on dwindling oil revenues, which has led to an exodus of mostly young Nigerians in a brain drain crisis known locally as “japa,” or escape.\\\\n\\'}, {\\'url\\': \\'https://www.nytimes.com/2023/03/01/world/africa/nigeria-president-election-tinubu.html\\', \\'content\\': \\'But more recently, many Nigerians have taken to calling Mr. Tinubu “Balablu” — a reference to a speech in which he tried and failed to say the word “hullabaloo” — and a shorthand to imply that he is too old and sometimes not coherent enough to take on the leadership of Africa’s largest economy and one of its most complex, diverse nations. While opposition parties dismissed the election as a “sham,” alleging widespread fraud and violence and vowing to challenge the outcome in court, many Nigerians were trying to come to terms with the prospect of four years under one of the country’s most contentious figures.\\\\n He will have to work hard to gain the trust of the southeast, and the mostly Christian members of the Igbo ethnic group who live there, said Mucahid Durmaz, a senior West Africa analyst at the risk intelligence company Verisk Maplecroft.\\\\n Widely perceived as corrupt, in poor health, and a stalwart of the old guard, Mr. Tinubu may struggle to unite a country with a huge population of young people — particularly those plugged into social media — who are increasingly trying to make themselves heard, and fighting against old ways of governing.\\\\n Bola Tinubu, a former state governor and one of the most powerful political kingmakers in Nigeria, was declared the West African nation’s next president by election officials in the capital at around 4 a.m., after the most closely fought contest in years.\\\\n\\'}]', name='tavily_search_results_json'), AIMessage(content='')]}\n",
      "----\n"
     ]
    }
   ],
   "source": [
    "from langchain_core.messages import HumanMessage\n",
    "\n",
    "inputs = {\"messages\": [HumanMessage(content=\"who is the current president of Nigeria?\")]}\n",
    "\n",
    "for output in app.stream(inputs):\n",
    "    for key, value in output.items():\n",
    "        print(f\"output from node {key}\")\n",
    "        print(\"----\")\n",
    "        print(f\"{value}\")\n",
    "    print(\"----\")"
   ]
  }
 ],
 "metadata": {
  "kernelspec": {
   "display_name": "venv",
   "language": "python",
   "name": "python3"
  },
  "language_info": {
   "codemirror_mode": {
    "name": "ipython",
    "version": 3
   },
   "file_extension": ".py",
   "mimetype": "text/x-python",
   "name": "python",
   "nbconvert_exporter": "python",
   "pygments_lexer": "ipython3",
   "version": "3.11.5"
  }
 },
 "nbformat": 4,
 "nbformat_minor": 2
}
