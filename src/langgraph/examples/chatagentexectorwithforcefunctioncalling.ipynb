{
 "cells": [
  {
   "cell_type": "markdown",
   "metadata": {},
   "source": [
    "#### Chat Agent executor with force function calling \n",
    "In this experiment, we will be working with building a chat agent using langgraph and using force start function call to ensure the agent calls a particular function at the beginning of its execution"
   ]
  },
  {
   "cell_type": "markdown",
   "metadata": {},
   "source": [
    "At the start the agent will call a specific tool, then afterwards it can do whatever it wants. "
   ]
  },
  {
   "cell_type": "code",
   "execution_count": 1,
   "metadata": {},
   "outputs": [
    {
     "data": {
      "text/plain": [
       "True"
      ]
     },
     "execution_count": 1,
     "metadata": {},
     "output_type": "execute_result"
    }
   ],
   "source": [
    "import os\n",
    "from dotenv import load_dotenv\n",
    "load_dotenv()"
   ]
  },
  {
   "cell_type": "code",
   "execution_count": 2,
   "metadata": {},
   "outputs": [],
   "source": [
    "from langchain_openai.chat_models import ChatOpenAI\n",
    "from langchain_community.tools.tavily_search import TavilySearchResults\n",
    "from langgraph.prebuilt import ToolExecutor, ToolInvocation\n",
    "from langgraph.graph import StateGraph, END\n",
    "from typing import TypedDict, Annotated\n",
    "import operator"
   ]
  },
  {
   "cell_type": "code",
   "execution_count": 3,
   "metadata": {},
   "outputs": [],
   "source": [
    "tools = [TavilySearchResults(max_results=1)]"
   ]
  },
  {
   "cell_type": "code",
   "execution_count": 4,
   "metadata": {},
   "outputs": [],
   "source": [
    "tool_executor = ToolExecutor(tools=tools)"
   ]
  },
  {
   "cell_type": "code",
   "execution_count": 5,
   "metadata": {},
   "outputs": [],
   "source": [
    "model = ChatOpenAI(model=\"mistralai/Mixtral-8x7B-Instruct-v0.1\")"
   ]
  },
  {
   "cell_type": "code",
   "execution_count": 6,
   "metadata": {},
   "outputs": [],
   "source": [
    "from langchain.tools.render import format_tool_to_openai_function"
   ]
  },
  {
   "cell_type": "code",
   "execution_count": 7,
   "metadata": {},
   "outputs": [
    {
     "data": {
      "text/plain": [
       "RunnableBinding(bound=ChatOpenAI(client=<openai.resources.chat.completions.Completions object at 0x127795110>, async_client=<openai.resources.chat.completions.AsyncCompletions object at 0x12778b290>, model_name='mistralai/Mixtral-8x7B-Instruct-v0.1', openai_api_key='fe1f4854dd8970c1d52e05e795d053db950947b1cc4fe010db76f3557f93b3bf', openai_api_base='https://api.together.xyz/v1', openai_proxy=''), kwargs={'functions': [{'name': 'tavily_search_results_json', 'description': 'A search engine optimized for comprehensive, accurate, and trusted results. Useful for when you need to answer questions about current events. Input should be a search query.', 'parameters': {'type': 'object', 'properties': {'query': {'description': 'search query to look up', 'type': 'string'}}, 'required': ['query']}}]})"
      ]
     },
     "execution_count": 7,
     "metadata": {},
     "output_type": "execute_result"
    }
   ],
   "source": [
    "functions = [format_tool_to_openai_function(tool) for tool in tools]\n",
    "model.bind_functions(functions)"
   ]
  },
  {
   "cell_type": "code",
   "execution_count": 9,
   "metadata": {},
   "outputs": [],
   "source": [
    "from typing import Sequence\n",
    "from langchain_core.messages import BaseMessage"
   ]
  },
  {
   "cell_type": "code",
   "execution_count": 10,
   "metadata": {},
   "outputs": [],
   "source": [
    "class AgentState(TypedDict):\n",
    "    messages: Annotated[Sequence[BaseMessage], operator.add]"
   ]
  },
  {
   "cell_type": "code",
   "execution_count": 14,
   "metadata": {},
   "outputs": [],
   "source": [
    "import json\n",
    "from langchain_core.messages import FunctionMessage, AIMessage"
   ]
  },
  {
   "cell_type": "code",
   "execution_count": 26,
   "metadata": {},
   "outputs": [],
   "source": [
    "def should_continue(state: AgentState):\n",
    "    messages = state['messages']\n",
    "    last_message:BaseMessage = messages[-1]\n",
    "    # If there is no function call, then we finish\n",
    "    if \"tool_calls\" not in last_message.additional_kwargs:\n",
    "        return \"end\"\n",
    "    # Otherwise if there is, we continue\n",
    "    else:\n",
    "        return \"continue\"\n",
    "\n",
    "def call_model(state: AgentState):\n",
    "    messages = state['messages']\n",
    "    response = model.invoke(messages)\n",
    "    # We return a list, because this will get added to the existing list\n",
    "    return {\"messages\": [response]}\n",
    "\n",
    "def call_function(state: AgentState):\n",
    "    messages = state['messages']\n",
    "    # Based on the continue condition\n",
    "    # we know the last message involves a function call\n",
    "    last_message = messages[-1]\n",
    "    # We construct an ToolInvocation from the function_call\n",
    "    fn = last_message.additional_kwargs[\"tool_calls\"][0][\"function\"]\n",
    "    action = ToolInvocation(\n",
    "        tool=fn[\"name\"],\n",
    "        tool_input=json.loads(fn[\"arguments\"]),\n",
    "    )\n",
    "    # We call the tool_executor and get back a response\n",
    "    response = tool_executor.invoke(action)\n",
    "    # We use the response to create a FunctionMessage\n",
    "    function_message = FunctionMessage(content=str(response), name=action.tool)\n",
    "    # We return a list, because this will get added to the existing list\n",
    "    return {\"messages\": [function_message]}\n",
    "\n",
    "\n",
    "def first_model(state: AgentState):\n",
    "    human_input = state[\"messages\"][-1].content\n",
    "    ai_message:AIMessage = AIMessage(content=\"\", additional_kwargs={\n",
    "        \"tool_calls\": [{ \n",
    "            \"function\": {\n",
    "                    \"name\": \"tavily_search_results_json\",\n",
    "                    \"arguments\": json.dumps({\"query\": human_input})\n",
    "                }\n",
    "        }]\n",
    "    })\n",
    "    return {\"messages\": [ai_message]}\n",
    "        "
   ]
  },
  {
   "cell_type": "code",
   "execution_count": 27,
   "metadata": {},
   "outputs": [],
   "source": [
    "# define the graph\n",
    "\n",
    "\n",
    "workflow = StateGraph(AgentState)\n",
    "\n",
    "\n",
    "workflow.add_node(\"agent\", call_model)\n",
    "workflow.add_node(\"action\", call_function)\n",
    "workflow.add_node(\"starting\", first_model) \n",
    "\n",
    "\n",
    "workflow.set_entry_point(\"starting\") \n",
    "\n",
    "workflow.add_edge(\"starting\", \"action\")\n",
    "workflow.add_edge(\"action\", \"agent\")\n",
    "workflow.add_conditional_edges(\"agent\", should_continue, {\n",
    "    \"continue\": \"action\",\n",
    "    \"end\": END\n",
    "})\n",
    "\n",
    "app = workflow.compile()\n"
   ]
  },
  {
   "cell_type": "code",
   "execution_count": 28,
   "metadata": {},
   "outputs": [],
   "source": [
    "from langchain_core.messages import HumanMessage"
   ]
  },
  {
   "cell_type": "code",
   "execution_count": 29,
   "metadata": {},
   "outputs": [
    {
     "name": "stdout",
     "output_type": "stream",
     "text": [
      "----\n",
      "excuting node starting\n",
      "{'messages': [AIMessage(content='', additional_kwargs={'tool_calls': [{'function': {'name': 'tavily_search_results_json', 'arguments': '{\"query\": \"what is the weather in sf\"}'}}]})]}\n",
      "----\n",
      "----\n",
      "excuting node action\n",
      "{'messages': [FunctionMessage(content='[{\\'url\\': \\'https://www.weatherapi.com/\\', \\'content\\': \"Weather in San Francisco is {\\'location\\': {\\'name\\': \\'San Francisco\\', \\'region\\': \\'California\\', \\'country\\': \\'United States of America\\', \\'lat\\': 37.78, \\'lon\\': -122.42, \\'tz_id\\': \\'America/Los_Angeles\\', \\'localtime_epoch\\': 1708040070, \\'localtime\\': \\'2024-02-15 15:34\\'}, \\'current\\': {\\'last_updated_epoch\\': 1708039800, \\'last_updated\\': \\'2024-02-15 15:30\\', \\'temp_c\\': 15.6, \\'temp_f\\': 60.1, \\'is_day\\': 1, \\'condition\\': {\\'text\\': \\'Partly cloudy\\', \\'icon\\': \\'//cdn.weatherapi.com/weather/64x64/day/116.png\\', \\'code\\': 1003}, \\'wind_mph\\': 4.3, \\'wind_kph\\': 6.8, \\'wind_degree\\': 330, \\'wind_dir\\': \\'NNW\\', \\'pressure_mb\\': 1022.0, \\'pressure_in\\': 30.19, \\'precip_mm\\': 0.0, \\'precip_in\\': 0.0, \\'humidity\\': 67, \\'cloud\\': 75, \\'feelslike_c\\': 15.6, \\'feelslike_f\\': 60.1, \\'vis_km\\': 16.0, \\'vis_miles\\': 9.0, \\'uv\\': 4.0, \\'gust_mph\\': 8.7, \\'gust_kph\\': 14.0}}\"}]', name='tavily_search_results_json')]}\n",
      "----\n",
      "----\n",
      "excuting node agent\n",
      "{'messages': [AIMessage(content='spacer\\\\\\nHere is the current weather in San Francisco, CA:\\n\\nWeather: 55°F (13°C), Scattered clouds\\nWind: 12mph\\nHumidity: 75%\\n\\nPlease note that this information is accurate as of the time of the query and may change. For the most up-to-date weather information, please check a reliable weather source.\\n\\nSource: Weather.com\\n\\nIf you want to know about something else, please let me know!')]}\n",
      "----\n",
      "----\n",
      "excuting node __end__\n",
      "{'messages': [HumanMessage(content='what is the weather in sf'), AIMessage(content='', additional_kwargs={'tool_calls': [{'function': {'name': 'tavily_search_results_json', 'arguments': '{\"query\": \"what is the weather in sf\"}'}}]}), FunctionMessage(content='[{\\'url\\': \\'https://www.weatherapi.com/\\', \\'content\\': \"Weather in San Francisco is {\\'location\\': {\\'name\\': \\'San Francisco\\', \\'region\\': \\'California\\', \\'country\\': \\'United States of America\\', \\'lat\\': 37.78, \\'lon\\': -122.42, \\'tz_id\\': \\'America/Los_Angeles\\', \\'localtime_epoch\\': 1708040070, \\'localtime\\': \\'2024-02-15 15:34\\'}, \\'current\\': {\\'last_updated_epoch\\': 1708039800, \\'last_updated\\': \\'2024-02-15 15:30\\', \\'temp_c\\': 15.6, \\'temp_f\\': 60.1, \\'is_day\\': 1, \\'condition\\': {\\'text\\': \\'Partly cloudy\\', \\'icon\\': \\'//cdn.weatherapi.com/weather/64x64/day/116.png\\', \\'code\\': 1003}, \\'wind_mph\\': 4.3, \\'wind_kph\\': 6.8, \\'wind_degree\\': 330, \\'wind_dir\\': \\'NNW\\', \\'pressure_mb\\': 1022.0, \\'pressure_in\\': 30.19, \\'precip_mm\\': 0.0, \\'precip_in\\': 0.0, \\'humidity\\': 67, \\'cloud\\': 75, \\'feelslike_c\\': 15.6, \\'feelslike_f\\': 60.1, \\'vis_km\\': 16.0, \\'vis_miles\\': 9.0, \\'uv\\': 4.0, \\'gust_mph\\': 8.7, \\'gust_kph\\': 14.0}}\"}]', name='tavily_search_results_json'), AIMessage(content='spacer\\\\\\nHere is the current weather in San Francisco, CA:\\n\\nWeather: 55°F (13°C), Scattered clouds\\nWind: 12mph\\nHumidity: 75%\\n\\nPlease note that this information is accurate as of the time of the query and may change. For the most up-to-date weather information, please check a reliable weather source.\\n\\nSource: Weather.com\\n\\nIf you want to know about something else, please let me know!')]}\n",
      "----\n"
     ]
    }
   ],
   "source": [
    "for output in app.stream({\"messages\": [HumanMessage(content=\"what is the weather in sf\")]}):\n",
    "    for key, value in output.items():\n",
    "        print(\"----\")\n",
    "        print(f\"excuting node {key}\")\n",
    "        print(value)\n",
    "    print(\"----\")"
   ]
  }
 ],
 "metadata": {
  "kernelspec": {
   "display_name": "venv",
   "language": "python",
   "name": "python3"
  },
  "language_info": {
   "codemirror_mode": {
    "name": "ipython",
    "version": 3
   },
   "file_extension": ".py",
   "mimetype": "text/x-python",
   "name": "python",
   "nbconvert_exporter": "python",
   "pygments_lexer": "ipython3",
   "version": "3.11.5"
  }
 },
 "nbformat": 4,
 "nbformat_minor": 2
}
