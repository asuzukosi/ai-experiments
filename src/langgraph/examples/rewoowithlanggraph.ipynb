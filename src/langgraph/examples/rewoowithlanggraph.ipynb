{
 "cells": [
  {
   "cell_type": "markdown",
   "metadata": {},
   "source": [
    "#### Reasoning without Observation\n",
    "\n",
    "ReWOO proposes an agent that combines a multi-step planner and variable substitution for effective tool use. It was designed to improve the ReACT-style agent architecture in the following ways:\n",
    "- Reduce token consumption and execution time by generating the full chain of tools used in a single pass.\n",
    "- Simplify the fine-tuning process. Since the planning doesn't depend on the outputs of the tool, models can be fine-tuned without actually involving the tools(in theory).\n",
    "\n",
    "ReWOO is made of 3 modules:\n",
    "1. Planner: GEnrate the plan in the format of: plan / reason, tool\n",
    "2. Worker: execute the tool with the provided arguments\n",
    "3. Solver: generates the answer for the initial task based on the tool observations.\n"
   ]
  },
  {
   "cell_type": "code",
   "execution_count": 1,
   "metadata": {},
   "outputs": [
    {
     "data": {
      "text/plain": [
       "True"
      ]
     },
     "execution_count": 1,
     "metadata": {},
     "output_type": "execute_result"
    }
   ],
   "source": [
    "import os\n",
    "from dotenv import load_dotenv\n",
    "\n",
    "load_dotenv()"
   ]
  },
  {
   "cell_type": "code",
   "execution_count": 2,
   "metadata": {},
   "outputs": [],
   "source": [
    "from typing import TypedDict, List\n",
    "\n",
    "\n",
    "class ReWOO(TypedDict):\n",
    "    task: str\n",
    "    plan_string: str\n",
    "    steps: List\n",
    "    results: dict\n",
    "    result: str"
   ]
  },
  {
   "cell_type": "markdown",
   "metadata": {},
   "source": [
    "##### Planner\n",
    "The planner prompts an LLM to generate a plan in the form of a task list. The arguments to each task are strings that may contain special variables that are used for variable substitution from other task results.\n"
   ]
  },
  {
   "cell_type": "code",
   "execution_count": 3,
   "metadata": {},
   "outputs": [],
   "source": [
    "from langchain_openai import ChatOpenAI\n",
    "\n",
    "model = ChatOpenAI(model = \"mistralai/Mixtral-8x7B-Instruct-v0.1\")"
   ]
  },
  {
   "cell_type": "code",
   "execution_count": 4,
   "metadata": {},
   "outputs": [],
   "source": [
    "prompt = \"\"\"\n",
    "For the following task, make plans that can solve the problem step by step. For each plan, indicate \\\n",
    "which external tool together with tool input to retrieve evidence. You can store the evidence into a \\\n",
    "variable #E that can be called by later tools. (Plan, #E1, Plan, #E2, Plan, ...)\n",
    "\n",
    "Tools can be one of the following:\n",
    "(1) Google[input]: Worker that searches results from Google. Useful when you need to find short\n",
    "and succinct answers about a specific topic. The input should be a search query.\n",
    "(2) LLM[input]: A pretrained LLM like yourself. Useful when you need to act with general\n",
    "world knowledge and common sense. Prioritize it when you are confident in solving the problem\n",
    "yourself. Input can be any instruction.\n",
    "\n",
    "For example,\n",
    "Task: Thomas, Toby, and Rebecca worked a total of 157 hours in one week. Thomas worked x\n",
    "hours. Toby worked 10 hours less than twice what Thomas worked, and Rebecca worked 8 hours\n",
    "less than Toby. How many hours did Rebecca work?\n",
    "Plan: Given Thomas worked x hours, translate the problem into algebraic expressions and solve\n",
    "with Wolfram Alpha. #E1 = WolframAlpha[Solve x + (2x − 10) + ((2x − 10) − 8) = 157]\n",
    "Plan: Find out the number of hours Thomas worked. #E2 = LLM[What is x, given #E1]\n",
    "Plan: Calculate the number of hours Rebecca worked. #E3 = Calculator[(2 ∗ #E2 − 10) − 8]\n",
    "\n",
    "Begin! \n",
    "Describe your plans with rich details. Each Plan should be followed by only one #E.\n",
    "\n",
    "Task: {task}\n",
    "\"\"\""
   ]
  },
  {
   "cell_type": "code",
   "execution_count": 7,
   "metadata": {},
   "outputs": [],
   "source": [
    "task = \"What is the hometown of the 2024 australian open winner\"\n",
    "result = model.invoke(prompt.format(task=task))"
   ]
  },
  {
   "cell_type": "code",
   "execution_count": 8,
   "metadata": {},
   "outputs": [
    {
     "name": "stdout",
     "output_type": "stream",
     "text": [
      " Plan: Use Google to find out who the winner of the 2024 Australian Open is. #E1 = Google[2024 Australian Open winner]\n",
      "Plan: Utilize LLM to extract the name of the winner from the Google search results. #E2 = LLM[Who won the 2024 Australian Open, given #E1?]\n",
      "Plan: Perform another Google search to find the hometown of the identified tennis player. #E3 = Google[Hometown of #E2]\n",
      "Plan: Lastly, use LLM to determine the hometown of the 2024 Australian Open winner from the Google search results. #E4 = LLM[What is the hometown of #E2, given #E3?]\n"
     ]
    }
   ],
   "source": [
    "print(result.content)"
   ]
  },
  {
   "cell_type": "markdown",
   "metadata": {},
   "source": [
    "##### Planner Node\n",
    "To connect the planner to our graph, we will creat a `get_plan` node that accepts the `ReWOO` state and returns with a state update for the `steps` and `plan_string` fields."
   ]
  },
  {
   "cell_type": "code",
   "execution_count": 17,
   "metadata": {},
   "outputs": [],
   "source": [
    "import re\n",
    "from langchain_core.prompts import ChatPromptTemplate\n",
    "\n",
    "regex_pattern = r\"Plan:\\s*(.+)\\s*(#E\\d+)\\s*=\\s*(\\w+)\\s*\\[([^\\]]+)\\]\"\n",
    "prompt_template = ChatPromptTemplate.from_messages([(\"user\", prompt)])\n",
    "planner = prompt_template | model\n",
    "\n",
    "def get_plan(state: ReWOO):\n",
    "    task = state[\"task\"]\n",
    "    result = planner.invoke({\"task\": task})\n",
    "    matches = re.findall(regex_pattern, result.content)\n",
    "    return {\"steps\": matches, \"plan_string\": result.content}"
   ]
  },
  {
   "cell_type": "markdown",
   "metadata": {},
   "source": [
    "##### Executor \n",
    "The executor receives the plan and executes the tools in sequence. \n",
    "Below, initiate the search engine and define the tool execution node."
   ]
  },
  {
   "cell_type": "code",
   "execution_count": 18,
   "metadata": {},
   "outputs": [],
   "source": [
    "from langchain_community.tools.tavily_search import TavilySearchResults\n",
    "search = TavilySearchResults(max_results=1)"
   ]
  },
  {
   "cell_type": "code",
   "execution_count": 19,
   "metadata": {},
   "outputs": [],
   "source": [
    "def _get_current_task(state: ReWOO):\n",
    "    if state[\"results\"] is None:\n",
    "        return 1\n",
    "    if len(state[\"results\"]) == len(state[\"steps\"]):\n",
    "        return None\n",
    "    else:\n",
    "        return len(state[\"results\"]) + 1\n",
    "    \n",
    "    \n",
    "def tool_execution(state: ReWOO):\n",
    "    \"\"\"\n",
    "    Worker node that executes the tools of a given plan\n",
    "    \"\"\"\n",
    "    _step = _get_current_task(state)\n",
    "    _, step_name, tool, tool_input = state[\"steps\"][_step - 1]\n",
    "    _results = state[\"results\"] or {}\n",
    "    for k, v in _results.items():\n",
    "        tool_input = tool_input.replace(k, v)\n",
    "        \n",
    "    if tool == \"Google\":\n",
    "        result = search.invoke(tool_input)\n",
    "    elif tool == \"LLM\":\n",
    "        result = model.invoke(tool_input)\n",
    "    \n",
    "    else:\n",
    "        raise ValueError\n",
    "    _results[step_name] = str(result)\n",
    "    return {\n",
    "        \"results\": _results\n",
    "    }"
   ]
  },
  {
   "cell_type": "markdown",
   "metadata": {},
   "source": [
    "##### Solver\n",
    "The solver receives the full plan and generates the final response based on the responses of the tool calls from the worker"
   ]
  },
  {
   "cell_type": "code",
   "execution_count": 20,
   "metadata": {},
   "outputs": [],
   "source": [
    "solver_prompt = \"\"\"Solve the following task or problem. To solve the problem, we have made step-by-step Plan and \\\n",
    "retrieved corresponding Evidence to each Plan. Use them with caution since long evidence might \\\n",
    "contain irrelevant information.\n",
    "\n",
    "{plan}\n",
    "\n",
    "Now solve the question or task according to provided Evidence above. Respond with the answer\n",
    "directly with no extra words.\n",
    "\n",
    "Task: {task}\n",
    "Response:\"\"\"\n",
    "\n",
    "def solve(state: ReWOO):\n",
    "    plan = \"\"\n",
    "    for _plan, step_name, tool, tool_input in state[\"steps\"]:\n",
    "        _results = state[\"results\"] or {}\n",
    "        for k, v in _results.items():\n",
    "            tool_input = tool_input.replace(k, v)\n",
    "        plan += f\"Plan: {_plan} \\n {step_name} = {tool}[{tool_input}]\"\n",
    "    prompt = solver_prompt.format(plan=plan, task=state[\"task\"])\n",
    "    result = model.invoke(prompt)\n",
    "    return {\"result\": result.content}"
   ]
  },
  {
   "cell_type": "markdown",
   "metadata": {},
   "source": [
    "##### Define Graph\n",
    "Our graph defines the workflow. Each of the planner, tool executor, and solver modules are added as nodes."
   ]
  },
  {
   "cell_type": "code",
   "execution_count": 21,
   "metadata": {},
   "outputs": [],
   "source": [
    "def _route(state: ReWOO):\n",
    "    _step = _get_current_task(state)\n",
    "    if _step is None:\n",
    "        return \"solve\"\n",
    "    else:\n",
    "        return \"tool\""
   ]
  },
  {
   "cell_type": "code",
   "execution_count": 22,
   "metadata": {},
   "outputs": [],
   "source": [
    "from langgraph.graph import StateGraph, END\n",
    "\n",
    "graph = StateGraph(ReWOO)\n",
    "graph.add_node(\"plan\", get_plan)\n",
    "graph.add_node(\"tool\", tool_execution)\n",
    "graph.add_node(\"solve\", solve)\n",
    "\n",
    "graph.add_edge(\"plan\", \"tool\")\n",
    "graph.add_edge(\"solve\", END)\n",
    "\n",
    "graph.add_conditional_edges(\"tool\", _route)\n",
    "graph.set_entry_point(\"plan\")\n",
    "\n",
    "app = graph.compile()"
   ]
  },
  {
   "cell_type": "code",
   "execution_count": 23,
   "metadata": {},
   "outputs": [
    {
     "name": "stdout",
     "output_type": "stream",
     "text": [
      "{'plan': {'steps': [('Use Google to find out who the 2024 Australian Open winner is, since the winner is not known yet. ', '#E1', 'Google', '2024 Australian Open winner'), ('Once the winner is identified, use Google again to find out the hometown of the winner. ', '#E2', 'Google', 'Hometown of #E1')], 'plan_string': ' Plan: Use Google to find out who the 2024 Australian Open winner is, since the winner is not known yet. #E1 = Google[2024 Australian Open winner]\\nPlan: Once the winner is identified, use Google again to find out the hometown of the winner. #E2 = Google[Hometown of #E1]\\n\\nFollowing these steps, you will first determine the winner of the 2024 Australian Open and then find out their hometown using Google searches.'}}\n",
      "---\n",
      "{'tool': {'results': {'#E1': \"[{'url': 'https://www.reuters.com/sports/tennis/sinner-savours-rotterdam-success-after-australian-open-high-2024-02-19/', 'content': 'Sinner, who lifted his first major at Melbourne Park by defeating Daniil Medvedev in the final, stretched his winning run in 2024 to 12 matches with a 7-5 6-4 victory over Alex de Minaur in the ...'}]\"}}}\n",
      "---\n",
      "{'tool': {'results': {'#E1': \"[{'url': 'https://www.reuters.com/sports/tennis/sinner-savours-rotterdam-success-after-australian-open-high-2024-02-19/', 'content': 'Sinner, who lifted his first major at Melbourne Park by defeating Daniil Medvedev in the final, stretched his winning run in 2024 to 12 matches with a 7-5 6-4 victory over Alex de Minaur in the ...'}]\", '#E2': \"[{'url': 'https://www.theguardian.com/sport/2024/feb/18/alex-de-minaur-climbs-to-career-high-ranking-ahead-of-rotterdam-final-against-jannik-sinner', 'content': 'Sign up to Australia Sport\\\\nGet a daily roundup of the latest sports news, features and comment from our Australian sports desk\\\\nafter newsletter promotion\\\\nThe Sydneysider puts his improved form down to a stronger mentality that’s beginning to harden him in matches against the very best players, a steely streak that the last Aussie to win in Rotterdam 20 years ago, Lleyton Hewitt, also had.\\\\n Even saying that, I always know that Grigor is going to lift his level and compete until the end, and I had to fight off some pretty tough break points, when I came up with some of my best tennis.”\\\\nDe Minaur crashed 14 winners and made just four unforced errors in his impressive 84-minute march.\\\\n Alex de Minaur climbs to career-high ranking ahead of Rotterdam final against Jannik Sinner\\\\nAlex de Minaur has booked a place in the final of the Rotterdam Open with an emphatic revenge win over Grigor Dimitrov, earning the perfect 25th birthday present.\\\\n It’s no coincidence that de Minaur has been working so closely of late with his Davis Cup captain Hewitt, and he explained after the Dimitrov win: “This is my standard now, this is what I’ve got to bring every single time I walk on the court.\\\\n I’ve felt positive, I’ve been calm and collected throughout whole matches, and I think that’s been a big key for me,” added de Minaur, who is also competing in his first tournament since the Australian Open.\\\\n'}]\"}}}\n",
      "---\n",
      "{'solve': {'result': ' Based on the evidence provided, I cannot directly give you the hometown of the 2024 Australian Open winner. The first piece of evidence (#E1) suggests that Jannik Sinner won the 2024 Australian Open. However, the second piece of evidence (#E2) contains a Google search query to find the hometown of the winner, but it does not actually provide the hometown itself. To answer this question, you would need to perform the suggested Google search and look for the information in the search results.'}}\n",
      "---\n",
      "{'__end__': {'task': 'What is the hometown of the 2024 australian open winner', 'plan_string': ' Plan: Use Google to find out who the 2024 Australian Open winner is, since the winner is not known yet. #E1 = Google[2024 Australian Open winner]\\nPlan: Once the winner is identified, use Google again to find out the hometown of the winner. #E2 = Google[Hometown of #E1]\\n\\nFollowing these steps, you will first determine the winner of the 2024 Australian Open and then find out their hometown using Google searches.', 'steps': [('Use Google to find out who the 2024 Australian Open winner is, since the winner is not known yet. ', '#E1', 'Google', '2024 Australian Open winner'), ('Once the winner is identified, use Google again to find out the hometown of the winner. ', '#E2', 'Google', 'Hometown of #E1')], 'results': {'#E1': \"[{'url': 'https://www.reuters.com/sports/tennis/sinner-savours-rotterdam-success-after-australian-open-high-2024-02-19/', 'content': 'Sinner, who lifted his first major at Melbourne Park by defeating Daniil Medvedev in the final, stretched his winning run in 2024 to 12 matches with a 7-5 6-4 victory over Alex de Minaur in the ...'}]\", '#E2': \"[{'url': 'https://www.theguardian.com/sport/2024/feb/18/alex-de-minaur-climbs-to-career-high-ranking-ahead-of-rotterdam-final-against-jannik-sinner', 'content': 'Sign up to Australia Sport\\\\nGet a daily roundup of the latest sports news, features and comment from our Australian sports desk\\\\nafter newsletter promotion\\\\nThe Sydneysider puts his improved form down to a stronger mentality that’s beginning to harden him in matches against the very best players, a steely streak that the last Aussie to win in Rotterdam 20 years ago, Lleyton Hewitt, also had.\\\\n Even saying that, I always know that Grigor is going to lift his level and compete until the end, and I had to fight off some pretty tough break points, when I came up with some of my best tennis.”\\\\nDe Minaur crashed 14 winners and made just four unforced errors in his impressive 84-minute march.\\\\n Alex de Minaur climbs to career-high ranking ahead of Rotterdam final against Jannik Sinner\\\\nAlex de Minaur has booked a place in the final of the Rotterdam Open with an emphatic revenge win over Grigor Dimitrov, earning the perfect 25th birthday present.\\\\n It’s no coincidence that de Minaur has been working so closely of late with his Davis Cup captain Hewitt, and he explained after the Dimitrov win: “This is my standard now, this is what I’ve got to bring every single time I walk on the court.\\\\n I’ve felt positive, I’ve been calm and collected throughout whole matches, and I think that’s been a big key for me,” added de Minaur, who is also competing in his first tournament since the Australian Open.\\\\n'}]\"}, 'result': ' Based on the evidence provided, I cannot directly give you the hometown of the 2024 Australian Open winner. The first piece of evidence (#E1) suggests that Jannik Sinner won the 2024 Australian Open. However, the second piece of evidence (#E2) contains a Google search query to find the hometown of the winner, but it does not actually provide the hometown itself. To answer this question, you would need to perform the suggested Google search and look for the information in the search results.'}}\n",
      "---\n"
     ]
    }
   ],
   "source": [
    "for s in app.stream({\"task\" : task}):\n",
    "    print(s)\n",
    "    print(\"---\")"
   ]
  }
 ],
 "metadata": {
  "kernelspec": {
   "display_name": "venv",
   "language": "python",
   "name": "python3"
  },
  "language_info": {
   "codemirror_mode": {
    "name": "ipython",
    "version": 3
   },
   "file_extension": ".py",
   "mimetype": "text/x-python",
   "name": "python",
   "nbconvert_exporter": "python",
   "pygments_lexer": "ipython3",
   "version": "3.11.5"
  }
 },
 "nbformat": 4,
 "nbformat_minor": 2
}
