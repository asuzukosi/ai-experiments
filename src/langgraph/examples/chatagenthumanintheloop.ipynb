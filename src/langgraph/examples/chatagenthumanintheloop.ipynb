{
 "cells": [
  {
   "cell_type": "markdown",
   "metadata": {},
   "source": [
    "### Building an agent executor with human in the loop\n",
    "In this example, we will be building a chat exector that has a human in the loop. We will use the human to approve specific actions. This is similar to the work we did during my research project"
   ]
  },
  {
   "cell_type": "code",
   "execution_count": 1,
   "metadata": {},
   "outputs": [],
   "source": [
    "import os\n",
    "from dotenv import load_dotenv\n",
    "from langchain.tools.render import format_tool_to_openai_function\n",
    "from langchain_core.messages import BaseMessage, AIMessage, FunctionMessage, HumanMessage\n",
    "from langgraph.prebuilt import ToolExecutor, ToolInvocation \n",
    "from langchain_openai.chat_models import ChatOpenAI\n",
    "from langchain_community.tools.tavily_search import TavilySearchResults\n",
    "from langgraph.graph import StateGraph, END"
   ]
  },
  {
   "cell_type": "code",
   "execution_count": 2,
   "metadata": {},
   "outputs": [
    {
     "data": {
      "text/plain": [
       "True"
      ]
     },
     "execution_count": 2,
     "metadata": {},
     "output_type": "execute_result"
    }
   ],
   "source": [
    "load_dotenv()"
   ]
  },
  {
   "cell_type": "code",
   "execution_count": 3,
   "metadata": {},
   "outputs": [],
   "source": [
    "tools = [TavilySearchResults(max_results=2)]\n",
    "tool_executor = ToolExecutor(tools)\n",
    "functions = [ format_tool_to_openai_function(tool) for tool in tools]"
   ]
  },
  {
   "cell_type": "code",
   "execution_count": 4,
   "metadata": {},
   "outputs": [],
   "source": [
    "model = ChatOpenAI(model=\"mistralai/Mixtral-8x7B-Instruct-v0.1\")\n",
    "model = model.bind_functions(functions)"
   ]
  },
  {
   "cell_type": "code",
   "execution_count": 5,
   "metadata": {},
   "outputs": [],
   "source": [
    "from typing import Sequence, Annotated, TypedDict\n",
    "import operator"
   ]
  },
  {
   "cell_type": "code",
   "execution_count": 6,
   "metadata": {},
   "outputs": [],
   "source": [
    "class AgentState(TypedDict):\n",
    "    messages: Annotated[Sequence[BaseMessage], operator.add]\n",
    "    approved: Annotated[str, operator.setitem] = False"
   ]
  },
  {
   "cell_type": "code",
   "execution_count": 7,
   "metadata": {},
   "outputs": [],
   "source": [
    "import json"
   ]
  },
  {
   "cell_type": "code",
   "execution_count": 12,
   "metadata": {},
   "outputs": [],
   "source": [
    "def call_model(state: AgentState):\n",
    "    messages = state['messages']\n",
    "    response = model.invoke(messages)\n",
    "    # We return a list, because this will get added to the existing list\n",
    "    return {\"messages\": [response]}\n",
    "\n",
    "def call_tool(state: AgentState):\n",
    "    messages = state['messages']\n",
    "    # Based on the continue condition\n",
    "    # we know the last message involves a function call\n",
    "    last_message = messages[-1]\n",
    "    # We construct an ToolInvocation from the function_call\n",
    "    fn = last_message.additional_kwargs[\"tool_calls\"][0][\"function\"]\n",
    "    action = ToolInvocation(\n",
    "        tool=fn[\"name\"],\n",
    "        tool_input=json.loads(fn[\"arguments\"]),\n",
    "    )\n",
    "    # We call the tool_executor and get back a response\n",
    "    response = tool_executor.invoke(action)\n",
    "    # We use the response to create a FunctionMessage\n",
    "    function_message = FunctionMessage(content=str(response), name=action.tool)\n",
    "    # We return a list, because this will get added to the existing list\n",
    "    return {\"messages\": [function_message]}\n",
    "\n",
    "def call_human(state: AgentState):\n",
    "    messages = state['messages']\n",
    "    # Based on the continue condition\n",
    "    # we know the last message involves a function call\n",
    "    last_message = messages[-1]\n",
    "    \n",
    "    fn = last_message.additional_kwargs[\"tool_calls\"][0][\"function\"]\n",
    "    print(\"The agent would like to call tool : \", fn[\"name\"])\n",
    "    print(\"With arguments : \", fn[\"arguments\"])\n",
    "    \n",
    "    response = input(\"would you like to approve this operation y or n\")\n",
    "    \n",
    "    if response == \"y\":\n",
    "        return {\"approved\": True}\n",
    "    \n",
    "    elif response == \"n\":\n",
    "        return {\"approved\": False}\n",
    "    \n",
    "    else:\n",
    "        raise ValueError(\"Invalid approval message sent by human\")\n",
    "    \n",
    "    \n",
    "def handle_approval(state: AgentState):\n",
    "    if state[\"approved\"]:\n",
    "        return \"continue\"\n",
    "    else:\n",
    "        return \"reject\"\n",
    "    \n",
    "def reject_action(state: AgentState):\n",
    "    messages = state['messages']\n",
    "    # Based on the continue condition\n",
    "    # we know the last message involves a function call\n",
    "    last_message = messages[-1]\n",
    "    \n",
    "    fn = last_message.additional_kwargs[\"tool_calls\"][0][\"function\"]\n",
    "    \n",
    "    human_message = HumanMessage(content=f\"I would not like you to call tool {fn['name']} with arguments {fn['arguments']} generate a response with the information you currently have\")\n",
    "    \n",
    "    return {\"messages\": [human_message]}\n",
    "    \n",
    "\n",
    "def should_continue(state: AgentState):\n",
    "    messages = state['messages']\n",
    "    last_message = messages[-1]\n",
    "    # If there is no function call, then we finish\n",
    "    if \"tool_calls\" not in last_message.additional_kwargs:\n",
    "        return \"end\"\n",
    "    # Otherwise if there is, we continue\n",
    "    else:\n",
    "        return \"continue\""
   ]
  },
  {
   "cell_type": "code",
   "execution_count": 13,
   "metadata": {},
   "outputs": [],
   "source": [
    "workflow = StateGraph(AgentState)\n",
    "\n",
    "\n",
    "workflow.add_node(\"agent\", call_model)\n",
    "workflow.add_node(\"human\", call_human)\n",
    "workflow.add_node(\"reject\", reject_action)\n",
    "workflow.add_node(\"tool\", call_tool)\n",
    "\n",
    "\n",
    "workflow.add_edge(\"tool\", \"agent\")\n",
    "workflow.add_edge(\"reject\", \"agent\")\n",
    "\n",
    "workflow.add_conditional_edges(\"agent\", should_continue, {\n",
    "    \"end\": END,\n",
    "    \"continue\": \"human\"\n",
    "})\n",
    "\n",
    "workflow.add_conditional_edges(\"human\", handle_approval, {\n",
    "    \"continue\": \"tool\",\n",
    "    \"reject\": \"reject\"\n",
    "})\n",
    "\n",
    "workflow.set_entry_point(\"agent\")\n",
    "\n",
    "app = workflow.compile()"
   ]
  },
  {
   "cell_type": "code",
   "execution_count": 15,
   "metadata": {},
   "outputs": [],
   "source": [
    "from pprint import pprint"
   ]
  },
  {
   "cell_type": "code",
   "execution_count": 16,
   "metadata": {},
   "outputs": [
    {
     "name": "stdout",
     "output_type": "stream",
     "text": [
      "from node agent\n",
      "----\n",
      "(\"{'messages': [AIMessage(content='', additional_kwargs={'tool_calls': [{'id': \"\n",
      " \"'call_smq0dx0iouoke5d1qejym2kp', 'function': {'arguments': \"\n",
      " '\\'{\"query\":\"weather in Birmingham, UK\"}\\', \\'name\\': '\n",
      " \"'tavily_search_results_json'}, 'type': 'function'}]})]}\")\n",
      "----\n",
      "The agent would like to call tool :  tavily_search_results_json\n",
      "With arguments :  {\"query\":\"weather in Birmingham, UK\"}\n",
      "from node human\n",
      "----\n",
      "\"{'approved': True}\"\n",
      "----\n",
      "from node tool\n",
      "----\n",
      "(\"{'messages': [FunctionMessage(content='[{\\\\'url\\\\': \"\n",
      " '\\\\\\'https://www.weatherapi.com/\\\\\\', \\\\\\'content\\\\\\': \"Weather in '\n",
      " \"Birmingham, UK is {\\\\'location\\\\': {\\\\'name\\\\': \\\\'Birmingham\\\\', \"\n",
      " \"\\\\'region\\\\': \\\\'West Midlands\\\\', \\\\'country\\\\': \\\\'United Kingdom\\\\', \"\n",
      " \"\\\\'lat\\\\': 52.49, \\\\'lon\\\\': -1.86, \\\\'tz_id\\\\': \\\\'Europe/London\\\\', \"\n",
      " \"\\\\'localtime_epoch\\\\': 1708043019, \\\\'localtime\\\\': \\\\'2024-02-16 0:23\\\\'}, \"\n",
      " \"\\\\'current\\\\': {\\\\'last_updated_epoch\\\\': 1708042500, \\\\'last_updated\\\\': \"\n",
      " \"\\\\'2024-02-16 00:15\\\\', \\\\'temp_c\\\\': 12.0, \\\\'temp_f\\\\': 53.6, \"\n",
      " \"\\\\'is_day\\\\': 0, \\\\'condition\\\\': {\\\\'text\\\\': \\\\'Light rain\\\\', \\\\'icon\\\\': \"\n",
      " \"\\\\'//cdn.weatherapi.com/weather/64x64/night/296.png\\\\', \\\\'code\\\\': 1183}, \"\n",
      " \"\\\\'wind_mph\\\\': 6.9, \\\\'wind_kph\\\\': 11.2, \\\\'wind_degree\\\\': 280, \"\n",
      " \"\\\\'wind_dir\\\\': \\\\'W\\\\', \\\\'pressure_mb\\\\': 1006.0, \\\\'pressure_in\\\\': \"\n",
      " \"29.71, \\\\'precip_mm\\\\': 1.65, \\\\'precip_in\\\\': 0.07, \\\\'humidity\\\\': 94, \"\n",
      " \"\\\\'cloud\\\\': 75, \\\\'feelslike_c\\\\': 10.8, \\\\'feelslike_f\\\\': 51.4, \"\n",
      " \"\\\\'vis_km\\\\': 8.0, \\\\'vis_miles\\\\': 4.0, \\\\'uv\\\\': 1.0, \\\\'gust_mph\\\\': \"\n",
      " '10.5, \\\\\\'gust_kph\\\\\\': 16.8}}\"}, {\\\\\\'url\\\\\\': '\n",
      " \"\\\\'https://www.theweathernetwork.com/uk/weather/west-midlands/birmingham\\\\', \"\n",
      " \"\\\\'content\\\\': \\\\'Get the latest 7 day weather forecast for Birmingham, \"\n",
      " 'United Kingdom, including temperature, wind, humidity, visibility and more. '\n",
      " 'Watch videos about weather-related topics and trends from around the '\n",
      " \"world.\\\\'}]', name='tavily_search_results_json')]}\")\n",
      "----\n",
      "from node agent\n",
      "----\n",
      "\"{'messages': [AIMessage(content='')]}\"\n",
      "----\n",
      "from node __end__\n",
      "----\n",
      "(\"{'messages': [HumanMessage(content='What is the weather in birmingham, \"\n",
      " \"uk?'), AIMessage(content='', additional_kwargs={'tool_calls': [{'id': \"\n",
      " \"'call_smq0dx0iouoke5d1qejym2kp', 'function': {'arguments': \"\n",
      " '\\'{\"query\":\"weather in Birmingham, UK\"}\\', \\'name\\': '\n",
      " \"'tavily_search_results_json'}, 'type': 'function'}]}), \"\n",
      " \"FunctionMessage(content='[{\\\\'url\\\\': \\\\'https://www.weatherapi.com/\\\\', \"\n",
      " '\\\\\\'content\\\\\\': \"Weather in Birmingham, UK is {\\\\\\'location\\\\\\': '\n",
      " \"{\\\\'name\\\\': \\\\'Birmingham\\\\', \\\\'region\\\\': \\\\'West Midlands\\\\', \"\n",
      " \"\\\\'country\\\\': \\\\'United Kingdom\\\\', \\\\'lat\\\\': 52.49, \\\\'lon\\\\': -1.86, \"\n",
      " \"\\\\'tz_id\\\\': \\\\'Europe/London\\\\', \\\\'localtime_epoch\\\\': 1708043019, \"\n",
      " \"\\\\'localtime\\\\': \\\\'2024-02-16 0:23\\\\'}, \\\\'current\\\\': \"\n",
      " \"{\\\\'last_updated_epoch\\\\': 1708042500, \\\\'last_updated\\\\': \\\\'2024-02-16 \"\n",
      " \"00:15\\\\', \\\\'temp_c\\\\': 12.0, \\\\'temp_f\\\\': 53.6, \\\\'is_day\\\\': 0, \"\n",
      " \"\\\\'condition\\\\': {\\\\'text\\\\': \\\\'Light rain\\\\', \\\\'icon\\\\': \"\n",
      " \"\\\\'//cdn.weatherapi.com/weather/64x64/night/296.png\\\\', \\\\'code\\\\': 1183}, \"\n",
      " \"\\\\'wind_mph\\\\': 6.9, \\\\'wind_kph\\\\': 11.2, \\\\'wind_degree\\\\': 280, \"\n",
      " \"\\\\'wind_dir\\\\': \\\\'W\\\\', \\\\'pressure_mb\\\\': 1006.0, \\\\'pressure_in\\\\': \"\n",
      " \"29.71, \\\\'precip_mm\\\\': 1.65, \\\\'precip_in\\\\': 0.07, \\\\'humidity\\\\': 94, \"\n",
      " \"\\\\'cloud\\\\': 75, \\\\'feelslike_c\\\\': 10.8, \\\\'feelslike_f\\\\': 51.4, \"\n",
      " \"\\\\'vis_km\\\\': 8.0, \\\\'vis_miles\\\\': 4.0, \\\\'uv\\\\': 1.0, \\\\'gust_mph\\\\': \"\n",
      " '10.5, \\\\\\'gust_kph\\\\\\': 16.8}}\"}, {\\\\\\'url\\\\\\': '\n",
      " \"\\\\'https://www.theweathernetwork.com/uk/weather/west-midlands/birmingham\\\\', \"\n",
      " \"\\\\'content\\\\': \\\\'Get the latest 7 day weather forecast for Birmingham, \"\n",
      " 'United Kingdom, including temperature, wind, humidity, visibility and more. '\n",
      " 'Watch videos about weather-related topics and trends from around the '\n",
      " \"world.\\\\'}]', name='tavily_search_results_json'), AIMessage(content='')], \"\n",
      " \"'approved': True}\")\n",
      "----\n"
     ]
    }
   ],
   "source": [
    "inputs = {\"messages\": [HumanMessage(content=\"What is the weather in birmingham, uk?\",)]}\n",
    "\n",
    "\n",
    "for output in app.stream(inputs):\n",
    "    for key, value in output.items():\n",
    "        print(f\"from node {key}\")\n",
    "        print(\"----\")\n",
    "        pprint(f\"{value}\")\n",
    "    print(\"----\")"
   ]
  }
 ],
 "metadata": {
  "kernelspec": {
   "display_name": "venv",
   "language": "python",
   "name": "python3"
  },
  "language_info": {
   "codemirror_mode": {
    "name": "ipython",
    "version": 3
   },
   "file_extension": ".py",
   "mimetype": "text/x-python",
   "name": "python",
   "nbconvert_exporter": "python",
   "pygments_lexer": "ipython3",
   "version": "3.11.5"
  }
 },
 "nbformat": 4,
 "nbformat_minor": 2
}
