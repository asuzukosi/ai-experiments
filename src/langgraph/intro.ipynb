{
 "cells": [
  {
   "cell_type": "code",
   "execution_count": 1,
   "metadata": {},
   "outputs": [
    {
     "data": {
      "text/plain": [
       "True"
      ]
     },
     "execution_count": 1,
     "metadata": {},
     "output_type": "execute_result"
    }
   ],
   "source": [
    "from langchain_openai.chat_models import ChatOpenAI\n",
    "from langgraph.graph import StateGraph\n",
    "from langchain_core.prompts import ChatPromptTemplate\n",
    "from langchain.memory import ConversationBufferMemory\n",
    "from langchain_core.output_parsers import StrOutputParser\n",
    "from dotenv import load_dotenv\n",
    "\n",
    "load_dotenv()"
   ]
  },
  {
   "cell_type": "code",
   "execution_count": 3,
   "metadata": {},
   "outputs": [],
   "source": [
    "from langchain_community.tools.tavily_search import TavilySearchResults"
   ]
  },
  {
   "cell_type": "code",
   "execution_count": 4,
   "metadata": {},
   "outputs": [],
   "source": [
    "tools = [TavilySearchResults(max_results=1)]"
   ]
  },
  {
   "cell_type": "code",
   "execution_count": 6,
   "metadata": {},
   "outputs": [],
   "source": [
    "from langgraph.prebuilt import ToolExecutor\n",
    "tool_executor = ToolExecutor(tools)"
   ]
  },
  {
   "cell_type": "code",
   "execution_count": 7,
   "metadata": {},
   "outputs": [],
   "source": [
    "model = ChatOpenAI(model=\"mistralai/Mixtral-8x7B-Instruct-v0.1\")"
   ]
  },
  {
   "cell_type": "code",
   "execution_count": 9,
   "metadata": {},
   "outputs": [],
   "source": [
    "from pprint import pprint"
   ]
  },
  {
   "cell_type": "code",
   "execution_count": 11,
   "metadata": {},
   "outputs": [
    {
     "name": "stdout",
     "output_type": "stream",
     "text": [
      "[{'description': 'A search engine optimized for comprehensive, accurate, and '\n",
      "                 'trusted results. Useful for when you need to answer '\n",
      "                 'questions about current events. Input should be a search '\n",
      "                 'query.',\n",
      "  'name': 'tavily_search_results_json',\n",
      "  'parameters': {'properties': {'query': {'description': 'search query to look '\n",
      "                                                         'up',\n",
      "                                          'type': 'string'}},\n",
      "                 'required': ['query'],\n",
      "                 'type': 'object'}}]\n"
     ]
    }
   ],
   "source": [
    "from langchain.tools.render import format_tool_to_openai_function\n",
    "functions = [format_tool_to_openai_function(tool) for tool in tools]\n",
    "pprint(functions)"
   ]
  },
  {
   "cell_type": "code",
   "execution_count": 12,
   "metadata": {},
   "outputs": [],
   "source": [
    "model = model.bind_functions(functions)"
   ]
  },
  {
   "cell_type": "code",
   "execution_count": 28,
   "metadata": {},
   "outputs": [],
   "source": [
    "# state graph is the main type of graph in langgraph. The graph is parameterized by a state objest that it passes around to each node. \n",
    "# Each node then returns ooperations to update that state. This operations can either be SET a specific attribute on the graph,or ADD to an existing atribute\n",
    "\n",
    "# in this example the state will just be a list of messages. We want each noe to add messages to that list. Therefor we would define our agent state as a TypedDict \n",
    "# with a single attribute of messages which is a list of messages\n",
    "\n",
    "from typing import TypedDict, Annotated, Sequence\n",
    "import operator\n",
    "from langchain_core.messages import BaseMessage\n",
    "\n",
    "\n",
    "class AgentState(TypedDict):\n",
    "    messages: Annotated[Sequence[BaseMessage], operator.add]"
   ]
  },
  {
   "cell_type": "markdown",
   "metadata": {},
   "source": [
    "### Defining the Nodes within our LangGraph\n",
    "\n",
    "A node can be either a function or a langchain runnable (chain, agent, or anything that implements the runnable class)\n",
    "In this example the two main nodes we need are:\n",
    "\n",
    "- Agent node: Decides what action if any should be taken\n",
    "- Function to invoke tools: if the agent decides to take an action, this node will then execute that action\n",
    "\n",
    "We will also need to define some edges. Edges may be conditional. The reason they are conditional is that based on the output of a node, one of several paths may be taken. The path that is taken is not known ahead of time until the source node is executed. \n",
    "\n",
    "- Conditional Edge: after the agent is called, we should either:\n",
    "  - if the agent decides to take an action, then the function to invoke the tools should be called. \n",
    "  - if the aegnt said that it was finished, then it should finish\n",
    "- Normal edges: After the tool is invoked, it should always go back to the agent to decide what to do next"
   ]
  },
  {
   "cell_type": "code",
   "execution_count": 29,
   "metadata": {},
   "outputs": [],
   "source": [
    "from langgraph.prebuilt import ToolInvocation\n",
    "import json\n",
    "from langchain_core.messages import FunctionMessage"
   ]
  },
  {
   "cell_type": "code",
   "execution_count": 50,
   "metadata": {},
   "outputs": [],
   "source": [
    "def should_continue(state): # the branch conditions take the state as the only parameter\n",
    "    messages = state[\"messages\"]\n",
    "    last_message:BaseMessage =  messages[-1]\n",
    "    # if there is no function call, then we finish\n",
    "    if \"tool_calls\" not in last_message.additional_kwargs:\n",
    "        return \"end\"\n",
    "    else:\n",
    "        return \"continue\"\n",
    "    \n",
    "    \n",
    "def call_model(state): # all nodes also take only the state as input\n",
    "    messages = state[\"messages\"]\n",
    "    response = model.invoke(messages)\n",
    "    return {\"messages\": [response]}\n",
    "\n",
    "\n",
    "def call_tool(state): # all nodes also take only the state as input\n",
    "    messages = state[\"messages\"]\n",
    "    last_message:BaseMessage = messages[-1]\n",
    "    \n",
    "    action = ToolInvocation(\n",
    "        tool=last_message.additional_kwargs[\"tool_calls\"][0][\"function\"][\"name\"],\n",
    "        tool_input=json.loads(last_message.additional_kwargs[\"tool_calls\"][0][\"function\"][\"arguments\"])\n",
    "    )\n",
    "    # we call the tool executoro and get back a response\n",
    "    response = tool_executor.invoke(action)\n",
    "    \n",
    "    function_message = FunctionMessage(content=str(response), name=action.tool)\n",
    "    # we return a lsist, becasuse this will be added to th existing list\n",
    "    return {\"messages\": [function_message]}\n",
    "    "
   ]
  },
  {
   "cell_type": "markdown",
   "metadata": {},
   "source": [
    "## Define the graph\n",
    "Now we can put everything together to define the graph"
   ]
  },
  {
   "cell_type": "code",
   "execution_count": 51,
   "metadata": {},
   "outputs": [],
   "source": [
    "from langgraph.graph import StateGraph, END\n",
    "\n",
    "workflow = StateGraph(schema=AgentState)\n",
    "\n",
    "# define the nodes we will cycle between\n",
    "workflow.add_node(\"agent\", call_model)\n",
    "workflow.add_node(\"action\", call_tool)\n",
    "\n",
    "# define and entry point for our graph\n",
    "workflow.set_entry_point(\"agent\")\n",
    "\n",
    "workflow.add_conditional_edges(\n",
    "    # first we define the starting point of the conditional edge\n",
    "    \"agent\", \n",
    "    # this determines if we should continue the decision to be taken\n",
    "    should_continue, \n",
    "    # this defines what outcome we should proceed with based on the output of `should_continue`\n",
    "    {\n",
    "        \"continue\": \"action\", \n",
    "        \"end\": END # end is also a node added to every graph\n",
    "    }\n",
    "    )\n",
    "\n",
    "workflow.add_edge(\"action\", \"agent\")\n"
   ]
  },
  {
   "cell_type": "code",
   "execution_count": 52,
   "metadata": {},
   "outputs": [],
   "source": [
    "app = workflow.compile()"
   ]
  },
  {
   "cell_type": "code",
   "execution_count": 53,
   "metadata": {},
   "outputs": [
    {
     "name": "stdout",
     "output_type": "stream",
     "text": [
      "{'id': ['langgraph', 'pregel', 'Pregel'],\n",
      " 'lc': 1,\n",
      " 'repr': \"Pregel(nodes={'agent': ChannelInvoke(bound=RunnableLambda(...)\\n\"\n",
      "         '| RunnableLambda(call_model)\\n'\n",
      "         \"| ChannelWrite(channels=[('agent', None, False), ('messages', \"\n",
      "         \"RunnableLambda(...), False)]), config={'tags': []}, channels={None: \"\n",
      "         \"'agent:inbox'}, triggers=['agent:inbox']), 'action': \"\n",
      "         'ChannelInvoke(bound=RunnableLambda(...)\\n'\n",
      "         '| RunnableLambda(call_tool)\\n'\n",
      "         \"| ChannelWrite(channels=[('action', None, False), ('messages', \"\n",
      "         \"RunnableLambda(...), False)]), config={'tags': []}, channels={None: \"\n",
      "         \"'action:inbox'}, triggers=['action:inbox']), 'agent:edges': \"\n",
      "         'ChannelInvoke(bound=RunnableLambda(_read)\\n'\n",
      "         \"| RunnableLambda(runnable), config={'tags': ['langsmith:hidden']}, \"\n",
      "         \"channels={None: 'agent'}, triggers=['agent']), 'action:edges': \"\n",
      "         'ChannelInvoke(bound=RunnableLambda(_read)\\n'\n",
      "         \"| ChannelWrite(channels=[('agent:inbox', None, False)]), \"\n",
      "         \"config={'tags': ['langsmith:hidden']}, channels={None: 'action'}, \"\n",
      "         \"triggers=['action']), '__start__': \"\n",
      "         \"ChannelInvoke(bound=ChannelWrite(channels=[('__start__', None, \"\n",
      "         \"False), ('messages', RunnableLambda(...), False)]), config={'tags': \"\n",
      "         \"['langsmith:hidden']}, channels={None: '__start__:inbox'}, \"\n",
      "         \"triggers=['__start__:inbox']), '__start__:edges': \"\n",
      "         'ChannelInvoke(bound=RunnableLambda(_read)\\n'\n",
      "         \"| ChannelWrite(channels=[('agent:inbox', None, False)]), \"\n",
      "         \"config={'tags': ['langsmith:hidden']}, channels={None: '__start__'}, \"\n",
      "         \"triggers=['__start__'])}, channels={'messages': \"\n",
      "         '<langgraph.channels.binop.BinaryOperatorAggregate object at '\n",
      "         \"0x16e1c8ad0>, 'agent:inbox': \"\n",
      "         '<langgraph.channels.last_value.LastValue object at 0x133ee7590>, '\n",
      "         \"'action': <langgraph.channels.last_value.LastValue object at \"\n",
      "         \"0x12752d6d0>, '__start__:inbox': \"\n",
      "         '<langgraph.channels.last_value.LastValue object at 0x16e19c610>, '\n",
      "         \"'agent': <langgraph.channels.last_value.LastValue object at \"\n",
      "         \"0x16e19f150>, '__start__': <langgraph.channels.last_value.LastValue \"\n",
      "         \"object at 0x16e19ea90>, 'action:inbox': \"\n",
      "         '<langgraph.channels.last_value.LastValue object at 0x16e19d650>, '\n",
      "         \"'__end__': <langgraph.channels.last_value.LastValue object at \"\n",
      "         \"0x16e08ead0>, <ReservedChannels.is_last_step: 'is_last_step'>: \"\n",
      "         '<langgraph.channels.last_value.LastValue object at 0x127579610>}, '\n",
      "         \"output='__end__', hidden=['agent:inbox', 'action:inbox', \"\n",
      "         \"'__start__', 'messages'], input='__start__:inbox')\",\n",
      " 'type': 'not_implemented'}\n"
     ]
    }
   ],
   "source": [
    "pprint(app.to_json())"
   ]
  },
  {
   "cell_type": "code",
   "execution_count": 54,
   "metadata": {},
   "outputs": [
    {
     "data": {
      "text/plain": [
       "{'messages': [HumanMessage(content='what is the weather in sf'),\n",
       "  AIMessage(content='', additional_kwargs={'tool_calls': [{'id': 'call_xogmog8iuykyk4iv75i4szy5', 'function': {'arguments': '{\"query\":\"weather in San Francisco\"}', 'name': 'tavily_search_results_json'}, 'type': 'function'}]}),\n",
       "  FunctionMessage(content='[{\\'url\\': \\'https://www.weatherapi.com/\\', \\'content\\': \"Weather in San Francisco is {\\'location\\': {\\'name\\': \\'San Francisco\\', \\'region\\': \\'California\\', \\'country\\': \\'United States of America\\', \\'lat\\': 37.78, \\'lon\\': -122.42, \\'tz_id\\': \\'America/Los_Angeles\\', \\'localtime_epoch\\': 1707957221, \\'localtime\\': \\'2024-02-14 16:33\\'}, \\'current\\': {\\'last_updated_epoch\\': 1707957000, \\'last_updated\\': \\'2024-02-14 16:30\\', \\'temp_c\\': 12.8, \\'temp_f\\': 55.0, \\'is_day\\': 1, \\'condition\\': {\\'text\\': \\'Light rain\\', \\'icon\\': \\'//cdn.weatherapi.com/weather/64x64/day/296.png\\', \\'code\\': 1183}, \\'wind_mph\\': 16.1, \\'wind_kph\\': 25.9, \\'wind_degree\\': 160, \\'wind_dir\\': \\'SSE\\', \\'pressure_mb\\': 1017.0, \\'pressure_in\\': 30.02, \\'precip_mm\\': 0.52, \\'precip_in\\': 0.02, \\'humidity\\': 86, \\'cloud\\': 100, \\'feelslike_c\\': 9.9, \\'feelslike_f\\': 49.9, \\'vis_km\\': 16.0, \\'vis_miles\\': 9.0, \\'uv\\': 3.0, \\'gust_mph\\': 32.5, \\'gust_kph\\': 52.3}}\"}]', name='tavily_search_results_json'),\n",
       "  AIMessage(content='', additional_kwargs={'tool_calls': [{'id': 'call_vh4ij9usyxd89pf78gdvu8ix', 'function': {'arguments': '{\"query\":\"weather in San Francisco\"}', 'name': 'tavily_search_results_json'}, 'type': 'function'}]}),\n",
       "  FunctionMessage(content='[{\\'url\\': \\'https://www.weatherapi.com/\\', \\'content\\': \"Weather in San Francisco is {\\'location\\': {\\'name\\': \\'San Francisco\\', \\'region\\': \\'California\\', \\'country\\': \\'United States of America\\', \\'lat\\': 37.78, \\'lon\\': -122.42, \\'tz_id\\': \\'America/Los_Angeles\\', \\'localtime_epoch\\': 1707957221, \\'localtime\\': \\'2024-02-14 16:33\\'}, \\'current\\': {\\'last_updated_epoch\\': 1707957000, \\'last_updated\\': \\'2024-02-14 16:30\\', \\'temp_c\\': 12.8, \\'temp_f\\': 55.0, \\'is_day\\': 1, \\'condition\\': {\\'text\\': \\'Light rain\\', \\'icon\\': \\'//cdn.weatherapi.com/weather/64x64/day/296.png\\', \\'code\\': 1183}, \\'wind_mph\\': 16.1, \\'wind_kph\\': 25.9, \\'wind_degree\\': 160, \\'wind_dir\\': \\'SSE\\', \\'pressure_mb\\': 1017.0, \\'pressure_in\\': 30.02, \\'precip_mm\\': 0.52, \\'precip_in\\': 0.02, \\'humidity\\': 86, \\'cloud\\': 100, \\'feelslike_c\\': 9.9, \\'feelslike_f\\': 49.9, \\'vis_km\\': 16.0, \\'vis_miles\\': 9.0, \\'uv\\': 3.0, \\'gust_mph\\': 32.5, \\'gust_kph\\': 52.3}}\"}]', name='tavily_search_results_json'),\n",
       "  AIMessage(content='', additional_kwargs={'tool_calls': [{'id': 'call_vd95dj9mpeit0kzyt101fedi', 'function': {'arguments': '{\"query\":\"weather in New York\"}', 'name': 'tavily_search_results_json'}, 'type': 'function'}]}),\n",
       "  FunctionMessage(content='[{\\'url\\': \\'https://www.accuweather.com/en/us/new-york/10021/weather-forecast/349727\\', \\'content\\': \"TODAY’S WEATHER FORECAST\\\\nLooking Ahead\\\\nExpect rainy weather late tonight through tomorrow evening\\\\nTONIGHT’S WEATHER FORECAST\\\\nTOMORROW’S WEATHER FORECAST\\\\nNew York Weather Radar\\\\nFurther Ahead\\\\nHourly\\\\nDaily\\\\nMonthly\\\\nAround the Globe\\\\nHurricane Tracker\\\\nSevere Weather\\\\nRadar & Maps\\\\nNews\\\\nVideo\\\\nWinter Center\\\\nTop Stories\\\\nWinter Weather\\\\nWeekend storm to dish wintry weather to parts of Midwest, Northeast\\\\n3 hours ago\\\\nAstronomy\\\\nGeminids to outshine all other astronomy events in December\\\\n2 days ago\\\\nWeather News\\\\nOfficials release simulated images of man found dead in Lake Mead\\\\n1 day ago\\\\nAstronomy\\\\nFirst ever planet-forming disk spotted around star in another galaxy\\\\n1 day ago\\\\nWeather Forecasts\\\\nAtmospheric river to unleash month’s worth of rain in Northwest\\\\n3 hours ago\\\\nFeatured Stories\\\\nWeather News\\\\nGhostly new figures appear in the waters of the Caribbean\\\\n1 day ago\\\\nWeather News\\\\nResearchers find \\'witch bottles\\' washed up on Texas beaches\\\\n2 days ago\\\\nWeather News\\\\nGiant seamount found is twice the height of world’s tallest building\\\\n1 day ago\\\\nWeather News\\\\n5 Native American inventions that are still used in our modern world\\\\n3 days ago\\\\nHealth\\\\nWalking could lower your risk of type 2 diabetes\\\\n3 days ago\\\\nWeather Near New York:\\\\nWe have updated our Privacy Policy and Cookie Policy. New York, NY\\\\nNew York\\\\nNew York\\\\nAround the Globe\\\\nHurricane Tracker\\\\nSevere Weather\\\\nRadar & Maps\\\\nNews & Features\\\\nAstronomy\\\\nBusiness\\\\nClimate\\\\nHealth\\\\nRecreation\\\\nSports\\\\nTravel\\\\nVideo\\\\nWinter Center\\\\nToday\\\\nCurrent Weather\\\\n6:30 PM\\\\nCurrent Air Quality\\\\nToday\\\\n12/2\\\\nUnhealthy\\\\nHealth effects can be immediately felt by sensitive groups. Based on Current Pollutants\\\\nMore Details\\\\nLearn more at\\\\nUnhealthy\\\\nHealth effects can be immediately felt by sensitive groups. Based on Current Pollutants\\\\nCurrent Air Quality\\\\nOur current air quality index (AQI) provides information on the quality of air that you are breathing and its impact on your health. There are at least six different pollutants that we track that impact the cleanliness of air and your health.\\\\n\"}]', name='tavily_search_results_json'),\n",
       "  AIMessage(content='', additional_kwargs={'tool_calls': [{'id': 'call_canvxdm4eumizfdd6m7hj1it', 'function': {'arguments': '{\"query\":\"weather in Los Angeles\"}', 'name': 'tavily_search_results_json'}, 'type': 'function'}]}),\n",
       "  FunctionMessage(content='[{\\'url\\': \\'https://www.weatherapi.com/\\', \\'content\\': \"Weather in Los Angeles is {\\'location\\': {\\'name\\': \\'Los Angeles\\', \\'region\\': \\'California\\', \\'country\\': \\'United States of America\\', \\'lat\\': 34.05, \\'lon\\': -118.24, \\'tz_id\\': \\'America/Los_Angeles\\', \\'localtime_epoch\\': 1707957293, \\'localtime\\': \\'2024-02-14 16:34\\'}, \\'current\\': {\\'last_updated_epoch\\': 1707957000, \\'last_updated\\': \\'2024-02-14 16:30\\', \\'temp_c\\': 16.7, \\'temp_f\\': 62.1, \\'is_day\\': 1, \\'condition\\': {\\'text\\': \\'Sunny\\', \\'icon\\': \\'//cdn.weatherapi.com/weather/64x64/day/113.png\\', \\'code\\': 1000}, \\'wind_mph\\': 9.4, \\'wind_kph\\': 15.1, \\'wind_degree\\': 260, \\'wind_dir\\': \\'W\\', \\'pressure_mb\\': 1020.0, \\'pressure_in\\': 30.11, \\'precip_mm\\': 0.0, \\'precip_in\\': 0.0, \\'humidity\\': 53, \\'cloud\\': 0, \\'feelslike_c\\': 16.7, \\'feelslike_f\\': 62.1, \\'vis_km\\': 16.0, \\'vis_miles\\': 9.0, \\'uv\\': 5.0, \\'gust_mph\\': 13.9, \\'gust_kph\\': 22.3}}\"}]', name='tavily_search_results_json'),\n",
       "  AIMessage(content='')]}"
      ]
     },
     "execution_count": 54,
     "metadata": {},
     "output_type": "execute_result"
    }
   ],
   "source": [
    "from langchain_core.messages import HumanMessage\n",
    "\n",
    "inputs = {\"messages\": [HumanMessage(content=\"what is the weather in sf\")]}\n",
    "app.invoke(inputs)"
   ]
  },
  {
   "cell_type": "code",
   "execution_count": 55,
   "metadata": {},
   "outputs": [
    {
     "name": "stdout",
     "output_type": "stream",
     "text": [
      "Output from node 'agent':\n",
      "---\n",
      "{'messages': [AIMessage(content='', additional_kwargs={'tool_calls': [{'id': 'call_hjb479k7vneuj3msnjcf3axp', 'function': {'arguments': '{\"query\":\"weather in San Francisco\"}', 'name': 'tavily_search_results_json'}, 'type': 'function'}]})]}\n",
      "\n",
      "---\n",
      "\n",
      "Output from node 'action':\n",
      "---\n",
      "{'messages': [FunctionMessage(content='[{\\'url\\': \\'https://www.weatherapi.com/\\', \\'content\\': \"Weather in San Francisco is {\\'location\\': {\\'name\\': \\'San Francisco\\', \\'region\\': \\'California\\', \\'country\\': \\'United States of America\\', \\'lat\\': 37.78, \\'lon\\': -122.42, \\'tz_id\\': \\'America/Los_Angeles\\', \\'localtime_epoch\\': 1707957221, \\'localtime\\': \\'2024-02-14 16:33\\'}, \\'current\\': {\\'last_updated_epoch\\': 1707957000, \\'last_updated\\': \\'2024-02-14 16:30\\', \\'temp_c\\': 12.8, \\'temp_f\\': 55.0, \\'is_day\\': 1, \\'condition\\': {\\'text\\': \\'Light rain\\', \\'icon\\': \\'//cdn.weatherapi.com/weather/64x64/day/296.png\\', \\'code\\': 1183}, \\'wind_mph\\': 16.1, \\'wind_kph\\': 25.9, \\'wind_degree\\': 160, \\'wind_dir\\': \\'SSE\\', \\'pressure_mb\\': 1017.0, \\'pressure_in\\': 30.02, \\'precip_mm\\': 0.52, \\'precip_in\\': 0.02, \\'humidity\\': 86, \\'cloud\\': 100, \\'feelslike_c\\': 9.9, \\'feelslike_f\\': 49.9, \\'vis_km\\': 16.0, \\'vis_miles\\': 9.0, \\'uv\\': 3.0, \\'gust_mph\\': 32.5, \\'gust_kph\\': 52.3}}\"}]', name='tavily_search_results_json')]}\n",
      "\n",
      "---\n",
      "\n",
      "Output from node 'agent':\n",
      "---\n",
      "{'messages': [AIMessage(content='', additional_kwargs={'tool_calls': [{'id': 'call_82hqo6hnv7fmzlbmu81wpoqd', 'function': {'arguments': '{\"query\":\"weather in San Francisco\"}', 'name': 'tavily_search_results_json'}, 'type': 'function'}]})]}\n",
      "\n",
      "---\n",
      "\n",
      "Output from node 'action':\n",
      "---\n",
      "{'messages': [FunctionMessage(content='[{\\'url\\': \\'https://www.weatherapi.com/\\', \\'content\\': \"Weather in San Francisco is {\\'location\\': {\\'name\\': \\'San Francisco\\', \\'region\\': \\'California\\', \\'country\\': \\'United States of America\\', \\'lat\\': 37.78, \\'lon\\': -122.42, \\'tz_id\\': \\'America/Los_Angeles\\', \\'localtime_epoch\\': 1707957221, \\'localtime\\': \\'2024-02-14 16:33\\'}, \\'current\\': {\\'last_updated_epoch\\': 1707957000, \\'last_updated\\': \\'2024-02-14 16:30\\', \\'temp_c\\': 12.8, \\'temp_f\\': 55.0, \\'is_day\\': 1, \\'condition\\': {\\'text\\': \\'Light rain\\', \\'icon\\': \\'//cdn.weatherapi.com/weather/64x64/day/296.png\\', \\'code\\': 1183}, \\'wind_mph\\': 16.1, \\'wind_kph\\': 25.9, \\'wind_degree\\': 160, \\'wind_dir\\': \\'SSE\\', \\'pressure_mb\\': 1017.0, \\'pressure_in\\': 30.02, \\'precip_mm\\': 0.52, \\'precip_in\\': 0.02, \\'humidity\\': 86, \\'cloud\\': 100, \\'feelslike_c\\': 9.9, \\'feelslike_f\\': 49.9, \\'vis_km\\': 16.0, \\'vis_miles\\': 9.0, \\'uv\\': 3.0, \\'gust_mph\\': 32.5, \\'gust_kph\\': 52.3}}\"}]', name='tavily_search_results_json')]}\n",
      "\n",
      "---\n",
      "\n",
      "Output from node 'agent':\n",
      "---\n",
      "{'messages': [AIMessage(content='', additional_kwargs={'tool_calls': [{'id': 'call_s2v0r5tyfum3se0xv4utn599', 'function': {'arguments': '{\"query\":\"weather in San Diego\"}', 'name': 'tavily_search_results_json'}, 'type': 'function'}]})]}\n",
      "\n",
      "---\n",
      "\n",
      "Output from node 'action':\n",
      "---\n",
      "{'messages': [FunctionMessage(content=\"[{'url': 'https://weather.com/weather/today/l/San+Diego+CA?canonicalCityId=cb5c473781cc06501376639dce8f0823a99187dcb42c79471a4303c076d66452', 'content': 'Weather Forecast and Conditions for San Diego, CA - The Weather Channel | Weather.com San Diego, CA As of 12:30 pm PST 64° Sunny Day 64° • Night 40° Watch: They Were Not Expecting...'}]\", name='tavily_search_results_json')]}\n",
      "\n",
      "---\n",
      "\n",
      "Output from node 'agent':\n",
      "---\n",
      "{'messages': [AIMessage(content='', additional_kwargs={'tool_calls': [{'id': 'call_93wbyvyf6z04cck15p67nsnf', 'function': {'arguments': '{\"query\":\"weather in Los Angeles\"}', 'name': 'tavily_search_results_json'}, 'type': 'function'}]})]}\n",
      "\n",
      "---\n",
      "\n",
      "Output from node 'action':\n",
      "---\n",
      "{'messages': [FunctionMessage(content='[{\\'url\\': \\'https://www.weatherapi.com/\\', \\'content\\': \"Weather in Los Angeles is {\\'location\\': {\\'name\\': \\'Los Angeles\\', \\'region\\': \\'California\\', \\'country\\': \\'United States of America\\', \\'lat\\': 34.05, \\'lon\\': -118.24, \\'tz_id\\': \\'America/Los_Angeles\\', \\'localtime_epoch\\': 1707957293, \\'localtime\\': \\'2024-02-14 16:34\\'}, \\'current\\': {\\'last_updated_epoch\\': 1707957000, \\'last_updated\\': \\'2024-02-14 16:30\\', \\'temp_c\\': 16.7, \\'temp_f\\': 62.1, \\'is_day\\': 1, \\'condition\\': {\\'text\\': \\'Sunny\\', \\'icon\\': \\'//cdn.weatherapi.com/weather/64x64/day/113.png\\', \\'code\\': 1000}, \\'wind_mph\\': 9.4, \\'wind_kph\\': 15.1, \\'wind_degree\\': 260, \\'wind_dir\\': \\'W\\', \\'pressure_mb\\': 1020.0, \\'pressure_in\\': 30.11, \\'precip_mm\\': 0.0, \\'precip_in\\': 0.0, \\'humidity\\': 53, \\'cloud\\': 0, \\'feelslike_c\\': 16.7, \\'feelslike_f\\': 62.1, \\'vis_km\\': 16.0, \\'vis_miles\\': 9.0, \\'uv\\': 5.0, \\'gust_mph\\': 13.9, \\'gust_kph\\': 22.3}}\"}]', name='tavily_search_results_json')]}\n",
      "\n",
      "---\n",
      "\n",
      "Output from node 'agent':\n",
      "---\n",
      "{'messages': [AIMessage(content='')]}\n",
      "\n",
      "---\n",
      "\n",
      "Output from node '__end__':\n",
      "---\n",
      "{'messages': [HumanMessage(content='what is the weather in sf'), AIMessage(content='', additional_kwargs={'tool_calls': [{'id': 'call_hjb479k7vneuj3msnjcf3axp', 'function': {'arguments': '{\"query\":\"weather in San Francisco\"}', 'name': 'tavily_search_results_json'}, 'type': 'function'}]}), FunctionMessage(content='[{\\'url\\': \\'https://www.weatherapi.com/\\', \\'content\\': \"Weather in San Francisco is {\\'location\\': {\\'name\\': \\'San Francisco\\', \\'region\\': \\'California\\', \\'country\\': \\'United States of America\\', \\'lat\\': 37.78, \\'lon\\': -122.42, \\'tz_id\\': \\'America/Los_Angeles\\', \\'localtime_epoch\\': 1707957221, \\'localtime\\': \\'2024-02-14 16:33\\'}, \\'current\\': {\\'last_updated_epoch\\': 1707957000, \\'last_updated\\': \\'2024-02-14 16:30\\', \\'temp_c\\': 12.8, \\'temp_f\\': 55.0, \\'is_day\\': 1, \\'condition\\': {\\'text\\': \\'Light rain\\', \\'icon\\': \\'//cdn.weatherapi.com/weather/64x64/day/296.png\\', \\'code\\': 1183}, \\'wind_mph\\': 16.1, \\'wind_kph\\': 25.9, \\'wind_degree\\': 160, \\'wind_dir\\': \\'SSE\\', \\'pressure_mb\\': 1017.0, \\'pressure_in\\': 30.02, \\'precip_mm\\': 0.52, \\'precip_in\\': 0.02, \\'humidity\\': 86, \\'cloud\\': 100, \\'feelslike_c\\': 9.9, \\'feelslike_f\\': 49.9, \\'vis_km\\': 16.0, \\'vis_miles\\': 9.0, \\'uv\\': 3.0, \\'gust_mph\\': 32.5, \\'gust_kph\\': 52.3}}\"}]', name='tavily_search_results_json'), AIMessage(content='', additional_kwargs={'tool_calls': [{'id': 'call_82hqo6hnv7fmzlbmu81wpoqd', 'function': {'arguments': '{\"query\":\"weather in San Francisco\"}', 'name': 'tavily_search_results_json'}, 'type': 'function'}]}), FunctionMessage(content='[{\\'url\\': \\'https://www.weatherapi.com/\\', \\'content\\': \"Weather in San Francisco is {\\'location\\': {\\'name\\': \\'San Francisco\\', \\'region\\': \\'California\\', \\'country\\': \\'United States of America\\', \\'lat\\': 37.78, \\'lon\\': -122.42, \\'tz_id\\': \\'America/Los_Angeles\\', \\'localtime_epoch\\': 1707957221, \\'localtime\\': \\'2024-02-14 16:33\\'}, \\'current\\': {\\'last_updated_epoch\\': 1707957000, \\'last_updated\\': \\'2024-02-14 16:30\\', \\'temp_c\\': 12.8, \\'temp_f\\': 55.0, \\'is_day\\': 1, \\'condition\\': {\\'text\\': \\'Light rain\\', \\'icon\\': \\'//cdn.weatherapi.com/weather/64x64/day/296.png\\', \\'code\\': 1183}, \\'wind_mph\\': 16.1, \\'wind_kph\\': 25.9, \\'wind_degree\\': 160, \\'wind_dir\\': \\'SSE\\', \\'pressure_mb\\': 1017.0, \\'pressure_in\\': 30.02, \\'precip_mm\\': 0.52, \\'precip_in\\': 0.02, \\'humidity\\': 86, \\'cloud\\': 100, \\'feelslike_c\\': 9.9, \\'feelslike_f\\': 49.9, \\'vis_km\\': 16.0, \\'vis_miles\\': 9.0, \\'uv\\': 3.0, \\'gust_mph\\': 32.5, \\'gust_kph\\': 52.3}}\"}]', name='tavily_search_results_json'), AIMessage(content='', additional_kwargs={'tool_calls': [{'id': 'call_s2v0r5tyfum3se0xv4utn599', 'function': {'arguments': '{\"query\":\"weather in San Diego\"}', 'name': 'tavily_search_results_json'}, 'type': 'function'}]}), FunctionMessage(content=\"[{'url': 'https://weather.com/weather/today/l/San+Diego+CA?canonicalCityId=cb5c473781cc06501376639dce8f0823a99187dcb42c79471a4303c076d66452', 'content': 'Weather Forecast and Conditions for San Diego, CA - The Weather Channel | Weather.com San Diego, CA As of 12:30 pm PST 64° Sunny Day 64° • Night 40° Watch: They Were Not Expecting...'}]\", name='tavily_search_results_json'), AIMessage(content='', additional_kwargs={'tool_calls': [{'id': 'call_93wbyvyf6z04cck15p67nsnf', 'function': {'arguments': '{\"query\":\"weather in Los Angeles\"}', 'name': 'tavily_search_results_json'}, 'type': 'function'}]}), FunctionMessage(content='[{\\'url\\': \\'https://www.weatherapi.com/\\', \\'content\\': \"Weather in Los Angeles is {\\'location\\': {\\'name\\': \\'Los Angeles\\', \\'region\\': \\'California\\', \\'country\\': \\'United States of America\\', \\'lat\\': 34.05, \\'lon\\': -118.24, \\'tz_id\\': \\'America/Los_Angeles\\', \\'localtime_epoch\\': 1707957293, \\'localtime\\': \\'2024-02-14 16:34\\'}, \\'current\\': {\\'last_updated_epoch\\': 1707957000, \\'last_updated\\': \\'2024-02-14 16:30\\', \\'temp_c\\': 16.7, \\'temp_f\\': 62.1, \\'is_day\\': 1, \\'condition\\': {\\'text\\': \\'Sunny\\', \\'icon\\': \\'//cdn.weatherapi.com/weather/64x64/day/113.png\\', \\'code\\': 1000}, \\'wind_mph\\': 9.4, \\'wind_kph\\': 15.1, \\'wind_degree\\': 260, \\'wind_dir\\': \\'W\\', \\'pressure_mb\\': 1020.0, \\'pressure_in\\': 30.11, \\'precip_mm\\': 0.0, \\'precip_in\\': 0.0, \\'humidity\\': 53, \\'cloud\\': 0, \\'feelslike_c\\': 16.7, \\'feelslike_f\\': 62.1, \\'vis_km\\': 16.0, \\'vis_miles\\': 9.0, \\'uv\\': 5.0, \\'gust_mph\\': 13.9, \\'gust_kph\\': 22.3}}\"}]', name='tavily_search_results_json'), AIMessage(content='')]}\n",
      "\n",
      "---\n",
      "\n"
     ]
    }
   ],
   "source": [
    "inputs = {\"messages\": [HumanMessage(content=\"what is the weather in sf\")]}\n",
    "for output in app.stream(inputs):\n",
    "    # stream() yields dictionaries with output keyed by node name\n",
    "    for key, value in output.items():\n",
    "        print(f\"Output from node '{key}':\")\n",
    "        print(\"---\")\n",
    "        print(value)\n",
    "    print(\"\\n---\\n\")"
   ]
  }
 ],
 "metadata": {
  "kernelspec": {
   "display_name": "venv",
   "language": "python",
   "name": "python3"
  },
  "language_info": {
   "codemirror_mode": {
    "name": "ipython",
    "version": 3
   },
   "file_extension": ".py",
   "mimetype": "text/x-python",
   "name": "python",
   "nbconvert_exporter": "python",
   "pygments_lexer": "ipython3",
   "version": "3.11.5"
  }
 },
 "nbformat": 4,
 "nbformat_minor": 2
}
