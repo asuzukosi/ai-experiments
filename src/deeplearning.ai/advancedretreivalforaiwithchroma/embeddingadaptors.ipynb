{
 "cells": [
  {
   "cell_type": "markdown",
   "metadata": {},
   "source": [
    "### Embedding Adaptors\n",
    "Embedding Adaptors are an AI retrieval optimization technique provided by chroma. In this section we will be experimenting with using embedding adpators on chroma to optimize the retrieval performance\n"
   ]
  },
  {
   "cell_type": "code",
   "execution_count": null,
   "metadata": {},
   "outputs": [],
   "source": []
  }
 ],
 "metadata": {
  "language_info": {
   "name": "python"
  }
 },
 "nbformat": 4,
 "nbformat_minor": 2
}
