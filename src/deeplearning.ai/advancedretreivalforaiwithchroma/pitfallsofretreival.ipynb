{
 "cells": [
  {
   "cell_type": "markdown",
   "metadata": {},
   "source": [
    "### Pit Falls of basic embedding retreival\n",
    "In this section we will cover some the challenges involved with retreival using embeddings of chunks for AI applications."
   ]
  },
  {
   "cell_type": "code",
   "execution_count": null,
   "metadata": {},
   "outputs": [],
   "source": []
  }
 ],
 "metadata": {
  "language_info": {
   "name": "python"
  }
 },
 "nbformat": 4,
 "nbformat_minor": 2
}
