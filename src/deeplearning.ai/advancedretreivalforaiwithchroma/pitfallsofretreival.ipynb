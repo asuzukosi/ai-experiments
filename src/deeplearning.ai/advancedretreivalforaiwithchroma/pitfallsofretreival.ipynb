{
 "cells": [
  {
   "cell_type": "markdown",
   "metadata": {},
   "source": [
    "### Pit Falls of basic embedding retreival\n",
    "In this section we will cover some the challenges involved with retreival using embeddings of chunks for AI applications."
   ]
  },
  {
   "cell_type": "code",
   "execution_count": 3,
   "metadata": {},
   "outputs": [],
   "source": [
    "import chromadb\n",
    "from chromadb.api.client import Client\n",
    "from langchain.text_splitter import RecursiveCharacterTextSplitter, SentenceTransformersTokenTextSplitter\n",
    "from chromadb.utils.embedding_functions import SentenceTransformerEmbeddingFunction\n",
    "from pypdf import PdfReader\n"
   ]
  },
  {
   "cell_type": "code",
   "execution_count": 4,
   "metadata": {},
   "outputs": [],
   "source": [
    "doc = PdfReader(\"MIV2 - LLM paper.pdf\")\n",
    "docs = [page.extract_text().strip() for page in doc.pages]"
   ]
  },
  {
   "cell_type": "code",
   "execution_count": 5,
   "metadata": {},
   "outputs": [
    {
     "data": {
      "text/plain": [
       "17"
      ]
     },
     "execution_count": 5,
     "metadata": {},
     "output_type": "execute_result"
    }
   ],
   "source": [
    "len(docs)"
   ]
  },
  {
   "cell_type": "code",
   "execution_count": 6,
   "metadata": {},
   "outputs": [],
   "source": [
    "text_splits = []\n",
    "text_splitter  = RecursiveCharacterTextSplitter(\n",
    "    separators=[\"\\n\", \"\\n\\n\", \"\", \" \", \".\"],\n",
    "    chunk_size =1000,\n",
    "    chunk_overlap = 200\n",
    ")"
   ]
  },
  {
   "cell_type": "code",
   "execution_count": 7,
   "metadata": {},
   "outputs": [],
   "source": [
    "character_text_splits = text_splitter.split_text(\"\\n\\n\".join(docs))"
   ]
  },
  {
   "cell_type": "code",
   "execution_count": 8,
   "metadata": {},
   "outputs": [
    {
     "data": {
      "text/plain": [
       "68"
      ]
     },
     "execution_count": 8,
     "metadata": {},
     "output_type": "execute_result"
    }
   ],
   "source": [
    "len(character_text_splits)"
   ]
  },
  {
   "cell_type": "code",
   "execution_count": 9,
   "metadata": {},
   "outputs": [
    {
     "name": "stderr",
     "output_type": "stream",
     "text": [
      "/Users/kosisochukwuasuzu/Developer/ai-startups/test-demos/pdfchat/venv/lib/python3.11/site-packages/tqdm/auto.py:21: TqdmWarning: IProgress not found. Please update jupyter and ipywidgets. See https://ipywidgets.readthedocs.io/en/stable/user_install.html\n",
      "  from .autonotebook import tqdm as notebook_tqdm\n",
      "/Users/kosisochukwuasuzu/Developer/ai-startups/test-demos/pdfchat/venv/lib/python3.11/site-packages/torch/_utils.py:831: UserWarning: TypedStorage is deprecated. It will be removed in the future and UntypedStorage will be the only storage class. This should only matter to you if you are using storages directly.  To access UntypedStorage directly, use tensor.untyped_storage() instead of tensor.storage()\n",
      "  return self.fget.__get__(instance, owner)()\n"
     ]
    }
   ],
   "source": [
    "token_splitter = SentenceTransformersTokenTextSplitter(chunk_overlap=0, tokens_per_chunk=256)\n",
    "\n",
    "token_split_texts = []\n",
    "for text in character_text_splits:\n",
    "    token_split_texts += token_splitter.split_text(text)"
   ]
  },
  {
   "cell_type": "code",
   "execution_count": 10,
   "metadata": {},
   "outputs": [
    {
     "data": {
      "text/plain": [
       "82"
      ]
     },
     "execution_count": 10,
     "metadata": {},
     "output_type": "execute_result"
    }
   ],
   "source": [
    "len(token_split_texts)"
   ]
  },
  {
   "cell_type": "code",
   "execution_count": 11,
   "metadata": {},
   "outputs": [],
   "source": [
    "embedding_function = SentenceTransformerEmbeddingFunction()"
   ]
  },
  {
   "cell_type": "code",
   "execution_count": 13,
   "metadata": {},
   "outputs": [],
   "source": [
    "client = Client()\n",
    "collection = client.create_collection(name=\"research_paper\", embedding_function=embedding_function)"
   ]
  },
  {
   "cell_type": "code",
   "execution_count": 14,
   "metadata": {},
   "outputs": [],
   "source": [
    "ids = [str(i) for i in range(len(token_split_texts))]"
   ]
  },
  {
   "cell_type": "code",
   "execution_count": 15,
   "metadata": {},
   "outputs": [
    {
     "name": "stderr",
     "output_type": "stream",
     "text": [
      "huggingface/tokenizers: The current process just got forked, after parallelism has already been used. Disabling parallelism to avoid deadlocks...\n",
      "To disable this warning, you can either:\n",
      "\t- Avoid using `tokenizers` before the fork if possible\n",
      "\t- Explicitly set the environment variable TOKENIZERS_PARALLELISM=(true | false)\n"
     ]
    }
   ],
   "source": [
    "collection.add(ids=ids, documents=token_split_texts)"
   ]
  },
  {
   "cell_type": "code",
   "execution_count": 16,
   "metadata": {},
   "outputs": [
    {
     "data": {
      "text/plain": [
       "82"
      ]
     },
     "execution_count": 16,
     "metadata": {},
     "output_type": "execute_result"
    }
   ],
   "source": [
    "collection.count()"
   ]
  },
  {
   "cell_type": "code",
   "execution_count": 17,
   "metadata": {},
   "outputs": [],
   "source": [
    "import umap\n",
    "import numpy as np\n",
    "from tqdm import tqdm\n",
    "\n",
    "embeddings = collection.get(include=['embeddings'])['embeddings']"
   ]
  },
  {
   "cell_type": "code",
   "execution_count": 19,
   "metadata": {},
   "outputs": [
    {
     "data": {
      "text/plain": [
       "384"
      ]
     },
     "execution_count": 19,
     "metadata": {},
     "output_type": "execute_result"
    }
   ],
   "source": [
    "len(embeddings[0])"
   ]
  },
  {
   "cell_type": "code",
   "execution_count": 21,
   "metadata": {},
   "outputs": [],
   "source": [
    "from sklearn.decomposition import PCA\n",
    "\n",
    "pca = PCA(n_components=2)\n",
    "embedding_pca_func = pca.fit(embeddings)\n"
   ]
  },
  {
   "cell_type": "code",
   "execution_count": 22,
   "metadata": {},
   "outputs": [],
   "source": [
    "def project_embeddings(embeddings, embedding_pca_func):\n",
    "    umap_embeddings = np.empty((len(embeddings),2))\n",
    "    for i, embedding in enumerate(tqdm(embeddings)): \n",
    "        umap_embeddings[i] = embedding_pca_func.transform([embedding])\n",
    "    return umap_embeddings   "
   ]
  },
  {
   "cell_type": "code",
   "execution_count": 23,
   "metadata": {},
   "outputs": [
    {
     "name": "stderr",
     "output_type": "stream",
     "text": [
      "100%|██████████| 82/82 [00:00<00:00, 11964.13it/s]\n"
     ]
    }
   ],
   "source": [
    "projected_dataset_embeddings = project_embeddings(embeddings, embedding_pca_func)"
   ]
  },
  {
   "cell_type": "code",
   "execution_count": 25,
   "metadata": {},
   "outputs": [
    {
     "data": {
      "text/plain": [
       "2"
      ]
     },
     "execution_count": 25,
     "metadata": {},
     "output_type": "execute_result"
    }
   ],
   "source": [
    "len(projected_dataset_embeddings[0])"
   ]
  },
  {
   "cell_type": "code",
   "execution_count": 26,
   "metadata": {},
   "outputs": [
    {
     "data": {
      "text/plain": [
       "(-0.4443726856240486,\n",
       " 0.8054211447550191,\n",
       " -0.3921210699098899,\n",
       " 0.6763395972792635)"
      ]
     },
     "execution_count": 26,
     "metadata": {},
     "output_type": "execute_result"
    },
    {
     "data": {
      "image/png": "[encoded data removed]",
      "text/plain": [
       "<Figure size 640x480 with 1 Axes>"
      ]
     },
     "metadata": {},
     "output_type": "display_data"
    }
   ],
   "source": [
    "import matplotlib.pyplot as plt\n",
    "\n",
    "plt.figure()\n",
    "plt.scatter(projected_dataset_embeddings[:, 0], projected_dataset_embeddings[:, 1], s=10)\n",
    "plt.gca().set_aspect('equal', 'datalim')\n",
    "plt.title('Projected Embeddings')\n",
    "plt.axis('off')"
   ]
  },
  {
   "cell_type": "markdown",
   "metadata": {},
   "source": [
    "##### Relevancy Distraction"
   ]
  },
  {
   "cell_type": "code",
   "execution_count": 27,
   "metadata": {},
   "outputs": [],
   "source": [
    "from pprint import pprint"
   ]
  },
  {
   "cell_type": "code",
   "execution_count": 28,
   "metadata": {},
   "outputs": [
    {
     "name": "stdout",
     "output_type": "stream",
     "text": [
      "('ca, s., costa, e., castellucci, i. and arezes, p. m., 2019. a brief overview '\n",
      " 'of the use of')\n",
      "\n",
      "('for the llm prompt, thereby enabling the integration of object affordances '\n",
      " 'into the llm ’ s plan generation. figure 2 : continuous feedback process '\n",
      " 'between human user and llm to generate robot plan. the human provides '\n",
      " 'feedback instructions in natural language which the llm uses to update the '\n",
      " 'generated plan 2. 2 perception with foundation vision models. as part of the '\n",
      " 'set of robot skills, perception actions are defined, incorporating '\n",
      " 'foundational vision models for zero - shot object detection and scene '\n",
      " 'understanding. the vision models are employed for object identification '\n",
      " 'within the scene, yielding bounding boxes for detected objects. '\n",
      " 'subsequently, pixel - to - coordinate values are computed. the perception '\n",
      " 'functions operate beneath the rule - based actions, albeit not directly '\n",
      " 'presented as skills to the llm. full object generalisation is possible by '\n",
      " 'combining the sam model for image segmentation and the clip model for '\n",
      " 'classification of those')\n",
      "\n",
      "('involves distilling knowledge from a pre - trained open - vocabulary image '\n",
      " 'classification model into a two - stage detector. the selection of vild and '\n",
      " 'sam - clip as the zero - shot detection models in this study is predicated '\n",
      " 'on their accessibility and prior utilization in analogous projects such as '\n",
      " 'saycan and instruct2act. it ’ s essential to note that this research does '\n",
      " 'not conduct a comprehensive assessment of all existing zero - shot models or '\n",
      " 'determine the optimal ones ; rather, the choice of models is contingent upon '\n",
      " 'their availability. vild comprises two components, learning with text '\n",
      " 'embeddings and image embeddings derived from an open vocabulary image '\n",
      " 'classification model. the vild model, also used in saycan and socratic '\n",
      " 'models, serves as the vision model in this implementation [ 43 ] [ 44 ]. '\n",
      " 'this literature review highlights key approaches in the realm of zero - shot '\n",
      " 'learning and detection, providing a foundation for the current research. 1. '\n",
      " '1. 5 llms for robot planning')\n",
      "\n",
      "('actions, albeit not directly presented as skills to the llm. full object '\n",
      " 'generalisation is possible by combining the sam model for image segmentation '\n",
      " 'and the clip model for classification of those segments. in the case of the '\n",
      " 'vild model, a pre - defined list of possible objects is provided to the 6 '\n",
      " 'algorithm 1 llm robot joint plan generation given : a high level instruction '\n",
      " 'i, state s, and π a set of skills and their language descriptions π d 1 : '\n",
      " '[UNK] 2 : [UNK] 3 : [UNK] 4 : messagestream [UNK] previous messages and '\n",
      " 'responses 5 : maxfeedback [UNK] 6 : while i = stopdo 7 : [UNK] ( camera ) 8 '\n",
      " ': [UNK] ( i, s, π, messagestream ) 9 : messagestream + i [UNK] add '\n",
      " 'instruction to message stream 10 : messagesteam + p [UNK] add llm generated '\n",
      " 'plan to message steam 11 : numfeedback [UNK] 12 : instructionapproved [UNK] '\n",
      " '( p ) 13 : while instructionapproved = true & & numfeedback < maxfeedback do '\n",
      " '14 : feedback [UNK] ( p ) 15 : [UNK] ( f, s, π, messagestream )')\n",
      "\n",
      "('. the gpt - 3. 5 model [ 49 ] is utilized for prompting through an '\n",
      " 'accessible api. the prompt design for the llm encompasses instructions '\n",
      " 'regarding the available robot skills π dand illustrative examples '\n",
      " 'demonstrating the application of these skills in conjunction. this '\n",
      " 'methodology aligns with the few - shot prompting technique. a prompt '\n",
      " 'template is formulated by integrating the set of robot skills π, the '\n",
      " 'language descriptions of these skills π d, example plans with corresponding '\n",
      " 'instructions pe, a given instruction i, and a description of the current '\n",
      " 'robot location, constituting the state s. these variables are then passed '\n",
      " 'into the llm plan generation function which is used to generate a robot '\n",
      " 'execution plan ρas shown in figure 3. the action scoring approach described '\n",
      " 'in saycan is not employed ; instead, a few - shot prompting approach, as '\n",
      " 'outlined in instruct2act, is utilized. 2. 4 the message stream')\n",
      "\n"
     ]
    }
   ],
   "source": [
    "query = \"What is the total revenue?\"\n",
    "\n",
    "results = collection.query(query_texts=query, n_results=5, include=['documents', 'embeddings'])\n",
    "\n",
    "retrieved_documents = results['documents'][0]\n",
    "\n",
    "for document in results['documents'][0]:\n",
    "    pprint(document)\n",
    "    print('')"
   ]
  },
  {
   "cell_type": "code",
   "execution_count": 29,
   "metadata": {},
   "outputs": [
    {
     "name": "stderr",
     "output_type": "stream",
     "text": [
      "100%|██████████| 1/1 [00:00<00:00, 1113.73it/s]\n",
      "100%|██████████| 5/5 [00:00<00:00, 9161.87it/s]\n"
     ]
    }
   ],
   "source": [
    "query_embedding = embedding_function([query])[0]\n",
    "retrieved_embeddings = results['embeddings'][0]\n",
    "\n",
    "projected_query_embedding = project_embeddings([query_embedding], embedding_pca_func)\n",
    "projected_retrieved_embeddings = project_embeddings(retrieved_embeddings, embedding_pca_func)\n"
   ]
  },
  {
   "cell_type": "code",
   "execution_count": 30,
   "metadata": {},
   "outputs": [
    {
     "data": {
      "text/plain": [
       "(-0.4443726856240486,\n",
       " 0.8054211447550191,\n",
       " -0.3921210699098899,\n",
       " 0.6763395972792635)"
      ]
     },
     "execution_count": 30,
     "metadata": {},
     "output_type": "execute_result"
    },
    {
     "data": {
      "image/png": "[encoded data removed]",
      "text/plain": [
       "<Figure size 640x480 with 1 Axes>"
      ]
     },
     "metadata": {},
     "output_type": "display_data"
    }
   ],
   "source": [
    "# Plot the projected query and retrieved documents in the embedding space\n",
    "plt.figure()\n",
    "plt.scatter(projected_dataset_embeddings[:, 0], projected_dataset_embeddings[:, 1], s=10, color='gray')\n",
    "plt.scatter(projected_query_embedding[:, 0], projected_query_embedding[:, 1], s=150, marker='X', color='r')\n",
    "plt.scatter(projected_retrieved_embeddings[:, 0], projected_retrieved_embeddings[:, 1], s=100, facecolors='none', edgecolors='g')\n",
    "\n",
    "plt.gca().set_aspect('equal', 'datalim')\n",
    "plt.title(f'{query}')\n",
    "plt.axis('off')"
   ]
  },
  {
   "cell_type": "code",
   "execution_count": 31,
   "metadata": {},
   "outputs": [
    {
     "name": "stdout",
     "output_type": "stream",
     "text": [
      "('vey of its applications, challenges, limitations, and future prospects. '\n",
      " 'techrxiv. preprint. https : / / doi. org / 10. 36227 / techrxiv. 23589741. '\n",
      " 'v3 [ 16 ] yao, s., zhao, j., yu, d., du, n., shafran, i., narasimhan, k. and '\n",
      " 'cao, y., 2022. react : synergizing reasoning and acting in language models. '\n",
      " 'arxiv preprint arxiv : 2210. 03629. [ 17 ] lykov, a. and tsetserukou, d., '\n",
      " '2023. llm - brain : ai - driven fast generation of robot behaviour tree '\n",
      " 'based on large language model. arxiv preprint arxiv : 2305. 19352. [ 18 ] '\n",
      " 'ding, y., zhang, x., amiri, s., cao, n., yang, h., esselink, c. and zhang, '\n",
      " 's., 2022. robot task planning and situation handling in open worlds. arxiv '\n",
      " 'preprint arxiv : 2210. 01287. [ 19')\n",
      "\n",
      "('mance increase in simulated evaluations and a 14 % increase in physical '\n",
      " 'evaluations compared to the baseline, showcasing the efficacy of the '\n",
      " 'proposed approach. keywords : human - robot interaction, robotics, robot - '\n",
      " 'arm, large language models, computer vision, natural language processing 1 '\n",
      " 'introduction the field of robotics has experienced notable progress, '\n",
      " 'primarily propelled by the integration of deep learning techniques in '\n",
      " 'perception, planning, and manipulation [ 3 ]. recent advancements in large '\n",
      " 'language models ( llms ), exemplified by gpt and its successors, have '\n",
      " 'positioned these models as transformative tools across diverse robot '\n",
      " 'learning applications [ 4 ] [ 5 ]. with the impending realisation of general '\n",
      " '- purpose robots ( gprs ), llms have garnered significant attention for '\n",
      " 'their potential to revolutionize robot planning, a crucial aspect of '\n",
      " 'autonomous systems [ 12 ]. the capacity to plan actions, make informed '\n",
      " 'decisions based on language - defined instructions, and adapt to dynamic')\n",
      "\n",
      "('employed to improve robotic task planning and execution [ 37 ] [ 20 ]. '\n",
      " 'tidybot show how llms can be used in the personalisation of robot policy [ 2 '\n",
      " ']. prior studies have delved into the application of large language models ( '\n",
      " 'llms ) in planning within a communicative environment [ 47 ]. in their work, '\n",
      " 'a specialized framework was formulated for cooperative agents operating '\n",
      " 'within a multi - agent embodied environment. showcasing the capabilities of '\n",
      " 'the gpt - 4 model, the investigation illustrated its capacity to outperform '\n",
      " 'robust planning - based methods, exemplifying emergent effective '\n",
      " 'communication devoid of the necessity for fine - tuning. the llm - mcts ( '\n",
      " 'monte carlo tree search ) investigation contributed valuable insights by '\n",
      " 'reveal - ing that llms not only provide a policy for action but also offer a '\n",
      " 'commonsense model of the world [ 45 ]. monte carlo tree search, a powerful '\n",
      " 'search algorithm, was employed in this exploration. this')\n",
      "\n",
      "('and narasimhan, k., 2023. tree of thoughts : deliberate problem solving with '\n",
      " 'large language models. arxiv preprint arxiv : 2305. 10601. [ 47 ] zhang, h., '\n",
      " 'du, w., shan, j., zhou, q., du, y., tenenbaum, j. b., shu, t. and gan, c., '\n",
      " '2023. building cooperative embodied agents modularly with large language '\n",
      " 'models. arxiv preprint arxiv : 2307. 02485.')\n",
      "\n",
      "('introduces compelling opportunities and challenges, paving the way for the '\n",
      " 'evolution of intelligent and interactive robots. previous studies have '\n",
      " 'demonstrated llms ’ potential as generalist planners for robot task '\n",
      " 'execution in natural language. this research aims to contribute by '\n",
      " 'transforming llm - generated plans into an interactive process, fostering '\n",
      " 'continuous interaction between the user and the robot through the llm. 13 '\n",
      " 'prospective avenues for the project involve exploring the involvement of '\n",
      " 'other ai language mod - els in evaluating plans generated by the llm and '\n",
      " 'providing iterative feedback until successful task completion. '\n",
      " 'alternatively, implementing a comprehensive memory system for the robot llm, '\n",
      " 'akin to generative agents ’ [ 56 ] work, could enhance the llm ’ s ability '\n",
      " 'to actively learn from these interactions. references [ 1 ] huang, s., '\n",
      " 'jiang, z., dong, h., qiao, y., gao, p. and li, h. ( 2023 ). instruct2act : '\n",
      " 'mapping multi -')\n",
      "\n"
     ]
    }
   ],
   "source": [
    "query = \"What is the strategy around artificial intelligence (AI) ?\"\n",
    "results = collection.query(query_texts=query, n_results=5, include=['documents', 'embeddings'])\n",
    "\n",
    "retrieved_documents = results['documents'][0]\n",
    "\n",
    "for document in results['documents'][0]:\n",
    "    pprint(document)\n",
    "    print('')"
   ]
  },
  {
   "cell_type": "code",
   "execution_count": 32,
   "metadata": {},
   "outputs": [
    {
     "name": "stderr",
     "output_type": "stream",
     "text": [
      "100%|██████████| 1/1 [00:00<00:00, 141.80it/s]\n",
      "100%|██████████| 5/5 [00:00<00:00, 9258.95it/s]\n"
     ]
    }
   ],
   "source": [
    "query_embedding = embedding_function([query])[0]\n",
    "retrieved_embeddings = results['embeddings'][0]\n",
    "\n",
    "projected_query_embedding = project_embeddings([query_embedding], embedding_pca_func)\n",
    "projected_retrieved_embeddings = project_embeddings(retrieved_embeddings, embedding_pca_func)\n"
   ]
  },
  {
   "cell_type": "code",
   "execution_count": 33,
   "metadata": {},
   "outputs": [
    {
     "data": {
      "text/plain": [
       "(-0.4443726856240486,\n",
       " 0.8054211447550191,\n",
       " -0.3921210699098899,\n",
       " 0.6763395972792635)"
      ]
     },
     "execution_count": 33,
     "metadata": {},
     "output_type": "execute_result"
    },
    {
     "data": {
      "image/png": "[encoded data removed]",
      "text/plain": [
       "<Figure size 640x480 with 1 Axes>"
      ]
     },
     "metadata": {},
     "output_type": "display_data"
    }
   ],
   "source": [
    "# Plot the projected query and retrieved documents in the embedding space\n",
    "plt.figure()\n",
    "plt.scatter(projected_dataset_embeddings[:, 0], projected_dataset_embeddings[:, 1], s=10, color='gray')\n",
    "plt.scatter(projected_query_embedding[:, 0], projected_query_embedding[:, 1], s=150, marker='X', color='r')\n",
    "plt.scatter(projected_retrieved_embeddings[:, 0], projected_retrieved_embeddings[:, 1], s=100, facecolors='none', edgecolors='g')\n",
    "\n",
    "plt.gca().set_aspect('equal', 'datalim')\n",
    "plt.title(f'{query}')\n",
    "plt.axis('off')"
   ]
  },
  {
   "cell_type": "code",
   "execution_count": 34,
   "metadata": {},
   "outputs": [
    {
     "name": "stdout",
     "output_type": "stream",
     "text": [
      "('ca, s., costa, e., castellucci, i. and arezes, p. m., 2019. a brief overview '\n",
      " 'of the use of')\n",
      "\n",
      "('] yu, w., gileadi, n., fu, c., kirmani, s., lee, k. h., arenas, m. g., '\n",
      " 'chiang, h. t. l., erez, t., hasenclever, l., humplik, j. and ichter, b., '\n",
      " '2023. language to rewards for robotic skill synthesis. arxiv preprint arxiv '\n",
      " ': 2306. 08647. [ 20 ] jiang, y., gupta, a., zhang, z., wang, g., dou, y., '\n",
      " 'chen, y., fei - fei, l., anandkumar, a.,')\n",
      "\n",
      "('ing that llms not only provide a policy for action but also offer a '\n",
      " 'commonsense model of the world [ 45 ]. monte carlo tree search, a powerful '\n",
      " 'search algorithm, was employed in this exploration. this involved '\n",
      " 'integrating the world model into the policy for a search algorithm like '\n",
      " 'mcts. concurrently, llms with tree - of - thought ( llm - tot ) approach '\n",
      " 'adopted a tree - based strategy, enabling llms to engage in deliberate '\n",
      " 'decision - making by assessing various reasoning paths and self - evaluating '\n",
      " 'choices to determine the subsequent course of action [ 46 ]. the results of '\n",
      " 'these studies highlight the effectiveness of search - based plan generation '\n",
      " 'over policies induced by llms. nevertheless, given the straightforward '\n",
      " 'nature of the tasks in these experiments, the decision is made to refrain '\n",
      " 'from employing the search - based approach. instead, reliance is placed on '\n",
      " 'the llm - induced policies in their original form. recent research endeavors '\n",
      " 'have prominently concentrated on formulating task plans grounded')\n",
      "\n",
      "('tasks, involving collaboration between a single robot and a human partner. '\n",
      " '1. 1. 2 collaborative robot arms in industry collaborative robotics, also '\n",
      " 'known as cobots, represent a transformative paradigm in the manufac - turing '\n",
      " 'and industrial sectors [ 54 ]. these robots are designed to work alongside '\n",
      " 'human operators, facilitating safer, more efficient, and highly flexible '\n",
      " 'production processes [ 27 ]. a convergence of research in safety, human - '\n",
      " 'robot interaction, task allocation, programming interfaces, industry - '\n",
      " 'specific applications, and connectivity has laid the foundation for the '\n",
      " 'widespread adoption of collaborative robots in a variety of industrial '\n",
      " 'settings [ 28 ]. collaborative robotics has brought transformative changes '\n",
      " 'to the industrial landscape, offer - ing innovative solutions for improving '\n",
      " 'efficiency, safety, and flexibility in manufacturing processes [ 29 ]. '\n",
      " 'research conducted by marcel bergerman and silvio m. maeta primarily '\n",
      " 'concentrates on the')\n",
      "\n",
      "('in collaborative and assistive robotics, researchers explore scenarios where '\n",
      " 'robots work alongside humans to enhance productivity or provide assistance [ '\n",
      " '24 ] [ 26 ]. pioneering investigations in human - robot interaction have '\n",
      " 'explored various applications, such as robot - assisted therapy. notable '\n",
      " 'research in this domain includes efforts to leverage social robots for '\n",
      " 'aiding low - functioning children with autism 2 [ 25 ]. the broader '\n",
      " 'landscape of human - robot interaction encompasses a diverse spectrum of '\n",
      " 'studies and advancements, covering aspects like social robotics, design '\n",
      " 'principles, collaborative frameworks, ethical considerations, and '\n",
      " 'technological innovations [ 53 ] [ 52 ]. in the context of this research '\n",
      " 'project, a dyadic interaction system is devised to facilitate human - robot '\n",
      " 'interaction in the planning of robot tasks, involving collaboration between '\n",
      " 'a single robot and a human partner. 1. 1. 2 collaborative robot arms in '\n",
      " 'industry')\n",
      "\n"
     ]
    }
   ],
   "source": [
    "query = \"What has been the investment in research and development?\"\n",
    "results = collection.query(query_texts=query, n_results=5, include=['documents', 'embeddings'])\n",
    "\n",
    "retrieved_documents = results['documents'][0]\n",
    "\n",
    "for document in results['documents'][0]:\n",
    "    pprint(document)\n",
    "    print('')"
   ]
  },
  {
   "cell_type": "code",
   "execution_count": 36,
   "metadata": {},
   "outputs": [
    {
     "name": "stderr",
     "output_type": "stream",
     "text": [
      "100%|██████████| 1/1 [00:00<00:00, 2563.76it/s]\n",
      "100%|██████████| 5/5 [00:00<00:00, 6923.58it/s]\n"
     ]
    }
   ],
   "source": [
    "query_embedding = embedding_function([query])[0]\n",
    "retrieved_embeddings = results['embeddings'][0]\n",
    "\n",
    "projected_query_embedding = project_embeddings([query_embedding], embedding_pca_func)\n",
    "projected_retrieved_embeddings = project_embeddings(retrieved_embeddings, embedding_pca_func)\n"
   ]
  },
  {
   "cell_type": "code",
   "execution_count": 37,
   "metadata": {},
   "outputs": [
    {
     "data": {
      "text/plain": [
       "(-0.4443726856240486,\n",
       " 0.8054211447550191,\n",
       " -0.3921210699098899,\n",
       " 0.6763395972792635)"
      ]
     },
     "execution_count": 37,
     "metadata": {},
     "output_type": "execute_result"
    },
    {
     "data": {
      "image/png": "[encoded data removed]",
      "text/plain": [
       "<Figure size 640x480 with 1 Axes>"
      ]
     },
     "metadata": {},
     "output_type": "display_data"
    }
   ],
   "source": [
    "# Plot the projected query and retrieved documents in the embedding space\n",
    "plt.figure()\n",
    "plt.scatter(projected_dataset_embeddings[:, 0], projected_dataset_embeddings[:, 1], s=10, color='gray')\n",
    "plt.scatter(projected_query_embedding[:, 0], projected_query_embedding[:, 1], s=150, marker='X', color='r')\n",
    "plt.scatter(projected_retrieved_embeddings[:, 0], projected_retrieved_embeddings[:, 1], s=100, facecolors='none', edgecolors='g')\n",
    "\n",
    "plt.gca().set_aspect('equal', 'datalim')\n",
    "plt.title(f'{query}')\n",
    "plt.axis('off')"
   ]
  },
  {
   "cell_type": "code",
   "execution_count": 38,
   "metadata": {},
   "outputs": [
    {
     "name": "stdout",
     "output_type": "stream",
     "text": [
      "('– 63. doi : https : / / doi. org / 10. 1109 / mra. 2014. 2369292. 15 [ 32 ] '\n",
      " 'vaswani, a., shazeer, n., parmar, n., uszkoreit, j., jones, l., gomez, a. '\n",
      " 'n., kaiser, l. and')\n",
      "\n",
      "('highlights key approaches in the realm of zero - shot learning and '\n",
      " 'detection, providing a foundation for the current research. 1. 1. 5 llms for '\n",
      " 'robot planning the integration of llms with robotics has opened new '\n",
      " 'frontiers in robot planning and execution [ 17 ]. these models empower '\n",
      " 'robots with natural language understanding, enabling them to interact with '\n",
      " 'humans and external systems through text or speech [ 10 ]. one of the '\n",
      " 'foundational applications of llms in robotics is the understanding of '\n",
      " 'natural lan - guage commands [ 4 ] [ 9 ]. research in this area has explored '\n",
      " 'methods for mapping text or spoken language into executable robot commands [ '\n",
      " '1 ]. seminal works by brohan et al. and jiang et al. have demonstrated the '\n",
      " 'feasibility of converting human instructions into robot actions. llms have '\n",
      " 'been employed to improve robotic task planning and execution [ 37 ] [ 20 ]. '\n",
      " 'tidybot show how llms can be used in the personalisation of robot policy [ 2 '\n",
      " '].')\n",
      "\n",
      "('mance increase in simulated evaluations and a 14 % increase in physical '\n",
      " 'evaluations compared to the baseline, showcasing the efficacy of the '\n",
      " 'proposed approach. keywords : human - robot interaction, robotics, robot - '\n",
      " 'arm, large language models, computer vision, natural language processing 1 '\n",
      " 'introduction the field of robotics has experienced notable progress, '\n",
      " 'primarily propelled by the integration of deep learning techniques in '\n",
      " 'perception, planning, and manipulation [ 3 ]. recent advancements in large '\n",
      " 'language models ( llms ), exemplified by gpt and its successors, have '\n",
      " 'positioned these models as transformative tools across diverse robot '\n",
      " 'learning applications [ 4 ] [ 5 ]. with the impending realisation of general '\n",
      " '- purpose robots ( gprs ), llms have garnered significant attention for '\n",
      " 'their potential to revolutionize robot planning, a crucial aspect of '\n",
      " 'autonomous systems [ 12 ]. the capacity to plan actions, make informed '\n",
      " 'decisions based on language - defined instructions, and adapt to dynamic')\n",
      "\n",
      "('to revolutionize robot planning, a crucial aspect of autonomous systems [ 12 '\n",
      " ']. the capacity to plan actions, make informed decisions based on language - '\n",
      " 'defined instructions, and adapt to dynamic environments is paramount for '\n",
      " 'robots operating in real - world scenarios. this research explores the '\n",
      " 'application of llms in the domain of robot planning, emphasizing the '\n",
      " 'incorporation of human feedback to enhance the robustness and accuracy of '\n",
      " 'the generated task execution plan. the proposed end - to - end solution '\n",
      " 'leverages zero - shot learning vision models for object detection, vision - '\n",
      " 'language models for scene description, and the manipulation of a physical '\n",
      " 'robot arm using generated instructions. traditionally, robot planning relied '\n",
      " 'on carefully crafted algorithms, heuristics, or learning - based techniques '\n",
      " 'like reinforcement learning or imitation learning. while fruitful, these '\n",
      " 'approaches often encounter challenges in unstructured environments, diverse '\n",
      " 'tasks, and nuanced human interactions [ 14 ]. 1')\n",
      "\n",
      "('ca, s., costa, e., castellucci, i. and arezes, p. m., 2019. a brief overview '\n",
      " 'of the use of')\n",
      "\n"
     ]
    }
   ],
   "source": [
    "query = \"What has Michael Jordan done for us lately?\"\n",
    "results = collection.query(query_texts=query, n_results=5, include=['documents', 'embeddings'])\n",
    "\n",
    "retrieved_documents = results['documents'][0]\n",
    "\n",
    "for document in results['documents'][0]:\n",
    "    pprint(document)\n",
    "    print('')"
   ]
  },
  {
   "cell_type": "code",
   "execution_count": 39,
   "metadata": {},
   "outputs": [
    {
     "name": "stderr",
     "output_type": "stream",
     "text": [
      "100%|██████████| 1/1 [00:00<00:00, 791.68it/s]\n",
      "100%|██████████| 5/5 [00:00<00:00, 9086.45it/s]\n"
     ]
    }
   ],
   "source": [
    "query_embedding = embedding_function([query])[0]\n",
    "retrieved_embeddings = results['embeddings'][0]\n",
    "\n",
    "projected_query_embedding = project_embeddings([query_embedding], embedding_pca_func)\n",
    "projected_retrieved_embeddings = project_embeddings(retrieved_embeddings, embedding_pca_func)\n"
   ]
  },
  {
   "cell_type": "code",
   "execution_count": 40,
   "metadata": {},
   "outputs": [
    {
     "data": {
      "text/plain": [
       "(-0.4443726856240486,\n",
       " 0.8054211447550191,\n",
       " -0.3921210699098899,\n",
       " 0.6763395972792635)"
      ]
     },
     "execution_count": 40,
     "metadata": {},
     "output_type": "execute_result"
    },
    {
     "data": {
      "image/png": "[encoded data removed]",
      "text/plain": [
       "<Figure size 640x480 with 1 Axes>"
      ]
     },
     "metadata": {},
     "output_type": "display_data"
    }
   ],
   "source": [
    "# Plot the projected query and retrieved documents in the embedding space\n",
    "plt.figure()\n",
    "plt.scatter(projected_dataset_embeddings[:, 0], projected_dataset_embeddings[:, 1], s=10, color='gray')\n",
    "plt.scatter(projected_query_embedding[:, 0], projected_query_embedding[:, 1], s=150, marker='X', color='r')\n",
    "plt.scatter(projected_retrieved_embeddings[:, 0], projected_retrieved_embeddings[:, 1], s=100, facecolors='none', edgecolors='g')\n",
    "\n",
    "plt.gca().set_aspect('equal', 'datalim')\n",
    "plt.title(f'{query}')\n",
    "plt.axis('off')"
   ]
  },
  {
   "cell_type": "code",
   "execution_count": 41,
   "metadata": {},
   "outputs": [
    {
     "name": "stdout",
     "output_type": "stream",
     "text": [
      "('https : / / www. intelrealsense. com / depth - camera - d435i /. [ 52 ] w. '\n",
      " 'a. bainbridge, j. hart, e. s. kim and b. scassellati, ” the effect of '\n",
      " 'presence on human - robot interaction, ” ro - man 2008 - the 17th ieee '\n",
      " 'international symposium on robot and human interactive communication, '\n",
      " 'munich, germany, 2008, pp. 701 - 706, doi : 10. 1109 / ro - man. 2008. '\n",
      " '4600749. [ 53 ] a. vick, d. surdilovic and j. kr¨ uger, ” safe physical '\n",
      " 'human - robot interaction with industrial dual - arm robots, ” 9th '\n",
      " 'international workshop on robot motion and control, kuslin, poland, 2013, '\n",
      " 'pp. 264 - 269, doi : 10. 1109 / romoco. 2013. 6614619. [ 54 ] [UNK] ca, s., '\n",
      " 'costa, e., castellucci, i. and arezes, p. m., 2019. a brief overview of the '\n",
      " 'use of collaborative robots in industry 4. 0 : human role and safety. '\n",
      " 'occupational and environmental safety and health, pp. 641 - 650. [ 55 ] '\n",
      " '[UNK]')\n",
      "\n",
      "('to the simulated environment, as depicted in figure 5, incorporating a top - '\n",
      " 'view camera for vision skills and employing analogous objects and receptors. '\n",
      " 'robot arm. the niryo ned robot is a collaborative robot arm which can be '\n",
      " 'used in both research and industrial applications [ 50 ], this is used as '\n",
      " 'the robot arm for the experiment. the robot connects to a shared network '\n",
      " 'with an apple m1 macbook serving as the controller device, equipped with up '\n",
      " 'to 10 cpu cores, a high - performance gpu boasting 16 cores, a neural '\n",
      " 'engine, and a unified memory architecture with 16gb of ram, facilitating '\n",
      " 'instruction transmission to the robot arm over the network. image and depth '\n",
      " 'camera a testbed setup is established for the experiment, incorporating the '\n",
      " 'installation of the intel realsense d435i image and depth camera. the robot '\n",
      " 'is positioned in a stable configuration beneath the camera setup to ensure '\n",
      " 'accuracy in pixel - to - coordinate value transformations, as depicted in '\n",
      " 'figure 5 [ 51 ].')\n",
      "\n",
      "('a stable configuration beneath the camera setup to ensure accuracy in pixel '\n",
      " '- to - coordinate value transformations, as depicted in figure 5 [ 51 ]. for '\n",
      " 'the physical evaluation, two tabletop manipulation tasks closely resembling '\n",
      " 'the visual manipu - lation task outlined in vimabench are selected, as '\n",
      " 'depicted in figure 6. the evaluation encompasses the following tasks : 1. '\n",
      " 'task a pick and place single object : in this task, the robot is positioned '\n",
      " 'within a scene featuring a solitary lego block positioned between two '\n",
      " 'receptors — a green box and a blue box. the system is directed to position '\n",
      " 'the block in a designated receptor, for example, ’ place the blue block in '\n",
      " 'the green bowl ’. 2. task b pick and place multiple objects : in this task, '\n",
      " 'the robot is situated within a scene compris - ing multiple lego blocks and '\n",
      " 'two receptors — a green box and a blue box. the system is directed to '\n",
      " 'arrange multiple items into distinct receptors in a predetermined order, for '\n",
      " 'instance, placing the')\n",
      "\n",
      "('assessments on an operational robotic platform tailored for specific '\n",
      " 'tabletop manipulation tasks. figure 1 : human robot interaction through '\n",
      " 'joint planning with llm system diagram. the diagram emphasizes the intricate '\n",
      " 'dynamics between the human user and the llm, with the storage of inter - '\n",
      " 'action context in the message stream and subsequent execution of the robot '\n",
      " 'plan. 1. 1 related work 1. 1. 1 human - robot interaction human - robot '\n",
      " 'interaction ( hri ) is a multidisciplinary field that explores the design, '\n",
      " 'development, and evaluation of systems where humans and robots interact in '\n",
      " 'various settings. over the years, hri has witnessed significant '\n",
      " 'advancements, leading to an array of research and applications [ 23 ]. in '\n",
      " 'collaborative and assistive robotics, researchers explore scenarios where '\n",
      " 'robots work alongside humans to enhance productivity or provide assistance [ '\n",
      " '24 ] [ 26 ]. pioneering investigations in human -')\n",
      "\n",
      "('prompt and sent to the llm, the llm then uses this information to generate '\n",
      " 'the robot execution plan. 2. 5 motion and manipulation a set of rule - based '\n",
      " 'actions is devised for the robot, encompassing operations such as pick - and '\n",
      " '- place, pick, move - left, etc. these actions are meticulously crafted and '\n",
      " 'fine - tuned for enhanced accuracy. the functions are accessible through '\n",
      " 'apis and can be executed sequentially when the robot plan is generated. '\n",
      " 'termed as ’ skills, ’ these actions represent a defined set of activities '\n",
      " 'achievable by the robot. this methodology integrates the components of the '\n",
      " 'research, emphasizing the comprehensive approach utilized to facilitate '\n",
      " 'joint robot planning through human - robot interaction with the assistance '\n",
      " 'of llms. 3 experimental setup and procedure to empirically assess the '\n",
      " 'effectiveness of the system, a series of experiments were conducted in both '\n",
      " 'simulated and physical environments, each involving a solitary human '\n",
      " 'participant. a terminal')\n",
      "\n"
     ]
    }
   ],
   "source": [
    "query = \"What robot arm was used in the experiment?\"\n",
    "results = collection.query(query_texts=query, n_results=5, include=['documents', 'embeddings'])\n",
    "\n",
    "retrieved_documents = results['documents'][0]\n",
    "\n",
    "for document in results['documents'][0]:\n",
    "    pprint(document)\n",
    "    print('')"
   ]
  },
  {
   "cell_type": "code",
   "execution_count": 42,
   "metadata": {},
   "outputs": [
    {
     "name": "stderr",
     "output_type": "stream",
     "text": [
      "100%|██████████| 1/1 [00:00<00:00, 707.18it/s]\n",
      "100%|██████████| 5/5 [00:00<00:00, 6009.03it/s]\n"
     ]
    }
   ],
   "source": [
    "query_embedding = embedding_function([query])[0]\n",
    "retrieved_embeddings = results['embeddings'][0]\n",
    "\n",
    "projected_query_embedding = project_embeddings([query_embedding], embedding_pca_func)\n",
    "projected_retrieved_embeddings = project_embeddings(retrieved_embeddings, embedding_pca_func)"
   ]
  },
  {
   "cell_type": "code",
   "execution_count": 43,
   "metadata": {},
   "outputs": [
    {
     "data": {
      "text/plain": [
       "(-0.4443726856240486,\n",
       " 0.8054211447550191,\n",
       " -0.3921210699098899,\n",
       " 0.6763395972792635)"
      ]
     },
     "execution_count": 43,
     "metadata": {},
     "output_type": "execute_result"
    },
    {
     "data": {
      "image/png": "[encoded data removed]",
      "text/plain": [
       "<Figure size 640x480 with 1 Axes>"
      ]
     },
     "metadata": {},
     "output_type": "display_data"
    }
   ],
   "source": [
    "# Plot the projected query and retrieved documents in the embedding space\n",
    "plt.figure()\n",
    "plt.scatter(projected_dataset_embeddings[:, 0], projected_dataset_embeddings[:, 1], s=10, color='gray')\n",
    "plt.scatter(projected_query_embedding[:, 0], projected_query_embedding[:, 1], s=150, marker='X', color='r')\n",
    "plt.scatter(projected_retrieved_embeddings[:, 0], projected_retrieved_embeddings[:, 1], s=100, facecolors='none', edgecolors='g')\n",
    "\n",
    "plt.gca().set_aspect('equal', 'datalim')\n",
    "plt.title(f'{query}')\n",
    "plt.axis('off')"
   ]
  }
 ],
 "metadata": {
  "kernelspec": {
   "display_name": "venv",
   "language": "python",
   "name": "python3"
  },
  "language_info": {
   "codemirror_mode": {
    "name": "ipython",
    "version": 3
   },
   "file_extension": ".py",
   "mimetype": "text/x-python",
   "name": "python",
   "nbconvert_exporter": "python",
   "pygments_lexer": "ipython3",
   "version": "3.11.5"
  }
 },
 "nbformat": 4,
 "nbformat_minor": 2
}
