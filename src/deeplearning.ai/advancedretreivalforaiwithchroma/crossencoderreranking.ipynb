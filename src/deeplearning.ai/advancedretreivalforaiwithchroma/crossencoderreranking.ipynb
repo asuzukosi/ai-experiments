{
 "cells": [
  {
   "cell_type": "markdown",
   "metadata": {},
   "source": [
    "### Cross encoder reranking \n",
    "Cross encoder reranking is a retreival optimization technique that is provided by chroma. In this section we will be diving into the technique in detail"
   ]
  },
  {
   "cell_type": "code",
   "execution_count": null,
   "metadata": {},
   "outputs": [],
   "source": []
  }
 ],
 "metadata": {
  "language_info": {
   "name": "python"
  }
 },
 "nbformat": 4,
 "nbformat_minor": 2
}
