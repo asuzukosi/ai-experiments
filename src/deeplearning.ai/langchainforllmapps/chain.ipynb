{
 "cells": [
  {
   "cell_type": "markdown",
   "metadata": {},
   "source": [
    "## Chain\n",
    "The chain is the core component of the langchain package. In this section we would be doing a deep dive into \n",
    "understanding how the langchain chains work and how we can use them in our applications. \n",
    "An entire startup can be composed purely using a set of langchain chains. Without any additional overhead\n"
   ]
  },
  {
   "cell_type": "code",
   "execution_count": 2,
   "metadata": {},
   "outputs": [],
   "source": [
    "from langchain_openai.chat_models import ChatOpenAI\n",
    "from langchain_core.prompts import ChatPromptTemplate\n",
    "from langchain.chains import LLMChain\n",
    "from dotenv import load_dotenv"
   ]
  },
  {
   "cell_type": "code",
   "execution_count": 3,
   "metadata": {},
   "outputs": [
    {
     "data": {
      "text/plain": [
       "True"
      ]
     },
     "execution_count": 3,
     "metadata": {},
     "output_type": "execute_result"
    }
   ],
   "source": [
    "load_dotenv()"
   ]
  },
  {
   "cell_type": "code",
   "execution_count": 5,
   "metadata": {},
   "outputs": [
    {
     "data": {
      "text/html": [
       "<div>\n",
       "<style scoped>\n",
       "    .dataframe tbody tr th:only-of-type {\n",
       "        vertical-align: middle;\n",
       "    }\n",
       "\n",
       "    .dataframe tbody tr th {\n",
       "        vertical-align: top;\n",
       "    }\n",
       "\n",
       "    .dataframe thead th {\n",
       "        text-align: right;\n",
       "    }\n",
       "</style>\n",
       "<table border=\"1\" class=\"dataframe\">\n",
       "  <thead>\n",
       "    <tr style=\"text-align: right;\">\n",
       "      <th></th>\n",
       "      <th>Product</th>\n",
       "      <th>Review</th>\n",
       "    </tr>\n",
       "  </thead>\n",
       "  <tbody>\n",
       "    <tr>\n",
       "      <th>0</th>\n",
       "      <td>Smartphone X</td>\n",
       "      <td>I love my new Smartphone X! The camera quality...</td>\n",
       "    </tr>\n",
       "    <tr>\n",
       "      <th>1</th>\n",
       "      <td>Wireless Headphones Y</td>\n",
       "      <td>Wireless Headphones Y provide excellent sound ...</td>\n",
       "    </tr>\n",
       "    <tr>\n",
       "      <th>2</th>\n",
       "      <td>Smart Watch Z</td>\n",
       "      <td>Smart Watch Z exceeded my expectations! It has...</td>\n",
       "    </tr>\n",
       "  </tbody>\n",
       "</table>\n",
       "</div>"
      ],
      "text/plain": [
       "                 Product                                             Review\n",
       "0           Smartphone X  I love my new Smartphone X! The camera quality...\n",
       "1  Wireless Headphones Y  Wireless Headphones Y provide excellent sound ...\n",
       "2          Smart Watch Z  Smart Watch Z exceeded my expectations! It has..."
      ]
     },
     "execution_count": 5,
     "metadata": {},
     "output_type": "execute_result"
    }
   ],
   "source": [
    "import pandas as pd\n",
    "\n",
    "# Data for three products and their reviews\n",
    "data = {\n",
    "    'Product': ['Smartphone X', 'Wireless Headphones Y', 'Smart Watch Z'],\n",
    "    'Review': [\n",
    "        'I love my new Smartphone X! The camera quality is amazing, and the performance is top-notch. The battery life is also impressive.',\n",
    "        'Wireless Headphones Y provide excellent sound quality and are very comfortable to wear. The noise cancellation feature works like a charm.',\n",
    "        'Smart Watch Z exceeded my expectations! It has a sleek design, and the fitness tracking features are incredibly accurate. The battery life is outstanding.'\n",
    "    ]\n",
    "}\n",
    "\n",
    "# Creating a DataFrame\n",
    "df = pd.DataFrame(data)\n",
    "\n",
    "# Displaying the DataFrame\n",
    "df.head()\n"
   ]
  }
 ],
 "metadata": {
  "kernelspec": {
   "display_name": "venv",
   "language": "python",
   "name": "python3"
  },
  "language_info": {
   "codemirror_mode": {
    "name": "ipython",
    "version": 3
   },
   "file_extension": ".py",
   "mimetype": "text/x-python",
   "name": "python",
   "nbconvert_exporter": "python",
   "pygments_lexer": "ipython3",
   "version": "3.11.5"
  }
 },
 "nbformat": 4,
 "nbformat_minor": 2
}
