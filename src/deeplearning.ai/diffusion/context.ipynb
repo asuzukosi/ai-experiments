{
 "cells": [
  {
   "cell_type": "markdown",
   "metadata": {},
   "source": [
    "# Context for Controlling diffusion models"
   ]
  },
  {
   "cell_type": "markdown",
   "metadata": {},
   "source": [
    "#### Adding context to the denoising process of the diffusion model to control the generation of the model"
   ]
  },
  {
   "cell_type": "code",
   "execution_count": null,
   "metadata": {},
   "outputs": [],
   "source": [
    "import torch.nn as nn\n",
    "import torch.nn.functional as F\n",
    "import torch\n",
    "from torch.utils.data import DataLoader \n",
    "from torchvision import models, transforms\n",
    "from torchvision.utils import save_image, make_grid\n",
    "import matplotlib.pyplot as plt\n",
    "import numpy as np\n",
    "from typing import Dict, Tuple \n",
    "from tqdm import tqdm\n",
    "from matplotlib.animation import FuncAnimation, PillowWriter"
   ]
  },
  {
   "cell_type": "markdown",
   "metadata": {},
   "source": [
    "### Sampling with context"
   ]
  },
  {
   "cell_type": "code",
   "execution_count": null,
   "metadata": {},
   "outputs": [],
   "source": [
    "def denoise_add_noise(x, t, pred_noise, z=None):\n",
    "    if z is None:\n",
    "        z = torch.randn_like(x)\n",
    "    noise = b_t.sqrt()[t] * z\n",
    "    mean = (x - pred_noise * ((1 - a_t[t])) / (1 - ab_t[t].sqrt())) / a_t[t].sqrt()\n",
    "    return mean + noise"
   ]
  },
  {
   "cell_type": "code",
   "execution_count": null,
   "metadata": {},
   "outputs": [],
   "source": [
    "device = torch.device(\"cuda:0\" if torch.cuda.is_available() else torch.device(\"cpu\"))\n",
    "timesteps = 500"
   ]
  },
  {
   "cell_type": "code",
   "execution_count": null,
   "metadata": {},
   "outputs": [],
   "source": [
    "@torch.no_grad()\n",
    "def sample_ddqm_context(n_sample, context, save_rate=20):\n",
    "    samples = torch.randn(n_sample, 3, height, height).to(device)\n",
    "    intermidiate = []\n",
    "    for i in range(timestamps, 0, -1):\n",
    "        print(f'sampling timestep {i:3d}', end='\\r')\n",
    "        t = torch.tensor([i / timesteps])[:None, None, None].to(device)\n",
    "        \n",
    "        z  = torch.randn_like(samples) if i > 1 else 0\n",
    "        eps = nn_model(sampels, t, c=context)\n",
    "        samples = denoise_add_noise(samples, i, eps, z)\n",
    "        if i % save_rate == 0 or i == timesteps or i < 8:\n",
    "            intermidiate.append(samples.detach().cpu().numpy())\n",
    "    \n",
    "    intermidiate = np.stack(intermidiate)\n",
    "    return samples, intermidiate"
   ]
  },
  {
   "cell_type": "code",
   "execution_count": null,
   "metadata": {},
   "outputs": [],
   "source": [
    "plt.clf()\n",
    "ctx = F.one_hot(torch.randint(0, 5, (32,)), 5).to(device=device).float()\n",
    "samples, intermediate = sample_ddqm_context(32, ctx)\n",
    "animation_ddqm_context = plot_sample(intermediate, 32, 4, save_dir, \"ani_run\", None, save=False)\n",
    "HTML(animation_ddqm_context.to_jshtml())"
   ]
  }
 ],
 "metadata": {
  "language_info": {
   "name": "python"
  }
 },
 "nbformat": 4,
 "nbformat_minor": 2
}
