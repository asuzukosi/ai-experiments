{
  "cells": [
    {
      "cell_type": "markdown",
      "metadata": {
        "id": "view-in-github",
        "colab_type": "text"
      },
      "source": [
        "<a href=\"https://colab.research.google.com/github/asuzukosi/ai-experiments/blob/main/src/react_agent_finetune.ipynb\" target=\"_parent\"><img src=\"https://colab.research.google.com/assets/colab-badge.svg\" alt=\"Open In Colab\"/></a>"
      ]
    },
    {
      "cell_type": "markdown",
      "source": [
        "\n",
        "### Setup"
      ],
      "metadata": {
        "id": "2_D6fS4Inf7A"
      },
      "id": "2_D6fS4Inf7A"
    },
    {
      "cell_type": "code",
      "source": [
        "from google.colab import userdata\n",
        "\n",
        "\n",
        "import os\n",
        "os.environ[\"WANDB_API_KEY\"] = \"43f707a894e9e29362dda1b3706450e2b074e84b\"\n",
        "os.environ[\"OPENAI_API_KEY\"] = userdata.get('OPEN_AI_KEY')"
      ],
      "metadata": {
        "id": "-e4ffwKrD3YS"
      },
      "id": "-e4ffwKrD3YS",
      "execution_count": 1,
      "outputs": []
    },
    {
      "cell_type": "code",
      "source": [
        "!git clone https://github.com/run-llama/llama_index.git"
      ],
      "metadata": {
        "id": "waYQrn_XDrWM",
        "colab": {
          "base_uri": "https://localhost:8080/"
        },
        "outputId": "ef304cf6-d464-42a1-d931-a20e73de857e"
      },
      "id": "waYQrn_XDrWM",
      "execution_count": 2,
      "outputs": [
        {
          "output_type": "stream",
          "name": "stdout",
          "text": [
            "Cloning into 'llama_index'...\n",
            "remote: Enumerating objects: 49331, done.\u001b[K\n",
            "remote: Counting objects: 100% (15761/15761), done.\u001b[K\n",
            "remote: Compressing objects: 100% (1811/1811), done.\u001b[K\n",
            "remote: Total 49331 (delta 14356), reused 14109 (delta 13946), pack-reused 33570\u001b[K\n",
            "Receiving objects: 100% (49331/49331), 106.71 MiB | 16.38 MiB/s, done.\n",
            "Resolving deltas: 100% (35889/35889), done.\n"
          ]
        }
      ]
    },
    {
      "cell_type": "code",
      "source": [
        "%cd llama_index/docs/examples/finetuning/react_agent"
      ],
      "metadata": {
        "id": "hOmQSu9zDwqI",
        "colab": {
          "base_uri": "https://localhost:8080/"
        },
        "outputId": "b8090101-d728-48d0-a6e2-584368f40d69"
      },
      "id": "hOmQSu9zDwqI",
      "execution_count": 3,
      "outputs": [
        {
          "output_type": "stream",
          "name": "stdout",
          "text": [
            "/content/llama_index/docs/examples/finetuning/react_agent\n"
          ]
        }
      ]
    },
    {
      "cell_type": "code",
      "source": [
        "!pip install llama_index openai wandb"
      ],
      "metadata": {
        "colab": {
          "base_uri": "https://localhost:8080/"
        },
        "id": "1l01aew3Fb5K",
        "outputId": "50252050-c12a-4e11-88f1-1c2419a9f55b"
      },
      "id": "1l01aew3Fb5K",
      "execution_count": 4,
      "outputs": [
        {
          "output_type": "stream",
          "name": "stdout",
          "text": [
            "Collecting llama_index\n",
            "  Downloading llama_index-0.9.38-py3-none-any.whl (15.9 MB)\n",
            "\u001b[2K     \u001b[90m━━━━━━━━━━━━━━━━━━━━━━━━━━━━━━━━━━━━━━━━\u001b[0m \u001b[32m15.9/15.9 MB\u001b[0m \u001b[31m39.0 MB/s\u001b[0m eta \u001b[36m0:00:00\u001b[0m\n",
            "\u001b[?25hCollecting openai\n",
            "  Downloading openai-1.10.0-py3-none-any.whl (225 kB)\n",
            "\u001b[2K     \u001b[90m━━━━━━━━━━━━━━━━━━━━━━━━━━━━━━━━━━━━━━━━\u001b[0m \u001b[32m225.1/225.1 kB\u001b[0m \u001b[31m25.3 MB/s\u001b[0m eta \u001b[36m0:00:00\u001b[0m\n",
            "\u001b[?25hCollecting wandb\n",
            "  Downloading wandb-0.16.2-py3-none-any.whl (2.2 MB)\n",
            "\u001b[2K     \u001b[90m━━━━━━━━━━━━━━━━━━━━━━━━━━━━━━━━━━━━━━━━\u001b[0m \u001b[32m2.2/2.2 MB\u001b[0m \u001b[31m53.4 MB/s\u001b[0m eta \u001b[36m0:00:00\u001b[0m\n",
            "\u001b[?25hRequirement already satisfied: SQLAlchemy[asyncio]>=1.4.49 in /usr/local/lib/python3.10/dist-packages (from llama_index) (2.0.24)\n",
            "Requirement already satisfied: aiohttp<4.0.0,>=3.8.6 in /usr/local/lib/python3.10/dist-packages (from llama_index) (3.9.1)\n",
            "Collecting dataclasses-json (from llama_index)\n",
            "  Downloading dataclasses_json-0.6.3-py3-none-any.whl (28 kB)\n",
            "Collecting deprecated>=1.2.9.3 (from llama_index)\n",
            "  Downloading Deprecated-1.2.14-py2.py3-none-any.whl (9.6 kB)\n",
            "Requirement already satisfied: fsspec>=2023.5.0 in /usr/local/lib/python3.10/dist-packages (from llama_index) (2023.6.0)\n",
            "Collecting httpx (from llama_index)\n",
            "  Downloading httpx-0.26.0-py3-none-any.whl (75 kB)\n",
            "\u001b[2K     \u001b[90m━━━━━━━━━━━━━━━━━━━━━━━━━━━━━━━━━━━━━━━━\u001b[0m \u001b[32m75.9/75.9 kB\u001b[0m \u001b[31m9.6 MB/s\u001b[0m eta \u001b[36m0:00:00\u001b[0m\n",
            "\u001b[?25hRequirement already satisfied: nest-asyncio<2.0.0,>=1.5.8 in /usr/local/lib/python3.10/dist-packages (from llama_index) (1.6.0)\n",
            "Requirement already satisfied: networkx>=3.0 in /usr/local/lib/python3.10/dist-packages (from llama_index) (3.2.1)\n",
            "Requirement already satisfied: nltk<4.0.0,>=3.8.1 in /usr/local/lib/python3.10/dist-packages (from llama_index) (3.8.1)\n",
            "Requirement already satisfied: numpy in /usr/local/lib/python3.10/dist-packages (from llama_index) (1.23.5)\n",
            "Requirement already satisfied: pandas in /usr/local/lib/python3.10/dist-packages (from llama_index) (1.5.3)\n",
            "Requirement already satisfied: requests>=2.31.0 in /usr/local/lib/python3.10/dist-packages (from llama_index) (2.31.0)\n",
            "Requirement already satisfied: tenacity<9.0.0,>=8.2.0 in /usr/local/lib/python3.10/dist-packages (from llama_index) (8.2.3)\n",
            "Collecting tiktoken>=0.3.3 (from llama_index)\n",
            "  Downloading tiktoken-0.5.2-cp310-cp310-manylinux_2_17_x86_64.manylinux2014_x86_64.whl (2.0 MB)\n",
            "\u001b[2K     \u001b[90m━━━━━━━━━━━━━━━━━━━━━━━━━━━━━━━━━━━━━━━━\u001b[0m \u001b[32m2.0/2.0 MB\u001b[0m \u001b[31m60.7 MB/s\u001b[0m eta \u001b[36m0:00:00\u001b[0m\n",
            "\u001b[?25hRequirement already satisfied: typing-extensions>=4.5.0 in /usr/local/lib/python3.10/dist-packages (from llama_index) (4.5.0)\n",
            "Collecting typing-inspect>=0.8.0 (from llama_index)\n",
            "  Downloading typing_inspect-0.9.0-py3-none-any.whl (8.8 kB)\n",
            "Requirement already satisfied: anyio<5,>=3.5.0 in /usr/local/lib/python3.10/dist-packages (from openai) (3.7.1)\n",
            "Requirement already satisfied: distro<2,>=1.7.0 in /usr/lib/python3/dist-packages (from openai) (1.7.0)\n",
            "Requirement already satisfied: pydantic<3,>=1.9.0 in /usr/local/lib/python3.10/dist-packages (from openai) (1.10.14)\n",
            "Requirement already satisfied: sniffio in /usr/local/lib/python3.10/dist-packages (from openai) (1.3.0)\n",
            "Requirement already satisfied: tqdm>4 in /usr/local/lib/python3.10/dist-packages (from openai) (4.66.1)\n",
            "Collecting typing-extensions>=4.5.0 (from llama_index)\n",
            "  Downloading typing_extensions-4.9.0-py3-none-any.whl (32 kB)\n",
            "Requirement already satisfied: Click!=8.0.0,>=7.1 in /usr/local/lib/python3.10/dist-packages (from wandb) (8.1.7)\n",
            "Collecting GitPython!=3.1.29,>=1.0.0 (from wandb)\n",
            "  Downloading GitPython-3.1.41-py3-none-any.whl (196 kB)\n",
            "\u001b[2K     \u001b[90m━━━━━━━━━━━━━━━━━━━━━━━━━━━━━━━━━━━━━━━━\u001b[0m \u001b[32m196.4/196.4 kB\u001b[0m \u001b[31m23.1 MB/s\u001b[0m eta \u001b[36m0:00:00\u001b[0m\n",
            "\u001b[?25hRequirement already satisfied: psutil>=5.0.0 in /usr/local/lib/python3.10/dist-packages (from wandb) (5.9.5)\n",
            "Collecting sentry-sdk>=1.0.0 (from wandb)\n",
            "  Downloading sentry_sdk-1.39.2-py2.py3-none-any.whl (254 kB)\n",
            "\u001b[2K     \u001b[90m━━━━━━━━━━━━━━━━━━━━━━━━━━━━━━━━━━━━━━━━\u001b[0m \u001b[32m254.1/254.1 kB\u001b[0m \u001b[31m28.0 MB/s\u001b[0m eta \u001b[36m0:00:00\u001b[0m\n",
            "\u001b[?25hCollecting docker-pycreds>=0.4.0 (from wandb)\n",
            "  Downloading docker_pycreds-0.4.0-py2.py3-none-any.whl (9.0 kB)\n",
            "Requirement already satisfied: PyYAML in /usr/local/lib/python3.10/dist-packages (from wandb) (6.0.1)\n",
            "Collecting setproctitle (from wandb)\n",
            "  Downloading setproctitle-1.3.3-cp310-cp310-manylinux_2_5_x86_64.manylinux1_x86_64.manylinux_2_17_x86_64.manylinux2014_x86_64.whl (30 kB)\n",
            "Requirement already satisfied: setuptools in /usr/local/lib/python3.10/dist-packages (from wandb) (67.7.2)\n",
            "Requirement already satisfied: appdirs>=1.4.3 in /usr/local/lib/python3.10/dist-packages (from wandb) (1.4.4)\n",
            "Requirement already satisfied: protobuf!=4.21.0,<5,>=3.19.0 in /usr/local/lib/python3.10/dist-packages (from wandb) (3.20.3)\n",
            "Requirement already satisfied: attrs>=17.3.0 in /usr/local/lib/python3.10/dist-packages (from aiohttp<4.0.0,>=3.8.6->llama_index) (23.2.0)\n",
            "Requirement already satisfied: multidict<7.0,>=4.5 in /usr/local/lib/python3.10/dist-packages (from aiohttp<4.0.0,>=3.8.6->llama_index) (6.0.4)\n",
            "Requirement already satisfied: yarl<2.0,>=1.0 in /usr/local/lib/python3.10/dist-packages (from aiohttp<4.0.0,>=3.8.6->llama_index) (1.9.4)\n",
            "Requirement already satisfied: frozenlist>=1.1.1 in /usr/local/lib/python3.10/dist-packages (from aiohttp<4.0.0,>=3.8.6->llama_index) (1.4.1)\n",
            "Requirement already satisfied: aiosignal>=1.1.2 in /usr/local/lib/python3.10/dist-packages (from aiohttp<4.0.0,>=3.8.6->llama_index) (1.3.1)\n",
            "Requirement already satisfied: async-timeout<5.0,>=4.0 in /usr/local/lib/python3.10/dist-packages (from aiohttp<4.0.0,>=3.8.6->llama_index) (4.0.3)\n",
            "Requirement already satisfied: idna>=2.8 in /usr/local/lib/python3.10/dist-packages (from anyio<5,>=3.5.0->openai) (3.6)\n",
            "Requirement already satisfied: exceptiongroup in /usr/local/lib/python3.10/dist-packages (from anyio<5,>=3.5.0->openai) (1.2.0)\n",
            "Requirement already satisfied: wrapt<2,>=1.10 in /usr/local/lib/python3.10/dist-packages (from deprecated>=1.2.9.3->llama_index) (1.14.1)\n",
            "Requirement already satisfied: six>=1.4.0 in /usr/local/lib/python3.10/dist-packages (from docker-pycreds>=0.4.0->wandb) (1.16.0)\n",
            "Collecting gitdb<5,>=4.0.1 (from GitPython!=3.1.29,>=1.0.0->wandb)\n",
            "  Downloading gitdb-4.0.11-py3-none-any.whl (62 kB)\n",
            "\u001b[2K     \u001b[90m━━━━━━━━━━━━━━━━━━━━━━━━━━━━━━━━━━━━━━━━\u001b[0m \u001b[32m62.7/62.7 kB\u001b[0m \u001b[31m9.0 MB/s\u001b[0m eta \u001b[36m0:00:00\u001b[0m\n",
            "\u001b[?25hRequirement already satisfied: certifi in /usr/local/lib/python3.10/dist-packages (from httpx->llama_index) (2023.11.17)\n",
            "Collecting httpcore==1.* (from httpx->llama_index)\n",
            "  Downloading httpcore-1.0.2-py3-none-any.whl (76 kB)\n",
            "\u001b[2K     \u001b[90m━━━━━━━━━━━━━━━━━━━━━━━━━━━━━━━━━━━━━━━━\u001b[0m \u001b[32m76.9/76.9 kB\u001b[0m \u001b[31m9.8 MB/s\u001b[0m eta \u001b[36m0:00:00\u001b[0m\n",
            "\u001b[?25hCollecting h11<0.15,>=0.13 (from httpcore==1.*->httpx->llama_index)\n",
            "  Downloading h11-0.14.0-py3-none-any.whl (58 kB)\n",
            "\u001b[2K     \u001b[90m━━━━━━━━━━━━━━━━━━━━━━━━━━━━━━━━━━━━━━━━\u001b[0m \u001b[32m58.3/58.3 kB\u001b[0m \u001b[31m8.3 MB/s\u001b[0m eta \u001b[36m0:00:00\u001b[0m\n",
            "\u001b[?25hRequirement already satisfied: joblib in /usr/local/lib/python3.10/dist-packages (from nltk<4.0.0,>=3.8.1->llama_index) (1.3.2)\n",
            "Requirement already satisfied: regex>=2021.8.3 in /usr/local/lib/python3.10/dist-packages (from nltk<4.0.0,>=3.8.1->llama_index) (2023.6.3)\n",
            "Requirement already satisfied: charset-normalizer<4,>=2 in /usr/local/lib/python3.10/dist-packages (from requests>=2.31.0->llama_index) (3.3.2)\n",
            "Requirement already satisfied: urllib3<3,>=1.21.1 in /usr/local/lib/python3.10/dist-packages (from requests>=2.31.0->llama_index) (2.0.7)\n",
            "Requirement already satisfied: greenlet!=0.4.17 in /usr/local/lib/python3.10/dist-packages (from SQLAlchemy[asyncio]>=1.4.49->llama_index) (3.0.3)\n",
            "Collecting mypy-extensions>=0.3.0 (from typing-inspect>=0.8.0->llama_index)\n",
            "  Downloading mypy_extensions-1.0.0-py3-none-any.whl (4.7 kB)\n",
            "Collecting marshmallow<4.0.0,>=3.18.0 (from dataclasses-json->llama_index)\n",
            "  Downloading marshmallow-3.20.2-py3-none-any.whl (49 kB)\n",
            "\u001b[2K     \u001b[90m━━━━━━━━━━━━━━━━━━━━━━━━━━━━━━━━━━━━━━━━\u001b[0m \u001b[32m49.4/49.4 kB\u001b[0m \u001b[31m6.1 MB/s\u001b[0m eta \u001b[36m0:00:00\u001b[0m\n",
            "\u001b[?25hRequirement already satisfied: python-dateutil>=2.8.1 in /usr/local/lib/python3.10/dist-packages (from pandas->llama_index) (2.8.2)\n",
            "Requirement already satisfied: pytz>=2020.1 in /usr/local/lib/python3.10/dist-packages (from pandas->llama_index) (2023.3.post1)\n",
            "Collecting smmap<6,>=3.0.1 (from gitdb<5,>=4.0.1->GitPython!=3.1.29,>=1.0.0->wandb)\n",
            "  Downloading smmap-5.0.1-py3-none-any.whl (24 kB)\n",
            "Requirement already satisfied: packaging>=17.0 in /usr/local/lib/python3.10/dist-packages (from marshmallow<4.0.0,>=3.18.0->dataclasses-json->llama_index) (23.2)\n",
            "Installing collected packages: typing-extensions, smmap, setproctitle, sentry-sdk, mypy-extensions, marshmallow, h11, docker-pycreds, deprecated, typing-inspect, tiktoken, httpcore, gitdb, httpx, GitPython, dataclasses-json, wandb, openai, llama_index\n",
            "  Attempting uninstall: typing-extensions\n",
            "    Found existing installation: typing_extensions 4.5.0\n",
            "    Uninstalling typing_extensions-4.5.0:\n",
            "      Successfully uninstalled typing_extensions-4.5.0\n",
            "\u001b[31mERROR: pip's dependency resolver does not currently take into account all the packages that are installed. This behaviour is the source of the following dependency conflicts.\n",
            "llmx 0.0.15a0 requires cohere, which is not installed.\n",
            "tensorflow-probability 0.22.0 requires typing-extensions<4.6.0, but you have typing-extensions 4.9.0 which is incompatible.\u001b[0m\u001b[31m\n",
            "\u001b[0mSuccessfully installed GitPython-3.1.41 dataclasses-json-0.6.3 deprecated-1.2.14 docker-pycreds-0.4.0 gitdb-4.0.11 h11-0.14.0 httpcore-1.0.2 httpx-0.26.0 llama_index-0.9.38 marshmallow-3.20.2 mypy-extensions-1.0.0 openai-1.10.0 sentry-sdk-1.39.2 setproctitle-1.3.3 smmap-5.0.1 tiktoken-0.5.2 typing-extensions-4.9.0 typing-inspect-0.9.0 wandb-0.16.2\n"
          ]
        }
      ]
    },
    {
      "cell_type": "code",
      "source": [
        "!pip install pypdf"
      ],
      "metadata": {
        "colab": {
          "base_uri": "https://localhost:8080/"
        },
        "id": "ZziR-D5xKHGJ",
        "outputId": "b63feb33-96b0-4e8c-ece4-514059deaaf6"
      },
      "id": "ZziR-D5xKHGJ",
      "execution_count": 5,
      "outputs": [
        {
          "output_type": "stream",
          "name": "stdout",
          "text": [
            "Collecting pypdf\n",
            "  Downloading pypdf-4.0.0-py3-none-any.whl (283 kB)\n",
            "\u001b[2K     \u001b[90m━━━━━━━━━━━━━━━━━━━━━━━━━━━━━━━━━━━━━━━━\u001b[0m \u001b[32m283.9/283.9 kB\u001b[0m \u001b[31m2.4 MB/s\u001b[0m eta \u001b[36m0:00:00\u001b[0m\n",
            "\u001b[?25hInstalling collected packages: pypdf\n",
            "Successfully installed pypdf-4.0.0\n"
          ]
        }
      ]
    },
    {
      "cell_type": "code",
      "source": [
        "import os\n",
        "import glob\n",
        "import json\n",
        "import random\n",
        "import tiktoken\n",
        "import numpy as np\n",
        "import pandas as pd\n",
        "from pathlib import Path\n",
        "from tqdm.auto import tqdm\n",
        "from collections import defaultdict\n",
        "from tenacity import retry, stop_after_attempt, wait_fixed\n",
        "import openai\n",
        "openai.api_key=os.environ[\"OPENAI_API_KEY\"]"
      ],
      "metadata": {
        "id": "o_n01wkAfO6X"
      },
      "id": "o_n01wkAfO6X",
      "execution_count": 7,
      "outputs": []
    },
    {
      "cell_type": "markdown",
      "source": [],
      "metadata": {
        "id": "UAfEAoy0njqO"
      },
      "id": "UAfEAoy0njqO"
    },
    {
      "cell_type": "markdown",
      "id": "b50c4af8-fec3-4396-860a-1322089d76cb",
      "metadata": {
        "id": "b50c4af8-fec3-4396-860a-1322089d76cb"
      },
      "source": [
        "# Fine-tuning a gpt-3.5 ReAct Agent on Better Chain of Thought\n",
        "\n",
        "In this guide, we fine-tune a ReAct Agent powered by gpt-3.5-turbo to perform better chain-of-thought prompting over financial statements.\n",
        "\n",
        "We do this in the following steps:\n",
        "1. Setup LlamaIndex query engine tools over Uber 10Q filings.\n",
        "2. Use our dataset generator to generate a training/evaluation question dataset over a sample 10Q filing. Add complex variations to each question to account for multiple quarters (these complex questions help to induce chain-of-thought prompting).\n",
        "3. Feed these questions through a GPT-4 ReAct Agent. Log inputs/outputs as a dataset to fine-tune over.\n",
        "4. Call OpenAI fine-tuning endpoints to fine-tune gpt-3.5-turbo on this dataset.\n",
        "5. Run qualitative evaluation: show that the fine-tuned model performs better in chain-of-thought prompting than the base model.\n",
        "\n",
        "#### Note\n",
        "Each execution of an agent can involve multiple LLM calls through the ReAct chain-of-thought loop. The prompt inputs/output pair for each LLM call is logged as an individual datapoint in the training dataset, in the chat message format.\n",
        "\n",
        "A big TODO here is to add more quantitative metrics for better evaluation."
      ]
    },
    {
      "cell_type": "markdown",
      "id": "db402a8b-90d6-4e1d-8df6-347c54624f26",
      "metadata": {
        "id": "db402a8b-90d6-4e1d-8df6-347c54624f26"
      },
      "source": [
        "## Setup Data + Build Query Engine Tools\n",
        "\n",
        "In this section, we load in 3 Uber 10Q fiings (March, June, September). We also setup a standard vector index over each document. This gives the agent the tools to do vector search within any given document."
      ]
    },
    {
      "cell_type": "code",
      "execution_count": 9,
      "id": "02160804-64a2-4ef3-8a0d-8c16b06fd205",
      "metadata": {
        "id": "02160804-64a2-4ef3-8a0d-8c16b06fd205"
      },
      "outputs": [],
      "source": [
        "from llama_index import (\n",
        "    SimpleDirectoryReader,\n",
        "    VectorStoreIndex,\n",
        "    StorageContext,\n",
        "    ServiceContext,\n",
        "    load_index_from_storage,\n",
        ")\n",
        "from llama_index.llms import OpenAI\n",
        "\n",
        "from llama_index.tools import QueryEngineTool, ToolMetadata"
      ]
    },
    {
      "cell_type": "code",
      "source": [
        "import llama_index\n",
        "from llama_index import set_global_handler\n",
        "\n",
        "set_global_handler(\"wandb\", run_args={\"project\": \"llama_index-react-agent-finetuning\"})\n",
        "wandb_callback = llama_index.global_handler"
      ],
      "metadata": {
        "colab": {
          "base_uri": "https://localhost:8080/",
          "height": 85
        },
        "id": "b4inMceeEQMw",
        "outputId": "4e1169cf-61a0-48f4-8176-ca18828a892d"
      },
      "id": "b4inMceeEQMw",
      "execution_count": 10,
      "outputs": [
        {
          "output_type": "stream",
          "name": "stderr",
          "text": [
            "\u001b[34m\u001b[1mwandb\u001b[0m: Streaming LlamaIndex events to W&B at https://wandb.ai/keloasuzu/llama_index-react-agent-finetuning/runs/98v5n6hm\n",
            "\u001b[34m\u001b[1mwandb\u001b[0m: `WandbCallbackHandler` is currently in beta.\n",
            "\u001b[34m\u001b[1mwandb\u001b[0m: Please report any issues to https://github.com/wandb/wandb/issues with the tag `llamaindex`.\n"
          ]
        }
      ]
    },
    {
      "cell_type": "code",
      "execution_count": 11,
      "id": "0b25af00-4378-4faa-bae0-2da5e5a8ae15",
      "metadata": {
        "id": "0b25af00-4378-4faa-bae0-2da5e5a8ae15"
      },
      "outputs": [],
      "source": [
        "llm = OpenAI(temperature=0, model=\"gpt-3.5-turbo-0613\")\n",
        "# llm = OpenAI(temperature=0, model=\"gpt-4-0613\")\n",
        "service_context = ServiceContext.from_defaults(llm=llm)\n",
        "\n",
        "gpt_35_context = ServiceContext.from_defaults(\n",
        "    llm=OpenAI(model=\"gpt-3.5-turbo-0613\", temperature=0.3)\n",
        ")\n",
        "gpt4_context = ServiceContext.from_defaults(\n",
        "    llm=OpenAI(model=\"gpt-4-0613\", temperature=0.3)\n",
        ")"
      ]
    },
    {
      "cell_type": "code",
      "execution_count": 12,
      "id": "91618236-54d3-4783-86b7-7b7554efeed1",
      "metadata": {
        "id": "91618236-54d3-4783-86b7-7b7554efeed1"
      },
      "outputs": [],
      "source": [
        "try:\n",
        "    storage_context = StorageContext.from_defaults(\n",
        "        persist_dir=\"./storage/march\"\n",
        "    )\n",
        "    march_index = load_index_from_storage(storage_context)\n",
        "\n",
        "    storage_context = StorageContext.from_defaults(\n",
        "        persist_dir=\"./storage/june\"\n",
        "    )\n",
        "    june_index = load_index_from_storage(storage_context)\n",
        "\n",
        "    storage_context = StorageContext.from_defaults(\n",
        "        persist_dir=\"./storage/sept\"\n",
        "    )\n",
        "    sept_index = load_index_from_storage(storage_context)\n",
        "\n",
        "    index_loaded = True\n",
        "except:\n",
        "    index_loaded = False"
      ]
    },
    {
      "cell_type": "code",
      "execution_count": 13,
      "id": "d3d0bb8c-16c8-4946-a9d8-59528cf3952a",
      "metadata": {
        "id": "d3d0bb8c-16c8-4946-a9d8-59528cf3952a",
        "colab": {
          "base_uri": "https://localhost:8080/"
        },
        "outputId": "f5f7df38-9ecf-420b-a59e-7d8e012cc148"
      },
      "outputs": [
        {
          "output_type": "stream",
          "name": "stderr",
          "text": [
            "\u001b[34m\u001b[1mwandb\u001b[0m: Logged trace tree to W&B.\n",
            "\u001b[34m\u001b[1mwandb\u001b[0m: Logged trace tree to W&B.\n",
            "\u001b[34m\u001b[1mwandb\u001b[0m: Logged trace tree to W&B.\n"
          ]
        }
      ],
      "source": [
        "if not index_loaded:\n",
        "    # load data\n",
        "    march_docs = SimpleDirectoryReader(\n",
        "        input_files=[\"../../data/10q/uber_10q_march_2022.pdf\"]\n",
        "    ).load_data()\n",
        "    june_docs = SimpleDirectoryReader(\n",
        "        input_files=[\"../../data/10q/uber_10q_june_2022.pdf\"]\n",
        "    ).load_data()\n",
        "    sept_docs = SimpleDirectoryReader(\n",
        "        input_files=[\"../../data/10q/uber_10q_sept_2022.pdf\"]\n",
        "    ).load_data()\n",
        "\n",
        "    # build index\n",
        "    march_index = VectorStoreIndex.from_documents(\n",
        "        march_docs, service_context=service_context\n",
        "    )\n",
        "    june_index = VectorStoreIndex.from_documents(\n",
        "        june_docs, service_context=service_context\n",
        "    )\n",
        "    sept_index = VectorStoreIndex.from_documents(\n",
        "        sept_docs, service_context=service_context\n",
        "    )\n",
        "\n",
        "    # persist index\n",
        "    march_index.storage_context.persist(persist_dir=\"./storage/march\")\n",
        "    june_index.storage_context.persist(persist_dir=\"./storage/june\")\n",
        "    sept_index.storage_context.persist(persist_dir=\"./storage/sept\")"
      ]
    },
    {
      "cell_type": "code",
      "execution_count": 14,
      "id": "31892898-a2dc-43c8-812a-3442feb2108d",
      "metadata": {
        "id": "31892898-a2dc-43c8-812a-3442feb2108d"
      },
      "outputs": [],
      "source": [
        "march_engine = march_index.as_query_engine(\n",
        "    similarity_top_k=3, service_context=service_context\n",
        ")\n",
        "june_engine = june_index.as_query_engine(\n",
        "    similarity_top_k=3, service_context=service_context\n",
        ")\n",
        "sept_engine = sept_index.as_query_engine(\n",
        "    similarity_top_k=3, service_context=service_context\n",
        ")"
      ]
    },
    {
      "cell_type": "code",
      "execution_count": 15,
      "id": "f9f3158a-7647-4442-8de1-4db80723b4d2",
      "metadata": {
        "id": "f9f3158a-7647-4442-8de1-4db80723b4d2"
      },
      "outputs": [],
      "source": [
        "from llama_index.tools.query_engine import QueryEngineTool\n",
        "\n",
        "\n",
        "query_tool_sept = QueryEngineTool.from_defaults(\n",
        "    query_engine=sept_engine,\n",
        "    name=\"sept_2022\",\n",
        "    description=(\n",
        "        f\"Provides information about Uber quarterly financials ending\"\n",
        "        f\" September 2022\"\n",
        "    ),\n",
        ")\n",
        "query_tool_june = QueryEngineTool.from_defaults(\n",
        "    query_engine=june_engine,\n",
        "    name=\"june_2022\",\n",
        "    description=(\n",
        "        f\"Provides information about Uber quarterly financials ending June\"\n",
        "        f\" 2022\"\n",
        "    ),\n",
        ")\n",
        "query_tool_march = QueryEngineTool.from_defaults(\n",
        "    query_engine=march_engine,\n",
        "    name=\"march_2022\",\n",
        "    description=(\n",
        "        f\"Provides information about Uber quarterly financials ending March\"\n",
        "        f\" 2022\"\n",
        "    ),\n",
        ")\n",
        "\n",
        "query_engine_tools = [query_tool_march, query_tool_june, query_tool_sept]"
      ]
    },
    {
      "cell_type": "markdown",
      "id": "275c01b1-8dce-4216-9203-1e961b7fc313",
      "metadata": {
        "id": "275c01b1-8dce-4216-9203-1e961b7fc313"
      },
      "source": [
        "## Setup Base ReAct Agent (gpt-3.5-turbo)\n",
        "\n",
        "Here we define the baseline ReAct agent over our data, on top of gpt-3.5-turbo.\n",
        "\n",
        "We run some example queries, and show that the ReAct agent can sometimes enter the incorrect reasoning loop to answer the question."
      ]
    },
    {
      "cell_type": "code",
      "execution_count": 16,
      "id": "32f71a46-bdf6-4365-b1f1-e23a0d913a3d",
      "metadata": {
        "id": "32f71a46-bdf6-4365-b1f1-e23a0d913a3d"
      },
      "outputs": [],
      "source": [
        "from llama_index.agent import ReActAgent\n",
        "from llama_index.llms import OpenAI"
      ]
    },
    {
      "cell_type": "code",
      "execution_count": 17,
      "id": "ded93297-fee8-4329-bf37-cf77e87621ae",
      "metadata": {
        "id": "ded93297-fee8-4329-bf37-cf77e87621ae"
      },
      "outputs": [],
      "source": [
        "llm = OpenAI(model=\"gpt-3.5-turbo-0613\")\n",
        "# llm = OpenAI(model=\"gpt-4-0613\")\n",
        "base_agent = ReActAgent.from_tools(query_engine_tools, llm=llm, verbose=True)"
      ]
    },
    {
      "cell_type": "code",
      "execution_count": 18,
      "id": "70a82471-9226-42ad-bd8a-aebde3530d95",
      "metadata": {
        "id": "70a82471-9226-42ad-bd8a-aebde3530d95",
        "colab": {
          "base_uri": "https://localhost:8080/"
        },
        "outputId": "b1e50b66-b2ed-4a51-be2b-c55e3a4d99fc"
      },
      "outputs": [
        {
          "output_type": "stream",
          "name": "stdout",
          "text": [
            "\u001b[1;3;38;5;200mThought: To analyze Uber's revenue growth over the last few quarters, I can use the tools that provide information about Uber's quarterly financials.\n",
            "Action: march_2022\n",
            "Action Input: {'input': 'revenue'}\n",
            "\u001b[0m\u001b[1;3;34mObservation: Revenue for the company primarily comes from fees paid by Drivers and Merchants for the use of their platform. They act as an agent in these transactions by connecting consumers to Drivers and Merchants to facilitate transportation services. Revenue is recognized when a trip is complete. In certain markets where the company is responsible for mobility services, revenue from end-users is presented on a gross basis, while payments to Drivers for mobility services are recognized in cost of revenue. Additionally, the company derives revenue from Delivery transactions and Freight transportation services.\n",
            "\u001b[0m\u001b[1;3;38;5;200mThought: The information provided gives an overview of Uber's revenue sources and recognition policies. However, it does not provide specific revenue growth figures over the last few quarters.\n",
            "Action: june_2022\n",
            "Action Input: {'input': 'revenue'}\n",
            "\u001b[0m\u001b[1;3;34mObservation: We generate revenue primarily from fees paid by Drivers and Merchants for the use of our platform. We act as an agent in these transactions by connecting consumers to Drivers and Merchants to facilitate transportation, meal, or grocery delivery services. In certain markets, where we are responsible for the provision of mobility services to end-users, we present revenue from end-users on a gross basis. Additionally, we derive revenue from Delivery transactions, including fees paid by Merchants and Couriers for the use of our platform. We also generate revenue from freight transportation services provided to shippers.\n",
            "\u001b[0m\u001b[1;3;38;5;200mThought: The information provided in June 2022 also gives an overview of Uber's revenue sources, but it does not provide specific revenue growth figures over the last few quarters.\n",
            "Action: sept_2022\n",
            "Action Input: {'input': 'revenue'}\n",
            "\u001b[0m\u001b[1;3;34mObservation: We generate revenue primarily from fees paid by Drivers and Merchants for the use of our platform. We act as an agent in these transactions by connecting consumers to Drivers and Merchants to facilitate transportation, meal, or grocery delivery services. In certain markets, where we are responsible for the provision of mobility services to end-users, we present revenue from end-users on a gross basis. Additionally, we derive revenue from Delivery transactions, including fees paid by Merchants and Couriers for the use of our platform, as well as delivery fees charged to end-users. We also generate revenue from freight transportation services provided to Shippers.\n",
            "\u001b[0m"
          ]
        },
        {
          "output_type": "stream",
          "name": "stderr",
          "text": [
            "\u001b[34m\u001b[1mwandb\u001b[0m: Logged trace tree to W&B.\n"
          ]
        },
        {
          "output_type": "stream",
          "name": "stdout",
          "text": [
            "\u001b[1;3;38;5;200mThought: The information provided in September 2022 is similar to the previous observations and does not provide specific revenue growth figures over the last few quarters. It seems that the tools available do not provide the necessary information to analyze Uber's revenue growth.\n",
            "Answer: Sorry, I cannot answer your query.\n",
            "\u001b[0mSorry, I cannot answer your query.\n"
          ]
        }
      ],
      "source": [
        "# gpt-3.5 generally gives the right response here\n",
        "response = base_agent.chat(\n",
        "    \"Analyze Uber revenue growth over the last few quarters\"\n",
        ")\n",
        "print(str(response))"
      ]
    },
    {
      "cell_type": "code",
      "execution_count": 19,
      "id": "6fef67e4-bc03-446f-995f-2c98adccf414",
      "metadata": {
        "id": "6fef67e4-bc03-446f-995f-2c98adccf414",
        "outputId": "808b9296-d923-41e0-96c1-672891f81e6c",
        "colab": {
          "base_uri": "https://localhost:8080/"
        }
      },
      "outputs": [
        {
          "output_type": "stream",
          "name": "stdout",
          "text": [
            "\u001b[1;3;38;5;200mThought: I need to use a tool to help me answer the question.\n",
            "Action: march_2022\n",
            "Action Input: {'input': 'risk factors'}\n",
            "\u001b[0m\u001b[1;3;34mObservation: The risk factors mentioned in the context include:\n",
            "1. Economic, social, weather, and regulatory conditions or other circumstances, including COVID-19, that may negatively affect operations.\n",
            "2. Failure to offer autonomous vehicle technologies or their inferior performance compared to competitors.\n",
            "3. Difficulty in retaining and attracting high-quality personnel.\n",
            "4. Security or data privacy breaches or unauthorized access to proprietary or confidential data.\n",
            "5. Cyberattacks that could harm reputation, business, and operating results.\n",
            "6. Climate change risks, including physical and transitional risks, that may adversely impact the business.\n",
            "7. Dependence on third parties for distributing the platform and providing software.\n",
            "8. Need for additional capital to support business growth.\n",
            "9. Risks associated with identifying, acquiring, and integrating suitable businesses.\n",
            "10. Restrictions or modifications to providing or operating products and offerings in certain jurisdictions.\n",
            "11. Legal and regulatory risks that could have an adverse impact on the business.\n",
            "12. Extensive government regulation and oversight relating to payment and financial services.\n",
            "13. Risks related to collection, use, transfer, disclosure, and processing of data.\n",
            "14. Inability to protect intellectual property or claims of misappropriation.\n",
            "15. Volatility or decline in the market price of common stock.\n",
            "16. Adverse impact of the COVID-19 pandemic and actions to mitigate it on the business, financial condition, and results of operations.\n",
            "17. Legal proceedings, litigation, claims, and government investigations that may impose a burden on management and employees.\n",
            "18. Risks related to the classification of Drivers and compliance with applicable law.\n",
            "19. Highly competitive mobility, delivery, and logistics industries.\n",
            "20. Lowering fares or service fees and offering incentives and discounts to remain competitive.\n",
            "21. Incurred significant losses and expected increase in operating expenses.\n",
            "22. Difficulty in attracting and maintaining a critical mass of platform users.\n",
            "23. Importance of maintaining and enhancing brand and reputation.\n",
            "24. Operational, compliance, and cultural challenges related to workplace culture.\n",
            "25. Need to optimize organizational structure and effectively manage growth.\n",
            "26. Potential major safety incidents resulting from criminal or dangerous activity by platform users.\n",
            "27. Risks associated with substantial investments in new offerings and technologies.\n",
            "28. Climate change risks, including market shifts toward electric vehicles and extreme weather events.\n",
            "29. Climate-related policies impacting the business and availability of Drivers.\n",
            "30. Climate-related commitments requiring significant effort, resources, and management time.\n",
            "31. Dependence on the performance and reliability of Internet, mobile, and other infrastructures that are not under the company's control.\n",
            "\u001b[0m"
          ]
        },
        {
          "output_type": "stream",
          "name": "stderr",
          "text": [
            "\u001b[34m\u001b[1mwandb\u001b[0m: Logged trace tree to W&B.\n"
          ]
        },
        {
          "output_type": "stream",
          "name": "stdout",
          "text": [
            "\u001b[1;3;38;5;200mThought: I have the information about the risk factors in the quarter with the highest revenue growth.\n",
            "Answer: The risk factors mentioned in the quarter with the highest revenue growth include economic, social, weather, and regulatory conditions, failure to offer autonomous vehicle technologies, difficulty in retaining high-quality personnel, security or data privacy breaches, cyberattacks, climate change risks, dependence on third parties, need for additional capital, risks associated with acquiring and integrating businesses, legal and regulatory risks, extensive government regulation, risks related to data collection and processing, intellectual property protection, volatility in stock price, impact of the COVID-19 pandemic, legal proceedings and investigations, risks related to driver classification, competition in the mobility industry, lowering fares and offering incentives, significant losses and increased operating expenses, difficulty in attracting platform users, importance of brand and reputation, workplace culture challenges, organizational structure optimization, safety incidents, risks associated with new offerings and technologies, climate change risks, and dependence on external infrastructures.\n",
            "\n",
            "Please let me know if there's anything else I can help with.\n",
            "\u001b[0mThe risk factors mentioned in the quarter with the highest revenue growth include economic, social, weather, and regulatory conditions, failure to offer autonomous vehicle technologies, difficulty in retaining high-quality personnel, security or data privacy breaches, cyberattacks, climate change risks, dependence on third parties, need for additional capital, risks associated with acquiring and integrating businesses, legal and regulatory risks, extensive government regulation, risks related to data collection and processing, intellectual property protection, volatility in stock price, impact of the COVID-19 pandemic, legal proceedings and investigations, risks related to driver classification, competition in the mobility industry, lowering fares and offering incentives, significant losses and increased operating expenses, difficulty in attracting platform users, importance of brand and reputation, workplace culture challenges, organizational structure optimization, safety incidents, risks associated with new offerings and technologies, climate change risks, and dependence on external infrastructures.\n",
            "\n",
            "Please let me know if there's anything else I can help with.\n"
          ]
        }
      ],
      "source": [
        "# gpt-3.5 doesn't give the right response - it doesn't first search for the quarter with the highest revenue growth\n",
        "response = base_agent.chat(\n",
        "    \"Can you tell me about the risk factors in the quarter with the highest\"\n",
        "    \" revenue growth?\"\n",
        ")\n",
        "print(str(response))"
      ]
    },
    {
      "cell_type": "markdown",
      "id": "a54d2c3f-6ac8-40b9-930d-2530a1a1db70",
      "metadata": {
        "id": "a54d2c3f-6ac8-40b9-930d-2530a1a1db70"
      },
      "source": [
        "## Generate Training/Eval Questions\n",
        "\n",
        "Generate a synthetic dataset of questions to ask. To do this, we generate an initial set of questions over a \"base\" document (the March 2022 10Q), and then we use an LLM to generate variations of that question that can apply across multiple quarters. This allows us to more deeply stress-test the LLM reasoning capabilities.\n"
      ]
    },
    {
      "cell_type": "code",
      "execution_count": 20,
      "id": "1e44430d-3d53-40cb-b37f-f03213c9c0ef",
      "metadata": {
        "id": "1e44430d-3d53-40cb-b37f-f03213c9c0ef"
      },
      "outputs": [],
      "source": [
        "from llama_index.evaluation import DatasetGenerator"
      ]
    },
    {
      "cell_type": "code",
      "execution_count": 21,
      "id": "3b670c65-a9e3-4300-8e16-4c76b803d772",
      "metadata": {
        "id": "3b670c65-a9e3-4300-8e16-4c76b803d772",
        "colab": {
          "base_uri": "https://localhost:8080/"
        },
        "outputId": "337f230f-3b22-41e5-f757-c92b3f676f06"
      },
      "outputs": [
        {
          "output_type": "stream",
          "name": "stderr",
          "text": [
            "/usr/local/lib/python3.10/dist-packages/llama_index/evaluation/dataset_generation.py:184: DeprecationWarning: Call to deprecated class DatasetGenerator. (Deprecated in favor of `RagDatasetGenerator` which should be used instead.)\n",
            "  return cls(\n"
          ]
        }
      ],
      "source": [
        "base_question_gen_query = (\n",
        "    \"You are a Teacher/ Professor. Your task is to setup a quiz/examination.\"\n",
        "    \" Using the provided context from the Uber March 10Q filing, formulate a\"\n",
        "    \" single question that captures an important fact from the context.\"\n",
        "    \" context. Restrict the question to the context information provided.\"\n",
        ")\n",
        "\n",
        "dataset_generator = DatasetGenerator.from_documents(\n",
        "    march_docs,\n",
        "    question_gen_query=base_question_gen_query,\n",
        "    service_context=gpt_35_context,\n",
        ")"
      ]
    },
    {
      "cell_type": "code",
      "source": [
        "import nest_asyncio\n",
        "nest_asyncio.apply()"
      ],
      "metadata": {
        "id": "bQ58t3hPLmPg"
      },
      "id": "bQ58t3hPLmPg",
      "execution_count": 22,
      "outputs": []
    },
    {
      "cell_type": "code",
      "execution_count": 23,
      "id": "88a6475f-920e-4f00-9e6d-6c571fb695be",
      "metadata": {
        "id": "88a6475f-920e-4f00-9e6d-6c571fb695be",
        "colab": {
          "base_uri": "https://localhost:8080/"
        },
        "outputId": "0ad7849d-e557-4a1e-ec1d-67cc1971f1f6"
      },
      "outputs": [
        {
          "output_type": "stream",
          "name": "stderr",
          "text": [
            "\u001b[34m\u001b[1mwandb\u001b[0m: Logged trace tree to W&B.\n",
            "\u001b[34m\u001b[1mwandb\u001b[0m: Logged trace tree to W&B.\n",
            "\u001b[34m\u001b[1mwandb\u001b[0m: Logged trace tree to W&B.\n",
            "\u001b[34m\u001b[1mwandb\u001b[0m: Logged trace tree to W&B.\n",
            "\u001b[34m\u001b[1mwandb\u001b[0m: Logged trace tree to W&B.\n",
            "\u001b[34m\u001b[1mwandb\u001b[0m: Logged trace tree to W&B.\n",
            "\u001b[34m\u001b[1mwandb\u001b[0m: Logged trace tree to W&B.\n",
            "\u001b[34m\u001b[1mwandb\u001b[0m: Logged trace tree to W&B.\n",
            "\u001b[34m\u001b[1mwandb\u001b[0m: Logged trace tree to W&B.\n",
            "\u001b[34m\u001b[1mwandb\u001b[0m: Logged trace tree to W&B.\n",
            "\u001b[34m\u001b[1mwandb\u001b[0m: Logged trace tree to W&B.\n",
            "\u001b[34m\u001b[1mwandb\u001b[0m: Logged trace tree to W&B.\n",
            "\u001b[34m\u001b[1mwandb\u001b[0m: Logged trace tree to W&B.\n",
            "\u001b[34m\u001b[1mwandb\u001b[0m: Logged trace tree to W&B.\n",
            "\u001b[34m\u001b[1mwandb\u001b[0m: Logged trace tree to W&B.\n",
            "\u001b[34m\u001b[1mwandb\u001b[0m: Logged trace tree to W&B.\n",
            "\u001b[34m\u001b[1mwandb\u001b[0m: Logged trace tree to W&B.\n",
            "\u001b[34m\u001b[1mwandb\u001b[0m: Logged trace tree to W&B.\n",
            "\u001b[34m\u001b[1mwandb\u001b[0m: Logged trace tree to W&B.\n",
            "\u001b[34m\u001b[1mwandb\u001b[0m: Logged trace tree to W&B.\n"
          ]
        },
        {
          "output_type": "stream",
          "name": "stdout",
          "text": [
            "Failed to log trace tree to W&B: list index out of range\n",
            "Failed to log trace tree to W&B: list index out of range\n",
            "Failed to log trace tree to W&B: list index out of range\n",
            "Failed to log trace tree to W&B: list index out of range\n",
            "Failed to log trace tree to W&B: list index out of range\n",
            "Failed to log trace tree to W&B: list index out of range\n",
            "Failed to log trace tree to W&B: list index out of range\n"
          ]
        },
        {
          "output_type": "stream",
          "name": "stderr",
          "text": [
            "\u001b[34m\u001b[1mwandb\u001b[0m: Logged trace tree to W&B.\n",
            "\u001b[34m\u001b[1mwandb\u001b[0m: Logged trace tree to W&B.\n",
            "\u001b[34m\u001b[1mwandb\u001b[0m: Logged trace tree to W&B.\n"
          ]
        },
        {
          "output_type": "stream",
          "name": "stdout",
          "text": [
            "Failed to log trace tree to W&B: list index out of range\n"
          ]
        },
        {
          "output_type": "stream",
          "name": "stderr",
          "text": [
            "\u001b[34m\u001b[1mwandb\u001b[0m: Logged trace tree to W&B.\n",
            "\u001b[34m\u001b[1mwandb\u001b[0m: \u001b[33mWARNING\u001b[0m Serializing object of type str that is 125004 bytes\n",
            "\u001b[34m\u001b[1mwandb\u001b[0m: Logged trace tree to W&B.\n",
            "\u001b[34m\u001b[1mwandb\u001b[0m: \u001b[33mWARNING\u001b[0m Serializing object of type str that is 249932 bytes\n",
            "\u001b[34m\u001b[1mwandb\u001b[0m: Logged trace tree to W&B.\n",
            "\u001b[34m\u001b[1mwandb\u001b[0m: \u001b[33mWARNING\u001b[0m Serializing object of type str that is 499788 bytes\n",
            "\u001b[34m\u001b[1mwandb\u001b[0m: Logged trace tree to W&B.\n",
            "\u001b[34m\u001b[1mwandb\u001b[0m: \u001b[33mWARNING\u001b[0m Serializing object of type str that is 999500 bytes\n",
            "\u001b[34m\u001b[1mwandb\u001b[0m: Logged trace tree to W&B.\n",
            "\u001b[34m\u001b[1mwandb\u001b[0m: \u001b[33mWARNING\u001b[0m Serializing object of type str that is 1998924 bytes\n",
            "\u001b[34m\u001b[1mwandb\u001b[0m: Logged trace tree to W&B.\n",
            "\u001b[34m\u001b[1mwandb\u001b[0m: \u001b[33mWARNING\u001b[0m Serializing object of type str that is 3997772 bytes\n",
            "\u001b[34m\u001b[1mwandb\u001b[0m: Logged trace tree to W&B.\n",
            "\u001b[34m\u001b[1mwandb\u001b[0m: \u001b[33mWARNING\u001b[0m Serializing object of type str that is 7995468 bytes\n",
            "\u001b[34m\u001b[1mwandb\u001b[0m: Logged trace tree to W&B.\n",
            "\u001b[34m\u001b[1mwandb\u001b[0m: \u001b[33mWARNING\u001b[0m Serializing object of type str that is 15990860 bytes\n",
            "\u001b[34m\u001b[1mwandb\u001b[0m: Logged trace tree to W&B.\n",
            "/usr/local/lib/python3.10/dist-packages/llama_index/evaluation/dataset_generation.py:279: DeprecationWarning: Call to deprecated class QueryResponseDataset. (Deprecated in favor of `LabelledRagDataset` which should be used instead.)\n",
            "  return QueryResponseDataset(queries=queries, responses=responses_dict)\n"
          ]
        }
      ],
      "source": [
        "questions = dataset_generator.generate_questions_from_nodes(num=20)"
      ]
    },
    {
      "cell_type": "code",
      "execution_count": 24,
      "id": "0c8daa2d-47d5-4daa-9266-f40d8d024c67",
      "metadata": {
        "id": "0c8daa2d-47d5-4daa-9266-f40d8d024c67",
        "outputId": "02f81b42-4926-40f0-d9f5-108dc43592b8",
        "colab": {
          "base_uri": "https://localhost:8080/"
        }
      },
      "outputs": [
        {
          "output_type": "execute_result",
          "data": {
            "text/plain": [
              "[\"What is the address of Uber Technologies, Inc.'s principal executive offices?\",\n",
              " 'What is the last accessed date of the Uber March 10Q filing?',\n",
              " 'Question: What is the primary purpose of the forward-looking statements mentioned in the Uber March 10Q filing?',\n",
              " 'Question: What is the last accessed date of the Uber March 10Q filing?',\n",
              " 'Question: What was the total amount of cash and cash equivalents held by Uber Technologies, Inc. as of March 31, 2022?',\n",
              " \"What was Uber's net loss attributable to Uber Technologies, Inc. for the three months ended March 31, 2022?\",\n",
              " 'What was the net loss including non-controlling interests for Uber in the first quarter of 2022?',\n",
              " 'Question: What was the total equity balance of Uber Technologies, Inc. as of March 31, 2021, according to the provided context information?',\n",
              " 'What was the net income (loss) for Uber Technologies, Inc. in the first quarter of 2022?',\n",
              " 'What was the net loss including non-controlling interests for Uber in the first quarter of 2022?',\n",
              " 'Question: What was the net decrease in cash and cash equivalents, and restricted cash and cash equivalents for the period?',\n",
              " \"Question: What is the basis of presentation for the unaudited condensed consolidated financial statements in Uber's March 10Q filing?\",\n",
              " 'What are some of the estimates that management evaluates on an ongoing basis according to the Uber March 10Q filing?',\n",
              " \"What is the primary source of revenue for Uber's Mobility offerings?\",\n",
              " 'Question: How does Uber recognize revenue from end-users in markets where they are responsible for mobility services?',\n",
              " 'Question: What is the total fair value of financial assets measured at Level 1 as of March 31, 2022, according to the Uber March 10Q filing?',\n",
              " \"What was the reason for the impairment charge recorded for Uber's investment in MLU B.V. during the three months ended March 31, 2022?\",\n",
              " 'What is the fair value of the MLU B.V. Call Option as of March 31, 2022, and what was the gain recognized for the fair value change during the three months ended March 31, 2022?',\n",
              " 'What was the amortization expense for intangible assets subject to amortization for the three months ended March 31, 2022?',\n",
              " 'Question: What was the total long-term debt of Uber as of March 31, 2022, according to the provided context information?']"
            ]
          },
          "metadata": {},
          "execution_count": 24
        }
      ],
      "source": [
        "questions"
      ]
    },
    {
      "cell_type": "code",
      "execution_count": null,
      "id": "49119e8f-a84a-43b6-a76f-eb2c5f3deaaf",
      "metadata": {
        "id": "49119e8f-a84a-43b6-a76f-eb2c5f3deaaf"
      },
      "outputs": [],
      "source": [
        "from llama_index.llms import OpenAI\n",
        "from llama_index.prompts import PromptTemplate\n",
        "\n",
        "\n",
        "vary_question_tmpl = \"\"\"\\\n",
        "You are a financial assistant. Given a question over a 2023 Uber 10Q filing, your goal\n",
        "is to generate up to {num_vary} variations of that question that might span multiple 10Q's.\n",
        "\n",
        "This can include compare/contrasting different 10Qs, replacing the current quarter with\n",
        "another quarter, or generating questions that can only be answered over multiple quarters (be creative!)\n",
        "\n",
        "You are given a valid set of 10Q filings. Please only generate question variations that can be\n",
        "answered in that set.\n",
        "\n",
        "For example:\n",
        "Base Question: What was the free cash flow of Uber in March 2023?\n",
        "Valid 10Qs: [March 2023, June 2023, September 2023]\n",
        "Question Variations:\n",
        "What was the free cash flow of Uber in June 2023?\n",
        "Can you compare/contrast the free cash flow of Uber in June/September 2023 and offer explanations for the change?\n",
        "Did the free cash flow of Uber increase of decrease in 2023?\n",
        "\n",
        "Now let's give it a shot!\n",
        "\n",
        "Base Question: {base_question}\n",
        "Valid 10Qs: {valid_10qs}\n",
        "Question Variations:\n",
        "\"\"\"\n",
        "\n",
        "\n",
        "def gen_question_variations(base_questions, num_vary=3):\n",
        "    \"\"\"Generate question variations.\"\"\"\n",
        "\n",
        "    VALID_10Q_STR = \"[March 2022, June 2022, September 2022]\"\n",
        "\n",
        "    llm = OpenAI(model=\"gpt-4\")\n",
        "    prompt_tmpl = PromptTemplate(vary_question_tmpl)\n",
        "\n",
        "    new_questions = []\n",
        "    for idx, question in enumerate(base_questions):\n",
        "        new_questions.append(question)\n",
        "        response = llm.complete(\n",
        "            prompt_tmpl.format(\n",
        "                num_vary=num_vary,\n",
        "                base_question=question,\n",
        "                valid_10qs=VALID_10Q_STR,\n",
        "            )\n",
        "        )\n",
        "        # parse into newlines\n",
        "        raw_lines = str(response).split(\"\\n\")\n",
        "        cur_new_questions = [l for l in raw_lines if l != \"\"]\n",
        "        print(f\"[{idx}] Original Question: {question}\")\n",
        "        print(f\"[{idx}] Generated Question Variations: {cur_new_questions}\")\n",
        "        new_questions.extend(cur_new_questions)\n",
        "\n",
        "    return new_questions\n",
        "\n",
        "\n",
        "def save_questions(questions, path):\n",
        "    with open(path, \"w\") as f:\n",
        "        for question in questions:\n",
        "            f.write(question + \"\\n\")\n",
        "\n",
        "\n",
        "def load_questions(path):\n",
        "    questions = []\n",
        "    with open(path, \"r\") as f:\n",
        "        for line in f:\n",
        "            questions.append(line.strip())\n",
        "    return questions"
      ]
    },
    {
      "cell_type": "code",
      "execution_count": 27,
      "id": "bf1c140f-b69e-47d8-9f9f-dcd388dec879",
      "metadata": {
        "id": "bf1c140f-b69e-47d8-9f9f-dcd388dec879",
        "outputId": "7c22c993-9fcf-48d9-a777-5ce2a9a76673",
        "colab": {
          "base_uri": "https://localhost:8080/"
        }
      },
      "outputs": [
        {
          "output_type": "stream",
          "name": "stdout",
          "text": [
            "[0] Original Question: What is the address of Uber Technologies, Inc.'s principal executive offices?\n",
            "[0] Generated Question Variations: [\"Has the address of Uber Technologies, Inc.'s principal executive offices changed between March and September 2022?\", \"What was the address of Uber Technologies, Inc.'s principal executive offices in June 2022?\", \"Can you provide the addresses of Uber Technologies, Inc.'s principal executive offices as listed in the March, June, and September 2022 10Q filings?\"]\n",
            "[1] Original Question: What is the last accessed date of the Uber March 10Q filing?\n",
            "[1] Generated Question Variations: ['What is the last accessed date of the Uber June 10Q filing?', 'Can you compare the last accessed dates of the Uber 10Q filings for March, June, and September 2022?', 'What is the average time between the last accessed dates of the Uber 10Q filings in 2022?']\n",
            "[2] Original Question: Question: What is the primary purpose of the forward-looking statements mentioned in the Uber March 10Q filing?\n",
            "[2] Generated Question Variations: ['What is the primary purpose of the forward-looking statements mentioned in the Uber June 10Q filing?', 'Can you compare the primary purpose of the forward-looking statements in the Uber March and June 10Q filings?', \"How has the primary purpose of the forward-looking statements in Uber's 10Q filings evolved throughout 2022?\"]\n",
            "[3] Original Question: Question: What is the last accessed date of the Uber March 10Q filing?\n",
            "[3] Generated Question Variations: ['What is the last accessed date of the Uber June 10Q filing?', 'Can you compare the last accessed dates of the Uber 10Q filings for March, June, and September 2022?', 'What is the average time between the last accessed dates of the Uber 10Q filings in 2022?']\n",
            "[4] Original Question: Question: What was the total amount of cash and cash equivalents held by Uber Technologies, Inc. as of March 31, 2022?\n",
            "[4] Generated Question Variations: ['1. How did the total amount of cash and cash equivalents held by Uber Technologies, Inc. change from March 2022 to June 2022?', '2. Can you compare the total amount of cash and cash equivalents held by Uber Technologies, Inc. in March 2022 and September 2022?', '3. What was the trend in the total amount of cash and cash equivalents held by Uber Technologies, Inc. throughout 2022?']\n",
            "[5] Original Question: What was Uber's net loss attributable to Uber Technologies, Inc. for the three months ended March 31, 2022?\n",
            "[5] Generated Question Variations: [\"1. What was Uber's net loss attributable to Uber Technologies, Inc. for the three months ended June 30, 2022?\", '2. Can you compare and contrast the net loss attributable to Uber Technologies, Inc. for the three months ended March 31, 2022 and June 30, 2022?', \"3. How did Uber's net loss attributable to Uber Technologies, Inc. change over the three quarters of 2022?\"]\n",
            "[6] Original Question: What was the net loss including non-controlling interests for Uber in the first quarter of 2022?\n",
            "[6] Generated Question Variations: ['1. How did the net loss including non-controlling interests for Uber change from the first quarter to the second quarter of 2022?', '2. Can you compare the net loss including non-controlling interests for Uber in the first and third quarters of 2022?', '3. What was the trend in net loss including non-controlling interests for Uber over the three quarters of 2022?']\n",
            "[7] Original Question: Question: What was the total equity balance of Uber Technologies, Inc. as of March 31, 2021, according to the provided context information?\n",
            "[7] Generated Question Variations: ['What was the total equity balance of Uber Technologies, Inc. as of March 31, 2022, according to the provided context information?', 'Can you compare and contrast the total equity balance of Uber Technologies, Inc. in March 2022 and June 2022 and provide possible reasons for any changes?', 'How did the total equity balance of Uber Technologies, Inc. change over the course of 2022, from March to September?']\n",
            "[8] Original Question: What was the net income (loss) for Uber Technologies, Inc. in the first quarter of 2022?\n",
            "[8] Generated Question Variations: ['1. How did the net income (loss) for Uber Technologies, Inc. change from the first quarter to the second quarter of 2022?', '2. Can you compare the net income (loss) for Uber Technologies, Inc. in the first and third quarters of 2022?', '3. What was the trend in net income (loss) for Uber Technologies, Inc. over the three quarters of 2022?']\n",
            "[9] Original Question: What was the net loss including non-controlling interests for Uber in the first quarter of 2022?\n",
            "[9] Generated Question Variations: ['1. How did the net loss including non-controlling interests for Uber change from the first quarter to the second quarter of 2022?', '2. Can you compare the net loss including non-controlling interests for Uber in the first and third quarters of 2022?', '3. What was the trend in net loss including non-controlling interests for Uber over the three quarters of 2022?']\n",
            "[10] Original Question: Question: What was the net decrease in cash and cash equivalents, and restricted cash and cash equivalents for the period?\n",
            "[10] Generated Question Variations: ['1. What was the net decrease in cash and cash equivalents, and restricted cash and cash equivalents for the period in June 2022?', '2. Can you compare the net decrease in cash and cash equivalents, and restricted cash and cash equivalents for the period between March and September 2022?', '3. How did the net decrease in cash and cash equivalents, and restricted cash and cash equivalents for the period change over the three quarters of 2022?']\n",
            "[11] Original Question: Question: What is the basis of presentation for the unaudited condensed consolidated financial statements in Uber's March 10Q filing?\n",
            "[11] Generated Question Variations: [\"What is the basis of presentation for the unaudited condensed consolidated financial statements in Uber's June 10Q filing?\", \"Can you compare and contrast the basis of presentation for the unaudited condensed consolidated financial statements in Uber's March and September 10Q filings?\", \"Has there been any change in the basis of presentation for the unaudited condensed consolidated financial statements in Uber's 10Q filings throughout 2022?\"]\n",
            "[12] Original Question: What are some of the estimates that management evaluates on an ongoing basis according to the Uber March 10Q filing?\n",
            "[12] Generated Question Variations: ['What are some of the estimates that management evaluates on an ongoing basis according to the Uber June 10Q filing?', 'Can you compare and contrast the estimates that management evaluates on an ongoing basis according to the Uber March and September 10Q filings?', \"How have the estimates that management evaluates on an ongoing basis changed over the course of 2022 according to Uber's 10Q filings?\"]\n",
            "[13] Original Question: What is the primary source of revenue for Uber's Mobility offerings?\n",
            "[13] Generated Question Variations: [\"What was the primary source of revenue for Uber's Mobility offerings in June 2022?\", \"How has the primary source of revenue for Uber's Mobility offerings changed from March to September 2022?\", \"Can you compare and contrast the primary sources of revenue for Uber's Mobility offerings across the three quarters of 2022?\"]\n",
            "[14] Original Question: Question: How does Uber recognize revenue from end-users in markets where they are responsible for mobility services?\n",
            "[14] Generated Question Variations: [\"How has Uber's method of recognizing revenue from end-users in markets where they are responsible for mobility services changed between March and September 2022?\", \"Can you compare and contrast Uber's revenue recognition from end-users in markets where they are responsible for mobility services in June and September 2022?\", \"What were the trends in Uber's revenue recognition from end-users in markets where they are responsible for mobility services throughout 2022?\"]\n",
            "[15] Original Question: Question: What is the total fair value of financial assets measured at Level 1 as of March 31, 2022, according to the Uber March 10Q filing?\n",
            "[15] Generated Question Variations: ['1. What is the total fair value of financial assets measured at Level 1 as of June 30, 2022, according to the Uber June 10Q filing?', \"2. How does the total fair value of financial assets measured at Level 1 in Uber's March 10Q filing compare to that in the June and September filings?\", \"3. What was the trend in the total fair value of financial assets measured at Level 1 across the three quarters of 2022 according to Uber's 10Q filings?\"]\n",
            "[16] Original Question: What was the reason for the impairment charge recorded for Uber's investment in MLU B.V. during the three months ended March 31, 2022?\n",
            "[16] Generated Question Variations: [\"What was the reason for the impairment charge recorded for Uber's investment in MLU B.V. during the three months ended June 30, 2022?\", \"Can you compare and contrast the reasons for the impairment charges recorded for Uber's investment in MLU B.V. during the three months ended March 31, 2022 and June 30, 2022?\", \"How did the reasons for the impairment charges recorded for Uber's investment in MLU B.V. change over the three quarters of 2022?\"]\n",
            "[17] Original Question: What is the fair value of the MLU B.V. Call Option as of March 31, 2022, and what was the gain recognized for the fair value change during the three months ended March 31, 2022?\n",
            "[17] Generated Question Variations: ['What is the fair value of the MLU B.V. Call Option as of June 30, 2022, and what was the gain recognized for the fair value change during the three months ended June 30, 2022?', 'Can you compare/contrast the fair value of the MLU B.V. Call Option and the gain recognized for the fair value change during the three months ended March 31, 2022 and June 30, 2022?', 'What was the trend in the fair value of the MLU B.V. Call Option and the gain recognized for the fair value change during the three quarters of 2022?']\n",
            "[18] Original Question: What was the amortization expense for intangible assets subject to amortization for the three months ended March 31, 2022?\n",
            "[18] Generated Question Variations: ['1. How did the amortization expense for intangible assets subject to amortization change from March 2022 to June 2022?', '2. Can you compare the amortization expense for intangible assets subject to amortization for the three months ended March 31, 2022 and September 30, 2022?', '3. What was the trend in the amortization expense for intangible assets subject to amortization over the three quarters of 2022?']\n",
            "[19] Original Question: Question: What was the total long-term debt of Uber as of March 31, 2022, according to the provided context information?\n",
            "[19] Generated Question Variations: ['1. What was the total long-term debt of Uber as of June 30, 2022, according to the provided context information?', '2. Can you compare and contrast the total long-term debt of Uber in March and September 2022 and provide possible reasons for any changes?', \"3. How did Uber's total long-term debt change over the course of 2022 from March to September?\"]\n"
          ]
        }
      ],
      "source": [
        "new_questions = gen_question_variations(questions)"
      ]
    },
    {
      "cell_type": "code",
      "execution_count": 28,
      "id": "9deb6283-67a7-426b-92d1-883932d4bb05",
      "metadata": {
        "id": "9deb6283-67a7-426b-92d1-883932d4bb05",
        "colab": {
          "base_uri": "https://localhost:8080/"
        },
        "outputId": "6a0f2a04-8205-425b-8504-d2f3998a1c59"
      },
      "outputs": [
        {
          "output_type": "execute_result",
          "data": {
            "text/plain": [
              "80"
            ]
          },
          "metadata": {},
          "execution_count": 28
        }
      ],
      "source": [
        "len(new_questions)"
      ]
    },
    {
      "cell_type": "code",
      "execution_count": 29,
      "id": "a7a40520-8310-420e-9bb8-028f46f4b249",
      "metadata": {
        "id": "a7a40520-8310-420e-9bb8-028f46f4b249"
      },
      "outputs": [],
      "source": [
        "train_questions, eval_questions = new_questions[:60], new_questions[60:]"
      ]
    },
    {
      "cell_type": "code",
      "execution_count": 30,
      "id": "ba565b1d-26cf-4401-a002-1a776ede2b9b",
      "metadata": {
        "id": "ba565b1d-26cf-4401-a002-1a776ede2b9b"
      },
      "outputs": [],
      "source": [
        "#TODO: wandb save\n",
        "save_questions(train_questions, \"train_questions_10q.txt\")\n",
        "save_questions(eval_questions, \"eval_questions_10q.txt\")"
      ]
    },
    {
      "cell_type": "code",
      "execution_count": 31,
      "id": "61a5914e-d44d-4062-8652-85eb88b5f8cd",
      "metadata": {
        "id": "61a5914e-d44d-4062-8652-85eb88b5f8cd"
      },
      "outputs": [],
      "source": [
        "train_questions = load_questions(\"train_questions_10q.txt\")\n",
        "eval_questions = load_questions(\"eval_questions_10q.txt\")"
      ]
    },
    {
      "cell_type": "markdown",
      "id": "0529d425-c4eb-4a0e-a35c-282e65d1df78",
      "metadata": {
        "id": "0529d425-c4eb-4a0e-a35c-282e65d1df78"
      },
      "source": [
        "## Use GPT-4 to Log Input/Output Pairs\n",
        "\n",
        "We run the train questions through a GPT-4 powered ReAct agent to collect prompt outputs.\n",
        "\n",
        "Every prompt call to the LLM is logged as an input/output pair. Since the ReAct loop can call the LLM multiple times, this means that multiple input/output pairs may be logged per user query.\n",
        "\n",
        "Our `OpenAIFineTuningHandler` automatically collects prompt input/outputs when agent queries are run. This dataset can then be saved, in a dataset format `.jsonl` that you can directly feed to the OpenAI Finetuning endpoints."
      ]
    },
    {
      "cell_type": "code",
      "execution_count": 32,
      "id": "678fb889-a872-42dc-a1b6-16044b049f5a",
      "metadata": {
        "id": "678fb889-a872-42dc-a1b6-16044b049f5a"
      },
      "outputs": [],
      "source": [
        "from llama_index import ServiceContext\n",
        "from llama_index.llms import OpenAI\n",
        "from llama_index.callbacks import OpenAIFineTuningHandler\n",
        "from llama_index.callbacks import CallbackManager\n",
        "from llama_index.agent import ReActAgent\n",
        "\n",
        "finetuning_handler = OpenAIFineTuningHandler()\n",
        "callback_manager = CallbackManager([finetuning_handler])\n",
        "\n",
        "gpt_4_context = ServiceContext.from_defaults(\n",
        "    llm=OpenAI(model=\"gpt-4\", temperature=0.3),\n",
        "    context_window=2048,  # limit the context window artifically to test refine process\n",
        "    callback_manager=callback_manager,\n",
        ")"
      ]
    },
    {
      "cell_type": "code",
      "execution_count": 33,
      "id": "fc6f2a99-f15c-4ce3-9a27-e4edb22cdfd4",
      "metadata": {
        "id": "fc6f2a99-f15c-4ce3-9a27-e4edb22cdfd4"
      },
      "outputs": [],
      "source": [
        "llm = OpenAI(model=\"gpt-4-0613\")\n",
        "gpt4_agent = ReActAgent.from_tools(\n",
        "    query_engine_tools,\n",
        "    llm=llm,\n",
        "    callback_manager=callback_manager,\n",
        "    verbose=True,\n",
        ")"
      ]
    },
    {
      "cell_type": "code",
      "execution_count": 34,
      "id": "7d47a21a-9dd4-49be-b6fb-1cde93f4480a",
      "metadata": {
        "id": "7d47a21a-9dd4-49be-b6fb-1cde93f4480a",
        "outputId": "b8cd4c29-b47f-413c-9c4b-e27a18385118",
        "colab": {
          "base_uri": "https://localhost:8080/",
          "height": 1000
        }
      },
      "outputs": [
        {
          "output_type": "stream",
          "name": "stdout",
          "text": [
            "[0] Question: What is the address of Uber Technologies, Inc.'s principal executive offices?\n",
            "\u001b[1;3;38;5;200mThought: I need to use a tool to help me answer the question.\n",
            "Action: march_2022\n",
            "Action Input: {'input': 'principal executive offices'}\n",
            "\u001b[0m\u001b[1;3;34mObservation: The principal executive offices of Uber Technologies, Inc. are not explicitly mentioned in the provided context information.\n",
            "\u001b[0m\u001b[1;3;38;5;200mThought: The first tool did not provide the required information. I should try the other tools.\n",
            "Action: june_2022\n",
            "Action Input: {'input': 'principal executive offices'}\n",
            "\u001b[0m\u001b[1;3;34mObservation: The principal executive offices of Uber Technologies, Inc. are not explicitly mentioned in the provided context information.\n",
            "\u001b[0m\u001b[1;3;38;5;200mThought: The second tool also did not provide the required information. I should try the last tool.\n",
            "Action: sept_2022\n",
            "Action Input: {'input': 'principal executive offices'}\n",
            "\u001b[0m\u001b[1;3;34mObservation: The principal executive offices refer to the main offices or headquarters of a company where the top executives, such as the CEO and other key executives, are located. These offices serve as the central hub for decision-making and strategic planning.\n",
            "\u001b[0m"
          ]
        },
        {
          "output_type": "stream",
          "name": "stderr",
          "text": [
            "\u001b[34m\u001b[1mwandb\u001b[0m: Logged trace tree to W&B.\n"
          ]
        },
        {
          "output_type": "stream",
          "name": "stdout",
          "text": [
            "\u001b[1;3;38;5;200mThought: I cannot answer the question with the provided tools.\n",
            "Answer: Sorry, I cannot answer your query.\n",
            "\u001b[0m[0] Agent Response: Sorry, I cannot answer your query.\n",
            "[1] Question: Has the address of Uber Technologies, Inc.'s principal executive offices changed between March and September 2022?\n",
            "\u001b[1;3;38;5;200mThought: I need to use the tools to get the information about Uber's principal executive offices for March and September 2022.\n",
            "Action: march_2022\n",
            "Action Input: {'input': 'principal executive offices'}\n",
            "\u001b[0m\u001b[1;3;34mObservation: The principal executive offices of Uber Technologies, Inc. are not explicitly mentioned in the provided context information.\n",
            "\u001b[0m\u001b[1;3;38;5;200mThought: I didn't get the information about Uber's principal executive offices for March 2022. I will now try to get the information for September 2022.\n",
            "Action: sept_2022\n",
            "Action Input: {'input': 'principal executive offices'}\n",
            "\u001b[0m\u001b[1;3;34mObservation: The principal executive offices refer to the main offices or headquarters of a company where the top executives, such as the CEO and other key executives, are located. These offices serve as the central hub for decision-making and strategic planning.\n",
            "\u001b[0m"
          ]
        },
        {
          "output_type": "stream",
          "name": "stderr",
          "text": [
            "\u001b[34m\u001b[1mwandb\u001b[0m: Logged trace tree to W&B.\n"
          ]
        },
        {
          "output_type": "stream",
          "name": "stdout",
          "text": [
            "\u001b[1;3;38;5;200mThought: I cannot answer the question with the provided tools.\n",
            "Answer: Sorry, I cannot answer your query. The tools provided do not contain specific information about the location of Uber Technologies, Inc.'s principal executive offices.\n",
            "\u001b[0m[1] Agent Response: Sorry, I cannot answer your query. The tools provided do not contain specific information about the location of Uber Technologies, Inc.'s principal executive offices.\n",
            "[2] Question: What was the address of Uber Technologies, Inc.'s principal executive offices in June 2022?\n",
            "\u001b[1;3;38;5;200mThought: I need to use the tool that provides information about Uber's financials for the quarter ending in June 2022 to find the address of Uber's principal executive offices during that time.\n",
            "Action: june_2022\n",
            "Action Input: {'input': 'principal executive offices address'}\n",
            "\u001b[0m\u001b[1;3;34mObservation: I'm sorry, but the given context information does not provide the principal executive offices address for Uber Technologies, Inc.\n",
            "\u001b[0m"
          ]
        },
        {
          "output_type": "stream",
          "name": "stderr",
          "text": [
            "\u001b[34m\u001b[1mwandb\u001b[0m: Logged trace tree to W&B.\n"
          ]
        },
        {
          "output_type": "stream",
          "name": "stdout",
          "text": [
            "\u001b[1;3;38;5;200mThought: I cannot answer the question with the provided tools.\n",
            "Answer: Sorry, I cannot answer your query.\n",
            "\u001b[0m[2] Agent Response: Sorry, I cannot answer your query.\n",
            "[3] Question: Can you provide the addresses of Uber Technologies, Inc.'s principal executive offices as listed in the March, June, and September 2022 10Q filings?\n",
            "\u001b[1;3;38;5;200mThought: I need to use the tools to get the addresses of Uber's principal executive offices as listed in the March, June, and September 2022 10Q filings.\n",
            "Action: march_2022\n",
            "Action Input: {'input': 'principal executive offices address'}\n",
            "\u001b[0m\u001b[1;3;34mObservation: I'm sorry, but I don't have access to the principal executive offices address based on the given context information.\n",
            "\u001b[0m\u001b[1;3;38;5;200mThought: The tool for March 2022 didn't provide the required information. I'll try the tool for June 2022.\n",
            "Action: june_2022\n",
            "Action Input: {'input': 'principal executive offices address'}\n",
            "\u001b[0m\u001b[1;3;34mObservation: I'm sorry, but the given context information does not provide the principal executive offices address for Uber Technologies, Inc.\n",
            "\u001b[0m\u001b[1;3;38;5;200mThought: The tool for June 2022 also didn't provide the required information. I'll try the tool for September 2022.\n",
            "Action: sept_2022\n",
            "Action Input: {'input': 'principal executive offices address'}\n",
            "\u001b[0m\u001b[1;3;34mObservation: The given context information does not provide any information about the principal executive offices address.\n",
            "\u001b[0m"
          ]
        },
        {
          "output_type": "stream",
          "name": "stderr",
          "text": [
            "\u001b[34m\u001b[1mwandb\u001b[0m: Logged trace tree to W&B.\n"
          ]
        },
        {
          "output_type": "stream",
          "name": "stdout",
          "text": [
            "\u001b[1;3;38;5;200mThought: I cannot answer the question with the provided tools.\n",
            "Answer: Sorry, I cannot provide the addresses of Uber Technologies, Inc.'s principal executive offices as listed in the March, June, and September 2022 10Q filings.\n",
            "\u001b[0m[3] Agent Response: Sorry, I cannot provide the addresses of Uber Technologies, Inc.'s principal executive offices as listed in the March, June, and September 2022 10Q filings.\n",
            "[4] Question: What is the last accessed date of the Uber March 10Q filing?\n",
            "\u001b[1;3;38;5;200mThought: I need to use the march_2022 tool to get the information about the Uber March 10Q filing.\n",
            "Action: march_2022\n",
            "Action Input: {'input': 'last accessed date'}\n",
            "\u001b[0m\u001b[1;3;34mObservation: The last accessed date is not provided in the given context information.\n",
            "\u001b[0m"
          ]
        },
        {
          "output_type": "stream",
          "name": "stderr",
          "text": [
            "\u001b[34m\u001b[1mwandb\u001b[0m: Logged trace tree to W&B.\n"
          ]
        },
        {
          "output_type": "stream",
          "name": "stdout",
          "text": [
            "\u001b[1;3;38;5;200mThought: I cannot answer the question with the provided tools.\n",
            "Answer: Sorry, I cannot answer your query.\n",
            "\u001b[0m[4] Agent Response: Sorry, I cannot answer your query.\n",
            "[5] Question: What is the last accessed date of the Uber June 10Q filing?\n",
            "\u001b[1;3;38;5;200mThought: I need to use the june_2022 tool to get the information about the Uber June 10Q filing.\n",
            "Action: june_2022\n",
            "Action Input: {'input': 'last accessed date'}\n",
            "\u001b[0m\u001b[1;3;34mObservation: Based on the provided context information, there is no mention of the last accessed date. Therefore, it is not possible to determine the last accessed date based on the given information.\n",
            "\u001b[0m"
          ]
        },
        {
          "output_type": "stream",
          "name": "stderr",
          "text": [
            "\u001b[34m\u001b[1mwandb\u001b[0m: Logged trace tree to W&B.\n"
          ]
        },
        {
          "output_type": "stream",
          "name": "stdout",
          "text": [
            "\u001b[1;3;38;5;200mThought: I cannot answer the question with the provided tools.\n",
            "Answer: Sorry, I cannot answer your query.\n",
            "\u001b[0m[5] Agent Response: Sorry, I cannot answer your query.\n",
            "[6] Question: Can you compare the last accessed dates of the Uber 10Q filings for March, June, and September 2022?\n",
            "\u001b[1;3;38;5;200mThought: I need to use the tools to get the last accessed dates of the Uber 10Q filings for March, June, and September 2022.\n",
            "Action: march_2022\n",
            "Action Input: {'input': 'last accessed date'}\n",
            "\u001b[0m\u001b[1;3;34mObservation: The last accessed date is February 9, 2022.\n",
            "\u001b[0m\u001b[1;3;38;5;200mThought: Now I need to get the last accessed date for the June 2022 filing.\n",
            "Action: june_2022\n",
            "Action Input: {'input': 'last accessed date'}\n",
            "\u001b[0m\u001b[1;3;34mObservation: Based on the provided context information, there is no mention of the last accessed date. Therefore, it is not possible to determine the last accessed date based on the given information.\n",
            "\u001b[0m\u001b[1;3;38;5;200mThought: I need to get the last accessed date for the September 2022 filing.\n",
            "Action: sept_2022\n",
            "Action Input: {'input': 'last accessed date'}\n",
            "\u001b[0m\u001b[1;3;34mObservation: Based on the given context information, there is no specific mention of the last accessed date. Therefore, it is not possible to determine the last accessed date from the provided information.\n",
            "\u001b[0m"
          ]
        },
        {
          "output_type": "stream",
          "name": "stderr",
          "text": [
            "\u001b[34m\u001b[1mwandb\u001b[0m: Logged trace tree to W&B.\n"
          ]
        },
        {
          "output_type": "stream",
          "name": "stdout",
          "text": [
            "\u001b[1;3;38;5;200mThought: I can answer without using any more tools.\n",
            "Answer: The last accessed date for the Uber 10Q filing for March 2022 is February 9, 2022. Unfortunately, the last accessed dates for the June and September 2022 filings are not available in the provided information.\n",
            "\u001b[0m[6] Agent Response: The last accessed date for the Uber 10Q filing for March 2022 is February 9, 2022. Unfortunately, the last accessed dates for the June and September 2022 filings are not available in the provided information.\n",
            "[7] Question: What is the average time between the last accessed dates of the Uber 10Q filings in 2022?\n",
            "\u001b[1;3;38;5;200mThought: To answer this question, I need to find the last accessed dates of the Uber 10Q filings for each quarter in 2022. I will use the tools march_2022, june_2022, and sept_2022 to get this information.\n",
            "Action: march_2022\n",
            "Action Input: {'input': 'last accessed date'}\n",
            "\u001b[0m\u001b[1;3;34mObservation: The last accessed date is not provided in the given context information.\n",
            "\u001b[0m\u001b[1;3;38;5;200mThought: The tool for the first quarter did not provide the last accessed date. I will try the tool for the second quarter.\n",
            "Action: june_2022\n",
            "Action Input: {'input': 'last accessed date'}\n",
            "\u001b[0m\u001b[1;3;34mObservation: Based on the provided context information, there is no mention of the last accessed date. Therefore, it is not possible to determine the last accessed date based on the given information.\n",
            "\u001b[0m\u001b[1;3;38;5;200mThought: The tool for the second quarter also did not provide the last accessed date. I will try the tool for the third quarter.\n",
            "Action: sept_2022\n",
            "Action Input: {'input': 'last accessed date'}\n",
            "\u001b[0m\u001b[1;3;34mObservation: Based on the given context information, there is no mention of the last accessed date. Therefore, it is not possible to determine the last accessed date from the provided information.\n",
            "\u001b[0m"
          ]
        },
        {
          "output_type": "stream",
          "name": "stderr",
          "text": [
            "\u001b[34m\u001b[1mwandb\u001b[0m: Logged trace tree to W&B.\n"
          ]
        },
        {
          "output_type": "stream",
          "name": "stdout",
          "text": [
            "\u001b[1;3;38;5;200mThought: None of the tools provided the last accessed dates for the Uber 10Q filings in 2022. Therefore, I cannot calculate the average time between these dates.\n",
            "Answer: Sorry, I cannot answer your query.\n",
            "\u001b[0m[7] Agent Response: Sorry, I cannot answer your query.\n",
            "[8] Question: Question: What is the primary purpose of the forward-looking statements mentioned in the Uber March 10Q filing?\n",
            "\u001b[1;3;38;5;200mThought: The primary purpose of forward-looking statements in a 10Q filing is usually to provide investors and stakeholders with a projection of the company's future performance based on current data and trends. However, to provide a specific answer, I need to use the march_2022 tool to extract the relevant information from Uber's March 10Q filing.\n",
            "Action: march_2022\n",
            "Action Input: {'input': 'forward-looking statements'}\n",
            "\u001b[0m\u001b[1;3;34mObservation: The document contains a special note regarding forward-looking statements. These statements are predictions or expectations about future events and trends that may affect the company's business, financial condition, operating results, prospects, strategy, and financial needs. The forward-looking statements are based on the company's current expectations and projections, but actual events or results may differ. The company cautions investors not to unduly rely on these statements, as they are inherently uncertain. The company does not have an obligation to update the forward-looking statements to reflect new information or events, except as required by law.\n",
            "\u001b[0m"
          ]
        },
        {
          "output_type": "stream",
          "name": "stderr",
          "text": [
            "\u001b[34m\u001b[1mwandb\u001b[0m: Logged trace tree to W&B.\n"
          ]
        },
        {
          "output_type": "stream",
          "name": "stdout",
          "text": [
            "\u001b[1;3;38;5;200mThought: I can answer without using any more tools.\n",
            "Answer: The primary purpose of the forward-looking statements in Uber's March 10Q filing is to provide investors and stakeholders with the company's predictions or expectations about future events and trends that may affect its business, financial condition, operating results, prospects, strategy, and financial needs. These statements are based on the company's current expectations and projections. However, Uber cautions investors not to unduly rely on these statements, as they are inherently uncertain and actual events or results may differ. The company does not have an obligation to update the forward-looking statements to reflect new information or events, except as required by law.\n",
            "\u001b[0m[8] Agent Response: The primary purpose of the forward-looking statements in Uber's March 10Q filing is to provide investors and stakeholders with the company's predictions or expectations about future events and trends that may affect its business, financial condition, operating results, prospects, strategy, and financial needs. These statements are based on the company's current expectations and projections. However, Uber cautions investors not to unduly rely on these statements, as they are inherently uncertain and actual events or results may differ. The company does not have an obligation to update the forward-looking statements to reflect new information or events, except as required by law.\n",
            "[9] Question: What is the primary purpose of the forward-looking statements mentioned in the Uber June 10Q filing?\n",
            "\u001b[1;3;38;5;200mThought: The question is asking for the primary purpose of the forward-looking statements in Uber's June 10Q filing. I don't have this information readily available, so I'll need to use the june_2022 tool to find it.\n",
            "Action: june_2022\n",
            "Action Input: {'input': 'forward-looking statements purpose'}\n",
            "\u001b[0m\u001b[1;3;34mObservation: The purpose of including forward-looking statements in a quarterly report is to provide information about the company's expectations and projections for future events and trends that may affect its business, financial condition, operating results, prospects, strategy, and financial needs. These statements are intended to give investors insight into the company's plans, objectives, and anticipated performance. However, it is important to note that forward-looking statements are inherently uncertain and may not accurately predict future events or results.\n",
            "\u001b[0m"
          ]
        },
        {
          "output_type": "stream",
          "name": "stderr",
          "text": [
            "\u001b[34m\u001b[1mwandb\u001b[0m: Logged trace tree to W&B.\n"
          ]
        },
        {
          "output_type": "stream",
          "name": "stdout",
          "text": [
            "\u001b[1;3;38;5;200mThought: I can answer without using any more tools.\n",
            "Answer: The primary purpose of the forward-looking statements in Uber's June 10Q filing is to provide information about the company's expectations and projections for future events and trends that may affect its business, financial condition, operating results, prospects, strategy, and financial needs. These statements are intended to give investors insight into the company's plans, objectives, and anticipated performance. However, it's important to note that these forward-looking statements are inherently uncertain and may not accurately predict future events or results.\n",
            "\u001b[0m[9] Agent Response: The primary purpose of the forward-looking statements in Uber's June 10Q filing is to provide information about the company's expectations and projections for future events and trends that may affect its business, financial condition, operating results, prospects, strategy, and financial needs. These statements are intended to give investors insight into the company's plans, objectives, and anticipated performance. However, it's important to note that these forward-looking statements are inherently uncertain and may not accurately predict future events or results.\n",
            "[10] Question: Can you compare the primary purpose of the forward-looking statements in the Uber March and June 10Q filings?\n",
            "\u001b[1;3;38;5;200mThought: I need to use the tools to get the forward-looking statements from the Uber March and June 10Q filings.\n",
            "Action: march_2022\n",
            "Action Input: {'input': 'forward-looking statements'}\n",
            "\u001b[0m\u001b[1;3;34mObservation: Forward-looking statements are statements made in a document or report that predict or anticipate future events or outcomes. These statements are based on the current expectations and projections of the company and may include information about future financial performance, business strategy, market trends, and other factors that may affect the company's operations. It is important to note that actual events or results may differ from these forward-looking statements, and they should not be relied upon as predictions of future events. The company may update these statements in subsequent reports or filings as new information becomes available.\n",
            "\u001b[0m\u001b[1;3;38;5;200mThought: Now I need to use the tool to get the forward-looking statements from the Uber June 10Q filings.\n",
            "Action: june_2022\n",
            "Action Input: {'input': 'forward-looking statements'}\n",
            "\u001b[0m\u001b[1;3;34mObservation: Forward-looking statements are statements made in a document or report that predict or anticipate future events or outcomes. These statements are based on the current expectations and projections of the company and may include information about future financial performance, business strategy, market trends, and other factors that may affect the company's operations. It is important to note that actual events or results may differ from these forward-looking statements, and they should not be relied upon as predictions of future events. The company may update these statements as new information becomes available, but there is no obligation to do so.\n",
            "\u001b[0m"
          ]
        },
        {
          "output_type": "stream",
          "name": "stderr",
          "text": [
            "\u001b[34m\u001b[1mwandb\u001b[0m: Logged trace tree to W&B.\n"
          ]
        },
        {
          "output_type": "stream",
          "name": "stdout",
          "text": [
            "\u001b[1;3;38;5;200mThought: I can answer without using any more tools.\n",
            "Answer: The primary purpose of the forward-looking statements in both the Uber March and June 10Q filings is to provide predictions or anticipations of future events or outcomes based on the company's current expectations and projections. These may include information about future financial performance, business strategy, market trends, and other factors that may affect the company's operations. However, it's important to note that actual events or results may differ from these forward-looking statements, and they should not be relied upon as predictions of future events. The company may update these statements as new information becomes available. The only difference is that in the June filing, it is explicitly stated that there is no obligation to update these statements.\n",
            "\u001b[0m[10] Agent Response: The primary purpose of the forward-looking statements in both the Uber March and June 10Q filings is to provide predictions or anticipations of future events or outcomes based on the company's current expectations and projections. These may include information about future financial performance, business strategy, market trends, and other factors that may affect the company's operations. However, it's important to note that actual events or results may differ from these forward-looking statements, and they should not be relied upon as predictions of future events. The company may update these statements as new information becomes available. The only difference is that in the June filing, it is explicitly stated that there is no obligation to update these statements.\n",
            "[11] Question: How has the primary purpose of the forward-looking statements in Uber's 10Q filings evolved throughout 2022?\n",
            "\u001b[1;3;38;5;200mThought: To answer this question, I need to analyze the forward-looking statements in Uber's 10Q filings for each quarter of 2022. I will start with the first quarter.\n",
            "Action: march_2022\n",
            "Action Input: {'input': 'forward-looking statements'}\n",
            "\u001b[0m\u001b[1;3;34mObservation: The document contains a special note regarding forward-looking statements. These statements are predictions or expectations about future events and trends that may affect the company's business, financial condition, operating results, prospects, strategy, and financial needs. The forward-looking statements are based on the company's current expectations and projections, but actual events or results may differ. The company cautions investors not to unduly rely on these statements, as they are inherently uncertain. The company does not have an obligation to update the forward-looking statements to reflect new information or events, except as required by law.\n",
            "\u001b[0m\u001b[1;3;38;5;200mThought: Now that I have the information about the forward-looking statements in the first quarter, I will proceed to analyze the second quarter.\n",
            "Action: june_2022\n",
            "Action Input: {'input': 'forward-looking statements'}\n",
            "\u001b[0m\u001b[1;3;34mObservation: Forward-looking statements are statements made in a document or report that predict or anticipate future events or outcomes. These statements are based on the current expectations and projections of the company and may include information about future financial performance, business strategy, market trends, and other factors that may affect the company's operations. It is important to note that actual events or results may differ from these forward-looking statements, and they should not be relied upon as predictions of future events. The company may update these statements as new information becomes available, but there is no obligation to do so.\n",
            "\u001b[0m\u001b[1;3;38;5;200mThought: The forward-looking statements in the second quarter seem to be similar to those in the first quarter. They are based on current expectations and projections, and they caution that actual results may differ. Now, I will analyze the third quarter.\n",
            "Action: sept_2022\n",
            "Action Input: {'input': 'forward-looking statements'}\n",
            "\u001b[0m\u001b[1;3;34mObservation: The document contains a section titled \"SPECIAL NOTE REGARDING FORWARD-LOOKING STATEMENTS\" which indicates that the Quarterly Report on Form 10-Q includes forward-looking statements. These statements are not predictions of future events and are subject to risks, uncertainties, assumptions, and other factors. The company has based these statements on its current expectations and projections about future events and trends. Actual events or results may differ from the forward-looking statements. The company does not undertake any obligation to update these statements to reflect new information or events.\n",
            "\u001b[0m"
          ]
        },
        {
          "output_type": "stream",
          "name": "stderr",
          "text": [
            "\u001b[34m\u001b[1mwandb\u001b[0m: Logged trace tree to W&B.\n"
          ]
        },
        {
          "output_type": "stream",
          "name": "stdout",
          "text": [
            "\u001b[1;3;38;5;200mThought: I can answer without using any more tools.\n",
            "Answer: The primary purpose of the forward-looking statements in Uber's 10Q filings throughout 2022 has remained consistent. They are intended to provide predictions or expectations about future events and trends that may affect the company's business, financial condition, operating results, prospects, strategy, and financial needs. These statements are based on the company's current expectations and projections. However, Uber consistently cautions that actual events or results may differ from these forward-looking statements and that investors should not unduly rely on them. The company also consistently states that it does not have an obligation to update these statements to reflect new information or events, except as required by law.\n",
            "\u001b[0m[11] Agent Response: The primary purpose of the forward-looking statements in Uber's 10Q filings throughout 2022 has remained consistent. They are intended to provide predictions or expectations about future events and trends that may affect the company's business, financial condition, operating results, prospects, strategy, and financial needs. These statements are based on the company's current expectations and projections. However, Uber consistently cautions that actual events or results may differ from these forward-looking statements and that investors should not unduly rely on them. The company also consistently states that it does not have an obligation to update these statements to reflect new information or events, except as required by law.\n",
            "[12] Question: Question: What is the last accessed date of the Uber March 10Q filing?\n",
            "\u001b[1;3;38;5;200mThought: I need to use the march_2022 tool to get the information about the last accessed date of the Uber March 10Q filing.\n",
            "Action: march_2022\n",
            "Action Input: {'input': 'last accessed date'}\n",
            "\u001b[0m\u001b[1;3;34mObservation: The last accessed date is February 9, 2022.\n",
            "\u001b[0m"
          ]
        },
        {
          "output_type": "stream",
          "name": "stderr",
          "text": [
            "\u001b[34m\u001b[1mwandb\u001b[0m: Logged trace tree to W&B.\n"
          ]
        },
        {
          "output_type": "stream",
          "name": "stdout",
          "text": [
            "\u001b[1;3;38;5;200mThought: I can answer without using any more tools.\n",
            "Answer: The last accessed date of the Uber March 10Q filing is February 9, 2022.\n",
            "\u001b[0m[12] Agent Response: The last accessed date of the Uber March 10Q filing is February 9, 2022.\n",
            "[13] Question: What is the last accessed date of the Uber June 10Q filing?\n",
            "\u001b[1;3;38;5;200mThought: I need to use the june_2022 tool to get the information about the Uber June 10Q filing.\n",
            "Action: june_2022\n",
            "Action Input: {'input': 'last accessed date'}\n",
            "\u001b[0m\u001b[1;3;34mObservation: Based on the provided context information, there is no mention of the last accessed date. Therefore, it is not possible to determine the last accessed date from the given information.\n",
            "\u001b[0m"
          ]
        },
        {
          "output_type": "stream",
          "name": "stderr",
          "text": [
            "\u001b[34m\u001b[1mwandb\u001b[0m: Logged trace tree to W&B.\n"
          ]
        },
        {
          "output_type": "stream",
          "name": "stdout",
          "text": [
            "\u001b[1;3;38;5;200mThought: I cannot answer the question with the provided tools.\n",
            "Answer: Sorry, I cannot answer your query.\n",
            "\u001b[0m[13] Agent Response: Sorry, I cannot answer your query.\n",
            "[14] Question: Can you compare the last accessed dates of the Uber 10Q filings for March, June, and September 2022?\n",
            "\u001b[1;3;38;5;200mThought: I need to use the tools to get the last accessed dates of the Uber 10Q filings for March, June, and September 2022.\n",
            "Action: march_2022\n",
            "Action Input: {'input': 'last accessed date'}\n",
            "\u001b[0m\u001b[1;3;34mObservation: The last accessed date is February 9, 2022.\n",
            "\u001b[0m\u001b[1;3;38;5;200mThought: I have the last accessed date for the March 2022 filing. Now I need to get the last accessed date for the June 2022 filing.\n",
            "Action: june_2022\n",
            "Action Input: {'input': 'last accessed date'}\n",
            "\u001b[0m\u001b[1;3;34mObservation: Based on the provided context information, there is no mention of the last accessed date. Therefore, it is not possible to determine the last accessed date based on the given information.\n",
            "\u001b[0m\u001b[1;3;38;5;200mThought: I couldn't get the last accessed date for the June 2022 filing. Now I need to get the last accessed date for the September 2022 filing.\n",
            "Action: sept_2022\n",
            "Action Input: {'input': 'last accessed date'}\n",
            "\u001b[0m\u001b[1;3;34mObservation: Based on the given context information, there is no mention of the last accessed date. Therefore, it is not possible to determine the last accessed date from the provided information.\n",
            "\u001b[0m"
          ]
        },
        {
          "output_type": "stream",
          "name": "stderr",
          "text": [
            "\u001b[34m\u001b[1mwandb\u001b[0m: Logged trace tree to W&B.\n"
          ]
        },
        {
          "output_type": "stream",
          "name": "stdout",
          "text": [
            "\u001b[1;3;38;5;200mThought: I can answer without using any more tools.\n",
            "Answer: The last accessed date for the Uber 10Q filing for March 2022 is February 9, 2022. Unfortunately, the last accessed dates for the June and September 2022 filings are not available based on the provided information.\n",
            "\u001b[0m[14] Agent Response: The last accessed date for the Uber 10Q filing for March 2022 is February 9, 2022. Unfortunately, the last accessed dates for the June and September 2022 filings are not available based on the provided information.\n",
            "[15] Question: What is the average time between the last accessed dates of the Uber 10Q filings in 2022?\n",
            "\u001b[1;3;38;5;200mThought: To answer this question, I need to find the last accessed dates of the Uber 10Q filings for each quarter in 2022. I will use the tools march_2022, june_2022, and sept_2022 to get this information.\n",
            "Action: march_2022\n",
            "Action Input: {'input': 'last accessed date'}\n",
            "\u001b[0m\u001b[1;3;38;5;200mThought: The tool for the first quarter didn't provide the last accessed date. I'll try the tool for the second quarter.\n",
            "Action: june_2022\n",
            "Action Input: {'input': 'last accessed date'}\n",
            "\u001b[0m\u001b[1;3;34mObservation: Based on the provided context information, there is no mention of the last accessed date. Therefore, it is not possible to determine the last accessed date based on the given information.\n",
            "\u001b[0m\u001b[1;3;38;5;200mThought: The tool for the second quarter also didn't provide the last accessed date. I'll try the tool for the third quarter.\n",
            "Action: sept_2022\n",
            "Action Input: {'input': 'last accessed date'}\n",
            "\u001b[0m\u001b[1;3;34mObservation: The context information does not provide any specific information about the last accessed date.\n",
            "\u001b[0m"
          ]
        },
        {
          "output_type": "stream",
          "name": "stderr",
          "text": [
            "\u001b[34m\u001b[1mwandb\u001b[0m: Logged trace tree to W&B.\n"
          ]
        },
        {
          "output_type": "stream",
          "name": "stdout",
          "text": [
            "\u001b[1;3;38;5;200mThought: None of the tools provided the last accessed date for the Uber 10Q filings in 2022. Therefore, I cannot calculate the average time between the last accessed dates.\n",
            "Answer: Sorry, I cannot answer your query.\n",
            "\u001b[0m[15] Agent Response: Sorry, I cannot answer your query.\n",
            "[16] Question: Question: What was the total amount of cash and cash equivalents held by Uber Technologies, Inc. as of March 31, 2022?\n",
            "\u001b[1;3;38;5;200mThought: I need to use the march_2022 tool to get the information about Uber's financials for the end of March 2022.\n",
            "Action: march_2022\n",
            "Action Input: {'input': 'cash and cash equivalents'}\n",
            "\u001b[0m\u001b[1;3;34mObservation: The company's cash and cash equivalents at the end of the period were $6,607 million. This includes cash and cash equivalents of $4,836 million and restricted cash and cash equivalents of $1,771 million. The cash and cash equivalents decreased by $213 million during the period.\n",
            "\u001b[0m"
          ]
        },
        {
          "output_type": "stream",
          "name": "stderr",
          "text": [
            "\u001b[34m\u001b[1mwandb\u001b[0m: Logged trace tree to W&B.\n"
          ]
        },
        {
          "output_type": "stream",
          "name": "stdout",
          "text": [
            "\u001b[1;3;38;5;200mThought: I can answer without using any more tools.\n",
            "Answer: As of March 31, 2022, Uber Technologies, Inc. held a total of $6,607 million in cash and cash equivalents.\n",
            "\u001b[0m[16] Agent Response: As of March 31, 2022, Uber Technologies, Inc. held a total of $6,607 million in cash and cash equivalents.\n",
            "[17] Question: 1. How did the total amount of cash and cash equivalents held by Uber Technologies, Inc. change from March 2022 to June 2022?\n",
            "\u001b[1;3;38;5;200mThought: I need to use the tools to get the financial data for Uber in March 2022 and June 2022.\n",
            "Action: march_2022\n",
            "Action Input: {'input': 'cash and cash equivalents'}\n",
            "\u001b[0m\u001b[1;3;34mObservation: The company's cash and cash equivalents at the end of the period were $6,607 million. This includes cash and cash equivalents of $4,836 million and restricted cash and cash equivalents of $1,771 million. The cash and cash equivalents decreased by $213 million during the period.\n",
            "\u001b[0m\u001b[1;3;38;5;200mThought: Now I have the cash and cash equivalents for March 2022. I need to use the tool to get the same data for June 2022.\n",
            "Action: june_2022\n",
            "Action Input: {'input': 'cash and cash equivalents'}\n",
            "\u001b[0m\u001b[1;3;34mObservation: The company's cash and cash equivalents, as reported in the condensed consolidated balance sheets, were $4,443 million as of the end of the period.\n",
            "\u001b[0m"
          ]
        },
        {
          "output_type": "stream",
          "name": "stderr",
          "text": [
            "\u001b[34m\u001b[1mwandb\u001b[0m: Logged trace tree to W&B.\n"
          ]
        },
        {
          "output_type": "stream",
          "name": "stdout",
          "text": [
            "\u001b[1;3;38;5;200mThought: Now I have the cash and cash equivalents for June 2022. I can calculate the change between these two periods.\n",
            "Answer: The total amount of cash and cash equivalents held by Uber Technologies, Inc. decreased by $2,164 million from March 2022 to June 2022.\n",
            "\u001b[0m[17] Agent Response: The total amount of cash and cash equivalents held by Uber Technologies, Inc. decreased by $2,164 million from March 2022 to June 2022.\n",
            "[18] Question: 2. Can you compare the total amount of cash and cash equivalents held by Uber Technologies, Inc. in March 2022 and September 2022?\n",
            "\u001b[1;3;38;5;200mThought: I need to use the tools to get the financial data for Uber in March 2022 and September 2022.\n",
            "Action: march_2022\n",
            "Action Input: {'input': 'cash and cash equivalents'}\n",
            "\u001b[0m\u001b[1;3;34mObservation: The company's cash and cash equivalents at the end of the period were $6,607 million. This includes cash and cash equivalents of $4,836 million and restricted cash and cash equivalents of $1,771 million. The cash and cash equivalents decreased by $213 million during the period.\n",
            "\u001b[0m\u001b[1;3;38;5;200mThought: Now I have the cash and cash equivalents data for March 2022. I need to use the tool to get the same data for September 2022.\n",
            "Action: sept_2022\n",
            "Action Input: {'input': 'cash and cash equivalents'}\n",
            "\u001b[0m\u001b[1;3;34mObservation: The company's cash and cash equivalents at the end of the period were $9,790 million in 2022 and $8,634 million in 2021. Cash and cash equivalents include cash on hand and highly liquid investments that are readily convertible into cash.\n",
            "\u001b[0m"
          ]
        },
        {
          "output_type": "stream",
          "name": "stderr",
          "text": [
            "\u001b[34m\u001b[1mwandb\u001b[0m: Logged trace tree to W&B.\n"
          ]
        },
        {
          "output_type": "stream",
          "name": "stdout",
          "text": [
            "\u001b[1;3;38;5;200mThought: I can answer without using any more tools.\n",
            "Answer: In March 2022, Uber Technologies, Inc. held $6,607 million in cash and cash equivalents. By September 2022, this amount had increased to $9,790 million. Therefore, there was an increase in the total amount of cash and cash equivalents held by Uber between March 2022 and September 2022.\n",
            "\u001b[0m[18] Agent Response: In March 2022, Uber Technologies, Inc. held $6,607 million in cash and cash equivalents. By September 2022, this amount had increased to $9,790 million. Therefore, there was an increase in the total amount of cash and cash equivalents held by Uber between March 2022 and September 2022.\n",
            "[19] Question: 3. What was the trend in the total amount of cash and cash equivalents held by Uber Technologies, Inc. throughout 2022?\n",
            "\u001b[1;3;38;5;200mThought: To answer this question, I need to gather data from all three quarters of 2022. I will start with the first quarter ending in March.\n",
            "Action: march_2022\n",
            "Action Input: {'input': 'cash and cash equivalents'}\n",
            "\u001b[0m\u001b[1;3;34mObservation: The company's cash and cash equivalents at the end of the period were $6,607 million. This includes cash and cash equivalents of $4,836 million and restricted cash and cash equivalents of $1,771 million. The cash and cash equivalents decreased by $213 million during the period.\n",
            "\u001b[0m\u001b[1;3;38;5;200mThought: Now that I have the data for the first quarter, I need to gather data for the second quarter ending in June.\n",
            "Action: june_2022\n",
            "Action Input: {'input': 'cash and cash equivalents'}\n",
            "\u001b[0m\u001b[1;3;34mObservation: The company's cash and cash equivalents, as reported in the condensed consolidated balance sheets, were $4,443 million as of the end of the period.\n",
            "\u001b[0m\u001b[1;3;38;5;200mThought: Now that I have the data for the second quarter, I need to gather data for the third quarter ending in September.\n",
            "Action: sept_2022\n",
            "Action Input: {'input': 'cash and cash equivalents'}\n",
            "\u001b[0m\u001b[1;3;34mObservation: The company's cash and cash equivalents at the end of the period were $9,790 million in 2022 and $8,634 million in 2021. Cash and cash equivalents include cash on hand and highly liquid investments that are readily convertible into cash.\n",
            "\u001b[0m"
          ]
        },
        {
          "output_type": "stream",
          "name": "stderr",
          "text": [
            "\u001b[34m\u001b[1mwandb\u001b[0m: Logged trace tree to W&B.\n"
          ]
        },
        {
          "output_type": "stream",
          "name": "stdout",
          "text": [
            "\u001b[1;3;38;5;200mThought: I can answer without using any more tools.\n",
            "Answer: The total amount of cash and cash equivalents held by Uber Technologies, Inc. decreased from $6,607 million at the end of the first quarter (March 2022) to $4,443 million at the end of the second quarter (June 2022). However, there was a significant increase in the third quarter, with the total amount rising to $9,790 million at the end of September 2022.\n",
            "\u001b[0m[19] Agent Response: The total amount of cash and cash equivalents held by Uber Technologies, Inc. decreased from $6,607 million at the end of the first quarter (March 2022) to $4,443 million at the end of the second quarter (June 2022). However, there was a significant increase in the third quarter, with the total amount rising to $9,790 million at the end of September 2022.\n",
            "[20] Question: What was Uber's net loss attributable to Uber Technologies, Inc. for the three months ended March 31, 2022?\n",
            "\u001b[1;3;38;5;200mThought: I need to use the march_2022 tool to get the financial information for Uber for the three months ending March 31, 2022.\n",
            "Action: march_2022\n",
            "Action Input: {'input': 'net loss attributable to Uber Technologies, Inc.'}\n",
            "\u001b[0m\u001b[1;3;34mObservation: The net loss attributable to Uber Technologies, Inc. for the period mentioned in the context information is $5,930 million.\n",
            "\u001b[0m"
          ]
        },
        {
          "output_type": "stream",
          "name": "stderr",
          "text": [
            "\u001b[34m\u001b[1mwandb\u001b[0m: Logged trace tree to W&B.\n"
          ]
        },
        {
          "output_type": "stream",
          "name": "stdout",
          "text": [
            "\u001b[1;3;38;5;200mThought: I can answer without using any more tools.\n",
            "Answer: Uber's net loss attributable to Uber Technologies, Inc. for the three months ended March 31, 2022 was $5,930 million.\n",
            "\u001b[0m[20] Agent Response: Uber's net loss attributable to Uber Technologies, Inc. for the three months ended March 31, 2022 was $5,930 million.\n",
            "[21] Question: 1. What was Uber's net loss attributable to Uber Technologies, Inc. for the three months ended June 30, 2022?\n",
            "\u001b[1;3;38;5;200mThought: I need to use the tool that provides information about Uber's financials for the quarter ending June 2022 to answer this question.\n",
            "Action: june_2022\n",
            "Action Input: {'input': 'net loss attributable to Uber Technologies, Inc.'}\n",
            "\u001b[0m\u001b[1;3;34mObservation: The net loss attributable to Uber Technologies, Inc. for the period indicated is $2,601 million.\n",
            "\u001b[0m"
          ]
        },
        {
          "output_type": "stream",
          "name": "stderr",
          "text": [
            "\u001b[34m\u001b[1mwandb\u001b[0m: Logged trace tree to W&B.\n"
          ]
        },
        {
          "output_type": "stream",
          "name": "stdout",
          "text": [
            "\u001b[1;3;38;5;200mThought: I can answer without using any more tools.\n",
            "Answer: Uber's net loss attributable to Uber Technologies, Inc. for the three months ended June 30, 2022 was $2,601 million.\n",
            "\u001b[0m[21] Agent Response: Uber's net loss attributable to Uber Technologies, Inc. for the three months ended June 30, 2022 was $2,601 million.\n",
            "[22] Question: 2. Can you compare and contrast the net loss attributable to Uber Technologies, Inc. for the three months ended March 31, 2022 and June 30, 2022?\n",
            "\u001b[1;3;38;5;200mThought: I need to use the tools to get the financial data for the months of March and June 2022.\n",
            "Action: march_2022\n",
            "Action Input: {'input': 'net loss attributable to Uber Technologies, Inc.'}\n",
            "\u001b[0m\u001b[1;3;34mObservation: The net loss attributable to Uber Technologies, Inc. for the period mentioned in the context information is $5,930 million.\n",
            "\u001b[0m\u001b[1;3;38;5;200mThought: Now I need to use the tool to get the financial data for June 2022.\n",
            "Action: june_2022\n",
            "Action Input: {'input': 'net loss attributable to Uber Technologies, Inc.'}\n",
            "\u001b[0m\u001b[1;3;34mObservation: The net loss attributable to Uber Technologies, Inc. for the period indicated is $2,601 million.\n",
            "\u001b[0m"
          ]
        },
        {
          "output_type": "stream",
          "name": "stderr",
          "text": [
            "\u001b[34m\u001b[1mwandb\u001b[0m: Logged trace tree to W&B.\n"
          ]
        },
        {
          "output_type": "stream",
          "name": "stdout",
          "text": [
            "\u001b[1;3;38;5;200mThought: I can answer without using any more tools.\n",
            "Answer: The net loss attributable to Uber Technologies, Inc. for the three months ended March 31, 2022 was $5,930 million. However, for the three months ended June 30, 2022, the net loss was significantly lower at $2,601 million. This shows a substantial decrease in net loss over these two quarters.\n",
            "\u001b[0m[22] Agent Response: The net loss attributable to Uber Technologies, Inc. for the three months ended March 31, 2022 was $5,930 million. However, for the three months ended June 30, 2022, the net loss was significantly lower at $2,601 million. This shows a substantial decrease in net loss over these two quarters.\n",
            "[23] Question: 3. How did Uber's net loss attributable to Uber Technologies, Inc. change over the three quarters of 2022?\n",
            "\u001b[1;3;38;5;200mThought: I need to use the tools to get the net loss attributable to Uber Technologies, Inc. for each of the three quarters of 2022.\n",
            "Action: march_2022\n",
            "Action Input: {'input': 'net loss attributable to Uber Technologies, Inc.'}\n",
            "\u001b[0m\u001b[1;3;34mObservation: The net loss attributable to Uber Technologies, Inc. for the period mentioned in the context information is $5,930 million.\n",
            "\u001b[0m\u001b[1;3;38;5;200mThought: Now I need to get the net loss attributable to Uber Technologies, Inc. for the second quarter of 2022.\n",
            "Action: june_2022\n",
            "Action Input: {'input': 'net loss attributable to Uber Technologies, Inc.'}\n",
            "\u001b[0m\u001b[1;3;34mObservation: The net loss attributable to Uber Technologies, Inc. for the period indicated is $2,601 million.\n",
            "\u001b[0m\u001b[1;3;38;5;200mThought: Now I need to get the net loss attributable to Uber Technologies, Inc. for the third quarter of 2022.\n",
            "Action: sept_2022\n",
            "Action Input: {'input': 'net loss attributable to Uber Technologies, Inc.'}\n",
            "\u001b[0m\u001b[1;3;34mObservation: The net loss attributable to Uber Technologies, Inc. was $1,206 million in the third quarter of 2022.\n",
            "\u001b[0m"
          ]
        },
        {
          "output_type": "stream",
          "name": "stderr",
          "text": [
            "\u001b[34m\u001b[1mwandb\u001b[0m: Logged trace tree to W&B.\n"
          ]
        },
        {
          "output_type": "stream",
          "name": "stdout",
          "text": [
            "\u001b[1;3;38;5;200mThought: I can answer without using any more tools.\n",
            "Answer: Uber's net loss attributable to Uber Technologies, Inc. decreased over the three quarters of 2022. It was $5,930 million in the first quarter, $2,601 million in the second quarter, and $1,206 million in the third quarter.\n",
            "\u001b[0m[23] Agent Response: Uber's net loss attributable to Uber Technologies, Inc. decreased over the three quarters of 2022. It was $5,930 million in the first quarter, $2,601 million in the second quarter, and $1,206 million in the third quarter.\n",
            "[24] Question: What was the net loss including non-controlling interests for Uber in the first quarter of 2022?\n",
            "\u001b[1;3;38;5;200mThought: I need to use the march_2022 tool to get the financial data for Uber in the first quarter of 2022.\n",
            "Action: march_2022\n",
            "Action Input: {'input': 'net loss including non-controlling interests'}\n",
            "\u001b[0m\u001b[1;3;34mObservation: The net loss including non-controlling interests for the three months ended March 31, 2022, was $5,918 million.\n",
            "\u001b[0m"
          ]
        },
        {
          "output_type": "stream",
          "name": "stderr",
          "text": [
            "\u001b[34m\u001b[1mwandb\u001b[0m: Logged trace tree to W&B.\n"
          ]
        },
        {
          "output_type": "stream",
          "name": "stdout",
          "text": [
            "\u001b[1;3;38;5;200mThought: I can answer without using any more tools.\n",
            "Answer: The net loss including non-controlling interests for Uber in the first quarter of 2022 was $5,918 million.\n",
            "\u001b[0m[24] Agent Response: The net loss including non-controlling interests for Uber in the first quarter of 2022 was $5,918 million.\n",
            "[25] Question: 1. How did the net loss including non-controlling interests for Uber change from the first quarter to the second quarter of 2022?\n",
            "\u001b[1;3;38;5;200mThought: I need to use the tools to get the financial data for the first and second quarters of 2022.\n",
            "Action: march_2022\n",
            "Action Input: {'input': 'net loss including non-controlling interests'}\n",
            "\u001b[0m\u001b[1;3;34mObservation: The net loss including non-controlling interests for the three months ended March 31, 2022, was $5,918 million.\n",
            "\u001b[0m\u001b[1;3;38;5;200mThought: Now I have the net loss including non-controlling interests for the first quarter of 2022. I need to use the tool to get the same data for the second quarter of 2022.\n",
            "Action: june_2022\n",
            "Action Input: {'input': 'net loss including non-controlling interests'}\n",
            "\u001b[0m\u001b[1;3;34mObservation: $2,616 million\n",
            "\u001b[0m"
          ]
        },
        {
          "output_type": "stream",
          "name": "stderr",
          "text": [
            "\u001b[34m\u001b[1mwandb\u001b[0m: Logged trace tree to W&B.\n"
          ]
        },
        {
          "output_type": "stream",
          "name": "stdout",
          "text": [
            "\u001b[1;3;38;5;200mThought: I can answer without using any more tools.\n",
            "Answer: The net loss including non-controlling interests for Uber decreased from $5,918 million in the first quarter of 2022 to $2,616 million in the second quarter of 2022.\n",
            "\u001b[0m[25] Agent Response: The net loss including non-controlling interests for Uber decreased from $5,918 million in the first quarter of 2022 to $2,616 million in the second quarter of 2022.\n",
            "[26] Question: 2. Can you compare the net loss including non-controlling interests for Uber in the first and third quarters of 2022?\n",
            "\u001b[1;3;38;5;200mThought: I need to use the tools to get the financial data for the first and third quarters of 2022.\n",
            "Action: march_2022\n",
            "Action Input: {'input': 'net loss including non-controlling interests'}\n",
            "\u001b[0m\u001b[1;3;34mObservation: The net loss including non-controlling interests for the three months ended March 31, 2022, was $5,918 million.\n",
            "\u001b[0m\u001b[1;3;38;5;200mThought: Now I have the net loss for the first quarter. I need to use the tool for the third quarter to get the corresponding data.\n",
            "Action: sept_2022\n",
            "Action Input: {'input': 'net loss including non-controlling interests'}\n",
            "\u001b[0m\u001b[1;3;34mObservation: The net loss including non-controlling interests for the three months ended September 30, 2022, was $1,204 million.\n",
            "\u001b[0m"
          ]
        },
        {
          "output_type": "stream",
          "name": "stderr",
          "text": [
            "\u001b[34m\u001b[1mwandb\u001b[0m: Logged trace tree to W&B.\n"
          ]
        },
        {
          "output_type": "stream",
          "name": "stdout",
          "text": [
            "\u001b[1;3;38;5;200mThought: I can answer without using any more tools.\n",
            "Answer: The net loss including non-controlling interests for Uber in the first quarter of 2022 was $5,918 million, while in the third quarter it was $1,204 million. Therefore, the net loss decreased from the first to the third quarter.\n",
            "\u001b[0m[26] Agent Response: The net loss including non-controlling interests for Uber in the first quarter of 2022 was $5,918 million, while in the third quarter it was $1,204 million. Therefore, the net loss decreased from the first to the third quarter.\n",
            "[27] Question: 3. What was the trend in net loss including non-controlling interests for Uber over the three quarters of 2022?\n",
            "\u001b[1;3;38;5;200mThought: I need to use the tools to get the net loss including non-controlling interests for Uber over the three quarters of 2022.\n",
            "Action: march_2022\n",
            "Action Input: {'input': 'net loss including non-controlling interests'}\n",
            "\u001b[0m\u001b[1;3;34mObservation: The net loss including non-controlling interests for the three months ended March 31, 2022, was $5,918 million.\n",
            "\u001b[0m\u001b[1;3;38;5;200mThought: Now I need to get the net loss including non-controlling interests for Uber for the second quarter of 2022.\n",
            "Action: june_2022\n",
            "Action Input: {'input': 'net loss including non-controlling interests'}\n",
            "\u001b[0m\u001b[1;3;34mObservation: $2,616 million\n",
            "\u001b[0m\u001b[1;3;38;5;200mThought: Now I need to get the net loss including non-controlling interests for Uber for the third quarter of 2022.\n",
            "Action: sept_2022\n",
            "Action Input: {'input': 'net loss including non-controlling interests'}\n",
            "\u001b[0m\u001b[1;3;34mObservation: The net loss including non-controlling interests for the three months ended September 30, 2022, was $1,204 million.\n",
            "\u001b[0m"
          ]
        },
        {
          "output_type": "stream",
          "name": "stderr",
          "text": [
            "\u001b[34m\u001b[1mwandb\u001b[0m: Logged trace tree to W&B.\n"
          ]
        },
        {
          "output_type": "stream",
          "name": "stdout",
          "text": [
            "\u001b[1;3;38;5;200mThought: I can answer without using any more tools.\n",
            "Answer: The net loss including non-controlling interests for Uber decreased over the three quarters of 2022. It was $5,918 million in the first quarter, $2,616 million in the second quarter, and $1,204 million in the third quarter.\n",
            "\u001b[0m[27] Agent Response: The net loss including non-controlling interests for Uber decreased over the three quarters of 2022. It was $5,918 million in the first quarter, $2,616 million in the second quarter, and $1,204 million in the third quarter.\n",
            "[28] Question: Question: What was the total equity balance of Uber Technologies, Inc. as of March 31, 2021, according to the provided context information?\n",
            "\u001b[1;3;38;5;200mThought: I need to use the march_2022 tool to get the financial information for Uber in March 2021.\n",
            "Action: march_2022\n",
            "Action Input: {'input': 'total equity balance'}\n",
            "\u001b[0m\u001b[1;3;34mObservation: The total equity balance as of March 31, 2022, is $9,613 million.\n",
            "\u001b[0m"
          ]
        },
        {
          "output_type": "stream",
          "name": "stderr",
          "text": [
            "\u001b[34m\u001b[1mwandb\u001b[0m: Logged trace tree to W&B.\n"
          ]
        },
        {
          "output_type": "stream",
          "name": "stdout",
          "text": [
            "\u001b[1;3;38;5;200mThought: The tool provided the total equity balance for March 2022, not March 2021 as requested. Unfortunately, I don't have the specific tool to get the data for March 2021.\n",
            "Answer: Sorry, I cannot provide the total equity balance for Uber Technologies, Inc. as of March 31, 2021, as the tools available provide data for 2022.\n",
            "\u001b[0m[28] Agent Response: Sorry, I cannot provide the total equity balance for Uber Technologies, Inc. as of March 31, 2021, as the tools available provide data for 2022.\n",
            "[29] Question: What was the total equity balance of Uber Technologies, Inc. as of March 31, 2022, according to the provided context information?\n",
            "\u001b[1;3;38;5;200mThought: I need to use the march_2022 tool to find the total equity balance of Uber Technologies, Inc. as of March 31, 2022.\n",
            "Action: march_2022\n",
            "Action Input: {'input': 'total equity balance'}\n",
            "\u001b[0m\u001b[1;3;34mObservation: The total equity balance as of March 31, 2022, is $9,613 million.\n",
            "\u001b[0m"
          ]
        },
        {
          "output_type": "stream",
          "name": "stderr",
          "text": [
            "\u001b[34m\u001b[1mwandb\u001b[0m: Logged trace tree to W&B.\n"
          ]
        },
        {
          "output_type": "stream",
          "name": "stdout",
          "text": [
            "\u001b[1;3;38;5;200mThought: I can answer without using any more tools.\n",
            "Answer: The total equity balance of Uber Technologies, Inc. as of March 31, 2022, was $9,613 million.\n",
            "\u001b[0m[29] Agent Response: The total equity balance of Uber Technologies, Inc. as of March 31, 2022, was $9,613 million.\n",
            "[30] Question: Can you compare and contrast the total equity balance of Uber Technologies, Inc. in March 2022 and June 2022 and provide possible reasons for any changes?\n",
            "\u001b[1;3;38;5;200mThought: I need to use the tools to get the total equity balance of Uber Technologies, Inc. for March 2022 and June 2022.\n",
            "Action: march_2022\n",
            "Action Input: {'input': 'total equity balance'}\n",
            "\u001b[0m\u001b[1;3;34mObservation: The total equity balance as of March 31, 2022, is $9,613 million.\n",
            "\u001b[0m\u001b[1;3;38;5;200mThought: Now I need to use the tool to get the total equity balance of Uber Technologies, Inc. for June 2022.\n",
            "Action: june_2022\n",
            "Action Input: {'input': 'total equity balance'}\n",
            "\u001b[0m\u001b[1;3;34mObservation: The total equity balance as of June 30, 2022, is $7,369 million.\n",
            "\u001b[0m"
          ]
        },
        {
          "output_type": "stream",
          "name": "stderr",
          "text": [
            "\u001b[34m\u001b[1mwandb\u001b[0m: Logged trace tree to W&B.\n"
          ]
        },
        {
          "output_type": "stream",
          "name": "stdout",
          "text": [
            "\u001b[1;3;38;5;200mThought: The total equity balance of Uber Technologies, Inc. decreased from $9,613 million in March 2022 to $7,369 million in June 2022. This indicates a decrease in equity. The decrease in equity could be due to a variety of factors such as losses incurred by the company, payment of dividends, or buyback of shares. However, without more specific financial details, it's not possible to definitively state the cause of the decrease.\n",
            "Answer: The total equity balance of Uber Technologies, Inc. decreased from $9,613 million in March 2022 to $7,369 million in June 2022. This could be due to a variety of factors such as losses incurred by the company, payment of dividends, or buyback of shares. However, without more specific financial details, it's not possible to definitively state the cause of the decrease.\n",
            "\u001b[0m[30] Agent Response: The total equity balance of Uber Technologies, Inc. decreased from $9,613 million in March 2022 to $7,369 million in June 2022. This could be due to a variety of factors such as losses incurred by the company, payment of dividends, or buyback of shares. However, without more specific financial details, it's not possible to definitively state the cause of the decrease.\n",
            "[31] Question: How did the total equity balance of Uber Technologies, Inc. change over the course of 2022, from March to September?\n",
            "\u001b[1;3;38;5;200mThought: I need to use the tools to get the financial data for Uber for the quarters ending in March, June, and September 2022. I will start with the March 2022 data.\n",
            "Action: march_2022\n",
            "Action Input: {'input': 'total equity'}\n",
            "\u001b[0m\u001b[1;3;34mObservation: The total equity as of March 31, 2022, is $9,613 million.\n",
            "\u001b[0m\u001b[1;3;38;5;200mThought: Now that I have the total equity for March, I need to get the same information for June.\n",
            "Action: june_2022\n",
            "Action Input: {'input': 'total equity'}\n",
            "\u001b[0m\u001b[1;3;34mObservation: The total equity refers to the total value of a company's ownership interest or shareholders' equity. It represents the residual interest in the assets of the company after deducting liabilities. The total equity can be calculated by adding up the common stock, additional paid-in capital, retained earnings, and any other equity components. It provides an indication of the company's net worth or book value.\n",
            "\u001b[0mFailed to log trace tree to W&B: list index out of range\n"
          ]
        },
        {
          "output_type": "error",
          "ename": "KeyboardInterrupt",
          "evalue": "",
          "traceback": [
            "\u001b[0;31m---------------------------------------------------------------------------\u001b[0m",
            "\u001b[0;31mKeyboardInterrupt\u001b[0m                         Traceback (most recent call last)",
            "\u001b[0;32m<ipython-input-34-41a007497740>\u001b[0m in \u001b[0;36m<cell line: 1>\u001b[0;34m()\u001b[0m\n\u001b[1;32m      1\u001b[0m \u001b[0;32mfor\u001b[0m \u001b[0midx\u001b[0m\u001b[0;34m,\u001b[0m \u001b[0mquestion\u001b[0m \u001b[0;32min\u001b[0m \u001b[0menumerate\u001b[0m\u001b[0;34m(\u001b[0m\u001b[0mtrain_questions\u001b[0m\u001b[0;34m)\u001b[0m\u001b[0;34m:\u001b[0m\u001b[0;34m\u001b[0m\u001b[0;34m\u001b[0m\u001b[0m\n\u001b[1;32m      2\u001b[0m     \u001b[0mprint\u001b[0m\u001b[0;34m(\u001b[0m\u001b[0;34mf\"[{idx}] Question: {question}\"\u001b[0m\u001b[0;34m)\u001b[0m\u001b[0;34m\u001b[0m\u001b[0;34m\u001b[0m\u001b[0m\n\u001b[0;32m----> 3\u001b[0;31m     \u001b[0mresponse\u001b[0m \u001b[0;34m=\u001b[0m \u001b[0mgpt4_agent\u001b[0m\u001b[0;34m.\u001b[0m\u001b[0mquery\u001b[0m\u001b[0;34m(\u001b[0m\u001b[0mquestion\u001b[0m\u001b[0;34m)\u001b[0m\u001b[0;34m\u001b[0m\u001b[0;34m\u001b[0m\u001b[0m\n\u001b[0m\u001b[1;32m      4\u001b[0m     \u001b[0mprint\u001b[0m\u001b[0;34m(\u001b[0m\u001b[0;34mf\"[{idx}] Agent Response: {str(response)}\"\u001b[0m\u001b[0;34m)\u001b[0m\u001b[0;34m\u001b[0m\u001b[0;34m\u001b[0m\u001b[0m\n",
            "\u001b[0;32m/usr/local/lib/python3.10/dist-packages/llama_index/core/base_query_engine.py\u001b[0m in \u001b[0;36mquery\u001b[0;34m(self, str_or_query_bundle)\u001b[0m\n\u001b[1;32m     38\u001b[0m             \u001b[0;32mif\u001b[0m \u001b[0misinstance\u001b[0m\u001b[0;34m(\u001b[0m\u001b[0mstr_or_query_bundle\u001b[0m\u001b[0;34m,\u001b[0m \u001b[0mstr\u001b[0m\u001b[0;34m)\u001b[0m\u001b[0;34m:\u001b[0m\u001b[0;34m\u001b[0m\u001b[0;34m\u001b[0m\u001b[0m\n\u001b[1;32m     39\u001b[0m                 \u001b[0mstr_or_query_bundle\u001b[0m \u001b[0;34m=\u001b[0m \u001b[0mQueryBundle\u001b[0m\u001b[0;34m(\u001b[0m\u001b[0mstr_or_query_bundle\u001b[0m\u001b[0;34m)\u001b[0m\u001b[0;34m\u001b[0m\u001b[0;34m\u001b[0m\u001b[0m\n\u001b[0;32m---> 40\u001b[0;31m             \u001b[0;32mreturn\u001b[0m \u001b[0mself\u001b[0m\u001b[0;34m.\u001b[0m\u001b[0m_query\u001b[0m\u001b[0;34m(\u001b[0m\u001b[0mstr_or_query_bundle\u001b[0m\u001b[0;34m)\u001b[0m\u001b[0;34m\u001b[0m\u001b[0;34m\u001b[0m\u001b[0m\n\u001b[0m\u001b[1;32m     41\u001b[0m \u001b[0;34m\u001b[0m\u001b[0m\n\u001b[1;32m     42\u001b[0m     \u001b[0;32masync\u001b[0m \u001b[0;32mdef\u001b[0m \u001b[0maquery\u001b[0m\u001b[0;34m(\u001b[0m\u001b[0mself\u001b[0m\u001b[0;34m,\u001b[0m \u001b[0mstr_or_query_bundle\u001b[0m\u001b[0;34m:\u001b[0m \u001b[0mQueryType\u001b[0m\u001b[0;34m)\u001b[0m \u001b[0;34m->\u001b[0m \u001b[0mRESPONSE_TYPE\u001b[0m\u001b[0;34m:\u001b[0m\u001b[0;34m\u001b[0m\u001b[0;34m\u001b[0m\u001b[0m\n",
            "\u001b[0;32m/usr/local/lib/python3.10/dist-packages/llama_index/callbacks/utils.py\u001b[0m in \u001b[0;36mwrapper\u001b[0;34m(self, *args, **kwargs)\u001b[0m\n\u001b[1;32m     39\u001b[0m             \u001b[0mcallback_manager\u001b[0m \u001b[0;34m=\u001b[0m \u001b[0mcast\u001b[0m\u001b[0;34m(\u001b[0m\u001b[0mCallbackManager\u001b[0m\u001b[0;34m,\u001b[0m \u001b[0mcallback_manager\u001b[0m\u001b[0;34m)\u001b[0m\u001b[0;34m\u001b[0m\u001b[0;34m\u001b[0m\u001b[0m\n\u001b[1;32m     40\u001b[0m             \u001b[0;32mwith\u001b[0m \u001b[0mcallback_manager\u001b[0m\u001b[0;34m.\u001b[0m\u001b[0mas_trace\u001b[0m\u001b[0;34m(\u001b[0m\u001b[0mtrace_id\u001b[0m\u001b[0;34m)\u001b[0m\u001b[0;34m:\u001b[0m\u001b[0;34m\u001b[0m\u001b[0;34m\u001b[0m\u001b[0m\n\u001b[0;32m---> 41\u001b[0;31m                 \u001b[0;32mreturn\u001b[0m \u001b[0mfunc\u001b[0m\u001b[0;34m(\u001b[0m\u001b[0mself\u001b[0m\u001b[0;34m,\u001b[0m \u001b[0;34m*\u001b[0m\u001b[0margs\u001b[0m\u001b[0;34m,\u001b[0m \u001b[0;34m**\u001b[0m\u001b[0mkwargs\u001b[0m\u001b[0;34m)\u001b[0m\u001b[0;34m\u001b[0m\u001b[0;34m\u001b[0m\u001b[0m\n\u001b[0m\u001b[1;32m     42\u001b[0m \u001b[0;34m\u001b[0m\u001b[0m\n\u001b[1;32m     43\u001b[0m         \u001b[0;34m@\u001b[0m\u001b[0mfunctools\u001b[0m\u001b[0;34m.\u001b[0m\u001b[0mwraps\u001b[0m\u001b[0;34m(\u001b[0m\u001b[0mfunc\u001b[0m\u001b[0;34m)\u001b[0m  \u001b[0;31m# preserve signature, name, etc. of func\u001b[0m\u001b[0;34m\u001b[0m\u001b[0;34m\u001b[0m\u001b[0m\n",
            "\u001b[0;32m/usr/local/lib/python3.10/dist-packages/llama_index/agent/types.py\u001b[0m in \u001b[0;36m_query\u001b[0;34m(self, query_bundle)\u001b[0m\n\u001b[1;32m     34\u001b[0m     \u001b[0;34m@\u001b[0m\u001b[0mtrace_method\u001b[0m\u001b[0;34m(\u001b[0m\u001b[0;34m\"query\"\u001b[0m\u001b[0;34m)\u001b[0m\u001b[0;34m\u001b[0m\u001b[0;34m\u001b[0m\u001b[0m\n\u001b[1;32m     35\u001b[0m     \u001b[0;32mdef\u001b[0m \u001b[0m_query\u001b[0m\u001b[0;34m(\u001b[0m\u001b[0mself\u001b[0m\u001b[0;34m,\u001b[0m \u001b[0mquery_bundle\u001b[0m\u001b[0;34m:\u001b[0m \u001b[0mQueryBundle\u001b[0m\u001b[0;34m)\u001b[0m \u001b[0;34m->\u001b[0m \u001b[0mRESPONSE_TYPE\u001b[0m\u001b[0;34m:\u001b[0m\u001b[0;34m\u001b[0m\u001b[0;34m\u001b[0m\u001b[0m\n\u001b[0;32m---> 36\u001b[0;31m         agent_response = self.chat(\n\u001b[0m\u001b[1;32m     37\u001b[0m             \u001b[0mquery_bundle\u001b[0m\u001b[0;34m.\u001b[0m\u001b[0mquery_str\u001b[0m\u001b[0;34m,\u001b[0m\u001b[0;34m\u001b[0m\u001b[0;34m\u001b[0m\u001b[0m\n\u001b[1;32m     38\u001b[0m             \u001b[0mchat_history\u001b[0m\u001b[0;34m=\u001b[0m\u001b[0;34m[\u001b[0m\u001b[0;34m]\u001b[0m\u001b[0;34m,\u001b[0m\u001b[0;34m\u001b[0m\u001b[0;34m\u001b[0m\u001b[0m\n",
            "\u001b[0;32m/usr/local/lib/python3.10/dist-packages/llama_index/callbacks/utils.py\u001b[0m in \u001b[0;36mwrapper\u001b[0;34m(self, *args, **kwargs)\u001b[0m\n\u001b[1;32m     39\u001b[0m             \u001b[0mcallback_manager\u001b[0m \u001b[0;34m=\u001b[0m \u001b[0mcast\u001b[0m\u001b[0;34m(\u001b[0m\u001b[0mCallbackManager\u001b[0m\u001b[0;34m,\u001b[0m \u001b[0mcallback_manager\u001b[0m\u001b[0;34m)\u001b[0m\u001b[0;34m\u001b[0m\u001b[0;34m\u001b[0m\u001b[0m\n\u001b[1;32m     40\u001b[0m             \u001b[0;32mwith\u001b[0m \u001b[0mcallback_manager\u001b[0m\u001b[0;34m.\u001b[0m\u001b[0mas_trace\u001b[0m\u001b[0;34m(\u001b[0m\u001b[0mtrace_id\u001b[0m\u001b[0;34m)\u001b[0m\u001b[0;34m:\u001b[0m\u001b[0;34m\u001b[0m\u001b[0;34m\u001b[0m\u001b[0m\n\u001b[0;32m---> 41\u001b[0;31m                 \u001b[0;32mreturn\u001b[0m \u001b[0mfunc\u001b[0m\u001b[0;34m(\u001b[0m\u001b[0mself\u001b[0m\u001b[0;34m,\u001b[0m \u001b[0;34m*\u001b[0m\u001b[0margs\u001b[0m\u001b[0;34m,\u001b[0m \u001b[0;34m**\u001b[0m\u001b[0mkwargs\u001b[0m\u001b[0;34m)\u001b[0m\u001b[0;34m\u001b[0m\u001b[0;34m\u001b[0m\u001b[0m\n\u001b[0m\u001b[1;32m     42\u001b[0m \u001b[0;34m\u001b[0m\u001b[0m\n\u001b[1;32m     43\u001b[0m         \u001b[0;34m@\u001b[0m\u001b[0mfunctools\u001b[0m\u001b[0;34m.\u001b[0m\u001b[0mwraps\u001b[0m\u001b[0;34m(\u001b[0m\u001b[0mfunc\u001b[0m\u001b[0;34m)\u001b[0m  \u001b[0;31m# preserve signature, name, etc. of func\u001b[0m\u001b[0;34m\u001b[0m\u001b[0;34m\u001b[0m\u001b[0m\n",
            "\u001b[0;32m/usr/local/lib/python3.10/dist-packages/llama_index/agent/runner/base.py\u001b[0m in \u001b[0;36mchat\u001b[0;34m(self, message, chat_history, tool_choice)\u001b[0m\n\u001b[1;32m    495\u001b[0m             \u001b[0mpayload\u001b[0m\u001b[0;34m=\u001b[0m\u001b[0;34m{\u001b[0m\u001b[0mEventPayload\u001b[0m\u001b[0;34m.\u001b[0m\u001b[0mMESSAGES\u001b[0m\u001b[0;34m:\u001b[0m \u001b[0;34m[\u001b[0m\u001b[0mmessage\u001b[0m\u001b[0;34m]\u001b[0m\u001b[0;34m}\u001b[0m\u001b[0;34m,\u001b[0m\u001b[0;34m\u001b[0m\u001b[0;34m\u001b[0m\u001b[0m\n\u001b[1;32m    496\u001b[0m         ) as e:\n\u001b[0;32m--> 497\u001b[0;31m             chat_response = self._chat(\n\u001b[0m\u001b[1;32m    498\u001b[0m                 \u001b[0mmessage\u001b[0m\u001b[0;34m,\u001b[0m \u001b[0mchat_history\u001b[0m\u001b[0;34m,\u001b[0m \u001b[0mtool_choice\u001b[0m\u001b[0;34m,\u001b[0m \u001b[0mmode\u001b[0m\u001b[0;34m=\u001b[0m\u001b[0mChatResponseMode\u001b[0m\u001b[0;34m.\u001b[0m\u001b[0mWAIT\u001b[0m\u001b[0;34m\u001b[0m\u001b[0;34m\u001b[0m\u001b[0m\n\u001b[1;32m    499\u001b[0m             )\n",
            "\u001b[0;32m/usr/local/lib/python3.10/dist-packages/llama_index/agent/runner/base.py\u001b[0m in \u001b[0;36m_chat\u001b[0;34m(self, message, chat_history, tool_choice, mode)\u001b[0m\n\u001b[1;32m    440\u001b[0m         \u001b[0;32mwhile\u001b[0m \u001b[0;32mTrue\u001b[0m\u001b[0;34m:\u001b[0m\u001b[0;34m\u001b[0m\u001b[0;34m\u001b[0m\u001b[0m\n\u001b[1;32m    441\u001b[0m             \u001b[0;31m# pass step queue in as argument, assume step executor is stateless\u001b[0m\u001b[0;34m\u001b[0m\u001b[0;34m\u001b[0m\u001b[0m\n\u001b[0;32m--> 442\u001b[0;31m             cur_step_output = self._run_step(\n\u001b[0m\u001b[1;32m    443\u001b[0m                 \u001b[0mtask\u001b[0m\u001b[0;34m.\u001b[0m\u001b[0mtask_id\u001b[0m\u001b[0;34m,\u001b[0m \u001b[0mmode\u001b[0m\u001b[0;34m=\u001b[0m\u001b[0mmode\u001b[0m\u001b[0;34m,\u001b[0m \u001b[0mtool_choice\u001b[0m\u001b[0;34m=\u001b[0m\u001b[0mtool_choice\u001b[0m\u001b[0;34m\u001b[0m\u001b[0;34m\u001b[0m\u001b[0m\n\u001b[1;32m    444\u001b[0m             )\n",
            "\u001b[0;32m/usr/local/lib/python3.10/dist-packages/llama_index/agent/runner/base.py\u001b[0m in \u001b[0;36m_run_step\u001b[0;34m(self, task_id, step, mode, **kwargs)\u001b[0m\n\u001b[1;32m    302\u001b[0m \u001b[0;34m\u001b[0m\u001b[0m\n\u001b[1;32m    303\u001b[0m         \u001b[0;32mif\u001b[0m \u001b[0mmode\u001b[0m \u001b[0;34m==\u001b[0m \u001b[0mChatResponseMode\u001b[0m\u001b[0;34m.\u001b[0m\u001b[0mWAIT\u001b[0m\u001b[0;34m:\u001b[0m\u001b[0;34m\u001b[0m\u001b[0;34m\u001b[0m\u001b[0m\n\u001b[0;32m--> 304\u001b[0;31m             \u001b[0mcur_step_output\u001b[0m \u001b[0;34m=\u001b[0m \u001b[0mself\u001b[0m\u001b[0;34m.\u001b[0m\u001b[0magent_worker\u001b[0m\u001b[0;34m.\u001b[0m\u001b[0mrun_step\u001b[0m\u001b[0;34m(\u001b[0m\u001b[0mstep\u001b[0m\u001b[0;34m,\u001b[0m \u001b[0mtask\u001b[0m\u001b[0;34m,\u001b[0m \u001b[0;34m**\u001b[0m\u001b[0mkwargs\u001b[0m\u001b[0;34m)\u001b[0m\u001b[0;34m\u001b[0m\u001b[0;34m\u001b[0m\u001b[0m\n\u001b[0m\u001b[1;32m    305\u001b[0m         \u001b[0;32melif\u001b[0m \u001b[0mmode\u001b[0m \u001b[0;34m==\u001b[0m \u001b[0mChatResponseMode\u001b[0m\u001b[0;34m.\u001b[0m\u001b[0mSTREAM\u001b[0m\u001b[0;34m:\u001b[0m\u001b[0;34m\u001b[0m\u001b[0;34m\u001b[0m\u001b[0m\n\u001b[1;32m    306\u001b[0m             \u001b[0mcur_step_output\u001b[0m \u001b[0;34m=\u001b[0m \u001b[0mself\u001b[0m\u001b[0;34m.\u001b[0m\u001b[0magent_worker\u001b[0m\u001b[0;34m.\u001b[0m\u001b[0mstream_step\u001b[0m\u001b[0;34m(\u001b[0m\u001b[0mstep\u001b[0m\u001b[0;34m,\u001b[0m \u001b[0mtask\u001b[0m\u001b[0;34m,\u001b[0m \u001b[0;34m**\u001b[0m\u001b[0mkwargs\u001b[0m\u001b[0;34m)\u001b[0m\u001b[0;34m\u001b[0m\u001b[0;34m\u001b[0m\u001b[0m\n",
            "\u001b[0;32m/usr/local/lib/python3.10/dist-packages/llama_index/callbacks/utils.py\u001b[0m in \u001b[0;36mwrapper\u001b[0;34m(self, *args, **kwargs)\u001b[0m\n\u001b[1;32m     39\u001b[0m             \u001b[0mcallback_manager\u001b[0m \u001b[0;34m=\u001b[0m \u001b[0mcast\u001b[0m\u001b[0;34m(\u001b[0m\u001b[0mCallbackManager\u001b[0m\u001b[0;34m,\u001b[0m \u001b[0mcallback_manager\u001b[0m\u001b[0;34m)\u001b[0m\u001b[0;34m\u001b[0m\u001b[0;34m\u001b[0m\u001b[0m\n\u001b[1;32m     40\u001b[0m             \u001b[0;32mwith\u001b[0m \u001b[0mcallback_manager\u001b[0m\u001b[0;34m.\u001b[0m\u001b[0mas_trace\u001b[0m\u001b[0;34m(\u001b[0m\u001b[0mtrace_id\u001b[0m\u001b[0;34m)\u001b[0m\u001b[0;34m:\u001b[0m\u001b[0;34m\u001b[0m\u001b[0;34m\u001b[0m\u001b[0m\n\u001b[0;32m---> 41\u001b[0;31m                 \u001b[0;32mreturn\u001b[0m \u001b[0mfunc\u001b[0m\u001b[0;34m(\u001b[0m\u001b[0mself\u001b[0m\u001b[0;34m,\u001b[0m \u001b[0;34m*\u001b[0m\u001b[0margs\u001b[0m\u001b[0;34m,\u001b[0m \u001b[0;34m**\u001b[0m\u001b[0mkwargs\u001b[0m\u001b[0;34m)\u001b[0m\u001b[0;34m\u001b[0m\u001b[0;34m\u001b[0m\u001b[0m\n\u001b[0m\u001b[1;32m     42\u001b[0m \u001b[0;34m\u001b[0m\u001b[0m\n\u001b[1;32m     43\u001b[0m         \u001b[0;34m@\u001b[0m\u001b[0mfunctools\u001b[0m\u001b[0;34m.\u001b[0m\u001b[0mwraps\u001b[0m\u001b[0;34m(\u001b[0m\u001b[0mfunc\u001b[0m\u001b[0;34m)\u001b[0m  \u001b[0;31m# preserve signature, name, etc. of func\u001b[0m\u001b[0;34m\u001b[0m\u001b[0;34m\u001b[0m\u001b[0m\n",
            "\u001b[0;32m/usr/local/lib/python3.10/dist-packages/llama_index/agent/react/step.py\u001b[0m in \u001b[0;36mrun_step\u001b[0;34m(self, step, task, **kwargs)\u001b[0m\n\u001b[1;32m    606\u001b[0m     \u001b[0;32mdef\u001b[0m \u001b[0mrun_step\u001b[0m\u001b[0;34m(\u001b[0m\u001b[0mself\u001b[0m\u001b[0;34m,\u001b[0m \u001b[0mstep\u001b[0m\u001b[0;34m:\u001b[0m \u001b[0mTaskStep\u001b[0m\u001b[0;34m,\u001b[0m \u001b[0mtask\u001b[0m\u001b[0;34m:\u001b[0m \u001b[0mTask\u001b[0m\u001b[0;34m,\u001b[0m \u001b[0;34m**\u001b[0m\u001b[0mkwargs\u001b[0m\u001b[0;34m:\u001b[0m \u001b[0mAny\u001b[0m\u001b[0;34m)\u001b[0m \u001b[0;34m->\u001b[0m \u001b[0mTaskStepOutput\u001b[0m\u001b[0;34m:\u001b[0m\u001b[0;34m\u001b[0m\u001b[0;34m\u001b[0m\u001b[0m\n\u001b[1;32m    607\u001b[0m         \u001b[0;34m\"\"\"Run step.\"\"\"\u001b[0m\u001b[0;34m\u001b[0m\u001b[0;34m\u001b[0m\u001b[0m\n\u001b[0;32m--> 608\u001b[0;31m         \u001b[0;32mreturn\u001b[0m \u001b[0mself\u001b[0m\u001b[0;34m.\u001b[0m\u001b[0m_run_step\u001b[0m\u001b[0;34m(\u001b[0m\u001b[0mstep\u001b[0m\u001b[0;34m,\u001b[0m \u001b[0mtask\u001b[0m\u001b[0;34m)\u001b[0m\u001b[0;34m\u001b[0m\u001b[0;34m\u001b[0m\u001b[0m\n\u001b[0m\u001b[1;32m    609\u001b[0m \u001b[0;34m\u001b[0m\u001b[0m\n\u001b[1;32m    610\u001b[0m     \u001b[0;34m@\u001b[0m\u001b[0mtrace_method\u001b[0m\u001b[0;34m(\u001b[0m\u001b[0;34m\"run_step\"\u001b[0m\u001b[0;34m)\u001b[0m\u001b[0;34m\u001b[0m\u001b[0;34m\u001b[0m\u001b[0m\n",
            "\u001b[0;32m/usr/local/lib/python3.10/dist-packages/llama_index/agent/react/step.py\u001b[0m in \u001b[0;36m_run_step\u001b[0;34m(self, step, task)\u001b[0m\n\u001b[1;32m    420\u001b[0m \u001b[0;34m\u001b[0m\u001b[0m\n\u001b[1;32m    421\u001b[0m         \u001b[0;31m# send prompt\u001b[0m\u001b[0;34m\u001b[0m\u001b[0;34m\u001b[0m\u001b[0m\n\u001b[0;32m--> 422\u001b[0;31m         \u001b[0mchat_response\u001b[0m \u001b[0;34m=\u001b[0m \u001b[0mself\u001b[0m\u001b[0;34m.\u001b[0m\u001b[0m_llm\u001b[0m\u001b[0;34m.\u001b[0m\u001b[0mchat\u001b[0m\u001b[0;34m(\u001b[0m\u001b[0minput_chat\u001b[0m\u001b[0;34m)\u001b[0m\u001b[0;34m\u001b[0m\u001b[0;34m\u001b[0m\u001b[0m\n\u001b[0m\u001b[1;32m    423\u001b[0m         \u001b[0;31m# given react prompt outputs, call tools or return response\u001b[0m\u001b[0;34m\u001b[0m\u001b[0;34m\u001b[0m\u001b[0m\n\u001b[1;32m    424\u001b[0m         reasoning_steps, is_done = self._process_actions(\n",
            "\u001b[0;32m/usr/local/lib/python3.10/dist-packages/llama_index/llms/base.py\u001b[0m in \u001b[0;36mwrapped_llm_chat\u001b[0;34m(_self, messages, **kwargs)\u001b[0m\n\u001b[1;32m     98\u001b[0m                     },\n\u001b[1;32m     99\u001b[0m                 )\n\u001b[0;32m--> 100\u001b[0;31m                 \u001b[0mf_return_val\u001b[0m \u001b[0;34m=\u001b[0m \u001b[0mf\u001b[0m\u001b[0;34m(\u001b[0m\u001b[0m_self\u001b[0m\u001b[0;34m,\u001b[0m \u001b[0mmessages\u001b[0m\u001b[0;34m,\u001b[0m \u001b[0;34m**\u001b[0m\u001b[0mkwargs\u001b[0m\u001b[0;34m)\u001b[0m\u001b[0;34m\u001b[0m\u001b[0;34m\u001b[0m\u001b[0m\n\u001b[0m\u001b[1;32m    101\u001b[0m \u001b[0;34m\u001b[0m\u001b[0m\n\u001b[1;32m    102\u001b[0m                 \u001b[0;32mif\u001b[0m \u001b[0misinstance\u001b[0m\u001b[0;34m(\u001b[0m\u001b[0mf_return_val\u001b[0m\u001b[0;34m,\u001b[0m \u001b[0mGenerator\u001b[0m\u001b[0;34m)\u001b[0m\u001b[0;34m:\u001b[0m\u001b[0;34m\u001b[0m\u001b[0;34m\u001b[0m\u001b[0m\n",
            "\u001b[0;32m/usr/local/lib/python3.10/dist-packages/llama_index/llms/openai.py\u001b[0m in \u001b[0;36mchat\u001b[0;34m(self, messages, **kwargs)\u001b[0m\n\u001b[1;32m    235\u001b[0m         \u001b[0;32melse\u001b[0m\u001b[0;34m:\u001b[0m\u001b[0;34m\u001b[0m\u001b[0;34m\u001b[0m\u001b[0m\n\u001b[1;32m    236\u001b[0m             \u001b[0mchat_fn\u001b[0m \u001b[0;34m=\u001b[0m \u001b[0mcompletion_to_chat_decorator\u001b[0m\u001b[0;34m(\u001b[0m\u001b[0mself\u001b[0m\u001b[0;34m.\u001b[0m\u001b[0m_complete\u001b[0m\u001b[0;34m)\u001b[0m\u001b[0;34m\u001b[0m\u001b[0;34m\u001b[0m\u001b[0m\n\u001b[0;32m--> 237\u001b[0;31m         \u001b[0;32mreturn\u001b[0m \u001b[0mchat_fn\u001b[0m\u001b[0;34m(\u001b[0m\u001b[0mmessages\u001b[0m\u001b[0;34m,\u001b[0m \u001b[0;34m**\u001b[0m\u001b[0mkwargs\u001b[0m\u001b[0;34m)\u001b[0m\u001b[0;34m\u001b[0m\u001b[0;34m\u001b[0m\u001b[0m\n\u001b[0m\u001b[1;32m    238\u001b[0m \u001b[0;34m\u001b[0m\u001b[0m\n\u001b[1;32m    239\u001b[0m     \u001b[0;34m@\u001b[0m\u001b[0mllm_chat_callback\u001b[0m\u001b[0;34m(\u001b[0m\u001b[0;34m)\u001b[0m\u001b[0;34m\u001b[0m\u001b[0;34m\u001b[0m\u001b[0m\n",
            "\u001b[0;32m/usr/local/lib/python3.10/dist-packages/llama_index/llms/openai.py\u001b[0m in \u001b[0;36m_chat\u001b[0;34m(self, messages, **kwargs)\u001b[0m\n\u001b[1;32m    294\u001b[0m         \u001b[0mclient\u001b[0m \u001b[0;34m=\u001b[0m \u001b[0mself\u001b[0m\u001b[0;34m.\u001b[0m\u001b[0m_get_client\u001b[0m\u001b[0;34m(\u001b[0m\u001b[0;34m)\u001b[0m\u001b[0;34m\u001b[0m\u001b[0;34m\u001b[0m\u001b[0m\n\u001b[1;32m    295\u001b[0m         \u001b[0mmessage_dicts\u001b[0m \u001b[0;34m=\u001b[0m \u001b[0mto_openai_message_dicts\u001b[0m\u001b[0;34m(\u001b[0m\u001b[0mmessages\u001b[0m\u001b[0;34m)\u001b[0m\u001b[0;34m\u001b[0m\u001b[0;34m\u001b[0m\u001b[0m\n\u001b[0;32m--> 296\u001b[0;31m         response = client.chat.completions.create(\n\u001b[0m\u001b[1;32m    297\u001b[0m             \u001b[0mmessages\u001b[0m\u001b[0;34m=\u001b[0m\u001b[0mmessage_dicts\u001b[0m\u001b[0;34m,\u001b[0m\u001b[0;34m\u001b[0m\u001b[0;34m\u001b[0m\u001b[0m\n\u001b[1;32m    298\u001b[0m             \u001b[0mstream\u001b[0m\u001b[0;34m=\u001b[0m\u001b[0;32mFalse\u001b[0m\u001b[0;34m,\u001b[0m\u001b[0;34m\u001b[0m\u001b[0;34m\u001b[0m\u001b[0m\n",
            "\u001b[0;32m/usr/local/lib/python3.10/dist-packages/openai/_utils/_utils.py\u001b[0m in \u001b[0;36mwrapper\u001b[0;34m(*args, **kwargs)\u001b[0m\n\u001b[1;32m    269\u001b[0m                         \u001b[0mmsg\u001b[0m \u001b[0;34m=\u001b[0m \u001b[0;34mf\"Missing required argument: {quote(missing[0])}\"\u001b[0m\u001b[0;34m\u001b[0m\u001b[0;34m\u001b[0m\u001b[0m\n\u001b[1;32m    270\u001b[0m                 \u001b[0;32mraise\u001b[0m \u001b[0mTypeError\u001b[0m\u001b[0;34m(\u001b[0m\u001b[0mmsg\u001b[0m\u001b[0;34m)\u001b[0m\u001b[0;34m\u001b[0m\u001b[0;34m\u001b[0m\u001b[0m\n\u001b[0;32m--> 271\u001b[0;31m             \u001b[0;32mreturn\u001b[0m \u001b[0mfunc\u001b[0m\u001b[0;34m(\u001b[0m\u001b[0;34m*\u001b[0m\u001b[0margs\u001b[0m\u001b[0;34m,\u001b[0m \u001b[0;34m**\u001b[0m\u001b[0mkwargs\u001b[0m\u001b[0;34m)\u001b[0m\u001b[0;34m\u001b[0m\u001b[0;34m\u001b[0m\u001b[0m\n\u001b[0m\u001b[1;32m    272\u001b[0m \u001b[0;34m\u001b[0m\u001b[0m\n\u001b[1;32m    273\u001b[0m         \u001b[0;32mreturn\u001b[0m \u001b[0mwrapper\u001b[0m  \u001b[0;31m# type: ignore\u001b[0m\u001b[0;34m\u001b[0m\u001b[0;34m\u001b[0m\u001b[0m\n",
            "\u001b[0;32m/usr/local/lib/python3.10/dist-packages/openai/resources/chat/completions.py\u001b[0m in \u001b[0;36mcreate\u001b[0;34m(self, messages, model, frequency_penalty, function_call, functions, logit_bias, logprobs, max_tokens, n, presence_penalty, response_format, seed, stop, stream, temperature, tool_choice, tools, top_logprobs, top_p, user, extra_headers, extra_query, extra_body, timeout)\u001b[0m\n\u001b[1;32m    657\u001b[0m         \u001b[0mtimeout\u001b[0m\u001b[0;34m:\u001b[0m \u001b[0mfloat\u001b[0m \u001b[0;34m|\u001b[0m \u001b[0mhttpx\u001b[0m\u001b[0;34m.\u001b[0m\u001b[0mTimeout\u001b[0m \u001b[0;34m|\u001b[0m \u001b[0;32mNone\u001b[0m \u001b[0;34m|\u001b[0m \u001b[0mNotGiven\u001b[0m \u001b[0;34m=\u001b[0m \u001b[0mNOT_GIVEN\u001b[0m\u001b[0;34m,\u001b[0m\u001b[0;34m\u001b[0m\u001b[0;34m\u001b[0m\u001b[0m\n\u001b[1;32m    658\u001b[0m     ) -> ChatCompletion | Stream[ChatCompletionChunk]:\n\u001b[0;32m--> 659\u001b[0;31m         return self._post(\n\u001b[0m\u001b[1;32m    660\u001b[0m             \u001b[0;34m\"/chat/completions\"\u001b[0m\u001b[0;34m,\u001b[0m\u001b[0;34m\u001b[0m\u001b[0;34m\u001b[0m\u001b[0m\n\u001b[1;32m    661\u001b[0m             body=maybe_transform(\n",
            "\u001b[0;32m/usr/local/lib/python3.10/dist-packages/openai/_base_client.py\u001b[0m in \u001b[0;36mpost\u001b[0;34m(self, path, cast_to, body, options, files, stream, stream_cls)\u001b[0m\n\u001b[1;32m   1178\u001b[0m             \u001b[0mmethod\u001b[0m\u001b[0;34m=\u001b[0m\u001b[0;34m\"post\"\u001b[0m\u001b[0;34m,\u001b[0m \u001b[0murl\u001b[0m\u001b[0;34m=\u001b[0m\u001b[0mpath\u001b[0m\u001b[0;34m,\u001b[0m \u001b[0mjson_data\u001b[0m\u001b[0;34m=\u001b[0m\u001b[0mbody\u001b[0m\u001b[0;34m,\u001b[0m \u001b[0mfiles\u001b[0m\u001b[0;34m=\u001b[0m\u001b[0mto_httpx_files\u001b[0m\u001b[0;34m(\u001b[0m\u001b[0mfiles\u001b[0m\u001b[0;34m)\u001b[0m\u001b[0;34m,\u001b[0m \u001b[0;34m**\u001b[0m\u001b[0moptions\u001b[0m\u001b[0;34m\u001b[0m\u001b[0;34m\u001b[0m\u001b[0m\n\u001b[1;32m   1179\u001b[0m         )\n\u001b[0;32m-> 1180\u001b[0;31m         \u001b[0;32mreturn\u001b[0m \u001b[0mcast\u001b[0m\u001b[0;34m(\u001b[0m\u001b[0mResponseT\u001b[0m\u001b[0;34m,\u001b[0m \u001b[0mself\u001b[0m\u001b[0;34m.\u001b[0m\u001b[0mrequest\u001b[0m\u001b[0;34m(\u001b[0m\u001b[0mcast_to\u001b[0m\u001b[0;34m,\u001b[0m \u001b[0mopts\u001b[0m\u001b[0;34m,\u001b[0m \u001b[0mstream\u001b[0m\u001b[0;34m=\u001b[0m\u001b[0mstream\u001b[0m\u001b[0;34m,\u001b[0m \u001b[0mstream_cls\u001b[0m\u001b[0;34m=\u001b[0m\u001b[0mstream_cls\u001b[0m\u001b[0;34m)\u001b[0m\u001b[0;34m)\u001b[0m\u001b[0;34m\u001b[0m\u001b[0;34m\u001b[0m\u001b[0m\n\u001b[0m\u001b[1;32m   1181\u001b[0m \u001b[0;34m\u001b[0m\u001b[0m\n\u001b[1;32m   1182\u001b[0m     def patch(\n",
            "\u001b[0;32m/usr/local/lib/python3.10/dist-packages/openai/_base_client.py\u001b[0m in \u001b[0;36mrequest\u001b[0;34m(self, cast_to, options, remaining_retries, stream, stream_cls)\u001b[0m\n\u001b[1;32m    867\u001b[0m         \u001b[0mstream_cls\u001b[0m\u001b[0;34m:\u001b[0m \u001b[0mtype\u001b[0m\u001b[0;34m[\u001b[0m\u001b[0m_StreamT\u001b[0m\u001b[0;34m]\u001b[0m \u001b[0;34m|\u001b[0m \u001b[0;32mNone\u001b[0m \u001b[0;34m=\u001b[0m \u001b[0;32mNone\u001b[0m\u001b[0;34m,\u001b[0m\u001b[0;34m\u001b[0m\u001b[0;34m\u001b[0m\u001b[0m\n\u001b[1;32m    868\u001b[0m     ) -> ResponseT | _StreamT:\n\u001b[0;32m--> 869\u001b[0;31m         return self._request(\n\u001b[0m\u001b[1;32m    870\u001b[0m             \u001b[0mcast_to\u001b[0m\u001b[0;34m=\u001b[0m\u001b[0mcast_to\u001b[0m\u001b[0;34m,\u001b[0m\u001b[0;34m\u001b[0m\u001b[0;34m\u001b[0m\u001b[0m\n\u001b[1;32m    871\u001b[0m             \u001b[0moptions\u001b[0m\u001b[0;34m=\u001b[0m\u001b[0moptions\u001b[0m\u001b[0;34m,\u001b[0m\u001b[0;34m\u001b[0m\u001b[0;34m\u001b[0m\u001b[0m\n",
            "\u001b[0;32m/usr/local/lib/python3.10/dist-packages/openai/_base_client.py\u001b[0m in \u001b[0;36m_request\u001b[0;34m(self, cast_to, options, remaining_retries, stream, stream_cls)\u001b[0m\n\u001b[1;32m    896\u001b[0m \u001b[0;34m\u001b[0m\u001b[0m\n\u001b[1;32m    897\u001b[0m         \u001b[0;32mtry\u001b[0m\u001b[0;34m:\u001b[0m\u001b[0;34m\u001b[0m\u001b[0;34m\u001b[0m\u001b[0m\n\u001b[0;32m--> 898\u001b[0;31m             response = self._client.send(\n\u001b[0m\u001b[1;32m    899\u001b[0m                 \u001b[0mrequest\u001b[0m\u001b[0;34m,\u001b[0m\u001b[0;34m\u001b[0m\u001b[0;34m\u001b[0m\u001b[0m\n\u001b[1;32m    900\u001b[0m                 \u001b[0mstream\u001b[0m\u001b[0;34m=\u001b[0m\u001b[0mstream\u001b[0m \u001b[0;32mor\u001b[0m \u001b[0mself\u001b[0m\u001b[0;34m.\u001b[0m\u001b[0m_should_stream_response_body\u001b[0m\u001b[0;34m(\u001b[0m\u001b[0mrequest\u001b[0m\u001b[0;34m=\u001b[0m\u001b[0mrequest\u001b[0m\u001b[0;34m)\u001b[0m\u001b[0;34m,\u001b[0m\u001b[0;34m\u001b[0m\u001b[0;34m\u001b[0m\u001b[0m\n",
            "\u001b[0;32m/usr/local/lib/python3.10/dist-packages/httpx/_client.py\u001b[0m in \u001b[0;36msend\u001b[0;34m(self, request, stream, auth, follow_redirects)\u001b[0m\n\u001b[1;32m    913\u001b[0m         \u001b[0mauth\u001b[0m \u001b[0;34m=\u001b[0m \u001b[0mself\u001b[0m\u001b[0;34m.\u001b[0m\u001b[0m_build_request_auth\u001b[0m\u001b[0;34m(\u001b[0m\u001b[0mrequest\u001b[0m\u001b[0;34m,\u001b[0m \u001b[0mauth\u001b[0m\u001b[0;34m)\u001b[0m\u001b[0;34m\u001b[0m\u001b[0;34m\u001b[0m\u001b[0m\n\u001b[1;32m    914\u001b[0m \u001b[0;34m\u001b[0m\u001b[0m\n\u001b[0;32m--> 915\u001b[0;31m         response = self._send_handling_auth(\n\u001b[0m\u001b[1;32m    916\u001b[0m             \u001b[0mrequest\u001b[0m\u001b[0;34m,\u001b[0m\u001b[0;34m\u001b[0m\u001b[0;34m\u001b[0m\u001b[0m\n\u001b[1;32m    917\u001b[0m             \u001b[0mauth\u001b[0m\u001b[0;34m=\u001b[0m\u001b[0mauth\u001b[0m\u001b[0;34m,\u001b[0m\u001b[0;34m\u001b[0m\u001b[0;34m\u001b[0m\u001b[0m\n",
            "\u001b[0;32m/usr/local/lib/python3.10/dist-packages/httpx/_client.py\u001b[0m in \u001b[0;36m_send_handling_auth\u001b[0;34m(self, request, auth, follow_redirects, history)\u001b[0m\n\u001b[1;32m    941\u001b[0m \u001b[0;34m\u001b[0m\u001b[0m\n\u001b[1;32m    942\u001b[0m             \u001b[0;32mwhile\u001b[0m \u001b[0;32mTrue\u001b[0m\u001b[0;34m:\u001b[0m\u001b[0;34m\u001b[0m\u001b[0;34m\u001b[0m\u001b[0m\n\u001b[0;32m--> 943\u001b[0;31m                 response = self._send_handling_redirects(\n\u001b[0m\u001b[1;32m    944\u001b[0m                     \u001b[0mrequest\u001b[0m\u001b[0;34m,\u001b[0m\u001b[0;34m\u001b[0m\u001b[0;34m\u001b[0m\u001b[0m\n\u001b[1;32m    945\u001b[0m                     \u001b[0mfollow_redirects\u001b[0m\u001b[0;34m=\u001b[0m\u001b[0mfollow_redirects\u001b[0m\u001b[0;34m,\u001b[0m\u001b[0;34m\u001b[0m\u001b[0;34m\u001b[0m\u001b[0m\n",
            "\u001b[0;32m/usr/local/lib/python3.10/dist-packages/httpx/_client.py\u001b[0m in \u001b[0;36m_send_handling_redirects\u001b[0;34m(self, request, follow_redirects, history)\u001b[0m\n\u001b[1;32m    978\u001b[0m                 \u001b[0mhook\u001b[0m\u001b[0;34m(\u001b[0m\u001b[0mrequest\u001b[0m\u001b[0;34m)\u001b[0m\u001b[0;34m\u001b[0m\u001b[0;34m\u001b[0m\u001b[0m\n\u001b[1;32m    979\u001b[0m \u001b[0;34m\u001b[0m\u001b[0m\n\u001b[0;32m--> 980\u001b[0;31m             \u001b[0mresponse\u001b[0m \u001b[0;34m=\u001b[0m \u001b[0mself\u001b[0m\u001b[0;34m.\u001b[0m\u001b[0m_send_single_request\u001b[0m\u001b[0;34m(\u001b[0m\u001b[0mrequest\u001b[0m\u001b[0;34m)\u001b[0m\u001b[0;34m\u001b[0m\u001b[0;34m\u001b[0m\u001b[0m\n\u001b[0m\u001b[1;32m    981\u001b[0m             \u001b[0;32mtry\u001b[0m\u001b[0;34m:\u001b[0m\u001b[0;34m\u001b[0m\u001b[0;34m\u001b[0m\u001b[0m\n\u001b[1;32m    982\u001b[0m                 \u001b[0;32mfor\u001b[0m \u001b[0mhook\u001b[0m \u001b[0;32min\u001b[0m \u001b[0mself\u001b[0m\u001b[0;34m.\u001b[0m\u001b[0m_event_hooks\u001b[0m\u001b[0;34m[\u001b[0m\u001b[0;34m\"response\"\u001b[0m\u001b[0;34m]\u001b[0m\u001b[0;34m:\u001b[0m\u001b[0;34m\u001b[0m\u001b[0;34m\u001b[0m\u001b[0m\n",
            "\u001b[0;32m/usr/local/lib/python3.10/dist-packages/httpx/_client.py\u001b[0m in \u001b[0;36m_send_single_request\u001b[0;34m(self, request)\u001b[0m\n\u001b[1;32m   1014\u001b[0m \u001b[0;34m\u001b[0m\u001b[0m\n\u001b[1;32m   1015\u001b[0m         \u001b[0;32mwith\u001b[0m \u001b[0mrequest_context\u001b[0m\u001b[0;34m(\u001b[0m\u001b[0mrequest\u001b[0m\u001b[0;34m=\u001b[0m\u001b[0mrequest\u001b[0m\u001b[0;34m)\u001b[0m\u001b[0;34m:\u001b[0m\u001b[0;34m\u001b[0m\u001b[0;34m\u001b[0m\u001b[0m\n\u001b[0;32m-> 1016\u001b[0;31m             \u001b[0mresponse\u001b[0m \u001b[0;34m=\u001b[0m \u001b[0mtransport\u001b[0m\u001b[0;34m.\u001b[0m\u001b[0mhandle_request\u001b[0m\u001b[0;34m(\u001b[0m\u001b[0mrequest\u001b[0m\u001b[0;34m)\u001b[0m\u001b[0;34m\u001b[0m\u001b[0;34m\u001b[0m\u001b[0m\n\u001b[0m\u001b[1;32m   1017\u001b[0m \u001b[0;34m\u001b[0m\u001b[0m\n\u001b[1;32m   1018\u001b[0m         \u001b[0;32massert\u001b[0m \u001b[0misinstance\u001b[0m\u001b[0;34m(\u001b[0m\u001b[0mresponse\u001b[0m\u001b[0;34m.\u001b[0m\u001b[0mstream\u001b[0m\u001b[0;34m,\u001b[0m \u001b[0mSyncByteStream\u001b[0m\u001b[0;34m)\u001b[0m\u001b[0;34m\u001b[0m\u001b[0;34m\u001b[0m\u001b[0m\n",
            "\u001b[0;32m/usr/local/lib/python3.10/dist-packages/httpx/_transports/default.py\u001b[0m in \u001b[0;36mhandle_request\u001b[0;34m(self, request)\u001b[0m\n\u001b[1;32m    229\u001b[0m         )\n\u001b[1;32m    230\u001b[0m         \u001b[0;32mwith\u001b[0m \u001b[0mmap_httpcore_exceptions\u001b[0m\u001b[0;34m(\u001b[0m\u001b[0;34m)\u001b[0m\u001b[0;34m:\u001b[0m\u001b[0;34m\u001b[0m\u001b[0;34m\u001b[0m\u001b[0m\n\u001b[0;32m--> 231\u001b[0;31m             \u001b[0mresp\u001b[0m \u001b[0;34m=\u001b[0m \u001b[0mself\u001b[0m\u001b[0;34m.\u001b[0m\u001b[0m_pool\u001b[0m\u001b[0;34m.\u001b[0m\u001b[0mhandle_request\u001b[0m\u001b[0;34m(\u001b[0m\u001b[0mreq\u001b[0m\u001b[0;34m)\u001b[0m\u001b[0;34m\u001b[0m\u001b[0;34m\u001b[0m\u001b[0m\n\u001b[0m\u001b[1;32m    232\u001b[0m \u001b[0;34m\u001b[0m\u001b[0m\n\u001b[1;32m    233\u001b[0m         \u001b[0;32massert\u001b[0m \u001b[0misinstance\u001b[0m\u001b[0;34m(\u001b[0m\u001b[0mresp\u001b[0m\u001b[0;34m.\u001b[0m\u001b[0mstream\u001b[0m\u001b[0;34m,\u001b[0m \u001b[0mtyping\u001b[0m\u001b[0;34m.\u001b[0m\u001b[0mIterable\u001b[0m\u001b[0;34m)\u001b[0m\u001b[0;34m\u001b[0m\u001b[0;34m\u001b[0m\u001b[0m\n",
            "\u001b[0;32m/usr/local/lib/python3.10/dist-packages/httpcore/_sync/connection_pool.py\u001b[0m in \u001b[0;36mhandle_request\u001b[0;34m(self, request)\u001b[0m\n\u001b[1;32m    266\u001b[0m                 \u001b[0;32mwith\u001b[0m \u001b[0mShieldCancellation\u001b[0m\u001b[0;34m(\u001b[0m\u001b[0;34m)\u001b[0m\u001b[0;34m:\u001b[0m\u001b[0;34m\u001b[0m\u001b[0;34m\u001b[0m\u001b[0m\n\u001b[1;32m    267\u001b[0m                     \u001b[0mself\u001b[0m\u001b[0;34m.\u001b[0m\u001b[0mresponse_closed\u001b[0m\u001b[0;34m(\u001b[0m\u001b[0mstatus\u001b[0m\u001b[0;34m)\u001b[0m\u001b[0;34m\u001b[0m\u001b[0;34m\u001b[0m\u001b[0m\n\u001b[0;32m--> 268\u001b[0;31m                 \u001b[0;32mraise\u001b[0m \u001b[0mexc\u001b[0m\u001b[0;34m\u001b[0m\u001b[0;34m\u001b[0m\u001b[0m\n\u001b[0m\u001b[1;32m    269\u001b[0m             \u001b[0;32melse\u001b[0m\u001b[0;34m:\u001b[0m\u001b[0;34m\u001b[0m\u001b[0;34m\u001b[0m\u001b[0m\n\u001b[1;32m    270\u001b[0m                 \u001b[0;32mbreak\u001b[0m\u001b[0;34m\u001b[0m\u001b[0;34m\u001b[0m\u001b[0m\n",
            "\u001b[0;32m/usr/local/lib/python3.10/dist-packages/httpcore/_sync/connection_pool.py\u001b[0m in \u001b[0;36mhandle_request\u001b[0;34m(self, request)\u001b[0m\n\u001b[1;32m    249\u001b[0m \u001b[0;34m\u001b[0m\u001b[0m\n\u001b[1;32m    250\u001b[0m             \u001b[0;32mtry\u001b[0m\u001b[0;34m:\u001b[0m\u001b[0;34m\u001b[0m\u001b[0;34m\u001b[0m\u001b[0m\n\u001b[0;32m--> 251\u001b[0;31m                 \u001b[0mresponse\u001b[0m \u001b[0;34m=\u001b[0m \u001b[0mconnection\u001b[0m\u001b[0;34m.\u001b[0m\u001b[0mhandle_request\u001b[0m\u001b[0;34m(\u001b[0m\u001b[0mrequest\u001b[0m\u001b[0;34m)\u001b[0m\u001b[0;34m\u001b[0m\u001b[0;34m\u001b[0m\u001b[0m\n\u001b[0m\u001b[1;32m    252\u001b[0m             \u001b[0;32mexcept\u001b[0m \u001b[0mConnectionNotAvailable\u001b[0m\u001b[0;34m:\u001b[0m\u001b[0;34m\u001b[0m\u001b[0;34m\u001b[0m\u001b[0m\n\u001b[1;32m    253\u001b[0m                 \u001b[0;31m# The ConnectionNotAvailable exception is a special case, that\u001b[0m\u001b[0;34m\u001b[0m\u001b[0;34m\u001b[0m\u001b[0m\n",
            "\u001b[0;32m/usr/local/lib/python3.10/dist-packages/httpcore/_sync/connection.py\u001b[0m in \u001b[0;36mhandle_request\u001b[0;34m(self, request)\u001b[0m\n\u001b[1;32m    101\u001b[0m                 \u001b[0;32mraise\u001b[0m \u001b[0mConnectionNotAvailable\u001b[0m\u001b[0;34m(\u001b[0m\u001b[0;34m)\u001b[0m\u001b[0;34m\u001b[0m\u001b[0;34m\u001b[0m\u001b[0m\n\u001b[1;32m    102\u001b[0m \u001b[0;34m\u001b[0m\u001b[0m\n\u001b[0;32m--> 103\u001b[0;31m         \u001b[0;32mreturn\u001b[0m \u001b[0mself\u001b[0m\u001b[0;34m.\u001b[0m\u001b[0m_connection\u001b[0m\u001b[0;34m.\u001b[0m\u001b[0mhandle_request\u001b[0m\u001b[0;34m(\u001b[0m\u001b[0mrequest\u001b[0m\u001b[0;34m)\u001b[0m\u001b[0;34m\u001b[0m\u001b[0;34m\u001b[0m\u001b[0m\n\u001b[0m\u001b[1;32m    104\u001b[0m \u001b[0;34m\u001b[0m\u001b[0m\n\u001b[1;32m    105\u001b[0m     \u001b[0;32mdef\u001b[0m \u001b[0m_connect\u001b[0m\u001b[0;34m(\u001b[0m\u001b[0mself\u001b[0m\u001b[0;34m,\u001b[0m \u001b[0mrequest\u001b[0m\u001b[0;34m:\u001b[0m \u001b[0mRequest\u001b[0m\u001b[0;34m)\u001b[0m \u001b[0;34m->\u001b[0m \u001b[0mNetworkStream\u001b[0m\u001b[0;34m:\u001b[0m\u001b[0;34m\u001b[0m\u001b[0;34m\u001b[0m\u001b[0m\n",
            "\u001b[0;32m/usr/local/lib/python3.10/dist-packages/httpcore/_sync/http11.py\u001b[0m in \u001b[0;36mhandle_request\u001b[0;34m(self, request)\u001b[0m\n\u001b[1;32m    131\u001b[0m                 \u001b[0;32mwith\u001b[0m \u001b[0mTrace\u001b[0m\u001b[0;34m(\u001b[0m\u001b[0;34m\"response_closed\"\u001b[0m\u001b[0;34m,\u001b[0m \u001b[0mlogger\u001b[0m\u001b[0;34m,\u001b[0m \u001b[0mrequest\u001b[0m\u001b[0;34m)\u001b[0m \u001b[0;32mas\u001b[0m \u001b[0mtrace\u001b[0m\u001b[0;34m:\u001b[0m\u001b[0;34m\u001b[0m\u001b[0;34m\u001b[0m\u001b[0m\n\u001b[1;32m    132\u001b[0m                     \u001b[0mself\u001b[0m\u001b[0;34m.\u001b[0m\u001b[0m_response_closed\u001b[0m\u001b[0;34m(\u001b[0m\u001b[0;34m)\u001b[0m\u001b[0;34m\u001b[0m\u001b[0;34m\u001b[0m\u001b[0m\n\u001b[0;32m--> 133\u001b[0;31m             \u001b[0;32mraise\u001b[0m \u001b[0mexc\u001b[0m\u001b[0;34m\u001b[0m\u001b[0;34m\u001b[0m\u001b[0m\n\u001b[0m\u001b[1;32m    134\u001b[0m \u001b[0;34m\u001b[0m\u001b[0m\n\u001b[1;32m    135\u001b[0m     \u001b[0;31m# Sending the request...\u001b[0m\u001b[0;34m\u001b[0m\u001b[0;34m\u001b[0m\u001b[0m\n",
            "\u001b[0;32m/usr/local/lib/python3.10/dist-packages/httpcore/_sync/http11.py\u001b[0m in \u001b[0;36mhandle_request\u001b[0;34m(self, request)\u001b[0m\n\u001b[1;32m    109\u001b[0m                     \u001b[0mreason_phrase\u001b[0m\u001b[0;34m,\u001b[0m\u001b[0;34m\u001b[0m\u001b[0;34m\u001b[0m\u001b[0m\n\u001b[1;32m    110\u001b[0m                     \u001b[0mheaders\u001b[0m\u001b[0;34m,\u001b[0m\u001b[0;34m\u001b[0m\u001b[0;34m\u001b[0m\u001b[0m\n\u001b[0;32m--> 111\u001b[0;31m                 ) = self._receive_response_headers(**kwargs)\n\u001b[0m\u001b[1;32m    112\u001b[0m                 trace.return_value = (\n\u001b[1;32m    113\u001b[0m                     \u001b[0mhttp_version\u001b[0m\u001b[0;34m,\u001b[0m\u001b[0;34m\u001b[0m\u001b[0;34m\u001b[0m\u001b[0m\n",
            "\u001b[0;32m/usr/local/lib/python3.10/dist-packages/httpcore/_sync/http11.py\u001b[0m in \u001b[0;36m_receive_response_headers\u001b[0;34m(self, request)\u001b[0m\n\u001b[1;32m    174\u001b[0m \u001b[0;34m\u001b[0m\u001b[0m\n\u001b[1;32m    175\u001b[0m         \u001b[0;32mwhile\u001b[0m \u001b[0;32mTrue\u001b[0m\u001b[0;34m:\u001b[0m\u001b[0;34m\u001b[0m\u001b[0;34m\u001b[0m\u001b[0m\n\u001b[0;32m--> 176\u001b[0;31m             \u001b[0mevent\u001b[0m \u001b[0;34m=\u001b[0m \u001b[0mself\u001b[0m\u001b[0;34m.\u001b[0m\u001b[0m_receive_event\u001b[0m\u001b[0;34m(\u001b[0m\u001b[0mtimeout\u001b[0m\u001b[0;34m=\u001b[0m\u001b[0mtimeout\u001b[0m\u001b[0;34m)\u001b[0m\u001b[0;34m\u001b[0m\u001b[0;34m\u001b[0m\u001b[0m\n\u001b[0m\u001b[1;32m    177\u001b[0m             \u001b[0;32mif\u001b[0m \u001b[0misinstance\u001b[0m\u001b[0;34m(\u001b[0m\u001b[0mevent\u001b[0m\u001b[0;34m,\u001b[0m \u001b[0mh11\u001b[0m\u001b[0;34m.\u001b[0m\u001b[0mResponse\u001b[0m\u001b[0;34m)\u001b[0m\u001b[0;34m:\u001b[0m\u001b[0;34m\u001b[0m\u001b[0;34m\u001b[0m\u001b[0m\n\u001b[1;32m    178\u001b[0m                 \u001b[0;32mbreak\u001b[0m\u001b[0;34m\u001b[0m\u001b[0;34m\u001b[0m\u001b[0m\n",
            "\u001b[0;32m/usr/local/lib/python3.10/dist-packages/httpcore/_sync/http11.py\u001b[0m in \u001b[0;36m_receive_event\u001b[0;34m(self, timeout)\u001b[0m\n\u001b[1;32m    210\u001b[0m \u001b[0;34m\u001b[0m\u001b[0m\n\u001b[1;32m    211\u001b[0m             \u001b[0;32mif\u001b[0m \u001b[0mevent\u001b[0m \u001b[0;32mis\u001b[0m \u001b[0mh11\u001b[0m\u001b[0;34m.\u001b[0m\u001b[0mNEED_DATA\u001b[0m\u001b[0;34m:\u001b[0m\u001b[0;34m\u001b[0m\u001b[0;34m\u001b[0m\u001b[0m\n\u001b[0;32m--> 212\u001b[0;31m                 data = self._network_stream.read(\n\u001b[0m\u001b[1;32m    213\u001b[0m                     \u001b[0mself\u001b[0m\u001b[0;34m.\u001b[0m\u001b[0mREAD_NUM_BYTES\u001b[0m\u001b[0;34m,\u001b[0m \u001b[0mtimeout\u001b[0m\u001b[0;34m=\u001b[0m\u001b[0mtimeout\u001b[0m\u001b[0;34m\u001b[0m\u001b[0;34m\u001b[0m\u001b[0m\n\u001b[1;32m    214\u001b[0m                 )\n",
            "\u001b[0;32m/usr/local/lib/python3.10/dist-packages/httpcore/_backends/sync.py\u001b[0m in \u001b[0;36mread\u001b[0;34m(self, max_bytes, timeout)\u001b[0m\n\u001b[1;32m    124\u001b[0m         \u001b[0;32mwith\u001b[0m \u001b[0mmap_exceptions\u001b[0m\u001b[0;34m(\u001b[0m\u001b[0mexc_map\u001b[0m\u001b[0;34m)\u001b[0m\u001b[0;34m:\u001b[0m\u001b[0;34m\u001b[0m\u001b[0;34m\u001b[0m\u001b[0m\n\u001b[1;32m    125\u001b[0m             \u001b[0mself\u001b[0m\u001b[0;34m.\u001b[0m\u001b[0m_sock\u001b[0m\u001b[0;34m.\u001b[0m\u001b[0msettimeout\u001b[0m\u001b[0;34m(\u001b[0m\u001b[0mtimeout\u001b[0m\u001b[0;34m)\u001b[0m\u001b[0;34m\u001b[0m\u001b[0;34m\u001b[0m\u001b[0m\n\u001b[0;32m--> 126\u001b[0;31m             \u001b[0;32mreturn\u001b[0m \u001b[0mself\u001b[0m\u001b[0;34m.\u001b[0m\u001b[0m_sock\u001b[0m\u001b[0;34m.\u001b[0m\u001b[0mrecv\u001b[0m\u001b[0;34m(\u001b[0m\u001b[0mmax_bytes\u001b[0m\u001b[0;34m)\u001b[0m\u001b[0;34m\u001b[0m\u001b[0;34m\u001b[0m\u001b[0m\n\u001b[0m\u001b[1;32m    127\u001b[0m \u001b[0;34m\u001b[0m\u001b[0m\n\u001b[1;32m    128\u001b[0m     \u001b[0;32mdef\u001b[0m \u001b[0mwrite\u001b[0m\u001b[0;34m(\u001b[0m\u001b[0mself\u001b[0m\u001b[0;34m,\u001b[0m \u001b[0mbuffer\u001b[0m\u001b[0;34m:\u001b[0m \u001b[0mbytes\u001b[0m\u001b[0;34m,\u001b[0m \u001b[0mtimeout\u001b[0m\u001b[0;34m:\u001b[0m \u001b[0mtyping\u001b[0m\u001b[0;34m.\u001b[0m\u001b[0mOptional\u001b[0m\u001b[0;34m[\u001b[0m\u001b[0mfloat\u001b[0m\u001b[0;34m]\u001b[0m \u001b[0;34m=\u001b[0m \u001b[0;32mNone\u001b[0m\u001b[0;34m)\u001b[0m \u001b[0;34m->\u001b[0m \u001b[0;32mNone\u001b[0m\u001b[0;34m:\u001b[0m\u001b[0;34m\u001b[0m\u001b[0;34m\u001b[0m\u001b[0m\n",
            "\u001b[0;32m/usr/lib/python3.10/ssl.py\u001b[0m in \u001b[0;36mrecv\u001b[0;34m(self, buflen, flags)\u001b[0m\n\u001b[1;32m   1286\u001b[0m                     \u001b[0;34m\"non-zero flags not allowed in calls to recv() on %s\"\u001b[0m \u001b[0;34m%\u001b[0m\u001b[0;34m\u001b[0m\u001b[0;34m\u001b[0m\u001b[0m\n\u001b[1;32m   1287\u001b[0m                     self.__class__)\n\u001b[0;32m-> 1288\u001b[0;31m             \u001b[0;32mreturn\u001b[0m \u001b[0mself\u001b[0m\u001b[0;34m.\u001b[0m\u001b[0mread\u001b[0m\u001b[0;34m(\u001b[0m\u001b[0mbuflen\u001b[0m\u001b[0;34m)\u001b[0m\u001b[0;34m\u001b[0m\u001b[0;34m\u001b[0m\u001b[0m\n\u001b[0m\u001b[1;32m   1289\u001b[0m         \u001b[0;32melse\u001b[0m\u001b[0;34m:\u001b[0m\u001b[0;34m\u001b[0m\u001b[0;34m\u001b[0m\u001b[0m\n\u001b[1;32m   1290\u001b[0m             \u001b[0;32mreturn\u001b[0m \u001b[0msuper\u001b[0m\u001b[0;34m(\u001b[0m\u001b[0;34m)\u001b[0m\u001b[0;34m.\u001b[0m\u001b[0mrecv\u001b[0m\u001b[0;34m(\u001b[0m\u001b[0mbuflen\u001b[0m\u001b[0;34m,\u001b[0m \u001b[0mflags\u001b[0m\u001b[0;34m)\u001b[0m\u001b[0;34m\u001b[0m\u001b[0;34m\u001b[0m\u001b[0m\n",
            "\u001b[0;32m/usr/lib/python3.10/ssl.py\u001b[0m in \u001b[0;36mread\u001b[0;34m(self, len, buffer)\u001b[0m\n\u001b[1;32m   1159\u001b[0m                 \u001b[0;32mreturn\u001b[0m \u001b[0mself\u001b[0m\u001b[0;34m.\u001b[0m\u001b[0m_sslobj\u001b[0m\u001b[0;34m.\u001b[0m\u001b[0mread\u001b[0m\u001b[0;34m(\u001b[0m\u001b[0mlen\u001b[0m\u001b[0;34m,\u001b[0m \u001b[0mbuffer\u001b[0m\u001b[0;34m)\u001b[0m\u001b[0;34m\u001b[0m\u001b[0;34m\u001b[0m\u001b[0m\n\u001b[1;32m   1160\u001b[0m             \u001b[0;32melse\u001b[0m\u001b[0;34m:\u001b[0m\u001b[0;34m\u001b[0m\u001b[0;34m\u001b[0m\u001b[0m\n\u001b[0;32m-> 1161\u001b[0;31m                 \u001b[0;32mreturn\u001b[0m \u001b[0mself\u001b[0m\u001b[0;34m.\u001b[0m\u001b[0m_sslobj\u001b[0m\u001b[0;34m.\u001b[0m\u001b[0mread\u001b[0m\u001b[0;34m(\u001b[0m\u001b[0mlen\u001b[0m\u001b[0;34m)\u001b[0m\u001b[0;34m\u001b[0m\u001b[0;34m\u001b[0m\u001b[0m\n\u001b[0m\u001b[1;32m   1162\u001b[0m         \u001b[0;32mexcept\u001b[0m \u001b[0mSSLError\u001b[0m \u001b[0;32mas\u001b[0m \u001b[0mx\u001b[0m\u001b[0;34m:\u001b[0m\u001b[0;34m\u001b[0m\u001b[0;34m\u001b[0m\u001b[0m\n\u001b[1;32m   1163\u001b[0m             \u001b[0;32mif\u001b[0m \u001b[0mx\u001b[0m\u001b[0;34m.\u001b[0m\u001b[0margs\u001b[0m\u001b[0;34m[\u001b[0m\u001b[0;36m0\u001b[0m\u001b[0;34m]\u001b[0m \u001b[0;34m==\u001b[0m \u001b[0mSSL_ERROR_EOF\u001b[0m \u001b[0;32mand\u001b[0m \u001b[0mself\u001b[0m\u001b[0;34m.\u001b[0m\u001b[0msuppress_ragged_eofs\u001b[0m\u001b[0;34m:\u001b[0m\u001b[0;34m\u001b[0m\u001b[0;34m\u001b[0m\u001b[0m\n",
            "\u001b[0;31mKeyboardInterrupt\u001b[0m: "
          ]
        }
      ],
      "source": [
        "for idx, question in enumerate(train_questions):\n",
        "    print(f\"[{idx}] Question: {question}\")\n",
        "    response = gpt4_agent.query(question)\n",
        "    print(f\"[{idx}] Agent Response: {str(response)}\")"
      ]
    },
    {
      "cell_type": "code",
      "execution_count": 35,
      "id": "3f78b009-7a05-4506-89f1-5f44bc2f756f",
      "metadata": {
        "id": "3f78b009-7a05-4506-89f1-5f44bc2f756f",
        "outputId": "dc026976-5259-4e0f-cd4d-1773de01ef81",
        "colab": {
          "base_uri": "https://localhost:8080/"
        }
      },
      "outputs": [
        {
          "output_type": "stream",
          "name": "stdout",
          "text": [
            "Wrote 93 examples to finetuning_events_10q.jsonl\n"
          ]
        }
      ],
      "source": [
        "# save events\n",
        "finetuning_handler.save_finetuning_events(\"finetuning_events_10q.jsonl\")"
      ]
    },
    {
      "cell_type": "markdown",
      "id": "5f39e574-0d32-475d-b558-c15801ffa300",
      "metadata": {
        "id": "5f39e574-0d32-475d-b558-c15801ffa300"
      },
      "source": [
        "## Create `OpenAIFinetuneEngine`\n",
        "\n",
        "We create an `OpenAIFinetuneEngine`: the finetune engine will launch a finetuning job, and returning an LLM model that you can directly plugin to the rest of LlamaIndex workflows."
      ]
    },
    {
      "cell_type": "code",
      "source": [
        "dataset_path = \"finetuning_events_10q.jsonl\""
      ],
      "metadata": {
        "id": "IsX_IzClfcEc"
      },
      "id": "IsX_IzClfcEc",
      "execution_count": 36,
      "outputs": []
    },
    {
      "cell_type": "code",
      "source": [
        "from wandb.integration.openai.fine_tuning import WandbLogger"
      ],
      "metadata": {
        "id": "yDgaJc77GEYc"
      },
      "id": "yDgaJc77GEYc",
      "execution_count": 37,
      "outputs": []
    },
    {
      "cell_type": "code",
      "source": [
        "def openai_validate_data(dataset_path):\n",
        "    data_path = dataset_path\n",
        "\n",
        "    # Load dataset\n",
        "    with open(data_path) as f:\n",
        "        dataset = [json.loads(line) for line in f]\n",
        "\n",
        "    # We can inspect the data quickly by checking the number of examples and the first item\n",
        "\n",
        "    # Initial dataset stats\n",
        "    print(\"Num examples:\", len(dataset))\n",
        "    print(\"First example:\")\n",
        "    for message in dataset[0][\"messages\"]:\n",
        "        print(message)\n",
        "\n",
        "    # Now that we have a sense of the data, we need to go through all the different examples and check to make sure the formatting is correct and matches the Chat completions message structure\n",
        "\n",
        "    # Format error checks\n",
        "    format_errors = defaultdict(int)\n",
        "\n",
        "    for ex in dataset:\n",
        "        if not isinstance(ex, dict):\n",
        "            format_errors[\"data_type\"] += 1\n",
        "            continue\n",
        "\n",
        "        messages = ex.get(\"messages\", None)\n",
        "        if not messages:\n",
        "            format_errors[\"missing_messages_list\"] += 1\n",
        "            continue\n",
        "\n",
        "        for message in messages:\n",
        "            if \"role\" not in message or \"content\" not in message:\n",
        "                format_errors[\"message_missing_key\"] += 1\n",
        "\n",
        "            if any(k not in (\"role\", \"content\", \"name\") for k in message):\n",
        "                format_errors[\"message_unrecognized_key\"] += 1\n",
        "\n",
        "            if message.get(\"role\", None) not in (\"system\", \"user\", \"assistant\"):\n",
        "                format_errors[\"unrecognized_role\"] += 1\n",
        "\n",
        "            content = message.get(\"content\", None)\n",
        "            if not content or not isinstance(content, str):\n",
        "                format_errors[\"missing_content\"] += 1\n",
        "\n",
        "        if not any(message.get(\"role\", None) == \"assistant\" for message in messages):\n",
        "            format_errors[\"example_missing_assistant_message\"] += 1\n",
        "\n",
        "    if format_errors:\n",
        "        print(\"Found errors:\")\n",
        "        for k, v in format_errors.items():\n",
        "            print(f\"{k}: {v}\")\n",
        "    else:\n",
        "        print(\"No errors found\")\n",
        "\n",
        "    # Beyond the structure of the message, we also need to ensure that the length does not exceed the 4096 token limit.\n",
        "\n",
        "    # Token counting functions\n",
        "    encoding = tiktoken.get_encoding(\"cl100k_base\")\n",
        "\n",
        "    # not exact!\n",
        "    # simplified from https://github.com/openai/openai-cookbook/blob/main/examples/How_to_count_tokens_with_tiktoken.ipynb\n",
        "    def num_tokens_from_messages(messages, tokens_per_message=3, tokens_per_name=1):\n",
        "        num_tokens = 0\n",
        "        for message in messages:\n",
        "            num_tokens += tokens_per_message\n",
        "            for key, value in message.items():\n",
        "                num_tokens += len(encoding.encode(value))\n",
        "                if key == \"name\":\n",
        "                    num_tokens += tokens_per_name\n",
        "        num_tokens += 3\n",
        "        return num_tokens\n",
        "\n",
        "    def num_assistant_tokens_from_messages(messages):\n",
        "        num_tokens = 0\n",
        "        for message in messages:\n",
        "            if message[\"role\"] == \"assistant\":\n",
        "                num_tokens += len(encoding.encode(message[\"content\"]))\n",
        "        return num_tokens\n",
        "\n",
        "    def print_distribution(values, name):\n",
        "        print(f\"\\n#### Distribution of {name}:\")\n",
        "        print(f\"min / max: {min(values)}, {max(values)}\")\n",
        "        print(f\"mean / median: {np.mean(values)}, {np.median(values)}\")\n",
        "        print(f\"p5 / p95: {np.quantile(values, 0.1)}, {np.quantile(values, 0.9)}\")\n",
        "\n",
        "    # Last, we can look at the results of the different formatting operations before proceeding with creating a fine-tuning job:\n",
        "\n",
        "    # Warnings and tokens counts\n",
        "    n_missing_system = 0\n",
        "    n_missing_user = 0\n",
        "    n_messages = []\n",
        "    convo_lens = []\n",
        "    assistant_message_lens = []\n",
        "\n",
        "    for ex in dataset:\n",
        "        messages = ex[\"messages\"]\n",
        "        if not any(message[\"role\"] == \"system\" for message in messages):\n",
        "            n_missing_system += 1\n",
        "        if not any(message[\"role\"] == \"user\" for message in messages):\n",
        "            n_missing_user += 1\n",
        "        n_messages.append(len(messages))\n",
        "        convo_lens.append(num_tokens_from_messages(messages))\n",
        "        assistant_message_lens.append(num_assistant_tokens_from_messages(messages))\n",
        "\n",
        "    print(\"Num examples missing system message:\", n_missing_system)\n",
        "    print(\"Num examples missing user message:\", n_missing_user)\n",
        "    print_distribution(n_messages, \"num_messages_per_example\")\n",
        "    print_distribution(convo_lens, \"num_total_tokens_per_example\")\n",
        "    print_distribution(assistant_message_lens, \"num_assistant_tokens_per_example\")\n",
        "    n_too_long = sum(l > 4096 for l in convo_lens)\n",
        "    print(f\"\\n{n_too_long} examples may be over the 4096 token limit, they will be truncated during fine-tuning\")\n",
        "\n",
        "    # Pricing and default n_epochs estimate\n",
        "    MAX_TOKENS_PER_EXAMPLE = 4096\n",
        "\n",
        "    MIN_TARGET_EXAMPLES = 100\n",
        "    MAX_TARGET_EXAMPLES = 25000\n",
        "    TARGET_EPOCHS = 3\n",
        "    MIN_EPOCHS = 1\n",
        "    MAX_EPOCHS = 25\n",
        "\n",
        "    n_epochs = TARGET_EPOCHS\n",
        "    n_train_examples = len(dataset)\n",
        "    if n_train_examples * TARGET_EPOCHS < MIN_TARGET_EXAMPLES:\n",
        "        n_epochs = min(MAX_EPOCHS, MIN_TARGET_EXAMPLES // n_train_examples)\n",
        "    elif n_train_examples * TARGET_EPOCHS > MAX_TARGET_EXAMPLES:\n",
        "        n_epochs = max(MIN_EPOCHS, MAX_TARGET_EXAMPLES // n_train_examples)\n",
        "\n",
        "    n_billing_tokens_in_dataset = sum(min(MAX_TOKENS_PER_EXAMPLE, length) for length in convo_lens)\n",
        "    print(f\"Dataset has ~{n_billing_tokens_in_dataset} tokens that will be charged for during training\")\n",
        "    print(f\"By default, you'll train for {n_epochs} epochs on this dataset\")\n",
        "    print(f\"By default, you'll be charged for ~{n_epochs * n_billing_tokens_in_dataset} tokens\")\n",
        "    print(\"See pricing page to estimate total costs\")"
      ],
      "metadata": {
        "id": "IQyZDMLle29l"
      },
      "id": "IQyZDMLle29l",
      "execution_count": 38,
      "outputs": []
    },
    {
      "cell_type": "code",
      "source": [
        "openai_validate_data(dataset_path)"
      ],
      "metadata": {
        "colab": {
          "base_uri": "https://localhost:8080/"
        },
        "id": "oaM7k9jpfe__",
        "outputId": "2bfce886-b0ed-4629-fd52-3cbddc0b098a"
      },
      "id": "oaM7k9jpfe__",
      "execution_count": 39,
      "outputs": [
        {
          "output_type": "stream",
          "name": "stdout",
          "text": [
            "Num examples: 93\n",
            "First example:\n",
            "{'role': 'system', 'content': '\\nYou are designed to help with a variety of tasks, from answering questions     to providing summaries to other types of analyses.\\n\\n## Tools\\nYou have access to a wide variety of tools. You are responsible for using\\nthe tools in any sequence you deem appropriate to complete the task at hand.\\nThis may require breaking the task into subtasks and using different tools\\nto complete each subtask.\\n\\nYou have access to the following tools:\\n> Tool Name: march_2022\\nTool Description: Provides information about Uber quarterly financials ending March 2022\\nTool Args: {\"type\": \"object\", \"properties\": {\"input\": {\"title\": \"Input\", \"type\": \"string\"}}, \"required\": [\"input\"]}\\n\\n> Tool Name: june_2022\\nTool Description: Provides information about Uber quarterly financials ending June 2022\\nTool Args: {\"type\": \"object\", \"properties\": {\"input\": {\"title\": \"Input\", \"type\": \"string\"}}, \"required\": [\"input\"]}\\n\\n> Tool Name: sept_2022\\nTool Description: Provides information about Uber quarterly financials ending September 2022\\nTool Args: {\"type\": \"object\", \"properties\": {\"input\": {\"title\": \"Input\", \"type\": \"string\"}}, \"required\": [\"input\"]}\\n\\n\\n## Output Format\\nTo answer the question, please use the following format.\\n\\n```\\nThought: I need to use a tool to help me answer the question.\\nAction: tool name (one of march_2022, june_2022, sept_2022) if using a tool.\\nAction Input: the input to the tool, in a JSON format representing the kwargs (e.g. {\"input\": \"hello world\", \"num_beams\": 5})\\n```\\n\\nPlease ALWAYS start with a Thought.\\n\\nPlease use a valid JSON format for the Action Input. Do NOT do this {\\'input\\': \\'hello world\\', \\'num_beams\\': 5}.\\n\\nIf this format is used, the user will respond in the following format:\\n\\n```\\nObservation: tool response\\n```\\n\\nYou should keep repeating the above format until you have enough information\\nto answer the question without using any more tools. At that point, you MUST respond\\nin the one of the following two formats:\\n\\n```\\nThought: I can answer without using any more tools.\\nAnswer: [your answer here]\\n```\\n\\n```\\nThought: I cannot answer the question with the provided tools.\\nAnswer: Sorry, I cannot answer your query.\\n```\\n\\n## Current Conversation\\nBelow is the current conversation consisting of interleaving human and assistant messages.\\n\\n'}\n",
            "{'role': 'user', 'content': \"What is the address of Uber Technologies, Inc.'s principal executive offices?\"}\n",
            "{'role': 'assistant', 'content': 'Thought: I need to use a tool to help me answer the question.\\nAction: march_2022\\nAction Input: {\"input\": \"principal executive offices\"}'}\n",
            "No errors found\n",
            "Num examples missing system message: 0\n",
            "Num examples missing user message: 0\n",
            "\n",
            "#### Distribution of num_messages_per_example:\n",
            "min / max: 3, 9\n",
            "mean / median: 5.139784946236559, 5.0\n",
            "p5 / p95: 3.0, 8.599999999999994\n",
            "\n",
            "#### Distribution of num_total_tokens_per_example:\n",
            "min / max: 597, 1244\n",
            "mean / median: 733.9462365591398, 710.0\n",
            "p5 / p95: 623.0, 891.5999999999999\n",
            "\n",
            "#### Distribution of num_assistant_tokens_per_example:\n",
            "min / max: 33, 310\n",
            "mean / median: 108.76344086021506, 97.0\n",
            "p5 / p95: 46.0, 206.79999999999995\n",
            "\n",
            "0 examples may be over the 4096 token limit, they will be truncated during fine-tuning\n",
            "Dataset has ~68257 tokens that will be charged for during training\n",
            "By default, you'll train for 3 epochs on this dataset\n",
            "By default, you'll be charged for ~204771 tokens\n",
            "See pricing page to estimate total costs\n"
          ]
        }
      ]
    },
    {
      "cell_type": "code",
      "source": [
        "from openai import OpenAI as SyncOpenAI"
      ],
      "metadata": {
        "id": "IHAEdf4RhAim"
      },
      "id": "IHAEdf4RhAim",
      "execution_count": 40,
      "outputs": []
    },
    {
      "cell_type": "code",
      "source": [
        "oai_client = SyncOpenAI(api_key=os.environ['OPENAI_API_KEY'])"
      ],
      "metadata": {
        "id": "ECTHbHfBf1x3"
      },
      "id": "ECTHbHfBf1x3",
      "execution_count": 41,
      "outputs": []
    },
    {
      "cell_type": "code",
      "source": [
        "openai_train_file_info = oai_client.files.create(\n",
        "    file=open(dataset_path, \"rb\"), purpose=\"fine-tune\"\n",
        ")"
      ],
      "metadata": {
        "id": "tgbP-cmZfy_3"
      },
      "id": "tgbP-cmZfy_3",
      "execution_count": 42,
      "outputs": []
    },
    {
      "cell_type": "code",
      "source": [
        "model = 'gpt-3.5-turbo'\n",
        "n_epochs = 3"
      ],
      "metadata": {
        "id": "i5ZyXoCMgT6E"
      },
      "id": "i5ZyXoCMgT6E",
      "execution_count": 43,
      "outputs": []
    },
    {
      "cell_type": "code",
      "source": [
        "openai_ft_job_info = oai_client.fine_tuning.jobs.create(\n",
        "    training_file=openai_train_file_info.id,\n",
        "    model=model,\n",
        "\n",
        "    hyperparameters={\"n_epochs\": n_epochs},\n",
        "    # validation_file=openai_valid_file_info.id\n",
        ")\n",
        "\n",
        "ft_job_id = openai_ft_job_info.id"
      ],
      "metadata": {
        "id": "4tLhZstDgUmT"
      },
      "id": "4tLhZstDgUmT",
      "execution_count": 44,
      "outputs": []
    },
    {
      "cell_type": "code",
      "source": [
        "WandbLogger.sync(fine_tune_job_id=ft_job_id, openai_client=oai_client)"
      ],
      "metadata": {
        "colab": {
          "base_uri": "https://localhost:8080/",
          "height": 165
        },
        "id": "WyvClDVCGjGK",
        "outputId": "e427f454-7f8c-4a03-aa49-247607ec9049"
      },
      "id": "WyvClDVCGjGK",
      "execution_count": 45,
      "outputs": [
        {
          "output_type": "stream",
          "name": "stderr",
          "text": [
            "\u001b[34m\u001b[1mwandb\u001b[0m: Retrieving fine-tune job...\n",
            "\u001b[34m\u001b[1mwandb\u001b[0m: \u001b[33mWARNING\u001b[0m Calling wandb.login() after wandb.init() has no effect.\n",
            "\u001b[34m\u001b[1mwandb\u001b[0m: Waiting for the OpenAI fine-tuning job to be finished...\n",
            "\u001b[34m\u001b[1mwandb\u001b[0m: Fine-tuning finished, logging metrics, model metadata, and more to W&B\n",
            "\u001b[34m\u001b[1mwandb\u001b[0m: \u001b[32m\u001b[41mERROR\u001b[0m File file-wf9PkgvLLAotpCBLSTn8Q9f2 could not be read as a valid JSON file\n",
            "\u001b[34m\u001b[1mwandb\u001b[0m: Waiting for artifact train-file-wf9PkgvLLAotpCBLSTn8Q9f2 to be committed...\n",
            "\n",
            "\u001b[34m\u001b[1mwandb\u001b[0m: Committed artifact keloasuzu/llama_index-react-agent-finetuning/train-file-wf9PkgvLLAotpCBLSTn8Q9f2:v0\n"
          ]
        },
        {
          "output_type": "execute_result",
          "data": {
            "text/plain": [
              "'🎉 wandb sync completed successfully'"
            ],
            "application/vnd.google.colaboratory.intrinsic+json": {
              "type": "string"
            }
          },
          "metadata": {},
          "execution_count": 45
        }
      ]
    },
    {
      "cell_type": "code",
      "source": [
        "openai_ft_job_info"
      ],
      "metadata": {
        "colab": {
          "base_uri": "https://localhost:8080/"
        },
        "id": "KyLhbQrHiGw0",
        "outputId": "51e88ad3-9e24-4451-ad6f-7b049dea3f14"
      },
      "id": "KyLhbQrHiGw0",
      "execution_count": 46,
      "outputs": [
        {
          "output_type": "execute_result",
          "data": {
            "text/plain": [
              "FineTuningJob(id='ftjob-r4jvGFFLrOmqibW5x1nmhf5S', created_at=1706227231, error=None, fine_tuned_model=None, finished_at=None, hyperparameters=Hyperparameters(n_epochs=3, batch_size='auto', learning_rate_multiplier='auto'), model='gpt-3.5-turbo-0613', object='fine_tuning.job', organization_id='org-T17XYrfw4A1rxbU3EiTXGQpU', result_files=[], status='validating_files', trained_tokens=None, training_file='file-wf9PkgvLLAotpCBLSTn8Q9f2', validation_file=None)"
            ]
          },
          "metadata": {},
          "execution_count": 46
        }
      ]
    },
    {
      "cell_type": "code",
      "source": [
        "state = oai_client.fine_tuning.jobs.retrieve(fine_tuning_job_id=ft_job_id)\n",
        "state.status, state.trained_tokens, state.finished_at, state.fine_tuned_model"
      ],
      "metadata": {
        "colab": {
          "base_uri": "https://localhost:8080/"
        },
        "id": "SLu-d1UXiRqw",
        "outputId": "bef11023-f529-4703-c1b2-77f128182420"
      },
      "id": "SLu-d1UXiRqw",
      "execution_count": 47,
      "outputs": [
        {
          "output_type": "execute_result",
          "data": {
            "text/plain": [
              "('succeeded', 203964, 1706228025, 'ft:gpt-3.5-turbo-0613:personal::8l48oaTz')"
            ]
          },
          "metadata": {},
          "execution_count": 47
        }
      ]
    },
    {
      "cell_type": "code",
      "source": [
        "ft_llm = OpenAI(model=state.fine_tuned_model)"
      ],
      "metadata": {
        "id": "xTQkQhINiEpa"
      },
      "id": "xTQkQhINiEpa",
      "execution_count": 48,
      "outputs": []
    },
    {
      "cell_type": "markdown",
      "id": "7eac103a-6ef8-4c10-aeac-d5ffef78f3d3",
      "metadata": {
        "id": "7eac103a-6ef8-4c10-aeac-d5ffef78f3d3"
      },
      "source": [
        "## Run Some Queries! (Compare Finetuned Agent vs. Base Agent)\n",
        "\n",
        "We run some sample queries from the evaluation dataset over both our finetuned agent as well as the base agent.\n",
        "\n",
        "We qualitatively look at their abilities to perform chain of thought prompting in order to arrive at the right answer.\n",
        "\n",
        "**NOTE**: There's a big TODO to setup quantitative metrics so we can more rigorously evaluate the quality of any agent over an evaluation dataset!"
      ]
    },
    {
      "cell_type": "code",
      "execution_count": 49,
      "id": "f7cd7c68-a300-4c13-a5e0-00136418614d",
      "metadata": {
        "id": "f7cd7c68-a300-4c13-a5e0-00136418614d"
      },
      "outputs": [],
      "source": [
        "# Option 1: pass in ft_llm directly into ServiceContext\n",
        "ft_context = ServiceContext.from_defaults(\n",
        "    llm=ft_llm,\n",
        ")"
      ]
    },
    {
      "cell_type": "code",
      "execution_count": 51,
      "id": "cd90e0d4-110f-4656-b925-a39c91d152b3",
      "metadata": {
        "id": "cd90e0d4-110f-4656-b925-a39c91d152b3"
      },
      "outputs": [],
      "source": [
        "ft_agent = ReActAgent.from_tools(\n",
        "    query_engine_tools,\n",
        "    llm=ft_llm,\n",
        "    callback_manager=callback_manager,\n",
        "    verbose=True,\n",
        ")"
      ]
    },
    {
      "cell_type": "code",
      "execution_count": 52,
      "id": "2df79149-c802-4e3f-abd8-fd2a3f71f9ba",
      "metadata": {
        "id": "2df79149-c802-4e3f-abd8-fd2a3f71f9ba"
      },
      "outputs": [],
      "source": [
        "eval_questions = []\n",
        "with open(\"eval_questions_10q.txt\", \"r\") as f:\n",
        "    for line in f:\n",
        "        eval_questions.append(line.strip())"
      ]
    },
    {
      "cell_type": "code",
      "execution_count": 53,
      "id": "62ebc6d7-660b-4d11-8fde-42e83f7c2c43",
      "metadata": {
        "id": "62ebc6d7-660b-4d11-8fde-42e83f7c2c43",
        "outputId": "c311272f-c9fb-4380-d9a7-f88853b6728a",
        "colab": {
          "base_uri": "https://localhost:8080/"
        }
      },
      "outputs": [
        {
          "output_type": "stream",
          "name": "stdout",
          "text": [
            "Question: What is the total fair value of financial assets measured at Level 1 as of March 31, 2022, according to the Uber March 10Q filing?\n"
          ]
        }
      ],
      "source": [
        "# try a sample question\n",
        "qidx = 0\n",
        "print(eval_questions[qidx])"
      ]
    },
    {
      "cell_type": "code",
      "execution_count": 54,
      "id": "66e8e927-7b48-4368-8110-fd2082bdbc45",
      "metadata": {
        "id": "66e8e927-7b48-4368-8110-fd2082bdbc45",
        "outputId": "fdd52564-6f06-410a-b1d2-4bba5d6b3bcd",
        "colab": {
          "base_uri": "https://localhost:8080/",
          "height": 168
        }
      },
      "outputs": [
        {
          "output_type": "stream",
          "name": "stdout",
          "text": [
            "\u001b[1;3;38;5;200mThought: I need to use a tool to help me answer the question.\n",
            "Action: march_2022\n",
            "Action Input: {'input': 'total fair value of financial assets measured at Level 1'}\n",
            "\u001b[0m\u001b[1;3;34mObservation: The total fair value of financial assets measured at Level 1 is $5,811 million.\n",
            "\u001b[0m\u001b[1;3;38;5;200mThought: I have the information needed to answer the question.\n",
            "Answer: The total fair value of financial assets measured at Level 1 as of March 31, 2022, according to the Uber March 10Q filing, is $5,811 million.\n",
            "\u001b[0m"
          ]
        },
        {
          "output_type": "stream",
          "name": "stderr",
          "text": [
            "\u001b[34m\u001b[1mwandb\u001b[0m: Logged trace tree to W&B.\n"
          ]
        },
        {
          "output_type": "stream",
          "name": "stdout",
          "text": [
            "The total fair value of financial assets measured at Level 1 as of March 31, 2022, according to the Uber March 10Q filing, is $5,811 million.\n"
          ]
        }
      ],
      "source": [
        "base_response = base_agent.query(eval_questions[qidx])\n",
        "print(str(base_response))"
      ]
    },
    {
      "cell_type": "code",
      "execution_count": 55,
      "id": "9289a7ac-7853-4d38-ae9e-0c4e9a1b14ff",
      "metadata": {
        "id": "9289a7ac-7853-4d38-ae9e-0c4e9a1b14ff",
        "outputId": "5d149b70-4444-48f3-cb5a-d348707e8412",
        "colab": {
          "base_uri": "https://localhost:8080/"
        }
      },
      "outputs": [
        {
          "output_type": "stream",
          "name": "stdout",
          "text": [
            "\u001b[1;3;38;5;200mThought: I need to use the march_2022 tool to get the information about the Uber March 10Q filing.\n",
            "Action: march_2022\n",
            "Action Input: {'input': 'total fair value of financial assets measured at Level 1'}\n",
            "\u001b[0m\u001b[1;3;34mObservation: The total fair value of financial assets measured at Level 1 is $5,811 million.\n",
            "\u001b[0m"
          ]
        },
        {
          "output_type": "stream",
          "name": "stderr",
          "text": [
            "\u001b[34m\u001b[1mwandb\u001b[0m: Logged trace tree to W&B.\n"
          ]
        },
        {
          "output_type": "stream",
          "name": "stdout",
          "text": [
            "\u001b[1;3;38;5;200mThought: I can answer without using any more tools.\n",
            "Answer: The total fair value of financial assets measured at Level 1 as of March 31, 2022, according to the Uber March 10Q filing, is $5,811 million.\n",
            "\u001b[0mThe total fair value of financial assets measured at Level 1 as of March 31, 2022, according to the Uber March 10Q filing, is $5,811 million.\n"
          ]
        }
      ],
      "source": [
        "ft_response = ft_agent.query(eval_questions[qidx])\n",
        "print(str(ft_response))"
      ]
    },
    {
      "cell_type": "code",
      "execution_count": 56,
      "id": "1ef2c813-a330-4199-bc65-4fcf8a76cfe9",
      "metadata": {
        "id": "1ef2c813-a330-4199-bc65-4fcf8a76cfe9",
        "outputId": "1578f141-1f35-411e-f434-76d4031a4127",
        "colab": {
          "base_uri": "https://localhost:8080/"
        }
      },
      "outputs": [
        {
          "output_type": "stream",
          "name": "stdout",
          "text": [
            "\u001b[1;3;38;5;200mThought: To answer this question, I need to find the quarter with the highest revenue growth and then identify the risk factors associated with that quarter.\n",
            "\n",
            "Thought: I can use the financial tools for each quarter to compare the revenue growth and identify the quarter with the highest growth.\n",
            "Action: march_2022\n",
            "Action Input: {'input': 'revenue_growth'}\n",
            "\u001b[0m\u001b[1;3;34mObservation: The revenue growth for the company in the three months ended March 31, 2022, compared to the same period in 2021, was 136%.\n",
            "\u001b[0m\u001b[1;3;38;5;200mThought: The revenue growth for the quarter ending March 2022 was 136%. Now I need to find the risk factors associated with this quarter.\n",
            "Action: march_2022\n",
            "Action Input: {'input': 'risk_factors'}\n",
            "\u001b[0m\u001b[1;3;34mObservation: The COVID-19 pandemic and the impact of actions to mitigate the pandemic have adversely affected and may continue to adversely affect parts of our business. Our business would be adversely affected if Drivers were classified as employees, workers or quasi-employees instead of independent contractors. The mobility, delivery, and logistics industries are highly competitive, with well-established and low-cost alternatives that have been available for decades, low barriers to entry, low switching costs, and well-capitalized competitors in nearly every major geographic region. To remain competitive in certain markets, we have in the past lowered, and may continue to lower, fares or service fees, and we have in the past offered, and may continue to offer, significant Driver incentives and consumer discounts and promotions. We have incurred significant losses since inception, including in the United States and other major markets. We expect our operating expenses to increase significantly in the foreseeable future, and we may not achieve or maintain profitability. If we are unable to attract or maintain a critical mass of Drivers, consumers, merchants, shippers, and carriers, whether as a result of competition or other factors, our platform will become less appealing to platform users. Maintaining and enhancing our brand and reputation is critical to our business prospects. We have previously received significant media coverage and negative publicity regarding our brand and reputation, and while we have taken significant steps to rehabilitate our brand and reputation, failure to maintain and enhance our brand and reputation will cause our business to suffer. Our historical workplace culture and forward-leaning approach created operational, compliance, and cultural challenges and our efforts to address these challenges may not be successful. If we are unable to optimize our organizational structure or effectively manage our growth, our financial performance and future prospects will be adversely affected. Platform users may engage in, or be subject to, criminal, violent, inappropriate, or dangerous activity that results in major safety incidents, which may harm our ability to attract and retain Drivers, consumers, merchants, shippers, and carriers. We are making substantial investments in new offerings and technologies, and may increase such investments in the future. These new ventures are inherently risky, and we may never realize any expected benefits from them. The impact of economic conditions, including the resulting effect on discretionary consumer spending, may harm our business and operating results. Increases in fuel, food, labor, energy, and other costs due to inflation and other factors could adversely affect our operating results. If we experience security or privacy breaches or other unauthorized or improper access to, use of, disclosure of, alteration of or destruction of our proprietary or confidential data, employee data, or platform user data, we may face loss of revenue, harm to our brand, business disruption, and significant liabilities.\n",
            "\u001b[0m"
          ]
        },
        {
          "output_type": "stream",
          "name": "stderr",
          "text": [
            "\u001b[34m\u001b[1mwandb\u001b[0m: Logged trace tree to W&B.\n"
          ]
        },
        {
          "output_type": "stream",
          "name": "stdout",
          "text": [
            "\u001b[1;3;38;5;200mThought: I have identified the risk factors associated with the quarter ending March 2022. Here are some of the key risk factors:\n",
            "\n",
            "1. The adverse impact of the COVID-19 pandemic and actions taken to mitigate it.\n",
            "2. The potential reclassification of drivers as employees instead of independent contractors.\n",
            "3. Intense competition in the mobility, delivery, and logistics industries.\n",
            "4. The need to lower fares or service fees and offer driver incentives and consumer discounts to remain competitive.\n",
            "5. Historical losses and the uncertainty of achieving profitability.\n",
            "6. The importance of attracting and maintaining a critical mass of drivers, consumers, merchants, shippers, and carriers.\n",
            "7. The significance of maintaining and enhancing the brand and reputation.\n",
            "8. Operational, compliance, and cultural challenges associated with the company's workplace culture.\n",
            "9. The need to optimize organizational structure and effectively manage growth.\n",
            "10. Safety incidents that may harm the ability to attract and retain platform users.\n",
            "11. The inherent risks associated with substantial investments in new offerings and technologies.\n",
            "12. The impact of economic conditions on discretionary consumer spending.\n",
            "13. Increases in costs due to inflation and other factors.\n",
            "14. The risk of security or privacy breaches and unauthorized access to data.\n",
            "\n",
            "Thought: I have provided the risk factors associated with the quarter with the highest revenue growth.\n",
            "Answer: The risk factors in the quarter ending March 2022 include the adverse impact of the COVID-19 pandemic, intense competition, the need to lower fares and offer incentives, historical losses, the importance of maintaining brand and reputation, operational and cultural challenges, safety incidents, and the risks associated with investments and economic conditions.\n",
            "\u001b[0mThe risk factors in the quarter ending March 2022 include the adverse impact of the COVID-19 pandemic, intense competition, the need to lower fares and offer incentives, historical losses, the importance of maintaining brand and reputation, operational and cultural challenges, safety incidents, and the risks associated with investments and economic conditions.\n"
          ]
        }
      ],
      "source": [
        "# try the original question that failed\n",
        "test_q = (\n",
        "    \"Can you tell me about the risk factors in the quarter with the highest\"\n",
        "    \" revenue growth?\"\n",
        ")\n",
        "base_response = base_agent.query(test_q)\n",
        "print(str(base_response))"
      ]
    },
    {
      "cell_type": "code",
      "execution_count": 57,
      "id": "4d256256-6f42-4e51-9686-1b6be6d97041",
      "metadata": {
        "id": "4d256256-6f42-4e51-9686-1b6be6d97041",
        "outputId": "cd32f15e-54d2-448e-dd39-15fdb1bdd2ff",
        "colab": {
          "base_uri": "https://localhost:8080/"
        }
      },
      "outputs": [
        {
          "output_type": "stream",
          "name": "stdout",
          "text": [
            "\u001b[1;3;38;5;200mThought: I need to find the quarter with the highest revenue growth first.\n",
            "Action: march_2022\n",
            "Action Input: {'input': 'revenue growth'}\n",
            "\u001b[0m\u001b[1;3;34mObservation: The revenue growth for the company in the three months ended March 31, 2022, compared to the same period in 2021, was 136%. This increase in revenue was primarily driven by an increase in Gross Bookings of 35%, or 39% on a constant currency basis. The growth in Gross Bookings was mainly due to increases in Mobility Trip volumes as the business recovers from the impacts of COVID-19 and a $1.5 billion increase in Freight revenue resulting from the acquisition of Transplace. Additionally, there was a $304 million increase in Delivery revenue and a $200 million increase in Mobility revenue due to business model changes in the UK.\n",
            "\u001b[0m\u001b[1;3;38;5;200mThought: Now that I have the quarter with the highest revenue growth (March 2022), I need to find the risk factors for that quarter.\n",
            "Action: march_2022\n",
            "Action Input: {'input': 'risk factors'}\n",
            "\u001b[0m\u001b[1;3;34mObservation: The risk factors mentioned in the context include:\n",
            "1. Economic, social, weather, and regulatory conditions or other circumstances, including COVID-19, that may negatively affect operations.\n",
            "2. Failure to offer autonomous vehicle technologies or their inferior performance compared to competitors.\n",
            "3. Difficulty in retaining and attracting high-quality personnel.\n",
            "4. Security or data privacy breaches or unauthorized access to proprietary or confidential data.\n",
            "5. Cyberattacks that could harm reputation, business, and operating results.\n",
            "6. Climate change risks, including physical and transitional risks, that may adversely impact the business.\n",
            "7. Dependence on third parties for distributing the platform and providing software.\n",
            "8. Need for additional capital to support business growth.\n",
            "9. Risks associated with identifying, acquiring, and integrating suitable businesses.\n",
            "10. Restrictions or modifications to providing or operating products and offerings in certain jurisdictions.\n",
            "11. Legal and regulatory risks that could have an adverse impact on the business.\n",
            "12. Extensive government regulation and oversight relating to payment and financial services.\n",
            "13. Risks related to collection, use, transfer, disclosure, and processing of data.\n",
            "14. Risk of not being able to protect intellectual property or facing claims of misappropriation.\n",
            "15. Volatility or decline in the market price of common stock.\n",
            "16. Adverse impact of the COVID-19 pandemic and actions to mitigate it on the business, financial condition, and results of operations.\n",
            "17. Legal proceedings, litigation, claims, and government investigations that may impose a burden on management and employees.\n",
            "18. Risks related to the classification of Drivers and compliance with applicable law.\n",
            "19. Highly competitive mobility, delivery, and logistics industries.\n",
            "20. Lowering fares or service fees and offering incentives and discounts to remain competitive.\n",
            "21. Incurred significant losses and expected increase in operating expenses.\n",
            "22. Difficulty in attracting and maintaining a critical mass of platform users.\n",
            "23. Importance of maintaining and enhancing brand and reputation.\n",
            "24. Operational, compliance, and cultural challenges related to workplace culture.\n",
            "25. Need to optimize organizational structure and effectively manage growth.\n",
            "26. Risk of major safety incidents due to criminal or dangerous activity by platform users.\n",
            "27. Risks associated with substantial investments in new offerings and technologies.\n",
            "28. Climate change risks, including market shifts toward electric vehicles and extreme weather events.\n",
            "29. Need to manage climate-related risks and revise climate commitments as circumstances arise.\n",
            "30. Dependence on the performance and reliability of Internet, mobile, and other infrastructures that are not under the company's control.\n",
            "\u001b[0m"
          ]
        },
        {
          "output_type": "stream",
          "name": "stderr",
          "text": [
            "\u001b[34m\u001b[1mwandb\u001b[0m: Logged trace tree to W&B.\n"
          ]
        },
        {
          "output_type": "stream",
          "name": "stdout",
          "text": [
            "\u001b[1;3;38;5;200mThought: I can answer without using any more tools.\n",
            "Answer: The risk factors in the quarter with the highest revenue growth (March 2022) for Uber include economic, social, weather, and regulatory conditions, including the ongoing impact of COVID-19. Other risk factors include the failure to offer competitive autonomous vehicle technologies, difficulty in retaining high-quality personnel, security and data privacy breaches, cyberattacks, climate change risks, dependence on third parties for distribution and software, the need for additional capital, legal and regulatory risks, risks related to data collection and processing, risks related to intellectual property, volatility in the stock market, legal proceedings and investigations, competition in the mobility, delivery, and logistics industries, incurred losses and expected increase in operating expenses, difficulty in attracting and maintaining platform users, the importance of maintaining brand and reputation, operational and compliance challenges, the need to optimize organizational structure, safety incidents by platform users, risks associated with investments in new offerings and technologies, climate change risks, and dependence on external infrastructures.\n",
            "\u001b[0mThe risk factors in the quarter with the highest revenue growth (March 2022) for Uber include economic, social, weather, and regulatory conditions, including the ongoing impact of COVID-19. Other risk factors include the failure to offer competitive autonomous vehicle technologies, difficulty in retaining high-quality personnel, security and data privacy breaches, cyberattacks, climate change risks, dependence on third parties for distribution and software, the need for additional capital, legal and regulatory risks, risks related to data collection and processing, risks related to intellectual property, volatility in the stock market, legal proceedings and investigations, competition in the mobility, delivery, and logistics industries, incurred losses and expected increase in operating expenses, difficulty in attracting and maintaining platform users, the importance of maintaining brand and reputation, operational and compliance challenges, the need to optimize organizational structure, safety incidents by platform users, risks associated with investments in new offerings and technologies, climate change risks, and dependence on external infrastructures.\n"
          ]
        }
      ],
      "source": [
        "# NOTE: this successfully looks at each quarter for revenue growth but still falls behind GPT-4\n",
        "ft_response = ft_agent.query(test_q)\n",
        "print(str(ft_response))"
      ]
    },
    {
      "cell_type": "markdown",
      "id": "e3758e39-ea62-49eb-95db-8c7dbf232bed",
      "metadata": {
        "id": "e3758e39-ea62-49eb-95db-8c7dbf232bed"
      },
      "source": [
        "**Observations**: The finetuned model does much better than the base model in terms of reasoning about the current sequence of steps. It passes more detailed answers to the downstream tools and is more capable of refining its approach when initial queries don't work. This applies even if the answer isn't actually found within the context (which is a function of our automatic dataset generation capabilities)."
      ]
    }
  ],
  "metadata": {
    "kernelspec": {
      "display_name": "llama_index_v2",
      "language": "python",
      "name": "llama_index_v2"
    },
    "language_info": {
      "codemirror_mode": {
        "name": "ipython",
        "version": 3
      },
      "file_extension": ".py",
      "mimetype": "text/x-python",
      "name": "python",
      "nbconvert_exporter": "python",
      "pygments_lexer": "ipython3"
    },
    "colab": {
      "provenance": [],
      "collapsed_sections": [
        "2_D6fS4Inf7A"
      ],
      "gpuType": "T4",
      "include_colab_link": true
    },
    "accelerator": "GPU"
  },
  "nbformat": 4,
  "nbformat_minor": 5
}