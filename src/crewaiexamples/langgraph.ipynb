{
 "cells": [
  {
   "cell_type": "markdown",
   "metadata": {},
   "source": [
    "### Using CrewAI with langchains langraph\n",
    "Langgraph is a new feature for orchestrating multi agent behaviour with langchain, we will be experiment using langgraph together with the capabilities provided by crew ai"
   ]
  },
  {
   "cell_type": "markdown",
   "metadata": {},
   "source": [
    "##### Tool definition\n",
    "The first step in building an agent crew with crew ai is to setup the tools, in this example we would be setting up a tool for drafting emails with langchain\n"
   ]
  },
  {
   "cell_type": "code",
   "execution_count": 1,
   "metadata": {},
   "outputs": [],
   "source": [
    "from langchain_community.agent_toolkits import GmailToolkit\n",
    "from langchain_community.tools.gmail.create_draft import GmailCreateDraft\n",
    "from langchain.tools import tool"
   ]
  },
  {
   "cell_type": "code",
   "execution_count": 2,
   "metadata": {},
   "outputs": [],
   "source": [
    "class CreateDraftTool():\n",
    "    \n",
    "    @tool(\"Create Draft\")\n",
    "    def create_draft(data:str):\n",
    "        \"\"\" \n",
    "        Useful to create an email draft.\n",
    "        The input to this tool should be a pipe (|) separated text\n",
    "        of length 3 (three), representing who to send the email to,\n",
    "        the subject of the email and the actual message.\n",
    "        For example, `lorem@ipsum.com|Nice To Meet You|Hey it was great to meet you.`.\n",
    "        \"\"\"\n",
    "        email, subject, message = data.split(\"|\")\n",
    "        gmail = GmailToolkit()\n",
    "        draft = GmailCreateDraft(api_resource=gmail.api_resource)\n",
    "        result = draft({\n",
    "\t\t\t\t'to': [email],\n",
    "\t\t\t\t'subject': subject,\n",
    "\t\t'message': message\n",
    "\t\t})\n",
    "        return f\"\\nDraft created: {result}\\n\""
   ]
  },
  {
   "cell_type": "code",
   "execution_count": 3,
   "metadata": {},
   "outputs": [],
   "source": [
    "from textwrap import dedent\n",
    "from crewai import Agent"
   ]
  },
  {
   "cell_type": "code",
   "execution_count": 4,
   "metadata": {},
   "outputs": [],
   "source": [
    "from langchain_community.agent_toolkits import GmailToolkit\n",
    "from langchain_community.tools.gmail.get_thread import GmailGetThread\n",
    "from langchain_community.tools.tavily_search import TavilySearchResults\n",
    "from textwrap import dedent"
   ]
  },
  {
   "cell_type": "code",
   "execution_count": 5,
   "metadata": {},
   "outputs": [],
   "source": [
    "class EmailReviewAgent():\n",
    "    def __init__(self):\n",
    "        self.gmail = GmailToolkit()\n",
    "        \n",
    "    def email_filter_agent(self):\n",
    "        return Agent(\n",
    "            role=\"Senior Email Analyst\",\n",
    "            goal=\"Filter out non-essential emails like newsletters and promotional content\",\n",
    "            backstory=dedent(\n",
    "                \"\"\"\n",
    "                As a Senior Email Analyst, you have extensive experience in email content analysis.\n",
    "\t\t\t\tYou are adept at distinguishing important emails from spam, newsletters, and other\n",
    "\t\t\t\tirrelevant content. Your expertise lies in identifying key patterns and markers that\n",
    "\t\t\t\tsignify the importance of an email.\n",
    "                \"\"\"),\n",
    "            verbose=True,\n",
    "            allow_delegation=False\n",
    "        )\n",
    "        \n",
    "    def email_action_agent(self):\n",
    "        return Agent(\n",
    "            role=\"Email Action Specialist\",\n",
    "            goal=\"Identify action-required emails and compile a list of their IDs\",\n",
    "            backstory=dedent(\n",
    "                \"\"\"\n",
    "                With a keen eye for detail and a knack for understanding context, you specialize\n",
    "\t\t\t\tin identifying emails that require immediate action. Your skill set includes interpreting\n",
    "\t\t\t\tthe urgency and importance of an email based on its content and context.\n",
    "                \"\"\"),\n",
    "            tools=[\n",
    "                GmailGetThread(api_resource=self.gmail.api_resource),\n",
    "\t\t\t\tTavilySearchResults()\n",
    "                ],\n",
    "            allow_delegation=False,\n",
    "            verbose=True, \n",
    "        )\n",
    "        \n",
    "        \n",
    "    def email_resposne_writer(self):\n",
    "        return Agent(\n",
    "            role=\"Email Response Writer\",\n",
    "            goal=\"Draft responses to action-required emails\",\n",
    "            backstory=dedent(\n",
    "                \"\"\"\n",
    "                You are a skilled writer, adept at crafting clear, concise, and effective email responses.\n",
    "\t\t\t\tYour strength lies in your ability to communicate effectively, ensuring that each response is\n",
    "\t\t\t\ttailored to address the specific needs and context of the email.\n",
    "                \"\"\"),\n",
    "            tools=[\n",
    "                TavilySearchResults(),\n",
    "\t\t\t\tGmailGetThread(api_resource=self.gmail.api_resource),\n",
    "\t\t\t\tCreateDraftTool.create_draft\n",
    "                ],\n",
    "            verbose=True,\n",
    "            allow_delegation=False\n",
    "        )"
   ]
  },
  {
   "cell_type": "markdown",
   "metadata": {},
   "source": [
    "#### Define Tasks\n",
    "Now we have defined the tools and the agents, we can now define the tasks that will be performed by each indivual agent to accomplish the overarching goal"
   ]
  },
  {
   "cell_type": "code",
   "execution_count": 6,
   "metadata": {},
   "outputs": [],
   "source": [
    "from crewai import Task"
   ]
  },
  {
   "cell_type": "code",
   "execution_count": 7,
   "metadata": {},
   "outputs": [],
   "source": [
    "class EmailFilterTasks:\n",
    "    def filter_email_task(self, agent, emails):\n",
    "        return Task(\n",
    "            description=dedent(\n",
    "            f\"\"\"\n",
    "            Analyze a batch of emails and filter out\n",
    "\t\t\tnon-essential ones such as newsletters, promotional content and notifications.\n",
    "\n",
    "\t\t\tUse your expertise in email content analysis to distinguish\n",
    "\t\t\timportant emails from the rest, pay attention to the sender and avoind invalid emails.\n",
    "\n",
    "\t\t\tMake sure to filter for the messages actually directed at the user and avoid notifications.\n",
    "\n",
    "\t\t\tEMAILS\n",
    "\t\t\t-------\n",
    "\t\t\t{emails}\n",
    "\n",
    "\t\t\tYour final answer MUST be a the relevant thread_ids and the sender, use bullet points.\n",
    "            \"\"\"\n",
    "            ),\n",
    "            agent=agent\n",
    "        )\n",
    "    \n",
    "    def action_required_email_task(self, agent):\n",
    "        return Task(\n",
    "            description=dedent(\"\"\"\n",
    "\t\t\t\tFor each email thread, pull and analyze the complete threads using only the actual Thread ID.\n",
    "\t\t\t\tunderstand the context, key points, and the overall sentiment\n",
    "\t\t\t\tof the conversation.\n",
    "\n",
    "\t\t\t\tIdentify the main query or concerns that needs to be\n",
    "\t\t\t\taddressed in the response for each\n",
    "\n",
    "\t\t\t\tYour final answer MUST be a list for all emails with:\n",
    "\t\t\t\t- the thread_id\n",
    "\t\t\t\t- a summary of the email thread\n",
    "\t\t\t\t- a highlighting with the main points\n",
    "\t\t\t\t- identify the user and who he will be answering to\n",
    "\t\t\t\t- communication style in the thread\n",
    "\t\t\t\t- the sender's email address\n",
    "\t\t\t\t\"\"\"),\n",
    "\t\t\tagent=agent\n",
    "        )\n",
    "    \n",
    "    def draft_response_task(self, agent):\n",
    "        return Task(\n",
    "            description=dedent(f\"\"\"\\\n",
    "\t\t\t\tBased on the action-required emails identified, draft responses for each.\n",
    "\t\t\t\tEnsure that each response is tailored to address the specific needs\n",
    "\t\t\t\tand context outlined in the email.\n",
    "\n",
    "\t\t\t\t- Assume the persona of the user and mimic the communication style in the thread.\n",
    "\t\t\t\t- Feel free to do research on the topic to provide a more detailed response, IF NECESSARY.\n",
    "\t\t\t\t- IF a research is necessary do it BEFORE drafting the response.\n",
    "\t\t\t\t- If you need to pull the thread again do it using only the actual Thread ID.\n",
    "\n",
    "\t\t\t\tUse the tool provided to draft each of the responses.\n",
    "\t\t\t\tWhen using the tool pass the following input:\n",
    "\t\t\t\t- to (sender to be responded)\n",
    "\t\t\t\t- subject\n",
    "\t\t\t\t- message\n",
    "\n",
    "\t\t\t\tYou MUST create all drafts before sending your final answer.\n",
    "\t\t\t\tYour final answer MUST be a confirmation that all responses have been drafted.\n",
    "\t\t\t\t\"\"\"),\n",
    "\t\t\tagent=agent\n",
    "        )"
   ]
  },
  {
   "cell_type": "markdown",
   "metadata": {},
   "source": [
    "#### Define the crew\n",
    "Now that the tasks are defined, we can now define the crew operation for performing these tasks."
   ]
  },
  {
   "cell_type": "code",
   "execution_count": 8,
   "metadata": {},
   "outputs": [],
   "source": [
    "from crewai import Crew"
   ]
  },
  {
   "cell_type": "code",
   "execution_count": 9,
   "metadata": {},
   "outputs": [],
   "source": [
    "class EmailFilterCrew():\n",
    "    def __init__(self):\n",
    "        agents = EmailReviewAgent()\n",
    "        self.filter_agent = agents.email_filter_agent()\n",
    "        self.action_agent = agents.email_action_agent()\n",
    "        self.writer_agent = agents.email_resposne_writer()\n",
    "    \n",
    "    def kickoff(self, state):\n",
    "        print(\"###FILTERING EMAILS###\")\n",
    "        tasks = EmailFilterTasks()\n",
    "        crew = Crew(\n",
    "            agents=[],\n",
    "            tasks=[\n",
    "                tasks.filter_email_task(self.filter_agent, self._format_emails(state['emails'])),\n",
    "                tasks.action_required_email_task(self.action_agent),\n",
    "                tasks.draft_response_task(self.writer_agent)\n",
    "            ]\n",
    "        )\n",
    "        \n",
    "        result = crew.kickoff()\n",
    "        return {**state, \"action_required_emails\": result}\n",
    "    \n",
    "    \n",
    "    def _format_emails(self, emails):\n",
    "        emails_string = []\n",
    "        for email in emails:\n",
    "            print(email)\n",
    "            arr = [\n",
    "\t\t\t\tf\"ID: {email['id']}\",\n",
    "\t\t\t\tf\"- Thread ID: {email['threadId']}\",\n",
    "\t\t\t\tf\"- Snippet: {email['snippet']}\",\n",
    "\t\t\t\tf\"- From: {email['sender']}\",\n",
    "\t\t\t\tf\"--------\"\n",
    "\t\t\t]\n",
    "            emails_string.append(\"\\n\".join(arr))\n",
    "        return \"\\n\".join(emails_string)"
   ]
  },
  {
   "cell_type": "markdown",
   "metadata": {},
   "source": [
    "#### Defining a StateGraph with langgraph\n",
    "This should be interesting"
   ]
  },
  {
   "cell_type": "code",
   "execution_count": 10,
   "metadata": {},
   "outputs": [],
   "source": [
    "from langgraph.graph import StateGraph\n"
   ]
  },
  {
   "cell_type": "code",
   "execution_count": 12,
   "metadata": {},
   "outputs": [],
   "source": [
    "import time\n",
    "from langchain_community.tools.gmail.search import GmailSearch\n",
    "import os"
   ]
  },
  {
   "cell_type": "code",
   "execution_count": 13,
   "metadata": {},
   "outputs": [],
   "source": [
    "class Nodes():\n",
    "    def __init__(self):\n",
    "        self.gmail = GmailToolkit()\n",
    "    \n",
    "    def check_email(self, state):\n",
    "        print(\"Checking for new emails\")\n",
    "        search = GmailSearch(api_resource=self.gmail.api_resource)\n",
    "        emails = search('after:newer_than:1d')\n",
    "        checked_emails = state['checked_emails_ids'] if state['checked_emails_ids'] else []\n",
    "        thread = []\n",
    "        new_emails = []\n",
    "        for email in emails:\n",
    "            if (email['id'] not in checked_emails) and (email['threadId'] not in thread) and ( os.environ['MY_EMAIL'] not in email['sender']):\n",
    "                thread.append(email['threadId'])\n",
    "                new_emails.append({\"id\": email['id'],\"threadId\": email['threadId'],\"snippet\": email['snippet'],\"sender\": email[\"sender\"]})\n",
    "        \n",
    "        checked_emails.extend([email['id'] for email in emails])\n",
    "        return {**state,\"emails\": new_emails,\"checked_emails_ids\": checked_emails}\n",
    "    \n",
    "    def wait_next_run(self, state):\n",
    "        print(\"waiting for 180 seconds\")\n",
    "        time.sleep(180)\n",
    "        return state\n",
    "        \n",
    "        \n",
    "    def new_emails(self, state):\n",
    "        if len(state['emails']) == 0:\n",
    "            print(\"No new emails\")\n",
    "            return \"end\"\n",
    "        else:\n",
    "            print(\"new emails\")\n",
    "            return \"continue\""
   ]
  },
  {
   "cell_type": "code",
   "execution_count": 14,
   "metadata": {},
   "outputs": [],
   "source": [
    "import datetime\n",
    "from typing import TypedDict\n",
    "\n",
    "class EmailsState(TypedDict):\n",
    "    checked_emails_ids: list[str]\n",
    "    emails: list[dict]\n",
    "    action_required_emails: dict"
   ]
  },
  {
   "cell_type": "code",
   "execution_count": 15,
   "metadata": {},
   "outputs": [],
   "source": [
    "class WorkFlow():\n",
    "    def __init__(self):\n",
    "        nodes = Nodes()\n",
    "        workflow = StateGraph(EmailsState)\n",
    "        workflow.add_node(\"check_new_emails\", nodes.check_email)\n",
    "        workflow.add_node(\"wait_next_run\", nodes.wait_next_run)\n",
    "        workflow.add_node(\"draft_responses\", EmailFilterCrew().kickoff)\n",
    "        \n",
    "        workflow.set_entry_point(\"check_new_emails\")\n",
    "        workflow.add_conditional_edges(\n",
    "\t\t\t\t\"check_new_emails\",\n",
    "\t\t\t\tnodes.new_emails,\n",
    "\t\t\t\t{\n",
    "\t\t\t\t\t\"continue\": 'draft_responses',\n",
    "\t\t\t\t\t\"end\": 'wait_next_run'\n",
    "\t\t\t\t}\n",
    "\t\t)\n",
    "        \n",
    "        workflow.add_edge('draft_responses', 'wait_next_run')\n",
    "        workflow.add_edge('wait_next_run', 'check_new_emails')\n",
    "        self.app = workflow.compile()\n",
    "        "
   ]
  },
  {
   "cell_type": "markdown",
   "metadata": {},
   "source": [
    "#### Putting everything together\n",
    "We are using the crew as single node withing the workflow"
   ]
  },
  {
   "cell_type": "code",
   "execution_count": null,
   "metadata": {},
   "outputs": [],
   "source": [
    "app = WorkFlow().app\n",
    "app.invoke({})"
   ]
  }
 ],
 "metadata": {
  "kernelspec": {
   "display_name": "venv",
   "language": "python",
   "name": "python3"
  },
  "language_info": {
   "codemirror_mode": {
    "name": "ipython",
    "version": 3
   },
   "file_extension": ".py",
   "mimetype": "text/x-python",
   "name": "python",
   "nbconvert_exporter": "python",
   "pygments_lexer": "ipython3",
   "version": "3.11.5"
  }
 },
 "nbformat": 4,
 "nbformat_minor": 2
}
