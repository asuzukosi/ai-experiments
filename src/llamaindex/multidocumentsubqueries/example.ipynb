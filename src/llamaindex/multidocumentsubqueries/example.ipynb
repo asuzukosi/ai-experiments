{
 "cells": [
  {
   "cell_type": "markdown",
   "metadata": {},
   "source": [
    "### SubQueries from multiple documents\n",
    "This query type gathers sub queries from multiple documents and combineds the results together to produce the final synthesis output from the the model"
   ]
  },
  {
   "cell_type": "code",
   "execution_count": 1,
   "metadata": {},
   "outputs": [],
   "source": [
    "import os\n",
    "\n",
    "from dotenv import load_dotenv\n",
    "from llama_index.readers.file.base import SimpleDirectoryReader\n",
    "from llama_index.vector_stores import SimpleVectorStore\n",
    "from llama_index.indices.vector_store import VectorStoreIndex\n",
    "from llama_index.storage import StorageContext\n",
    "from llama_index.service_context import ServiceContext\n",
    "from llama_index.llms.openai import OpenAI"
   ]
  },
  {
   "cell_type": "code",
   "execution_count": 2,
   "metadata": {},
   "outputs": [
    {
     "data": {
      "text/plain": [
       "True"
      ]
     },
     "execution_count": 2,
     "metadata": {},
     "output_type": "execute_result"
    }
   ],
   "source": [
    "load_dotenv()"
   ]
  },
  {
   "cell_type": "code",
   "execution_count": 3,
   "metadata": {},
   "outputs": [],
   "source": [
    "llm = OpenAI(model=\"togethercomputer/CodeLlama-34b-Instruct\", temperature=0.1)"
   ]
  },
  {
   "cell_type": "code",
   "execution_count": 4,
   "metadata": {},
   "outputs": [],
   "source": [
    "from pprint import pprint"
   ]
  },
  {
   "cell_type": "code",
   "execution_count": 5,
   "metadata": {},
   "outputs": [
    {
     "name": "stdout",
     "output_type": "stream",
     "text": [
      "('{\"system_prompt\": null, \"pydantic_program_mode\": \"default\", \"model\": '\n",
      " '\"togethercomputer/CodeLlama-34b-Instruct\", \"temperature\": 0.1, \"max_tokens\": '\n",
      " 'null, \"additional_kwargs\": {}, \"max_retries\": 3, \"timeout\": 60.0, '\n",
      " '\"default_headers\": null, \"reuse_client\": true, \"api_base\": '\n",
      " '\"https://api.together.xyz/v1\", \"api_version\": \"\", \"class_name\": '\n",
      " '\"openai_llm\"}')\n"
     ]
    }
   ],
   "source": [
    "pprint(llm.to_json())"
   ]
  },
  {
   "cell_type": "code",
   "execution_count": 6,
   "metadata": {},
   "outputs": [],
   "source": [
    "# 10K analysis\n",
    "service_context = ServiceContext.from_defaults(llm=llm)"
   ]
  },
  {
   "cell_type": "markdown",
   "metadata": {},
   "source": [
    "### Load the data from data sources\n",
    "We will be loadin the Uber and Lyft financials seperately"
   ]
  },
  {
   "cell_type": "code",
   "execution_count": 7,
   "metadata": {},
   "outputs": [],
   "source": [
    "uber_docs = SimpleDirectoryReader(input_files=[\"./data/uber10k2021.pdf\"]).load_data()\n",
    "lyft_docs = SimpleDirectoryReader(input_files=[\"./data/lyft10k2021.pdf\"]).load_data()"
   ]
  },
  {
   "cell_type": "markdown",
   "metadata": {},
   "source": [
    "### Build the indexes\n",
    "We will now be building the indexes for the Uber and Lyft documents"
   ]
  },
  {
   "cell_type": "code",
   "execution_count": 8,
   "metadata": {},
   "outputs": [],
   "source": [
    "uber_index = VectorStoreIndex.from_documents(uber_docs)\n",
    "lyft_index = VectorStoreIndex.from_documents(lyft_docs)"
   ]
  },
  {
   "cell_type": "code",
   "execution_count": 9,
   "metadata": {},
   "outputs": [],
   "source": [
    "uber_query_engine = uber_index.as_query_engine()\n",
    "lyft_query_engine = lyft_index.as_query_engine()"
   ]
  },
  {
   "cell_type": "code",
   "execution_count": 10,
   "metadata": {},
   "outputs": [
    {
     "name": "stdout",
     "output_type": "stream",
     "text": [
      "('Uber is the company discussed in the document. The text provides information '\n",
      " \"about Uber's mission, values, and various aspects of its operations.\")\n"
     ]
    }
   ],
   "source": [
    "response = uber_query_engine.query(\"What company is discussed in the document?\")\n",
    "pprint(response.response)"
   ]
  },
  {
   "cell_type": "code",
   "execution_count": 11,
   "metadata": {},
   "outputs": [
    {
     "name": "stdout",
     "output_type": "stream",
     "text": [
      "('Based on the context provided, the document discusses the recognition of a '\n",
      " 'pre-tax gain of $119.3 million for the divestiture of certain assets related '\n",
      " 'to the Level 5 division. However, it does not mention the total earnings or '\n",
      " 'revenue of Lyft for the year 2021.')\n"
     ]
    }
   ],
   "source": [
    "response = lyft_query_engine.query(\"What was the total earnings value of lyft in 2021\")\n",
    "pprint(response.response)"
   ]
  },
  {
   "cell_type": "code",
   "execution_count": 21,
   "metadata": {},
   "outputs": [
    {
     "name": "stdout",
     "output_type": "stream",
     "text": [
      "Response(response='Based on the context provided, the document discusses the '\n",
      "                  'recognition of a pre-tax gain of $119.3 million for the '\n",
      "                  'divestiture of certain assets related to the Level 5 '\n",
      "                  'division. However, it does not mention the total earnings '\n",
      "                  'or revenue of Lyft for the year 2021.',\n",
      "         source_nodes=[NodeWithScore(node=TextNode(id_='ba94fd96-e3cd-464c-ac1d-ba14b248c458', embedding=None, metadata={'page_label': '81', 'file_name': 'lyft10k2021.pdf', 'file_path': 'data/lyft10k2021.pdf', 'file_type': 'application/pdf', 'file_size': 2029635, 'creation_date': '2024-02-09', 'last_modified_date': '2024-02-09', 'last_accessed_date': '2024-02-09'}, excluded_embed_metadata_keys=['file_name', 'file_type', 'file_size', 'creation_date', 'last_modified_date', 'last_accessed_date'], excluded_llm_metadata_keys=['file_name', 'file_type', 'file_size', 'creation_date', 'last_modified_date', 'last_accessed_date'], relationships={<NodeRelationship.SOURCE: '1'>: RelatedNodeInfo(node_id='a6807fd0-e9be-480e-9d84-3ef702bfa731', node_type=<ObjectType.DOCUMENT: '4'>, metadata={'page_label': '81', 'file_name': 'lyft10k2021.pdf', 'file_path': 'data/lyft10k2021.pdf', 'file_type': 'application/pdf', 'file_size': 2029635, 'creation_date': '2024-02-09', 'last_modified_date': '2024-02-09', 'last_accessed_date': '2024-02-09'}, hash='b5e432339d57ad7b35d56f319242a731669f349d8b32bb0ddcc271c7fdafb89b'), <NodeRelationship.PREVIOUS: '2'>: RelatedNodeInfo(node_id='0bc45026-e1ad-40fe-838c-a5ad7fb4816f', node_type=<ObjectType.TEXT: '1'>, metadata={'page_label': '81', 'file_name': 'lyft10k2021.pdf', 'file_path': 'data/lyft10k2021.pdf', 'file_type': 'application/pdf', 'file_size': 2029635, 'creation_date': '2024-02-09', 'last_modified_date': '2024-02-09', 'last_accessed_date': '2024-02-09'}, hash='ee5ee3d8d72f811fb635deb9aef1b76786fd452ac7e0756f0cfb36d975b5889c'), <NodeRelationship.NEXT: '3'>: RelatedNodeInfo(node_id='58e09f48-1cad-452a-bf12-71597c8bea59', node_type=<ObjectType.TEXT: '1'>, metadata={}, hash='d014ba034071d69688012ad650442a342d5d73867aec915542e13208b6de3789')}, text='As the transaction included multiple elements, management had to estimate how much of \\nthe arrangement consideration was attributable to the divestiture of certain assets related to the Level 5 division and how much was \\nattributable to the commercial agreements for the utilization of Lyft rideshare and fleet data. For the year ended December 31, 2021, \\nthe Company recognized a $119.3 million pre-tax gain for the divestiture of certain assets related to the Level 5 division, which was \\nbased on the fair value of the Level 5 division assets, valued under the replacement cost method, and the estimated standalone selling \\nprice of the rideshare and fleet data, valued using an adjusted market approach. The significant assumptions related to the \\nobsolescence curve used to estimate the fair value of the Level 5 division assets and the estimated miles to recreate the data produced \\nfrom the rideshare license used to determine the standalone selling price of the rideshare data.\\nThe principal considerations for our determination that performing procedures relating to the valuation of certain elements of \\nthe transaction with Woven Planet is a critical audit matter are (i) a high degree of auditor judgment and subjectivity in performing \\nprocedures relating to the fair value of the Level 5 division assets and estimated standalone selling price of the rideshare data due to \\nthe significant judgment by management when determining the values; (ii) the significant audit effort in evaluating management’s \\nsignificant assumptions related to the obsolescence curve and the estimated miles to recreate the data produced from the rideshare \\nlicense; and (iii) the audit effort involved the use of professionals with specialized skill and knowledge.\\n80', start_char_idx=4039, end_char_idx=5798, text_template='{metadata_str}\\n\\n{content}', metadata_template='{key}: {value}', metadata_seperator='\\n'), score=0.09696781231858495),\n",
      "                       NodeWithScore(node=TextNode(id_='ee48213d-a0ce-4e47-a8c8-b4515a626098', embedding=None, metadata={'page_label': '63', 'file_name': 'lyft10k2021.pdf', 'file_path': 'data/lyft10k2021.pdf', 'file_type': 'application/pdf', 'file_size': 2029635, 'creation_date': '2024-02-09', 'last_modified_date': '2024-02-09', 'last_accessed_date': '2024-02-09'}, excluded_embed_metadata_keys=['file_name', 'file_type', 'file_size', 'creation_date', 'last_modified_date', 'last_accessed_date'], excluded_llm_metadata_keys=['file_name', 'file_type', 'file_size', 'creation_date', 'last_modified_date', 'last_accessed_date'], relationships={<NodeRelationship.SOURCE: '1'>: RelatedNodeInfo(node_id='617c8f0c-ecad-4ff5-92c6-81362e22b0e0', node_type=<ObjectType.DOCUMENT: '4'>, metadata={'page_label': '63', 'file_name': 'lyft10k2021.pdf', 'file_path': 'data/lyft10k2021.pdf', 'file_type': 'application/pdf', 'file_size': 2029635, 'creation_date': '2024-02-09', 'last_modified_date': '2024-02-09', 'last_accessed_date': '2024-02-09'}, hash='3eb5f6d2cc47d6960778b3a19cc910b6874e0f076f2fb8519c43497f2ced08c5'), <NodeRelationship.PREVIOUS: '2'>: RelatedNodeInfo(node_id='2bafbd50-8649-4cf8-9f83-2a6023ce2cd6', node_type=<ObjectType.TEXT: '1'>, metadata={'page_label': '62', 'file_name': 'lyft10k2021.pdf', 'file_path': 'data/lyft10k2021.pdf', 'file_type': 'application/pdf', 'file_size': 2029635, 'creation_date': '2024-02-09', 'last_modified_date': '2024-02-09', 'last_accessed_date': '2024-02-09'}, hash='2a1a85269ba5cc1f6271251b7d6ca4b4a368301c5dd48062316126179a985d18'), <NodeRelationship.NEXT: '3'>: RelatedNodeInfo(node_id='c5b17025-7172-467e-aaaa-c6f59f04d398', node_type=<ObjectType.TEXT: '1'>, metadata={}, hash='591fdf0e703cb65d474698f4f00765264a7e5748f617afd5b065c0ea46f4053e')}, text='We provide a service to drivers to complete a successful transportation service for riders. This service includes on-demand \\nlead generation that assists drivers to find, receive and fulfill on-demand requests from riders seeking transportation services and \\nrelated collection activities using our Lyft Platform. As a result, our single performance obligation in the transaction is to connect \\ndrivers with riders to facilitate the completion of a successful transportation service for riders. \\nWe evaluate the presentation of revenue on a gross versus net basis based on whether we act as a principal by controlling the \\ntransportation service provided to the rider or whether we act as an agent by arranging for third parties to provide the service to the \\nrider. We facilitate the provision of a transportation service by a driver to a rider (the driver’s customer) in order for the driver to fulfill \\ntheir contractual promise to the rider. The driver fulfills their promise to provide a transportation service to their customer through use \\nof the Lyft Platform. While we facilitate setting the price for transportation services, the drivers and riders have the discretion in \\naccepting the transaction price through the platform. We do not control the transportation services being provided to the rider nor do \\nwe have inventory risk related to the transportation services. As a result, we act as an agent in facilitating the ability for a driver to \\nprovide a transportation service to a rider. \\nWe report revenue on a net basis, reflecting the service fees and commissions owed to us from the drivers as revenue, and not \\nthe gross amount collected from the rider. We made this determination of not being primarily responsible for the services since we do \\nnot promise the transportation services, do not contract with drivers to provide transportation services on our behalf, do not control \\nwhether the driver accepts or declines the transportation request via the Lyft Platform, and do not control the provision of \\ntransportation services by drivers to riders at any point in time either before, during, or after, the trip. \\nWe consider the ToS and our customary business practices in identifying the contracts under ASC 606. As our customary \\nbusiness practice, a contract exists between the driver and us when the driver’s ability to cancel the trip lapses, which typically is upon \\npickup of the rider. We collect the fare and related charges from riders on behalf of drivers using the rider’s pre-authorized credit card \\nor other payment mechanism and retain any fees owed to us before making the remaining disbursement to drivers; thus the driver’s \\nability and intent to pay is not subject to significant judgment. \\nWe earn service fees and commissions from the drivers either as the difference between an amount paid by a rider based on \\nan upfront quoted fare and the amount earned by a driver based on actual time and distance for the trip or as a fixed percentage of the \\nfare charged to the rider. In an upfront quoted fare arrangement, as we do not control the driver’s actions at any point in the transaction \\nto limit the time and distance for the trip, we take on risks related to the driver’s actions which may not be fully mitigated. We earn a \\nvariable amount from the drivers and may record a loss from a transaction, which is recorded as a reduction to revenue, in instances \\nwhere an up-front quoted fare offered to a rider is less than the amount we are committed to pay the driver. \\nWe recognize revenue upon completion of a ride as the single performance obligation is satisfied and we have the right to \\nreceive payment for the services rendered upon the completion of the ride. \\nWe offer various incentive programs to drivers that are recorded as reduction to revenue if we do not receive a distinct good \\nor service in consideration or if we cannot reasonably estimate the fair value of goods or services received. \\nIn some cases, we also earn Concierge platform fees from organizations that use our Concierge offering, which is a product \\nthat allows organizations to request rides for their customers and employees through our ridesharing marketplace. Concierge platform \\nfees are earned as a fixed dollar amount per ride or a percentage of the ride price depending on the contract and such Concierge \\nplatform fee revenue is recognized on a gross basis. \\nWe recognize revenue from subscription fees paid by users to access transportation options through the Lyft Platform and \\nmobile-based applications over the applicable subscription period.\\nWe generate revenue from licensing and data access agreements. We are primarily responsible for fulfilling our promise to \\nprovide rideshare data and access to Flexdrive vehicles and bear the fulfillment risk, and the responsibility of providing the data, over \\nthe license period. We act as a principal in delivering the data and access licenses and present revenue on a gross basis. Consideration \\nallocated to each performance obligation, the data delivery and vehicle access, are determined by assigning the relative fair value to \\neach of the performance obligations.', start_char_idx=0, end_char_idx=5160, text_template='{metadata_str}\\n\\n{content}', metadata_template='{key}: {value}', metadata_seperator='\\n'), score=0.09633612741500827)],\n",
      "         metadata={'ba94fd96-e3cd-464c-ac1d-ba14b248c458': {'creation_date': '2024-02-09',\n",
      "                                                            'file_name': 'lyft10k2021.pdf',\n",
      "                                                            'file_path': 'data/lyft10k2021.pdf',\n",
      "                                                            'file_size': 2029635,\n",
      "                                                            'file_type': 'application/pdf',\n",
      "                                                            'last_accessed_date': '2024-02-09',\n",
      "                                                            'last_modified_date': '2024-02-09',\n",
      "                                                            'page_label': '81'},\n",
      "                   'ee48213d-a0ce-4e47-a8c8-b4515a626098': {'creation_date': '2024-02-09',\n",
      "                                                            'file_name': 'lyft10k2021.pdf',\n",
      "                                                            'file_path': 'data/lyft10k2021.pdf',\n",
      "                                                            'file_size': 2029635,\n",
      "                                                            'file_type': 'application/pdf',\n",
      "                                                            'last_accessed_date': '2024-02-09',\n",
      "                                                            'last_modified_date': '2024-02-09',\n",
      "                                                            'page_label': '63'}})\n"
     ]
    }
   ],
   "source": [
    "pprint(response)"
   ]
  },
  {
   "cell_type": "code",
   "execution_count": 12,
   "metadata": {},
   "outputs": [],
   "source": [
    "from llama_index.tools import QueryEngineTool, ToolMetadata"
   ]
  },
  {
   "cell_type": "code",
   "execution_count": 13,
   "metadata": {},
   "outputs": [],
   "source": [
    "query_engine_tools = [\n",
    "    QueryEngineTool(\n",
    "        query_engine=uber_query_engine,\n",
    "        metadata=ToolMetadata(\n",
    "            description=\"Retreive relevant information about uber 2021 financial reporting data\",\n",
    "            name=\"uber_2021_query\"\n",
    "        )\n",
    "    ),\n",
    "    QueryEngineTool(\n",
    "        query_engine=lyft_query_engine,\n",
    "        metadata=ToolMetadata(\n",
    "            description=\"Retreive relevant information about lyft 2021 financial reporting data\",\n",
    "            name=\"lyft_2021_query\"\n",
    "        )\n",
    "    )\n",
    "]"
   ]
  },
  {
   "cell_type": "code",
   "execution_count": 14,
   "metadata": {},
   "outputs": [],
   "source": [
    "from llama_index.query_engine import SubQuestionQueryEngine"
   ]
  },
  {
   "cell_type": "code",
   "execution_count": 15,
   "metadata": {},
   "outputs": [],
   "source": [
    "s_query_engine = SubQuestionQueryEngine.from_defaults(query_engine_tools=query_engine_tools, service_context=service_context)"
   ]
  },
  {
   "cell_type": "code",
   "execution_count": 26,
   "metadata": {},
   "outputs": [
    {
     "ename": "KeyboardInterrupt",
     "evalue": "",
     "output_type": "error",
     "traceback": [
      "\u001b[0;31m---------------------------------------------------------------------------\u001b[0m",
      "\u001b[0;31mKeyboardInterrupt\u001b[0m                         Traceback (most recent call last)",
      "Cell \u001b[0;32mIn[26], line 1\u001b[0m\n\u001b[0;32m----> 1\u001b[0m response \u001b[38;5;241m=\u001b[39m \u001b[43ms_query_engine\u001b[49m\u001b[38;5;241;43m.\u001b[39;49m\u001b[43mquery\u001b[49m\u001b[43m(\u001b[49m\u001b[38;5;124;43m\"\u001b[39;49m\u001b[38;5;124;43mwhat is the total revenue of uber in 2021?\u001b[39;49m\u001b[38;5;124;43m\"\u001b[39;49m\u001b[43m)\u001b[49m\n\u001b[1;32m      2\u001b[0m pprint(response\u001b[38;5;241m.\u001b[39mresponse)\n",
      "File \u001b[0;32m~/Developer/ai-startups/test-demos/pdfchat/venv/lib/python3.11/site-packages/llama_index/core/base_query_engine.py:40\u001b[0m, in \u001b[0;36mBaseQueryEngine.query\u001b[0;34m(self, str_or_query_bundle)\u001b[0m\n\u001b[1;32m     38\u001b[0m \u001b[38;5;28;01mif\u001b[39;00m \u001b[38;5;28misinstance\u001b[39m(str_or_query_bundle, \u001b[38;5;28mstr\u001b[39m):\n\u001b[1;32m     39\u001b[0m     str_or_query_bundle \u001b[38;5;241m=\u001b[39m QueryBundle(str_or_query_bundle)\n\u001b[0;32m---> 40\u001b[0m \u001b[38;5;28;01mreturn\u001b[39;00m \u001b[38;5;28;43mself\u001b[39;49m\u001b[38;5;241;43m.\u001b[39;49m\u001b[43m_query\u001b[49m\u001b[43m(\u001b[49m\u001b[43mstr_or_query_bundle\u001b[49m\u001b[43m)\u001b[49m\n",
      "File \u001b[0;32m~/Developer/ai-startups/test-demos/pdfchat/venv/lib/python3.11/site-packages/llama_index/query_engine/sub_question_query_engine.py:129\u001b[0m, in \u001b[0;36mSubQuestionQueryEngine._query\u001b[0;34m(self, query_bundle)\u001b[0m\n\u001b[1;32m    125\u001b[0m \u001b[38;5;28;01mdef\u001b[39;00m \u001b[38;5;21m_query\u001b[39m(\u001b[38;5;28mself\u001b[39m, query_bundle: QueryBundle) \u001b[38;5;241m-\u001b[39m\u001b[38;5;241m>\u001b[39m RESPONSE_TYPE:\n\u001b[1;32m    126\u001b[0m     \u001b[38;5;28;01mwith\u001b[39;00m \u001b[38;5;28mself\u001b[39m\u001b[38;5;241m.\u001b[39mcallback_manager\u001b[38;5;241m.\u001b[39mevent(\n\u001b[1;32m    127\u001b[0m         CBEventType\u001b[38;5;241m.\u001b[39mQUERY, payload\u001b[38;5;241m=\u001b[39m{EventPayload\u001b[38;5;241m.\u001b[39mQUERY_STR: query_bundle\u001b[38;5;241m.\u001b[39mquery_str}\n\u001b[1;32m    128\u001b[0m     ) \u001b[38;5;28;01mas\u001b[39;00m query_event:\n\u001b[0;32m--> 129\u001b[0m         sub_questions \u001b[38;5;241m=\u001b[39m \u001b[38;5;28;43mself\u001b[39;49m\u001b[38;5;241;43m.\u001b[39;49m\u001b[43m_question_gen\u001b[49m\u001b[38;5;241;43m.\u001b[39;49m\u001b[43mgenerate\u001b[49m\u001b[43m(\u001b[49m\u001b[38;5;28;43mself\u001b[39;49m\u001b[38;5;241;43m.\u001b[39;49m\u001b[43m_metadatas\u001b[49m\u001b[43m,\u001b[49m\u001b[43m \u001b[49m\u001b[43mquery_bundle\u001b[49m\u001b[43m)\u001b[49m\n\u001b[1;32m    131\u001b[0m         colors \u001b[38;5;241m=\u001b[39m get_color_mapping([\u001b[38;5;28mstr\u001b[39m(i) \u001b[38;5;28;01mfor\u001b[39;00m i \u001b[38;5;129;01min\u001b[39;00m \u001b[38;5;28mrange\u001b[39m(\u001b[38;5;28mlen\u001b[39m(sub_questions))])\n\u001b[1;32m    133\u001b[0m         \u001b[38;5;28;01mif\u001b[39;00m \u001b[38;5;28mself\u001b[39m\u001b[38;5;241m.\u001b[39m_verbose:\n",
      "File \u001b[0;32m~/Developer/ai-startups/test-demos/pdfchat/venv/lib/python3.11/site-packages/llama_index/question_gen/openai_generator.py:88\u001b[0m, in \u001b[0;36mOpenAIQuestionGenerator.generate\u001b[0;34m(self, tools, query)\u001b[0m\n\u001b[1;32m     85\u001b[0m tools_str \u001b[38;5;241m=\u001b[39m build_tools_text(tools)\n\u001b[1;32m     86\u001b[0m query_str \u001b[38;5;241m=\u001b[39m query\u001b[38;5;241m.\u001b[39mquery_str\n\u001b[1;32m     87\u001b[0m question_list \u001b[38;5;241m=\u001b[39m cast(\n\u001b[0;32m---> 88\u001b[0m     SubQuestionList, \u001b[38;5;28;43mself\u001b[39;49m\u001b[38;5;241;43m.\u001b[39;49m\u001b[43m_program\u001b[49m\u001b[43m(\u001b[49m\u001b[43mquery_str\u001b[49m\u001b[38;5;241;43m=\u001b[39;49m\u001b[43mquery_str\u001b[49m\u001b[43m,\u001b[49m\u001b[43m \u001b[49m\u001b[43mtools_str\u001b[49m\u001b[38;5;241;43m=\u001b[39;49m\u001b[43mtools_str\u001b[49m\u001b[43m)\u001b[49m\n\u001b[1;32m     89\u001b[0m )\n\u001b[1;32m     90\u001b[0m \u001b[38;5;28;01mreturn\u001b[39;00m question_list\u001b[38;5;241m.\u001b[39mitems\n",
      "File \u001b[0;32m~/Developer/ai-startups/test-demos/pdfchat/venv/lib/python3.11/site-packages/llama_index/program/openai_program.py:169\u001b[0m, in \u001b[0;36mOpenAIPydanticProgram.__call__\u001b[0;34m(self, llm_kwargs, *args, **kwargs)\u001b[0m\n\u001b[1;32m    165\u001b[0m description \u001b[38;5;241m=\u001b[39m \u001b[38;5;28mself\u001b[39m\u001b[38;5;241m.\u001b[39m_description_eval(\u001b[38;5;241m*\u001b[39m\u001b[38;5;241m*\u001b[39mkwargs)\n\u001b[1;32m    167\u001b[0m openai_fn_spec \u001b[38;5;241m=\u001b[39m to_openai_tool(\u001b[38;5;28mself\u001b[39m\u001b[38;5;241m.\u001b[39m_output_cls, description\u001b[38;5;241m=\u001b[39mdescription)\n\u001b[0;32m--> 169\u001b[0m messages \u001b[38;5;241m=\u001b[39m \u001b[38;5;28mself\u001b[39m\u001b[38;5;241m.\u001b[39m_prompt\u001b[38;5;241m.\u001b[39mformat_messages(llm\u001b[38;5;241m=\u001b[39m\u001b[38;5;28mself\u001b[39m\u001b[38;5;241m.\u001b[39m_llm, \u001b[38;5;241m*\u001b[39m\u001b[38;5;241m*\u001b[39mkwargs)\n\u001b[1;32m    171\u001b[0m chat_response \u001b[38;5;241m=\u001b[39m \u001b[38;5;28mself\u001b[39m\u001b[38;5;241m.\u001b[39m_llm\u001b[38;5;241m.\u001b[39mchat(\n\u001b[1;32m    172\u001b[0m     messages\u001b[38;5;241m=\u001b[39mmessages,\n\u001b[1;32m    173\u001b[0m     tools\u001b[38;5;241m=\u001b[39m[openai_fn_spec],\n\u001b[1;32m    174\u001b[0m     tool_choice\u001b[38;5;241m=\u001b[39m\u001b[38;5;28mself\u001b[39m\u001b[38;5;241m.\u001b[39m_tool_choice,\n\u001b[1;32m    175\u001b[0m     \u001b[38;5;241m*\u001b[39m\u001b[38;5;241m*\u001b[39mllm_kwargs,\n\u001b[1;32m    176\u001b[0m )\n\u001b[1;32m    177\u001b[0m message \u001b[38;5;241m=\u001b[39m chat_response\u001b[38;5;241m.\u001b[39mmessage\n",
      "File \u001b[0;32m_pydevd_bundle/pydevd_cython.pyx:1457\u001b[0m, in \u001b[0;36m_pydevd_bundle.pydevd_cython.SafeCallWrapper.__call__\u001b[0;34m()\u001b[0m\n",
      "File \u001b[0;32m_pydevd_bundle/pydevd_cython.pyx:701\u001b[0m, in \u001b[0;36m_pydevd_bundle.pydevd_cython.PyDBFrame.trace_dispatch\u001b[0;34m()\u001b[0m\n",
      "File \u001b[0;32m_pydevd_bundle/pydevd_cython.pyx:1152\u001b[0m, in \u001b[0;36m_pydevd_bundle.pydevd_cython.PyDBFrame.trace_dispatch\u001b[0;34m()\u001b[0m\n",
      "File \u001b[0;32m_pydevd_bundle/pydevd_cython.pyx:1135\u001b[0m, in \u001b[0;36m_pydevd_bundle.pydevd_cython.PyDBFrame.trace_dispatch\u001b[0;34m()\u001b[0m\n",
      "File \u001b[0;32m_pydevd_bundle/pydevd_cython.pyx:312\u001b[0m, in \u001b[0;36m_pydevd_bundle.pydevd_cython.PyDBFrame.do_wait_suspend\u001b[0;34m()\u001b[0m\n",
      "File \u001b[0;32m~/Developer/ai-startups/test-demos/pdfchat/venv/lib/python3.11/site-packages/debugpy/_vendored/pydevd/pydevd.py:2070\u001b[0m, in \u001b[0;36mPyDB.do_wait_suspend\u001b[0;34m(self, thread, frame, event, arg, exception_type)\u001b[0m\n\u001b[1;32m   2067\u001b[0m             from_this_thread\u001b[38;5;241m.\u001b[39mappend(frame_custom_thread_id)\n\u001b[1;32m   2069\u001b[0m     \u001b[38;5;28;01mwith\u001b[39;00m \u001b[38;5;28mself\u001b[39m\u001b[38;5;241m.\u001b[39m_threads_suspended_single_notification\u001b[38;5;241m.\u001b[39mnotify_thread_suspended(thread_id, thread, stop_reason):\n\u001b[0;32m-> 2070\u001b[0m         keep_suspended \u001b[38;5;241m=\u001b[39m \u001b[38;5;28;43mself\u001b[39;49m\u001b[38;5;241;43m.\u001b[39;49m\u001b[43m_do_wait_suspend\u001b[49m\u001b[43m(\u001b[49m\u001b[43mthread\u001b[49m\u001b[43m,\u001b[49m\u001b[43m \u001b[49m\u001b[43mframe\u001b[49m\u001b[43m,\u001b[49m\u001b[43m \u001b[49m\u001b[43mevent\u001b[49m\u001b[43m,\u001b[49m\u001b[43m \u001b[49m\u001b[43marg\u001b[49m\u001b[43m,\u001b[49m\u001b[43m \u001b[49m\u001b[43msuspend_type\u001b[49m\u001b[43m,\u001b[49m\u001b[43m \u001b[49m\u001b[43mfrom_this_thread\u001b[49m\u001b[43m,\u001b[49m\u001b[43m \u001b[49m\u001b[43mframes_tracker\u001b[49m\u001b[43m)\u001b[49m\n\u001b[1;32m   2072\u001b[0m frames_list \u001b[38;5;241m=\u001b[39m \u001b[38;5;28;01mNone\u001b[39;00m\n\u001b[1;32m   2074\u001b[0m \u001b[38;5;28;01mif\u001b[39;00m keep_suspended:\n\u001b[1;32m   2075\u001b[0m     \u001b[38;5;66;03m# This means that we should pause again after a set next statement.\u001b[39;00m\n",
      "File \u001b[0;32m~/Developer/ai-startups/test-demos/pdfchat/venv/lib/python3.11/site-packages/debugpy/_vendored/pydevd/pydevd.py:2106\u001b[0m, in \u001b[0;36mPyDB._do_wait_suspend\u001b[0;34m(self, thread, frame, event, arg, suspend_type, from_this_thread, frames_tracker)\u001b[0m\n\u001b[1;32m   2103\u001b[0m         \u001b[38;5;28mself\u001b[39m\u001b[38;5;241m.\u001b[39m_call_input_hook()\n\u001b[1;32m   2105\u001b[0m     \u001b[38;5;28mself\u001b[39m\u001b[38;5;241m.\u001b[39mprocess_internal_commands()\n\u001b[0;32m-> 2106\u001b[0m     time\u001b[38;5;241m.\u001b[39msleep(\u001b[38;5;241m0.01\u001b[39m)\n\u001b[1;32m   2108\u001b[0m \u001b[38;5;28mself\u001b[39m\u001b[38;5;241m.\u001b[39mcancel_async_evaluation(get_current_thread_id(thread), \u001b[38;5;28mstr\u001b[39m(\u001b[38;5;28mid\u001b[39m(frame)))\n\u001b[1;32m   2110\u001b[0m \u001b[38;5;66;03m# process any stepping instructions\u001b[39;00m\n",
      "\u001b[0;31mKeyboardInterrupt\u001b[0m: "
     ]
    }
   ],
   "source": [
    "response = s_query_engine.query(\"what is the total revenue of uber in 2021?\")\n",
    "pprint(response.response)"
   ]
  },
  {
   "cell_type": "code",
   "execution_count": 22,
   "metadata": {},
   "outputs": [
    {
     "ename": "ValueError",
     "evalue": "Expected tool_calls in ai_message.additional_kwargs, but none found.",
     "output_type": "error",
     "traceback": [
      "\u001b[0;31m---------------------------------------------------------------------------\u001b[0m",
      "\u001b[0;31mValueError\u001b[0m                                Traceback (most recent call last)",
      "Cell \u001b[0;32mIn[22], line 1\u001b[0m\n\u001b[0;32m----> 1\u001b[0m response \u001b[38;5;241m=\u001b[39m \u001b[43ms_query_engine\u001b[49m\u001b[38;5;241;43m.\u001b[39;49m\u001b[43mquery\u001b[49m\u001b[43m(\u001b[49m\u001b[38;5;124;43m\"\u001b[39;49m\u001b[38;5;124;43mCompare the revenue growth for Uber and Lyft from 2020 to 2021\u001b[39;49m\u001b[38;5;124;43m\"\u001b[39;49m\u001b[43m)\u001b[49m\n\u001b[1;32m      2\u001b[0m pprint(response\u001b[38;5;241m.\u001b[39mresponse)\n",
      "File \u001b[0;32m~/Developer/ai-startups/test-demos/pdfchat/venv/lib/python3.11/site-packages/llama_index/core/base_query_engine.py:40\u001b[0m, in \u001b[0;36mBaseQueryEngine.query\u001b[0;34m(self, str_or_query_bundle)\u001b[0m\n\u001b[1;32m     38\u001b[0m \u001b[38;5;28;01mif\u001b[39;00m \u001b[38;5;28misinstance\u001b[39m(str_or_query_bundle, \u001b[38;5;28mstr\u001b[39m):\n\u001b[1;32m     39\u001b[0m     str_or_query_bundle \u001b[38;5;241m=\u001b[39m QueryBundle(str_or_query_bundle)\n\u001b[0;32m---> 40\u001b[0m \u001b[38;5;28;01mreturn\u001b[39;00m \u001b[38;5;28;43mself\u001b[39;49m\u001b[38;5;241;43m.\u001b[39;49m\u001b[43m_query\u001b[49m\u001b[43m(\u001b[49m\u001b[43mstr_or_query_bundle\u001b[49m\u001b[43m)\u001b[49m\n",
      "File \u001b[0;32m~/Developer/ai-startups/test-demos/pdfchat/venv/lib/python3.11/site-packages/llama_index/query_engine/sub_question_query_engine.py:129\u001b[0m, in \u001b[0;36mSubQuestionQueryEngine._query\u001b[0;34m(self, query_bundle)\u001b[0m\n\u001b[1;32m    125\u001b[0m \u001b[38;5;28;01mdef\u001b[39;00m \u001b[38;5;21m_query\u001b[39m(\u001b[38;5;28mself\u001b[39m, query_bundle: QueryBundle) \u001b[38;5;241m-\u001b[39m\u001b[38;5;241m>\u001b[39m RESPONSE_TYPE:\n\u001b[1;32m    126\u001b[0m     \u001b[38;5;28;01mwith\u001b[39;00m \u001b[38;5;28mself\u001b[39m\u001b[38;5;241m.\u001b[39mcallback_manager\u001b[38;5;241m.\u001b[39mevent(\n\u001b[1;32m    127\u001b[0m         CBEventType\u001b[38;5;241m.\u001b[39mQUERY, payload\u001b[38;5;241m=\u001b[39m{EventPayload\u001b[38;5;241m.\u001b[39mQUERY_STR: query_bundle\u001b[38;5;241m.\u001b[39mquery_str}\n\u001b[1;32m    128\u001b[0m     ) \u001b[38;5;28;01mas\u001b[39;00m query_event:\n\u001b[0;32m--> 129\u001b[0m         sub_questions \u001b[38;5;241m=\u001b[39m \u001b[38;5;28;43mself\u001b[39;49m\u001b[38;5;241;43m.\u001b[39;49m\u001b[43m_question_gen\u001b[49m\u001b[38;5;241;43m.\u001b[39;49m\u001b[43mgenerate\u001b[49m\u001b[43m(\u001b[49m\u001b[38;5;28;43mself\u001b[39;49m\u001b[38;5;241;43m.\u001b[39;49m\u001b[43m_metadatas\u001b[49m\u001b[43m,\u001b[49m\u001b[43m \u001b[49m\u001b[43mquery_bundle\u001b[49m\u001b[43m)\u001b[49m\n\u001b[1;32m    131\u001b[0m         colors \u001b[38;5;241m=\u001b[39m get_color_mapping([\u001b[38;5;28mstr\u001b[39m(i) \u001b[38;5;28;01mfor\u001b[39;00m i \u001b[38;5;129;01min\u001b[39;00m \u001b[38;5;28mrange\u001b[39m(\u001b[38;5;28mlen\u001b[39m(sub_questions))])\n\u001b[1;32m    133\u001b[0m         \u001b[38;5;28;01mif\u001b[39;00m \u001b[38;5;28mself\u001b[39m\u001b[38;5;241m.\u001b[39m_verbose:\n",
      "File \u001b[0;32m~/Developer/ai-startups/test-demos/pdfchat/venv/lib/python3.11/site-packages/llama_index/question_gen/openai_generator.py:88\u001b[0m, in \u001b[0;36mOpenAIQuestionGenerator.generate\u001b[0;34m(self, tools, query)\u001b[0m\n\u001b[1;32m     85\u001b[0m tools_str \u001b[38;5;241m=\u001b[39m build_tools_text(tools)\n\u001b[1;32m     86\u001b[0m query_str \u001b[38;5;241m=\u001b[39m query\u001b[38;5;241m.\u001b[39mquery_str\n\u001b[1;32m     87\u001b[0m question_list \u001b[38;5;241m=\u001b[39m cast(\n\u001b[0;32m---> 88\u001b[0m     SubQuestionList, \u001b[38;5;28;43mself\u001b[39;49m\u001b[38;5;241;43m.\u001b[39;49m\u001b[43m_program\u001b[49m\u001b[43m(\u001b[49m\u001b[43mquery_str\u001b[49m\u001b[38;5;241;43m=\u001b[39;49m\u001b[43mquery_str\u001b[49m\u001b[43m,\u001b[49m\u001b[43m \u001b[49m\u001b[43mtools_str\u001b[49m\u001b[38;5;241;43m=\u001b[39;49m\u001b[43mtools_str\u001b[49m\u001b[43m)\u001b[49m\n\u001b[1;32m     89\u001b[0m )\n\u001b[1;32m     90\u001b[0m \u001b[38;5;28;01mreturn\u001b[39;00m question_list\u001b[38;5;241m.\u001b[39mitems\n",
      "File \u001b[0;32m~/Developer/ai-startups/test-demos/pdfchat/venv/lib/python3.11/site-packages/llama_index/program/openai_program.py:180\u001b[0m, in \u001b[0;36mOpenAIPydanticProgram.__call__\u001b[0;34m(self, llm_kwargs, *args, **kwargs)\u001b[0m\n\u001b[1;32m    177\u001b[0m message \u001b[38;5;241m=\u001b[39m chat_response\u001b[38;5;241m.\u001b[39mmessage\n\u001b[1;32m    179\u001b[0m \u001b[38;5;28;01mif\u001b[39;00m \u001b[38;5;124m\"\u001b[39m\u001b[38;5;124mtool_calls\u001b[39m\u001b[38;5;124m\"\u001b[39m \u001b[38;5;129;01mnot\u001b[39;00m \u001b[38;5;129;01min\u001b[39;00m message\u001b[38;5;241m.\u001b[39madditional_kwargs:\n\u001b[0;32m--> 180\u001b[0m     \u001b[38;5;28;01mraise\u001b[39;00m \u001b[38;5;167;01mValueError\u001b[39;00m(\n\u001b[1;32m    181\u001b[0m         \u001b[38;5;124m\"\u001b[39m\u001b[38;5;124mExpected tool_calls in ai_message.additional_kwargs, \u001b[39m\u001b[38;5;124m\"\u001b[39m\n\u001b[1;32m    182\u001b[0m         \u001b[38;5;124m\"\u001b[39m\u001b[38;5;124mbut none found.\u001b[39m\u001b[38;5;124m\"\u001b[39m\n\u001b[1;32m    183\u001b[0m     )\n\u001b[1;32m    185\u001b[0m tool_calls \u001b[38;5;241m=\u001b[39m message\u001b[38;5;241m.\u001b[39madditional_kwargs[\u001b[38;5;124m\"\u001b[39m\u001b[38;5;124mtool_calls\u001b[39m\u001b[38;5;124m\"\u001b[39m]\n\u001b[1;32m    186\u001b[0m \u001b[38;5;28;01mreturn\u001b[39;00m _parse_tool_calls(\n\u001b[1;32m    187\u001b[0m     tool_calls,\n\u001b[1;32m    188\u001b[0m     output_cls\u001b[38;5;241m=\u001b[39m\u001b[38;5;28mself\u001b[39m\u001b[38;5;241m.\u001b[39moutput_cls,\n\u001b[1;32m    189\u001b[0m     allow_multiple\u001b[38;5;241m=\u001b[39m\u001b[38;5;28mself\u001b[39m\u001b[38;5;241m.\u001b[39m_allow_multiple,\n\u001b[1;32m    190\u001b[0m     verbose\u001b[38;5;241m=\u001b[39m\u001b[38;5;28mself\u001b[39m\u001b[38;5;241m.\u001b[39m_verbose,\n\u001b[1;32m    191\u001b[0m )\n",
      "\u001b[0;31mValueError\u001b[0m: Expected tool_calls in ai_message.additional_kwargs, but none found."
     ]
    }
   ],
   "source": [
    "response = s_query_engine.query(\"Compare the revenue growth for Uber and Lyft from 2020 to 2021\")\n",
    "pprint(response.response)"
   ]
  },
  {
   "cell_type": "code",
   "execution_count": 19,
   "metadata": {},
   "outputs": [
    {
     "data": {
      "text/plain": [
       "True"
      ]
     },
     "execution_count": 19,
     "metadata": {},
     "output_type": "execute_result"
    }
   ],
   "source": [
    "load_dotenv()"
   ]
  },
  {
   "cell_type": "code",
   "execution_count": 21,
   "metadata": {},
   "outputs": [
    {
     "name": "stdout",
     "output_type": "stream",
     "text": [
      "[\n",
      "  {\n",
      "    \"id\": \"call_toq40iiw3rici7fy6kftlly1\",\n",
      "    \"function\": {\n",
      "      \"arguments\": \"{\\\"location\\\":\\\"New York, NY\\\",\\\"unit\\\":\\\"fahrenheit\\\"}\",\n",
      "      \"name\": \"get_current_weather\"\n",
      "    },\n",
      "    \"type\": \"function\"\n",
      "  },\n",
      "  {\n",
      "    \"id\": \"call_7weax9pyoxzpq75y68jfrvwa\",\n",
      "    \"function\": {\n",
      "      \"arguments\": \"{\\\"location\\\":\\\"San Francisco, CA\\\",\\\"unit\\\":\\\"fahrenheit\\\"}\",\n",
      "      \"name\": \"get_current_weather\"\n",
      "    },\n",
      "    \"type\": \"function\"\n",
      "  },\n",
      "  {\n",
      "    \"id\": \"call_ts99pihcky07ie4gplmf5qi2\",\n",
      "    \"function\": {\n",
      "      \"arguments\": \"{\\\"location\\\":\\\"Chicago, IL\\\",\\\"unit\\\":\\\"fahrenheit\\\"}\",\n",
      "      \"name\": \"get_current_weather\"\n",
      "    },\n",
      "    \"type\": \"function\"\n",
      "  }\n",
      "]\n"
     ]
    }
   ],
   "source": [
    "import os\n",
    "import json\n",
    "import openai\n",
    "\n",
    "client = openai.OpenAI(\n",
    "    base_url=\"https://api.together.xyz/v1\"\n",
    ")\n",
    "\n",
    "tools = [\n",
    "  {\n",
    "    \"type\": \"function\",\n",
    "    \"function\": {\n",
    "      \"name\": \"get_current_weather\",\n",
    "      \"description\": \"Get the current weather in a given location\",\n",
    "      \"parameters\": {\n",
    "        \"type\": \"object\",\n",
    "        \"properties\": {\n",
    "          \"location\": {\n",
    "            \"type\": \"string\",\n",
    "            \"description\": \"The city and state, e.g. San Francisco, CA\"\n",
    "          },\n",
    "          \"unit\": {\n",
    "            \"type\": \"string\",\n",
    "            \"enum\": [\n",
    "              \"celsius\",\n",
    "              \"fahrenheit\"\n",
    "            ]\n",
    "          }\n",
    "        }\n",
    "      }\n",
    "    }\n",
    "  }\n",
    "]\n",
    "\n",
    "messages = [\n",
    "    {\"role\": \"system\", \"content\": \"You are a helpful assistant that can access external functions. The responses from these function calls will be appended to this dialogue. Please provide responses based on the information from these function calls.\"},\n",
    "    {\"role\": \"user\", \"content\": \"What is the current temperature of New York, San Francisco and Chicago?\"}\n",
    "]\n",
    "    \n",
    "response = client.chat.completions.create(\n",
    "    model=\"mistralai/Mixtral-8x7B-Instruct-v0.1\",\n",
    "    messages=messages,\n",
    "    tools=tools,\n",
    "    tool_choice=\"auto\",\n",
    ")\n",
    "\n",
    "print(json.dumps(response.choices[0].message.model_dump()['tool_calls'], indent=2))"
   ]
  }
 ],
 "metadata": {
  "kernelspec": {
   "display_name": "venv",
   "language": "python",
   "name": "python3"
  },
  "language_info": {
   "codemirror_mode": {
    "name": "ipython",
    "version": 3
   },
   "file_extension": ".py",
   "mimetype": "text/x-python",
   "name": "python",
   "nbconvert_exporter": "python",
   "pygments_lexer": "ipython3",
   "version": "3.11.5"
  }
 },
 "nbformat": 4,
 "nbformat_minor": 2
}
