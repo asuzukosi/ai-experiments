{
 "cells": [
  {
   "cell_type": "markdown",
   "metadata": {},
   "source": [
    "## Summerization with LlamaIndex\n",
    "We perform summerization by using the `tree_summerize` response mode when querying our query engine.\n",
    "In summarization we iterate through many if not most documents in order to synthesize an answer. Example of queries for summerization include. \n",
    "\n",
    "- What is the summary of the collection of text?\n",
    "- Give the summary of person X's expeience at the company.\n",
    "\n",
    "A summary index goes through all of the data. \n",
    "\n",
    "Empirically, setting response_mode to `tree_summerize` leads to better summarization performance. \n",
    "\n",
    "```python \n",
    "query_engine = index.as_query_engine(response_mode = 'tree_summerize')\n",
    "response = query_engine.query(\"<query>\")\n",
    "\n",
    "pprint(response.response)\n",
    "print(response.get_formatted_sources())\n",
    "```"
   ]
  }
 ],
 "metadata": {
  "language_info": {
   "name": "python"
  }
 },
 "nbformat": 4,
 "nbformat_minor": 2
}
