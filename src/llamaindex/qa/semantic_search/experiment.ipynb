{
 "cells": [
  {
   "cell_type": "markdown",
   "metadata": {},
   "source": [
    "### QA applications for language models can be broken down into subdomains: Semantic Search\n",
    "\n",
    "Semantic Search is on of the subdomain applications of a language model. It gets information relevant to the query that was provided. "
   ]
  },
  {
   "cell_type": "code",
   "execution_count": 1,
   "metadata": {},
   "outputs": [],
   "source": [
    "from llama_index.readers.file.base import SimpleDirectoryReader\n",
    "from llama_index.indices.vector_store import VectorStoreIndex"
   ]
  },
  {
   "cell_type": "code",
   "execution_count": 6,
   "metadata": {},
   "outputs": [],
   "source": [
    "import os"
   ]
  },
  {
   "cell_type": "code",
   "execution_count": 7,
   "metadata": {},
   "outputs": [
    {
     "data": {
      "text/plain": [
       "['kosiasuzu.pdf']"
      ]
     },
     "execution_count": 7,
     "metadata": {},
     "output_type": "execute_result"
    }
   ],
   "source": [
    "os.listdir(\"data\")"
   ]
  },
  {
   "cell_type": "code",
   "execution_count": 2,
   "metadata": {},
   "outputs": [],
   "source": [
    "documents = SimpleDirectoryReader(\"data\").load_data()\n"
   ]
  },
  {
   "cell_type": "code",
   "execution_count": 8,
   "metadata": {},
   "outputs": [
    {
     "data": {
      "text/plain": [
       "3"
      ]
     },
     "execution_count": 8,
     "metadata": {},
     "output_type": "execute_result"
    }
   ],
   "source": [
    "len(documents)"
   ]
  },
  {
   "cell_type": "code",
   "execution_count": 13,
   "metadata": {},
   "outputs": [
    {
     "data": {
      "text/plain": [
       "Document(id_='03e231ee-a48a-465f-836e-e21e323b9341', embedding=None, metadata={'page_label': '2', 'file_name': 'kosiasuzu.pdf', 'file_path': 'data/kosiasuzu.pdf', 'file_type': 'application/pdf', 'file_size': 89982, 'creation_date': '2024-02-10', 'last_modified_date': '2024-01-09', 'last_accessed_date': '2024-02-10'}, excluded_embed_metadata_keys=['file_name', 'file_type', 'file_size', 'creation_date', 'last_modified_date', 'last_accessed_date'], excluded_llm_metadata_keys=['file_name', 'file_type', 'file_size', 'creation_date', 'last_modified_date', 'last_accessed_date'], relationships={}, text='•Led a team of 5 developers in building and maintaining products (over 10) in the digital health space such as\\nmanagement systems, data analysis and manipulation systems, process control systems etc.\\n•Developed coding standards and developer guides that improved team eﬃciency and speed by 40 %\\nEmbedded Systems Engineer Intern :Microscale Embedded Jan 2019 - Jul 2019\\n•Wrote developer documentation for our open IOT APIs that helped increase developer engagement by 20 %\\n•Conducted training for high school teachers on embedded systems using Arduino\\n•Developed drone navigation software in embedded C++ using Nvidia Jetson that was used to build drones used\\nin company services\\nPROJECTS\\nJoint Robot planning with Human robot interaciton through LLMs python, openai, opencv, tensorﬂow,\\npytorch\\nhttps://github.com/asuzukosi/JointRobotPlanningWithHumanRobotInteraction\\n•Built a framework that allows physical robots to be controlled wiht LLMs by allowing the LLMs generate the\\nrobot plans, and enable humans adjust those plans with natural language interactions\\n•Implemented algorithms for the low level robot skills and perception using machine learning algorihtms such as\\nViT\\nData Analysis and Fault prediction on Vehicles using Onboard Diagnosis Data python, sklearn, numpy,\\npandas, matplotlib\\ngithub notebook\\n•Used an open OBD Dataset and performed data analytics on time series vehicle data and used machine learning\\nmodels to make predictions on vehicle faults. I made comparisons using 6 diﬀerent classiﬁcation models, and\\nreached accuracy as high as 99.8%.\\nBioverse: Simulated AI biology research lab python, javascript, openai\\nhttps://github.com/kongruige/2023BioxAIHackathon\\n•Implemnted a framework that allows simulation of autonomous agents who have been assinged various roles to\\nbe able to perform applicable biology research\\n•Implemented frontend server for simulating the research lab envrioment\\nChowBuddy: Online food search and deliver social netowrk and platform python, javascript, django,\\nreact-native, react, django rest framework\\nmobile application backend service\\n•Implemented a mobile app to connect people with similar culinary interests to the same community and restau-\\nrants that serve that community. Built features for social connection, search, tracking and delivery modules\\n•Implemented a backend service for the mobile application to enable processing data through a rest api, persistence\\nand implementation of business logic.\\nPegasus deep learning framework python, numpy\\nhttps://github.com/asuzukosi/pegasus\\n•Built a deep learning library from scratch using python and numpy, implemented automatic gradient algorithms,\\nmatrix layers and linear models\\n•Implemented optimization algorithms and loss functions for training the neural networks built with the frame-\\nwork\\nPINE deep learning utilities package (open source contribution) python, tensorﬂow, pytorch, jax\\nhttps://github.com/HMUNACHI/PINE', start_char_idx=None, end_char_idx=None, text_template='{metadata_str}\\n\\n{content}', metadata_template='{key}: {value}', metadata_seperator='\\n')"
      ]
     },
     "execution_count": 13,
     "metadata": {},
     "output_type": "execute_result"
    }
   ],
   "source": [
    "documents[1] # each page is treated like an individual document"
   ]
  },
  {
   "cell_type": "code",
   "execution_count": 3,
   "metadata": {},
   "outputs": [
    {
     "data": {
      "text/plain": [
       "True"
      ]
     },
     "execution_count": 3,
     "metadata": {},
     "output_type": "execute_result"
    }
   ],
   "source": [
    "from dotenv import load_dotenv\n",
    "load_dotenv()"
   ]
  },
  {
   "cell_type": "code",
   "execution_count": 4,
   "metadata": {},
   "outputs": [],
   "source": [
    "index = VectorStoreIndex.from_documents(documents)"
   ]
  },
  {
   "cell_type": "code",
   "execution_count": 5,
   "metadata": {},
   "outputs": [
    {
     "data": {
      "text/plain": [
       "3"
      ]
     },
     "execution_count": 5,
     "metadata": {},
     "output_type": "execute_result"
    }
   ],
   "source": [
    "len(index.ref_doc_info)"
   ]
  },
  {
   "cell_type": "code",
   "execution_count": 14,
   "metadata": {},
   "outputs": [],
   "source": [
    "from pprint import pprint"
   ]
  },
  {
   "cell_type": "code",
   "execution_count": 18,
   "metadata": {},
   "outputs": [
    {
     "name": "stdout",
     "output_type": "stream",
     "text": [
      "('Subject: Exciting Opportunity to Discuss Your Expertise in Robotics and '\n",
      " 'Machine Learning\\n'\n",
      " '\\n'\n",
      " \"Dear [Candidate's Name],\\n\"\n",
      " '\\n'\n",
      " 'I hope this email finds you well. I was thoroughly impressed by your '\n",
      " 'impressive portfolio showcasing your expertise in robotics, machine '\n",
      " 'learning, and software engineering. Your projects, particularly in the areas '\n",
      " 'of joint robot planning, data analysis, and deep learning frameworks, have '\n",
      " 'caught my attention.\\n'\n",
      " '\\n'\n",
      " 'At our company, we are always on the lookout for talented individuals who '\n",
      " 'can contribute to our ongoing projects and help us push the boundaries of '\n",
      " 'innovation. I believe your skills and experience would be a valuable '\n",
      " 'addition to our team.\\n'\n",
      " '\\n'\n",
      " 'With this in mind, I would like to invite you for an interview to discuss '\n",
      " 'potential opportunities within our organization. During the interview, we '\n",
      " 'will explore your background, your projects, and your thoughts on how you '\n",
      " 'could contribute to our team. It will also be an opportunity for you to '\n",
      " 'learn more about our company and the projects we are working on.\\n'\n",
      " '\\n'\n",
      " 'The interview will take place on [Date] at [Time] at our office located at '\n",
      " '[Location]. Please let me know if this date and time work for you, or if you '\n",
      " 'have any preferred alternatives.\\n'\n",
      " '\\n'\n",
      " 'In preparation for the interview, please bring along any materials or '\n",
      " 'projects that you would like to discuss. I am confident that this will be a '\n",
      " 'productive and engaging conversation.\\n'\n",
      " '\\n'\n",
      " 'Looking forward to meeting you in person and discussing the possibilities of '\n",
      " 'working together.\\n'\n",
      " '\\n'\n",
      " 'Best regards,\\n'\n",
      " '\\n'\n",
      " '[Your Name]\\n'\n",
      " '[Your Position]\\n'\n",
      " '[Your Contact Information]')\n"
     ]
    }
   ],
   "source": [
    "query_engine = index.as_query_engine()\n",
    "response = query_engine.query(\"Write a personalized email to the candidate inviting them for an interview?\")\n",
    "pprint(response.response)"
   ]
  }
 ],
 "metadata": {
  "kernelspec": {
   "display_name": "venv",
   "language": "python",
   "name": "python3"
  },
  "language_info": {
   "codemirror_mode": {
    "name": "ipython",
    "version": 3
   },
   "file_extension": ".py",
   "mimetype": "text/x-python",
   "name": "python",
   "nbconvert_exporter": "python",
   "pygments_lexer": "ipython3",
   "version": "3.11.5"
  }
 },
 "nbformat": 4,
 "nbformat_minor": 2
}
