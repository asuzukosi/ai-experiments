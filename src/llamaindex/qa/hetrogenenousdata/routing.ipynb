{
 "cells": [
  {
   "cell_type": "markdown",
   "metadata": {},
   "source": [
    "### Routing over hetrogenous data\n",
    "In this section we will explore using llama index over heterogeneous data, but we would be routing to a specific datasource based on the nature of the query\n"
   ]
  },
  {
   "cell_type": "code",
   "execution_count": 1,
   "metadata": {},
   "outputs": [],
   "source": [
    "from llama_index.indices.vector_store import VectorStoreIndex\n",
    "from llama_index.tools import QueryEngineTool\n"
   ]
  },
  {
   "cell_type": "code",
   "execution_count": 2,
   "metadata": {},
   "outputs": [],
   "source": [
    "slack_docs = []\n",
    "notion_docs = []\n"
   ]
  },
  {
   "cell_type": "code",
   "execution_count": 3,
   "metadata": {},
   "outputs": [],
   "source": [
    "slack_index = VectorStoreIndex.from_documents(slack_docs)\n",
    "notion_index = VectorStoreIndex.from_documents(notion_docs)"
   ]
  },
  {
   "cell_type": "code",
   "execution_count": 5,
   "metadata": {},
   "outputs": [],
   "source": [
    "from llama_index.tools import ToolMetadata"
   ]
  },
  {
   "cell_type": "code",
   "execution_count": 6,
   "metadata": {},
   "outputs": [],
   "source": [
    "query_tools = [\n",
    "    QueryEngineTool(\n",
    "        query_engine=slack_index.as_query_engine(),\n",
    "        metadata=ToolMetadata(\n",
    "            name=\"query_slack\",\n",
    "            description=\"Gather information based on slack messages\"),\n",
    "    ),\n",
    "    QueryEngineTool(\n",
    "        query_engine=notion_index.as_query_engine(),\n",
    "        metadata=ToolMetadata(\n",
    "            name=\"notion_slack\",\n",
    "            description=\"Gather information based on notion documents\"),\n",
    "    )\n",
    "]"
   ]
  },
  {
   "cell_type": "code",
   "execution_count": 10,
   "metadata": {},
   "outputs": [],
   "source": [
    "from llama_index.query_engine import RouterQueryEngine\n",
    "from llama_index.service_context import ServiceContext\n",
    "from llama_index.llms.openai import OpenAI\n",
    "\n",
    "llm = OpenAI(\n",
    "    model=\"mistralai/Mixtral-8x7B-Instruct-v0.1\"\n",
    ")\n",
    "\n",
    "service_context = ServiceContext.from_defaults(llm=llm)\n",
    "\n",
    "\n",
    "query_engine = RouterQueryEngine.from_defaults(query_engine_tools=query_tools, service_context=service_context)"
   ]
  },
  {
   "cell_type": "code",
   "execution_count": 11,
   "metadata": {},
   "outputs": [],
   "source": [
    "response = query_engine.query(\n",
    "    \"In Notion, give me a summary of the product roadmap.\"\n",
    ")"
   ]
  },
  {
   "cell_type": "code",
   "execution_count": 12,
   "metadata": {},
   "outputs": [],
   "source": [
    "from pprint import pprint"
   ]
  },
  {
   "cell_type": "code",
   "execution_count": 13,
   "metadata": {},
   "outputs": [
    {
     "name": "stdout",
     "output_type": "stream",
     "text": [
      "''\n"
     ]
    }
   ],
   "source": [
    "pprint(response.get_formatted_sources())"
   ]
  },
  {
   "cell_type": "code",
   "execution_count": 14,
   "metadata": {},
   "outputs": [
    {
     "name": "stdout",
     "output_type": "stream",
     "text": [
      "'Empty Response'\n"
     ]
    }
   ],
   "source": [
    "pprint(response.response)"
   ]
  },
  {
   "cell_type": "code",
   "execution_count": 15,
   "metadata": {},
   "outputs": [
    {
     "name": "stdout",
     "output_type": "stream",
     "text": [
      "Response(response='Empty Response',\n",
      "         source_nodes=[],\n",
      "         metadata={'selector_result': MultiSelection(selections=[SingleSelection(index=1, reason='The question asks for information from Notion, which corresponds to choice 2.')])})\n"
     ]
    }
   ],
   "source": [
    "pprint(response)"
   ]
  }
 ],
 "metadata": {
  "kernelspec": {
   "display_name": "venv",
   "language": "python",
   "name": "python3"
  },
  "language_info": {
   "codemirror_mode": {
    "name": "ipython",
    "version": 3
   },
   "file_extension": ".py",
   "mimetype": "text/x-python",
   "name": "python",
   "nbconvert_exporter": "python",
   "pygments_lexer": "ipython3",
   "version": "3.11.5"
  }
 },
 "nbformat": 4,
 "nbformat_minor": 2
}
