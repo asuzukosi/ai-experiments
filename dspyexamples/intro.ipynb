{
 "cells": [
  {
   "cell_type": "markdown",
   "metadata": {},
   "source": [
    "##### Introduction to DSPy\n",
    "Dspy allows us to structurally encode the behaviour of our foundation models, it defines a structural way to program instructions into foundation models, and optimizes our instructions for a particular model based on a defined metric"
   ]
  },
  {
   "cell_type": "code",
   "execution_count": 19,
   "metadata": {},
   "outputs": [],
   "source": [
    "import dspy\n",
    "from dotenv import load_dotenv\n",
    "from dspy.datasets.gsm8k import GSM8K, gsm8k_metric\n"
   ]
  },
  {
   "cell_type": "code",
   "execution_count": 21,
   "metadata": {},
   "outputs": [],
   "source": [
    "turbo = dspy.OpenAI(model=\"gpt-3.5-turbo-instruct\", max_tokens=250)\n",
    "dspy.settings.configure(lm=turbo)"
   ]
  },
  {
   "cell_type": "code",
   "execution_count": 22,
   "metadata": {},
   "outputs": [
    {
     "name": "stderr",
     "output_type": "stream",
     "text": [
      "100%|██████████| 7473/7473 [00:00<00:00, 65117.33it/s]\n",
      "100%|██████████| 1319/1319 [00:00<00:00, 71934.77it/s]\n"
     ]
    }
   ],
   "source": [
    "# load dataset\n",
    "gsm8k = GSM8K()\n",
    "gsm8k_trainset, gsm8k_devset = gsm8k.train[:10], gsm8k.test[:10]"
   ]
  },
  {
   "cell_type": "markdown",
   "metadata": {},
   "source": [
    "##### Define the module\n",
    "With our environments setup, we will now define a custom program that uses ChainOfThought module to perform step by step reasoning to generate answers\n"
   ]
  },
  {
   "cell_type": "code",
   "execution_count": 23,
   "metadata": {},
   "outputs": [],
   "source": [
    "class CoT(dspy.Module):\n",
    "    def __init__(self):\n",
    "        super().__init__()\n",
    "        self.prog = dspy.ChainOfThought(\"question -> answer\")\n",
    "    \n",
    "    def forward(self, question):\n",
    "        return self.prog(question=question)"
   ]
  },
  {
   "cell_type": "markdown",
   "metadata": {},
   "source": [
    "##### Compile and Evaluate model\n",
    "Now that we have defined our module and our dataset, we can then compile the moodel, it is during the compilation step where the optimizations take place. We also define a metric for optimizing the model. We will be performing optimiztions using the `BootstrapFewShotWithRandomSearch` teleprompter. "
   ]
  },
  {
   "cell_type": "code",
   "execution_count": 26,
   "metadata": {},
   "outputs": [
    {
     "name": "stderr",
     "output_type": "stream",
     "text": [
      " 50%|█████     | 5/10 [00:00<00:00, 4740.40it/s]"
     ]
    },
    {
     "name": "stdout",
     "output_type": "stream",
     "text": [
      "Bootstrapped 4 full traces after 6 examples in round 0.\n"
     ]
    },
    {
     "name": "stderr",
     "output_type": "stream",
     "text": [
      "\n"
     ]
    }
   ],
   "source": [
    "from dspy.teleprompt import BootstrapFewShot\n",
    "config = dict(max_bootstrapped_demos=4, max_labeled_demos=4)\n",
    "\n",
    "teleprompter = BootstrapFewShot(metric=gsm8k_metric, **config)\n",
    "optimized_cot = teleprompter.compile(CoT(), trainset=gsm8k_trainset, valset=gsm8k_devset)\n"
   ]
  },
  {
   "cell_type": "markdown",
   "metadata": {},
   "source": [
    "##### Evaluate \n",
    "Now that we have a compiled(optimized) DSPy program, let's move to evaluating its performance of the dev dataset\n"
   ]
  },
  {
   "cell_type": "code",
   "execution_count": 27,
   "metadata": {},
   "outputs": [
    {
     "name": "stderr",
     "output_type": "stream",
     "text": [
      "Average Metric: 8 / 10  (80.0): 100%|██████████| 10/10 [00:00<00:00, 3867.14it/s]"
     ]
    },
    {
     "name": "stdout",
     "output_type": "stream",
     "text": [
      "Average Metric: 8 / 10  (80.0%)\n"
     ]
    },
    {
     "name": "stderr",
     "output_type": "stream",
     "text": [
      "\n"
     ]
    },
    {
     "data": {
      "text/plain": [
       "80.0"
      ]
     },
     "execution_count": 27,
     "metadata": {},
     "output_type": "execute_result"
    }
   ],
   "source": [
    "from dspy.evaluate import Evaluate\n",
    "\n",
    "evaluate = Evaluate(devset=gsm8k_devset, metric=gsm8k_metric, num_threads=4, \n",
    "                    display_progress=True, display_table=0)\n",
    "\n",
    "evaluate(optimized_cot)"
   ]
  },
  {
   "cell_type": "code",
   "execution_count": 7,
   "metadata": {},
   "outputs": [
    {
     "data": {
      "image/png": "[encoded data removed]",
      "text/plain": [
       "<Figure size 640x480 with 1 Axes>"
      ]
     },
     "metadata": {},
     "output_type": "display_data"
    }
   ],
   "source": [
    "import numpy as np\n",
    "import matplotlib.pyplot as plt\n",
    "\n",
    "# Define parameters\n",
    "num_particles = 1000\n",
    "map_size = 100  # Map size (square)\n",
    "\n",
    "# Generate random map\n",
    "true_map = np.zeros((map_size, map_size))\n",
    "true_map[20:30, 20:30] = 1  # Example obstacle\n",
    "\n",
    "# Initialize particles\n",
    "particles = np.random.rand(num_particles, 3) * map_size\n",
    "particles[:, 2] = np.random.rand(num_particles) * 2 * np.pi  # Random initial heading\n",
    "\n",
    "# Motion model parameters\n",
    "motion_noise = 0.1\n",
    "turn_noise = 0.1\n",
    "\n",
    "# Sensor model parameters\n",
    "sensor_range = 5\n",
    "measurement_noise = 0.1\n",
    "\n",
    "# Simulate motion and measurement\n",
    "def move_particles(particles, motion):\n",
    "    particles[:, 0] += np.cos(particles[:, 2]) * motion[0]\n",
    "    particles[:, 1] += np.sin(particles[:, 2]) * motion[0]\n",
    "    particles[:, 2] += motion[1] + np.random.randn(num_particles) * turn_noise\n",
    "\n",
    "def sense(particles, true_map):\n",
    "    measurements = []\n",
    "    for particle in particles:\n",
    "        x, y, theta = particle\n",
    "        measured_distance = np.inf\n",
    "        for i in range(-sensor_range, sensor_range + 1):\n",
    "            for j in range(-sensor_range, sensor_range + 1):\n",
    "                if 0 <= x + i < map_size and 0 <= y + j < map_size:\n",
    "                    if true_map[int(x + i), int(y + j)] == 1:\n",
    "                        measured_distance = min(measured_distance, np.sqrt(i ** 2 + j ** 2))\n",
    "        measurements.append(measured_distance + np.random.randn() * measurement_noise)\n",
    "    return measurements\n",
    "\n",
    "# Update particles weights based on measurements\n",
    "def update_weights(particles, measurements):\n",
    "    weights = []\n",
    "    for i, particle in enumerate(particles):\n",
    "        weights.append(1.0 / (1.0 + abs(measurements[i] - sensor_range)))\n",
    "    weights /= np.sum(weights)\n",
    "    return weights\n",
    "\n",
    "# Resample particles based on their weights\n",
    "def resample(particles, weights):\n",
    "    new_particles = np.random.choice(particles.shape[0], size=particles.shape[0], p=weights)\n",
    "    return particles[new_particles]\n",
    "\n",
    "# Main loop\n",
    "for t in range(200):\n",
    "    # Move particles\n",
    "    move_particles(particles, [0.1, 0.05])\n",
    "\n",
    "    # Sense environment\n",
    "    measurements = sense(particles, true_map)\n",
    "\n",
    "    # Update weights\n",
    "    weights = update_weights(particles, measurements)\n",
    "\n",
    "    # Resample particles\n",
    "    particles = resample(particles, weights)\n",
    "\n",
    "# Plot final map\n",
    "plt.imshow(true_map, cmap='gray')\n",
    "plt.scatter(particles[:, 0], particles[:, 1], s=1, c='r')\n",
    "plt.title('Final Map')\n",
    "plt.show()\n"
   ]
  }
 ],
 "metadata": {
  "kernelspec": {
   "display_name": "venv",
   "language": "python",
   "name": "python3"
  },
  "language_info": {
   "codemirror_mode": {
    "name": "ipython",
    "version": 3
   },
   "file_extension": ".py",
   "mimetype": "text/x-python",
   "name": "python",
   "nbconvert_exporter": "python",
   "pygments_lexer": "ipython3",
   "version": "3.11.5"
  }
 },
 "nbformat": 4,
 "nbformat_minor": 2
}
